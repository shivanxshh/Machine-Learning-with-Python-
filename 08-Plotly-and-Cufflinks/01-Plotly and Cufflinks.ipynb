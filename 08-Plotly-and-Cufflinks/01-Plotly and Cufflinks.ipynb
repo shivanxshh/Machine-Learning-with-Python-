{
 "cells": [
  {
   "cell_type": "markdown",
   "metadata": {},
   "source": [
    "___\n",
    "\n",
    "<a href='http://www.pieriandata.com'> <img src='../Pierian_Data_Logo.png' /></a>\n",
    "___\n",
    "# Plotly and Cufflinks"
   ]
  },
  {
   "cell_type": "markdown",
   "metadata": {},
   "source": [
    "Plotly is a library that allows you to create interactive plots that you can use in dashboards or websites (you can save them as html files or static images).\n",
    "\n",
    "## Installation\n",
    "\n",
    "In order for this all to work, you'll need to install plotly and cufflinks to call plots directly off of a pandas dataframe. These libraries are not currently available through **conda** but are available through **pip**. Install the libraries at your command line/terminal using:\n",
    "\n",
    "    pip install plotly\n",
    "    pip install cufflinks\n",
    "\n",
    "** NOTE: Make sure you only have one installation of Python on your computer when you do this, otherwise the installation may not work. **\n",
    "\n",
    "## Imports and Set-up"
   ]
  },
  {
   "cell_type": "code",
   "execution_count": 1,
   "metadata": {},
   "outputs": [],
   "source": [
    "import pandas as pd\n",
    "import numpy as np\n",
    "%matplotlib inline"
   ]
  },
  {
   "cell_type": "code",
   "execution_count": 2,
   "metadata": {},
   "outputs": [
    {
     "name": "stdout",
     "output_type": "stream",
     "text": [
      "4.7.1\n"
     ]
    }
   ],
   "source": [
    "from plotly import __version__\n",
    "from plotly.offline import download_plotlyjs, init_notebook_mode, plot, iplot\n",
    "\n",
    "print(__version__) # requires version >= 1.9.0"
   ]
  },
  {
   "cell_type": "code",
   "execution_count": 3,
   "metadata": {},
   "outputs": [],
   "source": [
    "import cufflinks as cf"
   ]
  },
  {
   "cell_type": "code",
   "execution_count": 4,
   "metadata": {},
   "outputs": [
    {
     "data": {
      "text/html": [
       "        <script type=\"text/javascript\">\n",
       "        window.PlotlyConfig = {MathJaxConfig: 'local'};\n",
       "        if (window.MathJax) {MathJax.Hub.Config({SVG: {font: \"STIX-Web\"}});}\n",
       "        if (typeof require !== 'undefined') {\n",
       "        require.undef(\"plotly\");\n",
       "        requirejs.config({\n",
       "            paths: {\n",
       "                'plotly': ['https://cdn.plot.ly/plotly-latest.min']\n",
       "            }\n",
       "        });\n",
       "        require(['plotly'], function(Plotly) {\n",
       "            window._Plotly = Plotly;\n",
       "        });\n",
       "        }\n",
       "        </script>\n",
       "        "
      ]
     },
     "metadata": {},
     "output_type": "display_data"
    }
   ],
   "source": [
    "# For Notebooks\n",
    "init_notebook_mode(connected=True)"
   ]
  },
  {
   "cell_type": "code",
   "execution_count": 5,
   "metadata": {},
   "outputs": [
    {
     "data": {
      "text/html": [
       "        <script type=\"text/javascript\">\n",
       "        window.PlotlyConfig = {MathJaxConfig: 'local'};\n",
       "        if (window.MathJax) {MathJax.Hub.Config({SVG: {font: \"STIX-Web\"}});}\n",
       "        if (typeof require !== 'undefined') {\n",
       "        require.undef(\"plotly\");\n",
       "        requirejs.config({\n",
       "            paths: {\n",
       "                'plotly': ['https://cdn.plot.ly/plotly-latest.min']\n",
       "            }\n",
       "        });\n",
       "        require(['plotly'], function(Plotly) {\n",
       "            window._Plotly = Plotly;\n",
       "        });\n",
       "        }\n",
       "        </script>\n",
       "        "
      ]
     },
     "metadata": {},
     "output_type": "display_data"
    }
   ],
   "source": [
    "# For offline use\n",
    "cf.go_offline()"
   ]
  },
  {
   "cell_type": "markdown",
   "metadata": {},
   "source": [
    "### Fake Data"
   ]
  },
  {
   "cell_type": "code",
   "execution_count": 6,
   "metadata": {},
   "outputs": [],
   "source": [
    "df = pd.DataFrame(np.random.randn(100,4),columns='A B C D'.split())"
   ]
  },
  {
   "cell_type": "code",
   "execution_count": 7,
   "metadata": {},
   "outputs": [
    {
     "data": {
      "text/html": [
       "<div>\n",
       "<style scoped>\n",
       "    .dataframe tbody tr th:only-of-type {\n",
       "        vertical-align: middle;\n",
       "    }\n",
       "\n",
       "    .dataframe tbody tr th {\n",
       "        vertical-align: top;\n",
       "    }\n",
       "\n",
       "    .dataframe thead th {\n",
       "        text-align: right;\n",
       "    }\n",
       "</style>\n",
       "<table border=\"1\" class=\"dataframe\">\n",
       "  <thead>\n",
       "    <tr style=\"text-align: right;\">\n",
       "      <th></th>\n",
       "      <th>A</th>\n",
       "      <th>B</th>\n",
       "      <th>C</th>\n",
       "      <th>D</th>\n",
       "    </tr>\n",
       "  </thead>\n",
       "  <tbody>\n",
       "    <tr>\n",
       "      <th>0</th>\n",
       "      <td>0.538186</td>\n",
       "      <td>0.630167</td>\n",
       "      <td>0.145066</td>\n",
       "      <td>2.050228</td>\n",
       "    </tr>\n",
       "    <tr>\n",
       "      <th>1</th>\n",
       "      <td>0.507102</td>\n",
       "      <td>-1.561676</td>\n",
       "      <td>-1.535092</td>\n",
       "      <td>-0.959093</td>\n",
       "    </tr>\n",
       "    <tr>\n",
       "      <th>2</th>\n",
       "      <td>0.438924</td>\n",
       "      <td>0.636526</td>\n",
       "      <td>-1.056440</td>\n",
       "      <td>-0.902286</td>\n",
       "    </tr>\n",
       "    <tr>\n",
       "      <th>3</th>\n",
       "      <td>-0.624800</td>\n",
       "      <td>-0.223249</td>\n",
       "      <td>-0.053665</td>\n",
       "      <td>-0.112458</td>\n",
       "    </tr>\n",
       "    <tr>\n",
       "      <th>4</th>\n",
       "      <td>-0.328562</td>\n",
       "      <td>-1.673695</td>\n",
       "      <td>-0.235330</td>\n",
       "      <td>-1.037907</td>\n",
       "    </tr>\n",
       "  </tbody>\n",
       "</table>\n",
       "</div>"
      ],
      "text/plain": [
       "          A         B         C         D\n",
       "0  0.538186  0.630167  0.145066  2.050228\n",
       "1  0.507102 -1.561676 -1.535092 -0.959093\n",
       "2  0.438924  0.636526 -1.056440 -0.902286\n",
       "3 -0.624800 -0.223249 -0.053665 -0.112458\n",
       "4 -0.328562 -1.673695 -0.235330 -1.037907"
      ]
     },
     "execution_count": 7,
     "metadata": {},
     "output_type": "execute_result"
    }
   ],
   "source": [
    "df.head()"
   ]
  },
  {
   "cell_type": "code",
   "execution_count": 8,
   "metadata": {},
   "outputs": [],
   "source": [
    "df2 = pd.DataFrame({'Category':['A','B','C'],'Values':[32,43,50]})"
   ]
  },
  {
   "cell_type": "code",
   "execution_count": 9,
   "metadata": {},
   "outputs": [
    {
     "data": {
      "text/html": [
       "<div>\n",
       "<style scoped>\n",
       "    .dataframe tbody tr th:only-of-type {\n",
       "        vertical-align: middle;\n",
       "    }\n",
       "\n",
       "    .dataframe tbody tr th {\n",
       "        vertical-align: top;\n",
       "    }\n",
       "\n",
       "    .dataframe thead th {\n",
       "        text-align: right;\n",
       "    }\n",
       "</style>\n",
       "<table border=\"1\" class=\"dataframe\">\n",
       "  <thead>\n",
       "    <tr style=\"text-align: right;\">\n",
       "      <th></th>\n",
       "      <th>Category</th>\n",
       "      <th>Values</th>\n",
       "    </tr>\n",
       "  </thead>\n",
       "  <tbody>\n",
       "    <tr>\n",
       "      <th>0</th>\n",
       "      <td>A</td>\n",
       "      <td>32</td>\n",
       "    </tr>\n",
       "    <tr>\n",
       "      <th>1</th>\n",
       "      <td>B</td>\n",
       "      <td>43</td>\n",
       "    </tr>\n",
       "    <tr>\n",
       "      <th>2</th>\n",
       "      <td>C</td>\n",
       "      <td>50</td>\n",
       "    </tr>\n",
       "  </tbody>\n",
       "</table>\n",
       "</div>"
      ],
      "text/plain": [
       "  Category  Values\n",
       "0        A      32\n",
       "1        B      43\n",
       "2        C      50"
      ]
     },
     "execution_count": 9,
     "metadata": {},
     "output_type": "execute_result"
    }
   ],
   "source": [
    "df2.head()"
   ]
  },
  {
   "cell_type": "markdown",
   "metadata": {},
   "source": [
    "## Using Cufflinks and iplot()\n",
    "\n",
    "* scatter\n",
    "* bar\n",
    "* box\n",
    "* spread\n",
    "* ratio\n",
    "* heatmap\n",
    "* surface\n",
    "* histogram\n",
    "* bubble"
   ]
  },
  {
   "cell_type": "markdown",
   "metadata": {},
   "source": [
    "## Scatter"
   ]
  },
  {
   "cell_type": "code",
   "execution_count": 10,
   "metadata": {},
   "outputs": [
    {
     "data": {
      "application/vnd.plotly.v1+json": {
       "config": {
        "linkText": "Export to plot.ly",
        "plotlyServerURL": "https://plot.ly",
        "showLink": true
       },
       "data": [
        {
         "line": {
          "color": "rgba(255, 153, 51, 1.0)",
          "dash": "solid",
          "shape": "linear",
          "width": 1.3
         },
         "marker": {
          "size": 10,
          "symbol": "circle"
         },
         "mode": "markers",
         "name": "B",
         "text": "",
         "type": "scatter",
         "x": [
          0.5381855285673716,
          0.5071020305201216,
          0.4389237509487635,
          -0.6247998973105497,
          -0.32856245582140214,
          -0.5549132814916047,
          0.5059612828729726,
          -3.197502476482795,
          -0.20387507115536785,
          0.3459015762781,
          -0.2031519933742461,
          -1.4270667976720735,
          0.12125644113873606,
          -0.041134446239839334,
          0.09942498996999705,
          -0.6716409332021634,
          0.8054591919418969,
          1.6284504463712235,
          -1.0686571236688256,
          -0.6820570283090134,
          1.0601779267043576,
          -0.8874271184205513,
          -0.23584503326298303,
          -1.3723947795930347,
          -0.5272892633343157,
          -0.6442561046802101,
          -1.2512104607334211,
          -0.09174351149493501,
          0.9306815990203132,
          -0.467294899249402,
          0.018392476702123038,
          -1.700457788639387,
          -0.26741137780144897,
          -0.7421803421304896,
          -0.14671882870501557,
          -1.6275386920455386,
          -0.45338390016622215,
          -2.0071863672670602,
          0.1963189215463607,
          -1.4777986997953716,
          -2.1576217433969695,
          -0.7856668199645755,
          -1.2338432754092326,
          1.399825272513358,
          -1.0091689439017615,
          0.09028738823377347,
          -1.5408250419456964,
          0.0990984258625075,
          -0.4343856232182664,
          -1.537700800793354,
          -0.072884287636136,
          -1.0730149201477526,
          1.8456685132367332,
          0.7476570177073996,
          -1.0485473399110965,
          -0.6900292790057106,
          -0.2208261440483984,
          0.2686957612752167,
          -0.22816861670514565,
          0.7311199936618888,
          0.41812057329918606,
          1.0887363338922411,
          -0.3964498621702017,
          0.47286766096396265,
          -0.6027452918287854,
          0.7025165133369287,
          1.4569049926648543,
          0.9999577792691502,
          -1.2811979563182043,
          2.0804623137829674,
          1.539255595278702,
          0.4440631488297732,
          -1.5619867791736421,
          -0.31583137533287053,
          0.3250311620824069,
          -0.4222090529096985,
          1.7248048718981919,
          0.5322881033597029,
          -0.3313064131205352,
          -1.2259399680760918,
          -0.6630691986600332,
          0.043184530012049985,
          1.5981295317194895,
          -1.3508876092805546,
          1.0726560999357118,
          0.3672953794565466,
          -0.4116672934579571,
          0.47793618707943125,
          -1.0741938940368256,
          -0.7194551581808123,
          0.9656653652456971,
          -0.1998839148187243,
          1.1064616751011012,
          -0.3642037624025107,
          0.8254311216681306,
          0.7851611444731269,
          -0.8309895524553557,
          0.44985792521595347,
          1.695413609917251,
          -0.15895796721118688
         ],
         "y": [
          0.6301674583573214,
          -1.561675696183232,
          0.6365258247311377,
          -0.22324860617551084,
          -1.6736946321158042,
          -0.15927706452952708,
          0.36989298593237285,
          1.3085200046585113,
          0.7159183818614192,
          1.4170368007607066,
          -0.8484128249213295,
          0.24290160075968745,
          1.0795918353343301,
          -0.8157998727705896,
          -0.7184505150668109,
          -0.11568818097186227,
          -1.2901791636364424,
          0.8400081678160328,
          -0.6676702261888512,
          -1.011257076667859,
          -0.6892287441692668,
          -0.23102459810075973,
          -0.21170064669943212,
          -0.20028233251560987,
          -1.078408181836114,
          1.462130966067993,
          -0.17927997159447678,
          -0.13052020849949877,
          0.4682168592110732,
          -1.5877343509461137,
          -0.6710951925528772,
          0.05576752593607448,
          0.5362381928866289,
          -0.34225661814037467,
          0.581933321085821,
          0.3947906536929084,
          0.01940690313621235,
          -0.2163038164030735,
          -1.4955367906604886,
          0.23791928037571633,
          -1.0977453084165723,
          0.5335144230984808,
          2.0993808494993873,
          -0.49490813917873455,
          0.3941349794262045,
          -0.3772928341008689,
          1.3048292635035965,
          -0.46672612038687655,
          -1.120489037175442,
          1.9940005382078847,
          0.20060951912701863,
          0.57128240835606,
          0.7145821222961338,
          1.4105370810949298,
          0.4049315688775944,
          0.8458061881151208,
          -0.7609317914602187,
          -1.6481370061848084,
          -0.8873946431515575,
          -1.0683226547519797,
          -0.5316480238934537,
          0.03361078302762433,
          -1.0363017034596884,
          0.658821017661889,
          -1.0755800129807123,
          0.9911979331699334,
          0.5361321263657128,
          0.988419798692416,
          -1.6384158410384904,
          -0.054614895140455734,
          -1.489486347353061,
          1.0573670070827268,
          -0.005366874743519029,
          -1.5582928434235677,
          1.3867439202182168,
          0.27510525110981254,
          -0.0661353713844357,
          0.4527693556244209,
          0.39889118623618947,
          1.3379470102985798,
          -0.9202241393884216,
          -0.7964312895565369,
          -0.6412882079248059,
          -0.7646490980947728,
          0.7922507978202409,
          -0.24143865713923998,
          0.6883199050793065,
          -0.44232087555933497,
          -0.46421476004079404,
          0.14348851689963255,
          -0.8266849594361187,
          -0.1976183507463993,
          1.1679312356869895,
          0.5426240028902773,
          -0.2893004673286161,
          0.6621600474085508,
          -1.2471603427386846,
          1.0389478529243041,
          -0.048911234267454785,
          0.2695699427674912
         ]
        }
       ],
       "layout": {
        "legend": {
         "bgcolor": "#F5F6F9",
         "font": {
          "color": "#4D5663"
         }
        },
        "paper_bgcolor": "#F5F6F9",
        "plot_bgcolor": "#F5F6F9",
        "template": {
         "data": {
          "bar": [
           {
            "error_x": {
             "color": "#2a3f5f"
            },
            "error_y": {
             "color": "#2a3f5f"
            },
            "marker": {
             "line": {
              "color": "#E5ECF6",
              "width": 0.5
             }
            },
            "type": "bar"
           }
          ],
          "barpolar": [
           {
            "marker": {
             "line": {
              "color": "#E5ECF6",
              "width": 0.5
             }
            },
            "type": "barpolar"
           }
          ],
          "carpet": [
           {
            "aaxis": {
             "endlinecolor": "#2a3f5f",
             "gridcolor": "white",
             "linecolor": "white",
             "minorgridcolor": "white",
             "startlinecolor": "#2a3f5f"
            },
            "baxis": {
             "endlinecolor": "#2a3f5f",
             "gridcolor": "white",
             "linecolor": "white",
             "minorgridcolor": "white",
             "startlinecolor": "#2a3f5f"
            },
            "type": "carpet"
           }
          ],
          "choropleth": [
           {
            "colorbar": {
             "outlinewidth": 0,
             "ticks": ""
            },
            "type": "choropleth"
           }
          ],
          "contour": [
           {
            "colorbar": {
             "outlinewidth": 0,
             "ticks": ""
            },
            "colorscale": [
             [
              0,
              "#0d0887"
             ],
             [
              0.1111111111111111,
              "#46039f"
             ],
             [
              0.2222222222222222,
              "#7201a8"
             ],
             [
              0.3333333333333333,
              "#9c179e"
             ],
             [
              0.4444444444444444,
              "#bd3786"
             ],
             [
              0.5555555555555556,
              "#d8576b"
             ],
             [
              0.6666666666666666,
              "#ed7953"
             ],
             [
              0.7777777777777778,
              "#fb9f3a"
             ],
             [
              0.8888888888888888,
              "#fdca26"
             ],
             [
              1,
              "#f0f921"
             ]
            ],
            "type": "contour"
           }
          ],
          "contourcarpet": [
           {
            "colorbar": {
             "outlinewidth": 0,
             "ticks": ""
            },
            "type": "contourcarpet"
           }
          ],
          "heatmap": [
           {
            "colorbar": {
             "outlinewidth": 0,
             "ticks": ""
            },
            "colorscale": [
             [
              0,
              "#0d0887"
             ],
             [
              0.1111111111111111,
              "#46039f"
             ],
             [
              0.2222222222222222,
              "#7201a8"
             ],
             [
              0.3333333333333333,
              "#9c179e"
             ],
             [
              0.4444444444444444,
              "#bd3786"
             ],
             [
              0.5555555555555556,
              "#d8576b"
             ],
             [
              0.6666666666666666,
              "#ed7953"
             ],
             [
              0.7777777777777778,
              "#fb9f3a"
             ],
             [
              0.8888888888888888,
              "#fdca26"
             ],
             [
              1,
              "#f0f921"
             ]
            ],
            "type": "heatmap"
           }
          ],
          "heatmapgl": [
           {
            "colorbar": {
             "outlinewidth": 0,
             "ticks": ""
            },
            "colorscale": [
             [
              0,
              "#0d0887"
             ],
             [
              0.1111111111111111,
              "#46039f"
             ],
             [
              0.2222222222222222,
              "#7201a8"
             ],
             [
              0.3333333333333333,
              "#9c179e"
             ],
             [
              0.4444444444444444,
              "#bd3786"
             ],
             [
              0.5555555555555556,
              "#d8576b"
             ],
             [
              0.6666666666666666,
              "#ed7953"
             ],
             [
              0.7777777777777778,
              "#fb9f3a"
             ],
             [
              0.8888888888888888,
              "#fdca26"
             ],
             [
              1,
              "#f0f921"
             ]
            ],
            "type": "heatmapgl"
           }
          ],
          "histogram": [
           {
            "marker": {
             "colorbar": {
              "outlinewidth": 0,
              "ticks": ""
             }
            },
            "type": "histogram"
           }
          ],
          "histogram2d": [
           {
            "colorbar": {
             "outlinewidth": 0,
             "ticks": ""
            },
            "colorscale": [
             [
              0,
              "#0d0887"
             ],
             [
              0.1111111111111111,
              "#46039f"
             ],
             [
              0.2222222222222222,
              "#7201a8"
             ],
             [
              0.3333333333333333,
              "#9c179e"
             ],
             [
              0.4444444444444444,
              "#bd3786"
             ],
             [
              0.5555555555555556,
              "#d8576b"
             ],
             [
              0.6666666666666666,
              "#ed7953"
             ],
             [
              0.7777777777777778,
              "#fb9f3a"
             ],
             [
              0.8888888888888888,
              "#fdca26"
             ],
             [
              1,
              "#f0f921"
             ]
            ],
            "type": "histogram2d"
           }
          ],
          "histogram2dcontour": [
           {
            "colorbar": {
             "outlinewidth": 0,
             "ticks": ""
            },
            "colorscale": [
             [
              0,
              "#0d0887"
             ],
             [
              0.1111111111111111,
              "#46039f"
             ],
             [
              0.2222222222222222,
              "#7201a8"
             ],
             [
              0.3333333333333333,
              "#9c179e"
             ],
             [
              0.4444444444444444,
              "#bd3786"
             ],
             [
              0.5555555555555556,
              "#d8576b"
             ],
             [
              0.6666666666666666,
              "#ed7953"
             ],
             [
              0.7777777777777778,
              "#fb9f3a"
             ],
             [
              0.8888888888888888,
              "#fdca26"
             ],
             [
              1,
              "#f0f921"
             ]
            ],
            "type": "histogram2dcontour"
           }
          ],
          "mesh3d": [
           {
            "colorbar": {
             "outlinewidth": 0,
             "ticks": ""
            },
            "type": "mesh3d"
           }
          ],
          "parcoords": [
           {
            "line": {
             "colorbar": {
              "outlinewidth": 0,
              "ticks": ""
             }
            },
            "type": "parcoords"
           }
          ],
          "pie": [
           {
            "automargin": true,
            "type": "pie"
           }
          ],
          "scatter": [
           {
            "marker": {
             "colorbar": {
              "outlinewidth": 0,
              "ticks": ""
             }
            },
            "type": "scatter"
           }
          ],
          "scatter3d": [
           {
            "line": {
             "colorbar": {
              "outlinewidth": 0,
              "ticks": ""
             }
            },
            "marker": {
             "colorbar": {
              "outlinewidth": 0,
              "ticks": ""
             }
            },
            "type": "scatter3d"
           }
          ],
          "scattercarpet": [
           {
            "marker": {
             "colorbar": {
              "outlinewidth": 0,
              "ticks": ""
             }
            },
            "type": "scattercarpet"
           }
          ],
          "scattergeo": [
           {
            "marker": {
             "colorbar": {
              "outlinewidth": 0,
              "ticks": ""
             }
            },
            "type": "scattergeo"
           }
          ],
          "scattergl": [
           {
            "marker": {
             "colorbar": {
              "outlinewidth": 0,
              "ticks": ""
             }
            },
            "type": "scattergl"
           }
          ],
          "scattermapbox": [
           {
            "marker": {
             "colorbar": {
              "outlinewidth": 0,
              "ticks": ""
             }
            },
            "type": "scattermapbox"
           }
          ],
          "scatterpolar": [
           {
            "marker": {
             "colorbar": {
              "outlinewidth": 0,
              "ticks": ""
             }
            },
            "type": "scatterpolar"
           }
          ],
          "scatterpolargl": [
           {
            "marker": {
             "colorbar": {
              "outlinewidth": 0,
              "ticks": ""
             }
            },
            "type": "scatterpolargl"
           }
          ],
          "scatterternary": [
           {
            "marker": {
             "colorbar": {
              "outlinewidth": 0,
              "ticks": ""
             }
            },
            "type": "scatterternary"
           }
          ],
          "surface": [
           {
            "colorbar": {
             "outlinewidth": 0,
             "ticks": ""
            },
            "colorscale": [
             [
              0,
              "#0d0887"
             ],
             [
              0.1111111111111111,
              "#46039f"
             ],
             [
              0.2222222222222222,
              "#7201a8"
             ],
             [
              0.3333333333333333,
              "#9c179e"
             ],
             [
              0.4444444444444444,
              "#bd3786"
             ],
             [
              0.5555555555555556,
              "#d8576b"
             ],
             [
              0.6666666666666666,
              "#ed7953"
             ],
             [
              0.7777777777777778,
              "#fb9f3a"
             ],
             [
              0.8888888888888888,
              "#fdca26"
             ],
             [
              1,
              "#f0f921"
             ]
            ],
            "type": "surface"
           }
          ],
          "table": [
           {
            "cells": {
             "fill": {
              "color": "#EBF0F8"
             },
             "line": {
              "color": "white"
             }
            },
            "header": {
             "fill": {
              "color": "#C8D4E3"
             },
             "line": {
              "color": "white"
             }
            },
            "type": "table"
           }
          ]
         },
         "layout": {
          "annotationdefaults": {
           "arrowcolor": "#2a3f5f",
           "arrowhead": 0,
           "arrowwidth": 1
          },
          "coloraxis": {
           "colorbar": {
            "outlinewidth": 0,
            "ticks": ""
           }
          },
          "colorscale": {
           "diverging": [
            [
             0,
             "#8e0152"
            ],
            [
             0.1,
             "#c51b7d"
            ],
            [
             0.2,
             "#de77ae"
            ],
            [
             0.3,
             "#f1b6da"
            ],
            [
             0.4,
             "#fde0ef"
            ],
            [
             0.5,
             "#f7f7f7"
            ],
            [
             0.6,
             "#e6f5d0"
            ],
            [
             0.7,
             "#b8e186"
            ],
            [
             0.8,
             "#7fbc41"
            ],
            [
             0.9,
             "#4d9221"
            ],
            [
             1,
             "#276419"
            ]
           ],
           "sequential": [
            [
             0,
             "#0d0887"
            ],
            [
             0.1111111111111111,
             "#46039f"
            ],
            [
             0.2222222222222222,
             "#7201a8"
            ],
            [
             0.3333333333333333,
             "#9c179e"
            ],
            [
             0.4444444444444444,
             "#bd3786"
            ],
            [
             0.5555555555555556,
             "#d8576b"
            ],
            [
             0.6666666666666666,
             "#ed7953"
            ],
            [
             0.7777777777777778,
             "#fb9f3a"
            ],
            [
             0.8888888888888888,
             "#fdca26"
            ],
            [
             1,
             "#f0f921"
            ]
           ],
           "sequentialminus": [
            [
             0,
             "#0d0887"
            ],
            [
             0.1111111111111111,
             "#46039f"
            ],
            [
             0.2222222222222222,
             "#7201a8"
            ],
            [
             0.3333333333333333,
             "#9c179e"
            ],
            [
             0.4444444444444444,
             "#bd3786"
            ],
            [
             0.5555555555555556,
             "#d8576b"
            ],
            [
             0.6666666666666666,
             "#ed7953"
            ],
            [
             0.7777777777777778,
             "#fb9f3a"
            ],
            [
             0.8888888888888888,
             "#fdca26"
            ],
            [
             1,
             "#f0f921"
            ]
           ]
          },
          "colorway": [
           "#636efa",
           "#EF553B",
           "#00cc96",
           "#ab63fa",
           "#FFA15A",
           "#19d3f3",
           "#FF6692",
           "#B6E880",
           "#FF97FF",
           "#FECB52"
          ],
          "font": {
           "color": "#2a3f5f"
          },
          "geo": {
           "bgcolor": "white",
           "lakecolor": "white",
           "landcolor": "#E5ECF6",
           "showlakes": true,
           "showland": true,
           "subunitcolor": "white"
          },
          "hoverlabel": {
           "align": "left"
          },
          "hovermode": "closest",
          "mapbox": {
           "style": "light"
          },
          "paper_bgcolor": "white",
          "plot_bgcolor": "#E5ECF6",
          "polar": {
           "angularaxis": {
            "gridcolor": "white",
            "linecolor": "white",
            "ticks": ""
           },
           "bgcolor": "#E5ECF6",
           "radialaxis": {
            "gridcolor": "white",
            "linecolor": "white",
            "ticks": ""
           }
          },
          "scene": {
           "xaxis": {
            "backgroundcolor": "#E5ECF6",
            "gridcolor": "white",
            "gridwidth": 2,
            "linecolor": "white",
            "showbackground": true,
            "ticks": "",
            "zerolinecolor": "white"
           },
           "yaxis": {
            "backgroundcolor": "#E5ECF6",
            "gridcolor": "white",
            "gridwidth": 2,
            "linecolor": "white",
            "showbackground": true,
            "ticks": "",
            "zerolinecolor": "white"
           },
           "zaxis": {
            "backgroundcolor": "#E5ECF6",
            "gridcolor": "white",
            "gridwidth": 2,
            "linecolor": "white",
            "showbackground": true,
            "ticks": "",
            "zerolinecolor": "white"
           }
          },
          "shapedefaults": {
           "line": {
            "color": "#2a3f5f"
           }
          },
          "ternary": {
           "aaxis": {
            "gridcolor": "white",
            "linecolor": "white",
            "ticks": ""
           },
           "baxis": {
            "gridcolor": "white",
            "linecolor": "white",
            "ticks": ""
           },
           "bgcolor": "#E5ECF6",
           "caxis": {
            "gridcolor": "white",
            "linecolor": "white",
            "ticks": ""
           }
          },
          "title": {
           "x": 0.05
          },
          "xaxis": {
           "automargin": true,
           "gridcolor": "white",
           "linecolor": "white",
           "ticks": "",
           "title": {
            "standoff": 15
           },
           "zerolinecolor": "white",
           "zerolinewidth": 2
          },
          "yaxis": {
           "automargin": true,
           "gridcolor": "white",
           "linecolor": "white",
           "ticks": "",
           "title": {
            "standoff": 15
           },
           "zerolinecolor": "white",
           "zerolinewidth": 2
          }
         }
        },
        "title": {
         "font": {
          "color": "#4D5663"
         }
        },
        "xaxis": {
         "gridcolor": "#E1E5ED",
         "showgrid": true,
         "tickfont": {
          "color": "#4D5663"
         },
         "title": {
          "font": {
           "color": "#4D5663"
          },
          "text": ""
         },
         "zerolinecolor": "#E1E5ED"
        },
        "yaxis": {
         "gridcolor": "#E1E5ED",
         "showgrid": true,
         "tickfont": {
          "color": "#4D5663"
         },
         "title": {
          "font": {
           "color": "#4D5663"
          },
          "text": ""
         },
         "zerolinecolor": "#E1E5ED"
        }
       }
      },
      "text/html": [
       "<div>\n",
       "        \n",
       "        \n",
       "            <div id=\"9c11e565-44af-4444-8cc1-1bb644521a21\" class=\"plotly-graph-div\" style=\"height:525px; width:100%;\"></div>\n",
       "            <script type=\"text/javascript\">\n",
       "                require([\"plotly\"], function(Plotly) {\n",
       "                    window.PLOTLYENV=window.PLOTLYENV || {};\n",
       "                    window.PLOTLYENV.BASE_URL='https://plot.ly';\n",
       "                    \n",
       "                if (document.getElementById(\"9c11e565-44af-4444-8cc1-1bb644521a21\")) {\n",
       "                    Plotly.newPlot(\n",
       "                        '9c11e565-44af-4444-8cc1-1bb644521a21',\n",
       "                        [{\"line\": {\"color\": \"rgba(255, 153, 51, 1.0)\", \"dash\": \"solid\", \"shape\": \"linear\", \"width\": 1.3}, \"marker\": {\"size\": 10, \"symbol\": \"circle\"}, \"mode\": \"markers\", \"name\": \"B\", \"text\": \"\", \"type\": \"scatter\", \"x\": [0.5381855285673716, 0.5071020305201216, 0.4389237509487635, -0.6247998973105497, -0.32856245582140214, -0.5549132814916047, 0.5059612828729726, -3.197502476482795, -0.20387507115536785, 0.3459015762781, -0.2031519933742461, -1.4270667976720735, 0.12125644113873606, -0.041134446239839334, 0.09942498996999705, -0.6716409332021634, 0.8054591919418969, 1.6284504463712235, -1.0686571236688256, -0.6820570283090134, 1.0601779267043576, -0.8874271184205513, -0.23584503326298303, -1.3723947795930347, -0.5272892633343157, -0.6442561046802101, -1.2512104607334211, -0.09174351149493501, 0.9306815990203132, -0.467294899249402, 0.018392476702123038, -1.700457788639387, -0.26741137780144897, -0.7421803421304896, -0.14671882870501557, -1.6275386920455386, -0.45338390016622215, -2.0071863672670602, 0.1963189215463607, -1.4777986997953716, -2.1576217433969695, -0.7856668199645755, -1.2338432754092326, 1.399825272513358, -1.0091689439017615, 0.09028738823377347, -1.5408250419456964, 0.0990984258625075, -0.4343856232182664, -1.537700800793354, -0.072884287636136, -1.0730149201477526, 1.8456685132367332, 0.7476570177073996, -1.0485473399110965, -0.6900292790057106, -0.2208261440483984, 0.2686957612752167, -0.22816861670514565, 0.7311199936618888, 0.41812057329918606, 1.0887363338922411, -0.3964498621702017, 0.47286766096396265, -0.6027452918287854, 0.7025165133369287, 1.4569049926648543, 0.9999577792691502, -1.2811979563182043, 2.0804623137829674, 1.539255595278702, 0.4440631488297732, -1.5619867791736421, -0.31583137533287053, 0.3250311620824069, -0.4222090529096985, 1.7248048718981919, 0.5322881033597029, -0.3313064131205352, -1.2259399680760918, -0.6630691986600332, 0.043184530012049985, 1.5981295317194895, -1.3508876092805546, 1.0726560999357118, 0.3672953794565466, -0.4116672934579571, 0.47793618707943125, -1.0741938940368256, -0.7194551581808123, 0.9656653652456971, -0.1998839148187243, 1.1064616751011012, -0.3642037624025107, 0.8254311216681306, 0.7851611444731269, -0.8309895524553557, 0.44985792521595347, 1.695413609917251, -0.15895796721118688], \"y\": [0.6301674583573214, -1.561675696183232, 0.6365258247311377, -0.22324860617551084, -1.6736946321158042, -0.15927706452952708, 0.36989298593237285, 1.3085200046585113, 0.7159183818614192, 1.4170368007607066, -0.8484128249213295, 0.24290160075968745, 1.0795918353343301, -0.8157998727705896, -0.7184505150668109, -0.11568818097186227, -1.2901791636364424, 0.8400081678160328, -0.6676702261888512, -1.011257076667859, -0.6892287441692668, -0.23102459810075973, -0.21170064669943212, -0.20028233251560987, -1.078408181836114, 1.462130966067993, -0.17927997159447678, -0.13052020849949877, 0.4682168592110732, -1.5877343509461137, -0.6710951925528772, 0.05576752593607448, 0.5362381928866289, -0.34225661814037467, 0.581933321085821, 0.3947906536929084, 0.01940690313621235, -0.2163038164030735, -1.4955367906604886, 0.23791928037571633, -1.0977453084165723, 0.5335144230984808, 2.0993808494993873, -0.49490813917873455, 0.3941349794262045, -0.3772928341008689, 1.3048292635035965, -0.46672612038687655, -1.120489037175442, 1.9940005382078847, 0.20060951912701863, 0.57128240835606, 0.7145821222961338, 1.4105370810949298, 0.4049315688775944, 0.8458061881151208, -0.7609317914602187, -1.6481370061848084, -0.8873946431515575, -1.0683226547519797, -0.5316480238934537, 0.03361078302762433, -1.0363017034596884, 0.658821017661889, -1.0755800129807123, 0.9911979331699334, 0.5361321263657128, 0.988419798692416, -1.6384158410384904, -0.054614895140455734, -1.489486347353061, 1.0573670070827268, -0.005366874743519029, -1.5582928434235677, 1.3867439202182168, 0.27510525110981254, -0.0661353713844357, 0.4527693556244209, 0.39889118623618947, 1.3379470102985798, -0.9202241393884216, -0.7964312895565369, -0.6412882079248059, -0.7646490980947728, 0.7922507978202409, -0.24143865713923998, 0.6883199050793065, -0.44232087555933497, -0.46421476004079404, 0.14348851689963255, -0.8266849594361187, -0.1976183507463993, 1.1679312356869895, 0.5426240028902773, -0.2893004673286161, 0.6621600474085508, -1.2471603427386846, 1.0389478529243041, -0.048911234267454785, 0.2695699427674912]}],\n",
       "                        {\"legend\": {\"bgcolor\": \"#F5F6F9\", \"font\": {\"color\": \"#4D5663\"}}, \"paper_bgcolor\": \"#F5F6F9\", \"plot_bgcolor\": \"#F5F6F9\", \"template\": {\"data\": {\"bar\": [{\"error_x\": {\"color\": \"#2a3f5f\"}, \"error_y\": {\"color\": \"#2a3f5f\"}, \"marker\": {\"line\": {\"color\": \"#E5ECF6\", \"width\": 0.5}}, \"type\": \"bar\"}], \"barpolar\": [{\"marker\": {\"line\": {\"color\": \"#E5ECF6\", \"width\": 0.5}}, \"type\": \"barpolar\"}], \"carpet\": [{\"aaxis\": {\"endlinecolor\": \"#2a3f5f\", \"gridcolor\": \"white\", \"linecolor\": \"white\", \"minorgridcolor\": \"white\", \"startlinecolor\": \"#2a3f5f\"}, \"baxis\": {\"endlinecolor\": \"#2a3f5f\", \"gridcolor\": \"white\", \"linecolor\": \"white\", \"minorgridcolor\": \"white\", \"startlinecolor\": \"#2a3f5f\"}, \"type\": \"carpet\"}], \"choropleth\": [{\"colorbar\": {\"outlinewidth\": 0, \"ticks\": \"\"}, \"type\": \"choropleth\"}], \"contour\": [{\"colorbar\": {\"outlinewidth\": 0, \"ticks\": \"\"}, \"colorscale\": [[0.0, \"#0d0887\"], [0.1111111111111111, \"#46039f\"], [0.2222222222222222, \"#7201a8\"], [0.3333333333333333, \"#9c179e\"], [0.4444444444444444, \"#bd3786\"], [0.5555555555555556, \"#d8576b\"], [0.6666666666666666, \"#ed7953\"], [0.7777777777777778, \"#fb9f3a\"], [0.8888888888888888, \"#fdca26\"], [1.0, \"#f0f921\"]], \"type\": \"contour\"}], \"contourcarpet\": [{\"colorbar\": {\"outlinewidth\": 0, \"ticks\": \"\"}, \"type\": \"contourcarpet\"}], \"heatmap\": [{\"colorbar\": {\"outlinewidth\": 0, \"ticks\": \"\"}, \"colorscale\": [[0.0, \"#0d0887\"], [0.1111111111111111, \"#46039f\"], [0.2222222222222222, \"#7201a8\"], [0.3333333333333333, \"#9c179e\"], [0.4444444444444444, \"#bd3786\"], [0.5555555555555556, \"#d8576b\"], [0.6666666666666666, \"#ed7953\"], [0.7777777777777778, \"#fb9f3a\"], [0.8888888888888888, \"#fdca26\"], [1.0, \"#f0f921\"]], \"type\": \"heatmap\"}], \"heatmapgl\": [{\"colorbar\": {\"outlinewidth\": 0, \"ticks\": \"\"}, \"colorscale\": [[0.0, \"#0d0887\"], [0.1111111111111111, \"#46039f\"], [0.2222222222222222, \"#7201a8\"], [0.3333333333333333, \"#9c179e\"], [0.4444444444444444, \"#bd3786\"], [0.5555555555555556, \"#d8576b\"], [0.6666666666666666, \"#ed7953\"], [0.7777777777777778, \"#fb9f3a\"], [0.8888888888888888, \"#fdca26\"], [1.0, \"#f0f921\"]], \"type\": \"heatmapgl\"}], \"histogram\": [{\"marker\": {\"colorbar\": {\"outlinewidth\": 0, \"ticks\": \"\"}}, \"type\": \"histogram\"}], \"histogram2d\": [{\"colorbar\": {\"outlinewidth\": 0, \"ticks\": \"\"}, \"colorscale\": [[0.0, \"#0d0887\"], [0.1111111111111111, \"#46039f\"], [0.2222222222222222, \"#7201a8\"], [0.3333333333333333, \"#9c179e\"], [0.4444444444444444, \"#bd3786\"], [0.5555555555555556, \"#d8576b\"], [0.6666666666666666, \"#ed7953\"], [0.7777777777777778, \"#fb9f3a\"], [0.8888888888888888, \"#fdca26\"], [1.0, \"#f0f921\"]], \"type\": \"histogram2d\"}], \"histogram2dcontour\": [{\"colorbar\": {\"outlinewidth\": 0, \"ticks\": \"\"}, \"colorscale\": [[0.0, \"#0d0887\"], [0.1111111111111111, \"#46039f\"], [0.2222222222222222, \"#7201a8\"], [0.3333333333333333, \"#9c179e\"], [0.4444444444444444, \"#bd3786\"], [0.5555555555555556, \"#d8576b\"], [0.6666666666666666, \"#ed7953\"], [0.7777777777777778, \"#fb9f3a\"], [0.8888888888888888, \"#fdca26\"], [1.0, \"#f0f921\"]], \"type\": \"histogram2dcontour\"}], \"mesh3d\": [{\"colorbar\": {\"outlinewidth\": 0, \"ticks\": \"\"}, \"type\": \"mesh3d\"}], \"parcoords\": [{\"line\": {\"colorbar\": {\"outlinewidth\": 0, \"ticks\": \"\"}}, \"type\": \"parcoords\"}], \"pie\": [{\"automargin\": true, \"type\": \"pie\"}], \"scatter\": [{\"marker\": {\"colorbar\": {\"outlinewidth\": 0, \"ticks\": \"\"}}, \"type\": \"scatter\"}], \"scatter3d\": [{\"line\": {\"colorbar\": {\"outlinewidth\": 0, \"ticks\": \"\"}}, \"marker\": {\"colorbar\": {\"outlinewidth\": 0, \"ticks\": \"\"}}, \"type\": \"scatter3d\"}], \"scattercarpet\": [{\"marker\": {\"colorbar\": {\"outlinewidth\": 0, \"ticks\": \"\"}}, \"type\": \"scattercarpet\"}], \"scattergeo\": [{\"marker\": {\"colorbar\": {\"outlinewidth\": 0, \"ticks\": \"\"}}, \"type\": \"scattergeo\"}], \"scattergl\": [{\"marker\": {\"colorbar\": {\"outlinewidth\": 0, \"ticks\": \"\"}}, \"type\": \"scattergl\"}], \"scattermapbox\": [{\"marker\": {\"colorbar\": {\"outlinewidth\": 0, \"ticks\": \"\"}}, \"type\": \"scattermapbox\"}], \"scatterpolar\": [{\"marker\": {\"colorbar\": {\"outlinewidth\": 0, \"ticks\": \"\"}}, \"type\": \"scatterpolar\"}], \"scatterpolargl\": [{\"marker\": {\"colorbar\": {\"outlinewidth\": 0, \"ticks\": \"\"}}, \"type\": \"scatterpolargl\"}], \"scatterternary\": [{\"marker\": {\"colorbar\": {\"outlinewidth\": 0, \"ticks\": \"\"}}, \"type\": \"scatterternary\"}], \"surface\": [{\"colorbar\": {\"outlinewidth\": 0, \"ticks\": \"\"}, \"colorscale\": [[0.0, \"#0d0887\"], [0.1111111111111111, \"#46039f\"], [0.2222222222222222, \"#7201a8\"], [0.3333333333333333, \"#9c179e\"], [0.4444444444444444, \"#bd3786\"], [0.5555555555555556, \"#d8576b\"], [0.6666666666666666, \"#ed7953\"], [0.7777777777777778, \"#fb9f3a\"], [0.8888888888888888, \"#fdca26\"], [1.0, \"#f0f921\"]], \"type\": \"surface\"}], \"table\": [{\"cells\": {\"fill\": {\"color\": \"#EBF0F8\"}, \"line\": {\"color\": \"white\"}}, \"header\": {\"fill\": {\"color\": \"#C8D4E3\"}, \"line\": {\"color\": \"white\"}}, \"type\": \"table\"}]}, \"layout\": {\"annotationdefaults\": {\"arrowcolor\": \"#2a3f5f\", \"arrowhead\": 0, \"arrowwidth\": 1}, \"coloraxis\": {\"colorbar\": {\"outlinewidth\": 0, \"ticks\": \"\"}}, \"colorscale\": {\"diverging\": [[0, \"#8e0152\"], [0.1, \"#c51b7d\"], [0.2, \"#de77ae\"], [0.3, \"#f1b6da\"], [0.4, \"#fde0ef\"], [0.5, \"#f7f7f7\"], [0.6, \"#e6f5d0\"], [0.7, \"#b8e186\"], [0.8, \"#7fbc41\"], [0.9, \"#4d9221\"], [1, \"#276419\"]], \"sequential\": [[0.0, \"#0d0887\"], [0.1111111111111111, \"#46039f\"], [0.2222222222222222, \"#7201a8\"], [0.3333333333333333, \"#9c179e\"], [0.4444444444444444, \"#bd3786\"], [0.5555555555555556, \"#d8576b\"], [0.6666666666666666, \"#ed7953\"], [0.7777777777777778, \"#fb9f3a\"], [0.8888888888888888, \"#fdca26\"], [1.0, \"#f0f921\"]], \"sequentialminus\": [[0.0, \"#0d0887\"], [0.1111111111111111, \"#46039f\"], [0.2222222222222222, \"#7201a8\"], [0.3333333333333333, \"#9c179e\"], [0.4444444444444444, \"#bd3786\"], [0.5555555555555556, \"#d8576b\"], [0.6666666666666666, \"#ed7953\"], [0.7777777777777778, \"#fb9f3a\"], [0.8888888888888888, \"#fdca26\"], [1.0, \"#f0f921\"]]}, \"colorway\": [\"#636efa\", \"#EF553B\", \"#00cc96\", \"#ab63fa\", \"#FFA15A\", \"#19d3f3\", \"#FF6692\", \"#B6E880\", \"#FF97FF\", \"#FECB52\"], \"font\": {\"color\": \"#2a3f5f\"}, \"geo\": {\"bgcolor\": \"white\", \"lakecolor\": \"white\", \"landcolor\": \"#E5ECF6\", \"showlakes\": true, \"showland\": true, \"subunitcolor\": \"white\"}, \"hoverlabel\": {\"align\": \"left\"}, \"hovermode\": \"closest\", \"mapbox\": {\"style\": \"light\"}, \"paper_bgcolor\": \"white\", \"plot_bgcolor\": \"#E5ECF6\", \"polar\": {\"angularaxis\": {\"gridcolor\": \"white\", \"linecolor\": \"white\", \"ticks\": \"\"}, \"bgcolor\": \"#E5ECF6\", \"radialaxis\": {\"gridcolor\": \"white\", \"linecolor\": \"white\", \"ticks\": \"\"}}, \"scene\": {\"xaxis\": {\"backgroundcolor\": \"#E5ECF6\", \"gridcolor\": \"white\", \"gridwidth\": 2, \"linecolor\": \"white\", \"showbackground\": true, \"ticks\": \"\", \"zerolinecolor\": \"white\"}, \"yaxis\": {\"backgroundcolor\": \"#E5ECF6\", \"gridcolor\": \"white\", \"gridwidth\": 2, \"linecolor\": \"white\", \"showbackground\": true, \"ticks\": \"\", \"zerolinecolor\": \"white\"}, \"zaxis\": {\"backgroundcolor\": \"#E5ECF6\", \"gridcolor\": \"white\", \"gridwidth\": 2, \"linecolor\": \"white\", \"showbackground\": true, \"ticks\": \"\", \"zerolinecolor\": \"white\"}}, \"shapedefaults\": {\"line\": {\"color\": \"#2a3f5f\"}}, \"ternary\": {\"aaxis\": {\"gridcolor\": \"white\", \"linecolor\": \"white\", \"ticks\": \"\"}, \"baxis\": {\"gridcolor\": \"white\", \"linecolor\": \"white\", \"ticks\": \"\"}, \"bgcolor\": \"#E5ECF6\", \"caxis\": {\"gridcolor\": \"white\", \"linecolor\": \"white\", \"ticks\": \"\"}}, \"title\": {\"x\": 0.05}, \"xaxis\": {\"automargin\": true, \"gridcolor\": \"white\", \"linecolor\": \"white\", \"ticks\": \"\", \"title\": {\"standoff\": 15}, \"zerolinecolor\": \"white\", \"zerolinewidth\": 2}, \"yaxis\": {\"automargin\": true, \"gridcolor\": \"white\", \"linecolor\": \"white\", \"ticks\": \"\", \"title\": {\"standoff\": 15}, \"zerolinecolor\": \"white\", \"zerolinewidth\": 2}}}, \"title\": {\"font\": {\"color\": \"#4D5663\"}}, \"xaxis\": {\"gridcolor\": \"#E1E5ED\", \"showgrid\": true, \"tickfont\": {\"color\": \"#4D5663\"}, \"title\": {\"font\": {\"color\": \"#4D5663\"}, \"text\": \"\"}, \"zerolinecolor\": \"#E1E5ED\"}, \"yaxis\": {\"gridcolor\": \"#E1E5ED\", \"showgrid\": true, \"tickfont\": {\"color\": \"#4D5663\"}, \"title\": {\"font\": {\"color\": \"#4D5663\"}, \"text\": \"\"}, \"zerolinecolor\": \"#E1E5ED\"}},\n",
       "                        {\"showLink\": true, \"linkText\": \"Export to plot.ly\", \"plotlyServerURL\": \"https://plot.ly\", \"responsive\": true}\n",
       "                    ).then(function(){\n",
       "                            \n",
       "var gd = document.getElementById('9c11e565-44af-4444-8cc1-1bb644521a21');\n",
       "var x = new MutationObserver(function (mutations, observer) {{\n",
       "        var display = window.getComputedStyle(gd).display;\n",
       "        if (!display || display === 'none') {{\n",
       "            console.log([gd, 'removed!']);\n",
       "            Plotly.purge(gd);\n",
       "            observer.disconnect();\n",
       "        }}\n",
       "}});\n",
       "\n",
       "// Listen for the removal of the full notebook cells\n",
       "var notebookContainer = gd.closest('#notebook-container');\n",
       "if (notebookContainer) {{\n",
       "    x.observe(notebookContainer, {childList: true});\n",
       "}}\n",
       "\n",
       "// Listen for the clearing of the current output cell\n",
       "var outputEl = gd.closest('.output');\n",
       "if (outputEl) {{\n",
       "    x.observe(outputEl, {childList: true});\n",
       "}}\n",
       "\n",
       "                        })\n",
       "                };\n",
       "                });\n",
       "            </script>\n",
       "        </div>"
      ]
     },
     "metadata": {},
     "output_type": "display_data"
    }
   ],
   "source": [
    "df.iplot(kind='scatter',x='A',y='B',mode='markers',size=10)"
   ]
  },
  {
   "cell_type": "markdown",
   "metadata": {},
   "source": [
    "## Bar Plots"
   ]
  },
  {
   "cell_type": "code",
   "execution_count": 11,
   "metadata": {},
   "outputs": [
    {
     "data": {
      "application/vnd.plotly.v1+json": {
       "config": {
        "linkText": "Export to plot.ly",
        "plotlyServerURL": "https://plot.ly",
        "showLink": true
       },
       "data": [
        {
         "marker": {
          "color": "rgba(255, 153, 51, 0.6)",
          "line": {
           "color": "rgba(255, 153, 51, 1.0)",
           "width": 1
          }
         },
         "name": "Values",
         "orientation": "v",
         "text": "",
         "type": "bar",
         "x": [
          "A",
          "B",
          "C"
         ],
         "y": [
          32,
          43,
          50
         ]
        }
       ],
       "layout": {
        "legend": {
         "bgcolor": "#F5F6F9",
         "font": {
          "color": "#4D5663"
         }
        },
        "paper_bgcolor": "#F5F6F9",
        "plot_bgcolor": "#F5F6F9",
        "template": {
         "data": {
          "bar": [
           {
            "error_x": {
             "color": "#2a3f5f"
            },
            "error_y": {
             "color": "#2a3f5f"
            },
            "marker": {
             "line": {
              "color": "#E5ECF6",
              "width": 0.5
             }
            },
            "type": "bar"
           }
          ],
          "barpolar": [
           {
            "marker": {
             "line": {
              "color": "#E5ECF6",
              "width": 0.5
             }
            },
            "type": "barpolar"
           }
          ],
          "carpet": [
           {
            "aaxis": {
             "endlinecolor": "#2a3f5f",
             "gridcolor": "white",
             "linecolor": "white",
             "minorgridcolor": "white",
             "startlinecolor": "#2a3f5f"
            },
            "baxis": {
             "endlinecolor": "#2a3f5f",
             "gridcolor": "white",
             "linecolor": "white",
             "minorgridcolor": "white",
             "startlinecolor": "#2a3f5f"
            },
            "type": "carpet"
           }
          ],
          "choropleth": [
           {
            "colorbar": {
             "outlinewidth": 0,
             "ticks": ""
            },
            "type": "choropleth"
           }
          ],
          "contour": [
           {
            "colorbar": {
             "outlinewidth": 0,
             "ticks": ""
            },
            "colorscale": [
             [
              0,
              "#0d0887"
             ],
             [
              0.1111111111111111,
              "#46039f"
             ],
             [
              0.2222222222222222,
              "#7201a8"
             ],
             [
              0.3333333333333333,
              "#9c179e"
             ],
             [
              0.4444444444444444,
              "#bd3786"
             ],
             [
              0.5555555555555556,
              "#d8576b"
             ],
             [
              0.6666666666666666,
              "#ed7953"
             ],
             [
              0.7777777777777778,
              "#fb9f3a"
             ],
             [
              0.8888888888888888,
              "#fdca26"
             ],
             [
              1,
              "#f0f921"
             ]
            ],
            "type": "contour"
           }
          ],
          "contourcarpet": [
           {
            "colorbar": {
             "outlinewidth": 0,
             "ticks": ""
            },
            "type": "contourcarpet"
           }
          ],
          "heatmap": [
           {
            "colorbar": {
             "outlinewidth": 0,
             "ticks": ""
            },
            "colorscale": [
             [
              0,
              "#0d0887"
             ],
             [
              0.1111111111111111,
              "#46039f"
             ],
             [
              0.2222222222222222,
              "#7201a8"
             ],
             [
              0.3333333333333333,
              "#9c179e"
             ],
             [
              0.4444444444444444,
              "#bd3786"
             ],
             [
              0.5555555555555556,
              "#d8576b"
             ],
             [
              0.6666666666666666,
              "#ed7953"
             ],
             [
              0.7777777777777778,
              "#fb9f3a"
             ],
             [
              0.8888888888888888,
              "#fdca26"
             ],
             [
              1,
              "#f0f921"
             ]
            ],
            "type": "heatmap"
           }
          ],
          "heatmapgl": [
           {
            "colorbar": {
             "outlinewidth": 0,
             "ticks": ""
            },
            "colorscale": [
             [
              0,
              "#0d0887"
             ],
             [
              0.1111111111111111,
              "#46039f"
             ],
             [
              0.2222222222222222,
              "#7201a8"
             ],
             [
              0.3333333333333333,
              "#9c179e"
             ],
             [
              0.4444444444444444,
              "#bd3786"
             ],
             [
              0.5555555555555556,
              "#d8576b"
             ],
             [
              0.6666666666666666,
              "#ed7953"
             ],
             [
              0.7777777777777778,
              "#fb9f3a"
             ],
             [
              0.8888888888888888,
              "#fdca26"
             ],
             [
              1,
              "#f0f921"
             ]
            ],
            "type": "heatmapgl"
           }
          ],
          "histogram": [
           {
            "marker": {
             "colorbar": {
              "outlinewidth": 0,
              "ticks": ""
             }
            },
            "type": "histogram"
           }
          ],
          "histogram2d": [
           {
            "colorbar": {
             "outlinewidth": 0,
             "ticks": ""
            },
            "colorscale": [
             [
              0,
              "#0d0887"
             ],
             [
              0.1111111111111111,
              "#46039f"
             ],
             [
              0.2222222222222222,
              "#7201a8"
             ],
             [
              0.3333333333333333,
              "#9c179e"
             ],
             [
              0.4444444444444444,
              "#bd3786"
             ],
             [
              0.5555555555555556,
              "#d8576b"
             ],
             [
              0.6666666666666666,
              "#ed7953"
             ],
             [
              0.7777777777777778,
              "#fb9f3a"
             ],
             [
              0.8888888888888888,
              "#fdca26"
             ],
             [
              1,
              "#f0f921"
             ]
            ],
            "type": "histogram2d"
           }
          ],
          "histogram2dcontour": [
           {
            "colorbar": {
             "outlinewidth": 0,
             "ticks": ""
            },
            "colorscale": [
             [
              0,
              "#0d0887"
             ],
             [
              0.1111111111111111,
              "#46039f"
             ],
             [
              0.2222222222222222,
              "#7201a8"
             ],
             [
              0.3333333333333333,
              "#9c179e"
             ],
             [
              0.4444444444444444,
              "#bd3786"
             ],
             [
              0.5555555555555556,
              "#d8576b"
             ],
             [
              0.6666666666666666,
              "#ed7953"
             ],
             [
              0.7777777777777778,
              "#fb9f3a"
             ],
             [
              0.8888888888888888,
              "#fdca26"
             ],
             [
              1,
              "#f0f921"
             ]
            ],
            "type": "histogram2dcontour"
           }
          ],
          "mesh3d": [
           {
            "colorbar": {
             "outlinewidth": 0,
             "ticks": ""
            },
            "type": "mesh3d"
           }
          ],
          "parcoords": [
           {
            "line": {
             "colorbar": {
              "outlinewidth": 0,
              "ticks": ""
             }
            },
            "type": "parcoords"
           }
          ],
          "pie": [
           {
            "automargin": true,
            "type": "pie"
           }
          ],
          "scatter": [
           {
            "marker": {
             "colorbar": {
              "outlinewidth": 0,
              "ticks": ""
             }
            },
            "type": "scatter"
           }
          ],
          "scatter3d": [
           {
            "line": {
             "colorbar": {
              "outlinewidth": 0,
              "ticks": ""
             }
            },
            "marker": {
             "colorbar": {
              "outlinewidth": 0,
              "ticks": ""
             }
            },
            "type": "scatter3d"
           }
          ],
          "scattercarpet": [
           {
            "marker": {
             "colorbar": {
              "outlinewidth": 0,
              "ticks": ""
             }
            },
            "type": "scattercarpet"
           }
          ],
          "scattergeo": [
           {
            "marker": {
             "colorbar": {
              "outlinewidth": 0,
              "ticks": ""
             }
            },
            "type": "scattergeo"
           }
          ],
          "scattergl": [
           {
            "marker": {
             "colorbar": {
              "outlinewidth": 0,
              "ticks": ""
             }
            },
            "type": "scattergl"
           }
          ],
          "scattermapbox": [
           {
            "marker": {
             "colorbar": {
              "outlinewidth": 0,
              "ticks": ""
             }
            },
            "type": "scattermapbox"
           }
          ],
          "scatterpolar": [
           {
            "marker": {
             "colorbar": {
              "outlinewidth": 0,
              "ticks": ""
             }
            },
            "type": "scatterpolar"
           }
          ],
          "scatterpolargl": [
           {
            "marker": {
             "colorbar": {
              "outlinewidth": 0,
              "ticks": ""
             }
            },
            "type": "scatterpolargl"
           }
          ],
          "scatterternary": [
           {
            "marker": {
             "colorbar": {
              "outlinewidth": 0,
              "ticks": ""
             }
            },
            "type": "scatterternary"
           }
          ],
          "surface": [
           {
            "colorbar": {
             "outlinewidth": 0,
             "ticks": ""
            },
            "colorscale": [
             [
              0,
              "#0d0887"
             ],
             [
              0.1111111111111111,
              "#46039f"
             ],
             [
              0.2222222222222222,
              "#7201a8"
             ],
             [
              0.3333333333333333,
              "#9c179e"
             ],
             [
              0.4444444444444444,
              "#bd3786"
             ],
             [
              0.5555555555555556,
              "#d8576b"
             ],
             [
              0.6666666666666666,
              "#ed7953"
             ],
             [
              0.7777777777777778,
              "#fb9f3a"
             ],
             [
              0.8888888888888888,
              "#fdca26"
             ],
             [
              1,
              "#f0f921"
             ]
            ],
            "type": "surface"
           }
          ],
          "table": [
           {
            "cells": {
             "fill": {
              "color": "#EBF0F8"
             },
             "line": {
              "color": "white"
             }
            },
            "header": {
             "fill": {
              "color": "#C8D4E3"
             },
             "line": {
              "color": "white"
             }
            },
            "type": "table"
           }
          ]
         },
         "layout": {
          "annotationdefaults": {
           "arrowcolor": "#2a3f5f",
           "arrowhead": 0,
           "arrowwidth": 1
          },
          "coloraxis": {
           "colorbar": {
            "outlinewidth": 0,
            "ticks": ""
           }
          },
          "colorscale": {
           "diverging": [
            [
             0,
             "#8e0152"
            ],
            [
             0.1,
             "#c51b7d"
            ],
            [
             0.2,
             "#de77ae"
            ],
            [
             0.3,
             "#f1b6da"
            ],
            [
             0.4,
             "#fde0ef"
            ],
            [
             0.5,
             "#f7f7f7"
            ],
            [
             0.6,
             "#e6f5d0"
            ],
            [
             0.7,
             "#b8e186"
            ],
            [
             0.8,
             "#7fbc41"
            ],
            [
             0.9,
             "#4d9221"
            ],
            [
             1,
             "#276419"
            ]
           ],
           "sequential": [
            [
             0,
             "#0d0887"
            ],
            [
             0.1111111111111111,
             "#46039f"
            ],
            [
             0.2222222222222222,
             "#7201a8"
            ],
            [
             0.3333333333333333,
             "#9c179e"
            ],
            [
             0.4444444444444444,
             "#bd3786"
            ],
            [
             0.5555555555555556,
             "#d8576b"
            ],
            [
             0.6666666666666666,
             "#ed7953"
            ],
            [
             0.7777777777777778,
             "#fb9f3a"
            ],
            [
             0.8888888888888888,
             "#fdca26"
            ],
            [
             1,
             "#f0f921"
            ]
           ],
           "sequentialminus": [
            [
             0,
             "#0d0887"
            ],
            [
             0.1111111111111111,
             "#46039f"
            ],
            [
             0.2222222222222222,
             "#7201a8"
            ],
            [
             0.3333333333333333,
             "#9c179e"
            ],
            [
             0.4444444444444444,
             "#bd3786"
            ],
            [
             0.5555555555555556,
             "#d8576b"
            ],
            [
             0.6666666666666666,
             "#ed7953"
            ],
            [
             0.7777777777777778,
             "#fb9f3a"
            ],
            [
             0.8888888888888888,
             "#fdca26"
            ],
            [
             1,
             "#f0f921"
            ]
           ]
          },
          "colorway": [
           "#636efa",
           "#EF553B",
           "#00cc96",
           "#ab63fa",
           "#FFA15A",
           "#19d3f3",
           "#FF6692",
           "#B6E880",
           "#FF97FF",
           "#FECB52"
          ],
          "font": {
           "color": "#2a3f5f"
          },
          "geo": {
           "bgcolor": "white",
           "lakecolor": "white",
           "landcolor": "#E5ECF6",
           "showlakes": true,
           "showland": true,
           "subunitcolor": "white"
          },
          "hoverlabel": {
           "align": "left"
          },
          "hovermode": "closest",
          "mapbox": {
           "style": "light"
          },
          "paper_bgcolor": "white",
          "plot_bgcolor": "#E5ECF6",
          "polar": {
           "angularaxis": {
            "gridcolor": "white",
            "linecolor": "white",
            "ticks": ""
           },
           "bgcolor": "#E5ECF6",
           "radialaxis": {
            "gridcolor": "white",
            "linecolor": "white",
            "ticks": ""
           }
          },
          "scene": {
           "xaxis": {
            "backgroundcolor": "#E5ECF6",
            "gridcolor": "white",
            "gridwidth": 2,
            "linecolor": "white",
            "showbackground": true,
            "ticks": "",
            "zerolinecolor": "white"
           },
           "yaxis": {
            "backgroundcolor": "#E5ECF6",
            "gridcolor": "white",
            "gridwidth": 2,
            "linecolor": "white",
            "showbackground": true,
            "ticks": "",
            "zerolinecolor": "white"
           },
           "zaxis": {
            "backgroundcolor": "#E5ECF6",
            "gridcolor": "white",
            "gridwidth": 2,
            "linecolor": "white",
            "showbackground": true,
            "ticks": "",
            "zerolinecolor": "white"
           }
          },
          "shapedefaults": {
           "line": {
            "color": "#2a3f5f"
           }
          },
          "ternary": {
           "aaxis": {
            "gridcolor": "white",
            "linecolor": "white",
            "ticks": ""
           },
           "baxis": {
            "gridcolor": "white",
            "linecolor": "white",
            "ticks": ""
           },
           "bgcolor": "#E5ECF6",
           "caxis": {
            "gridcolor": "white",
            "linecolor": "white",
            "ticks": ""
           }
          },
          "title": {
           "x": 0.05
          },
          "xaxis": {
           "automargin": true,
           "gridcolor": "white",
           "linecolor": "white",
           "ticks": "",
           "title": {
            "standoff": 15
           },
           "zerolinecolor": "white",
           "zerolinewidth": 2
          },
          "yaxis": {
           "automargin": true,
           "gridcolor": "white",
           "linecolor": "white",
           "ticks": "",
           "title": {
            "standoff": 15
           },
           "zerolinecolor": "white",
           "zerolinewidth": 2
          }
         }
        },
        "title": {
         "font": {
          "color": "#4D5663"
         }
        },
        "xaxis": {
         "gridcolor": "#E1E5ED",
         "showgrid": true,
         "tickfont": {
          "color": "#4D5663"
         },
         "title": {
          "font": {
           "color": "#4D5663"
          },
          "text": ""
         },
         "zerolinecolor": "#E1E5ED"
        },
        "yaxis": {
         "gridcolor": "#E1E5ED",
         "showgrid": true,
         "tickfont": {
          "color": "#4D5663"
         },
         "title": {
          "font": {
           "color": "#4D5663"
          },
          "text": ""
         },
         "zerolinecolor": "#E1E5ED"
        }
       }
      },
      "text/html": [
       "<div>\n",
       "        \n",
       "        \n",
       "            <div id=\"8f9689e5-1ecf-439c-bca8-3f6b11227382\" class=\"plotly-graph-div\" style=\"height:525px; width:100%;\"></div>\n",
       "            <script type=\"text/javascript\">\n",
       "                require([\"plotly\"], function(Plotly) {\n",
       "                    window.PLOTLYENV=window.PLOTLYENV || {};\n",
       "                    window.PLOTLYENV.BASE_URL='https://plot.ly';\n",
       "                    \n",
       "                if (document.getElementById(\"8f9689e5-1ecf-439c-bca8-3f6b11227382\")) {\n",
       "                    Plotly.newPlot(\n",
       "                        '8f9689e5-1ecf-439c-bca8-3f6b11227382',\n",
       "                        [{\"marker\": {\"color\": \"rgba(255, 153, 51, 0.6)\", \"line\": {\"color\": \"rgba(255, 153, 51, 1.0)\", \"width\": 1}}, \"name\": \"Values\", \"orientation\": \"v\", \"text\": \"\", \"type\": \"bar\", \"x\": [\"A\", \"B\", \"C\"], \"y\": [32, 43, 50]}],\n",
       "                        {\"legend\": {\"bgcolor\": \"#F5F6F9\", \"font\": {\"color\": \"#4D5663\"}}, \"paper_bgcolor\": \"#F5F6F9\", \"plot_bgcolor\": \"#F5F6F9\", \"template\": {\"data\": {\"bar\": [{\"error_x\": {\"color\": \"#2a3f5f\"}, \"error_y\": {\"color\": \"#2a3f5f\"}, \"marker\": {\"line\": {\"color\": \"#E5ECF6\", \"width\": 0.5}}, \"type\": \"bar\"}], \"barpolar\": [{\"marker\": {\"line\": {\"color\": \"#E5ECF6\", \"width\": 0.5}}, \"type\": \"barpolar\"}], \"carpet\": [{\"aaxis\": {\"endlinecolor\": \"#2a3f5f\", \"gridcolor\": \"white\", \"linecolor\": \"white\", \"minorgridcolor\": \"white\", \"startlinecolor\": \"#2a3f5f\"}, \"baxis\": {\"endlinecolor\": \"#2a3f5f\", \"gridcolor\": \"white\", \"linecolor\": \"white\", \"minorgridcolor\": \"white\", \"startlinecolor\": \"#2a3f5f\"}, \"type\": \"carpet\"}], \"choropleth\": [{\"colorbar\": {\"outlinewidth\": 0, \"ticks\": \"\"}, \"type\": \"choropleth\"}], \"contour\": [{\"colorbar\": {\"outlinewidth\": 0, \"ticks\": \"\"}, \"colorscale\": [[0.0, \"#0d0887\"], [0.1111111111111111, \"#46039f\"], [0.2222222222222222, \"#7201a8\"], [0.3333333333333333, \"#9c179e\"], [0.4444444444444444, \"#bd3786\"], [0.5555555555555556, \"#d8576b\"], [0.6666666666666666, \"#ed7953\"], [0.7777777777777778, \"#fb9f3a\"], [0.8888888888888888, \"#fdca26\"], [1.0, \"#f0f921\"]], \"type\": \"contour\"}], \"contourcarpet\": [{\"colorbar\": {\"outlinewidth\": 0, \"ticks\": \"\"}, \"type\": \"contourcarpet\"}], \"heatmap\": [{\"colorbar\": {\"outlinewidth\": 0, \"ticks\": \"\"}, \"colorscale\": [[0.0, \"#0d0887\"], [0.1111111111111111, \"#46039f\"], [0.2222222222222222, \"#7201a8\"], [0.3333333333333333, \"#9c179e\"], [0.4444444444444444, \"#bd3786\"], [0.5555555555555556, \"#d8576b\"], [0.6666666666666666, \"#ed7953\"], [0.7777777777777778, \"#fb9f3a\"], [0.8888888888888888, \"#fdca26\"], [1.0, \"#f0f921\"]], \"type\": \"heatmap\"}], \"heatmapgl\": [{\"colorbar\": {\"outlinewidth\": 0, \"ticks\": \"\"}, \"colorscale\": [[0.0, \"#0d0887\"], [0.1111111111111111, \"#46039f\"], [0.2222222222222222, \"#7201a8\"], [0.3333333333333333, \"#9c179e\"], [0.4444444444444444, \"#bd3786\"], [0.5555555555555556, \"#d8576b\"], [0.6666666666666666, \"#ed7953\"], [0.7777777777777778, \"#fb9f3a\"], [0.8888888888888888, \"#fdca26\"], [1.0, \"#f0f921\"]], \"type\": \"heatmapgl\"}], \"histogram\": [{\"marker\": {\"colorbar\": {\"outlinewidth\": 0, \"ticks\": \"\"}}, \"type\": \"histogram\"}], \"histogram2d\": [{\"colorbar\": {\"outlinewidth\": 0, \"ticks\": \"\"}, \"colorscale\": [[0.0, \"#0d0887\"], [0.1111111111111111, \"#46039f\"], [0.2222222222222222, \"#7201a8\"], [0.3333333333333333, \"#9c179e\"], [0.4444444444444444, \"#bd3786\"], [0.5555555555555556, \"#d8576b\"], [0.6666666666666666, \"#ed7953\"], [0.7777777777777778, \"#fb9f3a\"], [0.8888888888888888, \"#fdca26\"], [1.0, \"#f0f921\"]], \"type\": \"histogram2d\"}], \"histogram2dcontour\": [{\"colorbar\": {\"outlinewidth\": 0, \"ticks\": \"\"}, \"colorscale\": [[0.0, \"#0d0887\"], [0.1111111111111111, \"#46039f\"], [0.2222222222222222, \"#7201a8\"], [0.3333333333333333, \"#9c179e\"], [0.4444444444444444, \"#bd3786\"], [0.5555555555555556, \"#d8576b\"], [0.6666666666666666, \"#ed7953\"], [0.7777777777777778, \"#fb9f3a\"], [0.8888888888888888, \"#fdca26\"], [1.0, \"#f0f921\"]], \"type\": \"histogram2dcontour\"}], \"mesh3d\": [{\"colorbar\": {\"outlinewidth\": 0, \"ticks\": \"\"}, \"type\": \"mesh3d\"}], \"parcoords\": [{\"line\": {\"colorbar\": {\"outlinewidth\": 0, \"ticks\": \"\"}}, \"type\": \"parcoords\"}], \"pie\": [{\"automargin\": true, \"type\": \"pie\"}], \"scatter\": [{\"marker\": {\"colorbar\": {\"outlinewidth\": 0, \"ticks\": \"\"}}, \"type\": \"scatter\"}], \"scatter3d\": [{\"line\": {\"colorbar\": {\"outlinewidth\": 0, \"ticks\": \"\"}}, \"marker\": {\"colorbar\": {\"outlinewidth\": 0, \"ticks\": \"\"}}, \"type\": \"scatter3d\"}], \"scattercarpet\": [{\"marker\": {\"colorbar\": {\"outlinewidth\": 0, \"ticks\": \"\"}}, \"type\": \"scattercarpet\"}], \"scattergeo\": [{\"marker\": {\"colorbar\": {\"outlinewidth\": 0, \"ticks\": \"\"}}, \"type\": \"scattergeo\"}], \"scattergl\": [{\"marker\": {\"colorbar\": {\"outlinewidth\": 0, \"ticks\": \"\"}}, \"type\": \"scattergl\"}], \"scattermapbox\": [{\"marker\": {\"colorbar\": {\"outlinewidth\": 0, \"ticks\": \"\"}}, \"type\": \"scattermapbox\"}], \"scatterpolar\": [{\"marker\": {\"colorbar\": {\"outlinewidth\": 0, \"ticks\": \"\"}}, \"type\": \"scatterpolar\"}], \"scatterpolargl\": [{\"marker\": {\"colorbar\": {\"outlinewidth\": 0, \"ticks\": \"\"}}, \"type\": \"scatterpolargl\"}], \"scatterternary\": [{\"marker\": {\"colorbar\": {\"outlinewidth\": 0, \"ticks\": \"\"}}, \"type\": \"scatterternary\"}], \"surface\": [{\"colorbar\": {\"outlinewidth\": 0, \"ticks\": \"\"}, \"colorscale\": [[0.0, \"#0d0887\"], [0.1111111111111111, \"#46039f\"], [0.2222222222222222, \"#7201a8\"], [0.3333333333333333, \"#9c179e\"], [0.4444444444444444, \"#bd3786\"], [0.5555555555555556, \"#d8576b\"], [0.6666666666666666, \"#ed7953\"], [0.7777777777777778, \"#fb9f3a\"], [0.8888888888888888, \"#fdca26\"], [1.0, \"#f0f921\"]], \"type\": \"surface\"}], \"table\": [{\"cells\": {\"fill\": {\"color\": \"#EBF0F8\"}, \"line\": {\"color\": \"white\"}}, \"header\": {\"fill\": {\"color\": \"#C8D4E3\"}, \"line\": {\"color\": \"white\"}}, \"type\": \"table\"}]}, \"layout\": {\"annotationdefaults\": {\"arrowcolor\": \"#2a3f5f\", \"arrowhead\": 0, \"arrowwidth\": 1}, \"coloraxis\": {\"colorbar\": {\"outlinewidth\": 0, \"ticks\": \"\"}}, \"colorscale\": {\"diverging\": [[0, \"#8e0152\"], [0.1, \"#c51b7d\"], [0.2, \"#de77ae\"], [0.3, \"#f1b6da\"], [0.4, \"#fde0ef\"], [0.5, \"#f7f7f7\"], [0.6, \"#e6f5d0\"], [0.7, \"#b8e186\"], [0.8, \"#7fbc41\"], [0.9, \"#4d9221\"], [1, \"#276419\"]], \"sequential\": [[0.0, \"#0d0887\"], [0.1111111111111111, \"#46039f\"], [0.2222222222222222, \"#7201a8\"], [0.3333333333333333, \"#9c179e\"], [0.4444444444444444, \"#bd3786\"], [0.5555555555555556, \"#d8576b\"], [0.6666666666666666, \"#ed7953\"], [0.7777777777777778, \"#fb9f3a\"], [0.8888888888888888, \"#fdca26\"], [1.0, \"#f0f921\"]], \"sequentialminus\": [[0.0, \"#0d0887\"], [0.1111111111111111, \"#46039f\"], [0.2222222222222222, \"#7201a8\"], [0.3333333333333333, \"#9c179e\"], [0.4444444444444444, \"#bd3786\"], [0.5555555555555556, \"#d8576b\"], [0.6666666666666666, \"#ed7953\"], [0.7777777777777778, \"#fb9f3a\"], [0.8888888888888888, \"#fdca26\"], [1.0, \"#f0f921\"]]}, \"colorway\": [\"#636efa\", \"#EF553B\", \"#00cc96\", \"#ab63fa\", \"#FFA15A\", \"#19d3f3\", \"#FF6692\", \"#B6E880\", \"#FF97FF\", \"#FECB52\"], \"font\": {\"color\": \"#2a3f5f\"}, \"geo\": {\"bgcolor\": \"white\", \"lakecolor\": \"white\", \"landcolor\": \"#E5ECF6\", \"showlakes\": true, \"showland\": true, \"subunitcolor\": \"white\"}, \"hoverlabel\": {\"align\": \"left\"}, \"hovermode\": \"closest\", \"mapbox\": {\"style\": \"light\"}, \"paper_bgcolor\": \"white\", \"plot_bgcolor\": \"#E5ECF6\", \"polar\": {\"angularaxis\": {\"gridcolor\": \"white\", \"linecolor\": \"white\", \"ticks\": \"\"}, \"bgcolor\": \"#E5ECF6\", \"radialaxis\": {\"gridcolor\": \"white\", \"linecolor\": \"white\", \"ticks\": \"\"}}, \"scene\": {\"xaxis\": {\"backgroundcolor\": \"#E5ECF6\", \"gridcolor\": \"white\", \"gridwidth\": 2, \"linecolor\": \"white\", \"showbackground\": true, \"ticks\": \"\", \"zerolinecolor\": \"white\"}, \"yaxis\": {\"backgroundcolor\": \"#E5ECF6\", \"gridcolor\": \"white\", \"gridwidth\": 2, \"linecolor\": \"white\", \"showbackground\": true, \"ticks\": \"\", \"zerolinecolor\": \"white\"}, \"zaxis\": {\"backgroundcolor\": \"#E5ECF6\", \"gridcolor\": \"white\", \"gridwidth\": 2, \"linecolor\": \"white\", \"showbackground\": true, \"ticks\": \"\", \"zerolinecolor\": \"white\"}}, \"shapedefaults\": {\"line\": {\"color\": \"#2a3f5f\"}}, \"ternary\": {\"aaxis\": {\"gridcolor\": \"white\", \"linecolor\": \"white\", \"ticks\": \"\"}, \"baxis\": {\"gridcolor\": \"white\", \"linecolor\": \"white\", \"ticks\": \"\"}, \"bgcolor\": \"#E5ECF6\", \"caxis\": {\"gridcolor\": \"white\", \"linecolor\": \"white\", \"ticks\": \"\"}}, \"title\": {\"x\": 0.05}, \"xaxis\": {\"automargin\": true, \"gridcolor\": \"white\", \"linecolor\": \"white\", \"ticks\": \"\", \"title\": {\"standoff\": 15}, \"zerolinecolor\": \"white\", \"zerolinewidth\": 2}, \"yaxis\": {\"automargin\": true, \"gridcolor\": \"white\", \"linecolor\": \"white\", \"ticks\": \"\", \"title\": {\"standoff\": 15}, \"zerolinecolor\": \"white\", \"zerolinewidth\": 2}}}, \"title\": {\"font\": {\"color\": \"#4D5663\"}}, \"xaxis\": {\"gridcolor\": \"#E1E5ED\", \"showgrid\": true, \"tickfont\": {\"color\": \"#4D5663\"}, \"title\": {\"font\": {\"color\": \"#4D5663\"}, \"text\": \"\"}, \"zerolinecolor\": \"#E1E5ED\"}, \"yaxis\": {\"gridcolor\": \"#E1E5ED\", \"showgrid\": true, \"tickfont\": {\"color\": \"#4D5663\"}, \"title\": {\"font\": {\"color\": \"#4D5663\"}, \"text\": \"\"}, \"zerolinecolor\": \"#E1E5ED\"}},\n",
       "                        {\"showLink\": true, \"linkText\": \"Export to plot.ly\", \"plotlyServerURL\": \"https://plot.ly\", \"responsive\": true}\n",
       "                    ).then(function(){\n",
       "                            \n",
       "var gd = document.getElementById('8f9689e5-1ecf-439c-bca8-3f6b11227382');\n",
       "var x = new MutationObserver(function (mutations, observer) {{\n",
       "        var display = window.getComputedStyle(gd).display;\n",
       "        if (!display || display === 'none') {{\n",
       "            console.log([gd, 'removed!']);\n",
       "            Plotly.purge(gd);\n",
       "            observer.disconnect();\n",
       "        }}\n",
       "}});\n",
       "\n",
       "// Listen for the removal of the full notebook cells\n",
       "var notebookContainer = gd.closest('#notebook-container');\n",
       "if (notebookContainer) {{\n",
       "    x.observe(notebookContainer, {childList: true});\n",
       "}}\n",
       "\n",
       "// Listen for the clearing of the current output cell\n",
       "var outputEl = gd.closest('.output');\n",
       "if (outputEl) {{\n",
       "    x.observe(outputEl, {childList: true});\n",
       "}}\n",
       "\n",
       "                        })\n",
       "                };\n",
       "                });\n",
       "            </script>\n",
       "        </div>"
      ]
     },
     "metadata": {},
     "output_type": "display_data"
    }
   ],
   "source": [
    "df2.iplot(kind='bar',x='Category',y='Values')"
   ]
  },
  {
   "cell_type": "code",
   "execution_count": 12,
   "metadata": {},
   "outputs": [
    {
     "data": {
      "application/vnd.plotly.v1+json": {
       "config": {
        "linkText": "Export to plot.ly",
        "plotlyServerURL": "https://plot.ly",
        "showLink": true
       },
       "data": [
        {
         "marker": {
          "color": "rgba(255, 153, 51, 0.6)",
          "line": {
           "color": "rgba(255, 153, 51, 1.0)",
           "width": 1
          }
         },
         "name": "None",
         "orientation": "v",
         "text": "",
         "type": "bar",
         "x": [
          "A",
          "B",
          "C",
          "D"
         ],
         "y": [
          100,
          100,
          100,
          100
         ]
        }
       ],
       "layout": {
        "legend": {
         "bgcolor": "#F5F6F9",
         "font": {
          "color": "#4D5663"
         }
        },
        "paper_bgcolor": "#F5F6F9",
        "plot_bgcolor": "#F5F6F9",
        "template": {
         "data": {
          "bar": [
           {
            "error_x": {
             "color": "#2a3f5f"
            },
            "error_y": {
             "color": "#2a3f5f"
            },
            "marker": {
             "line": {
              "color": "#E5ECF6",
              "width": 0.5
             }
            },
            "type": "bar"
           }
          ],
          "barpolar": [
           {
            "marker": {
             "line": {
              "color": "#E5ECF6",
              "width": 0.5
             }
            },
            "type": "barpolar"
           }
          ],
          "carpet": [
           {
            "aaxis": {
             "endlinecolor": "#2a3f5f",
             "gridcolor": "white",
             "linecolor": "white",
             "minorgridcolor": "white",
             "startlinecolor": "#2a3f5f"
            },
            "baxis": {
             "endlinecolor": "#2a3f5f",
             "gridcolor": "white",
             "linecolor": "white",
             "minorgridcolor": "white",
             "startlinecolor": "#2a3f5f"
            },
            "type": "carpet"
           }
          ],
          "choropleth": [
           {
            "colorbar": {
             "outlinewidth": 0,
             "ticks": ""
            },
            "type": "choropleth"
           }
          ],
          "contour": [
           {
            "colorbar": {
             "outlinewidth": 0,
             "ticks": ""
            },
            "colorscale": [
             [
              0,
              "#0d0887"
             ],
             [
              0.1111111111111111,
              "#46039f"
             ],
             [
              0.2222222222222222,
              "#7201a8"
             ],
             [
              0.3333333333333333,
              "#9c179e"
             ],
             [
              0.4444444444444444,
              "#bd3786"
             ],
             [
              0.5555555555555556,
              "#d8576b"
             ],
             [
              0.6666666666666666,
              "#ed7953"
             ],
             [
              0.7777777777777778,
              "#fb9f3a"
             ],
             [
              0.8888888888888888,
              "#fdca26"
             ],
             [
              1,
              "#f0f921"
             ]
            ],
            "type": "contour"
           }
          ],
          "contourcarpet": [
           {
            "colorbar": {
             "outlinewidth": 0,
             "ticks": ""
            },
            "type": "contourcarpet"
           }
          ],
          "heatmap": [
           {
            "colorbar": {
             "outlinewidth": 0,
             "ticks": ""
            },
            "colorscale": [
             [
              0,
              "#0d0887"
             ],
             [
              0.1111111111111111,
              "#46039f"
             ],
             [
              0.2222222222222222,
              "#7201a8"
             ],
             [
              0.3333333333333333,
              "#9c179e"
             ],
             [
              0.4444444444444444,
              "#bd3786"
             ],
             [
              0.5555555555555556,
              "#d8576b"
             ],
             [
              0.6666666666666666,
              "#ed7953"
             ],
             [
              0.7777777777777778,
              "#fb9f3a"
             ],
             [
              0.8888888888888888,
              "#fdca26"
             ],
             [
              1,
              "#f0f921"
             ]
            ],
            "type": "heatmap"
           }
          ],
          "heatmapgl": [
           {
            "colorbar": {
             "outlinewidth": 0,
             "ticks": ""
            },
            "colorscale": [
             [
              0,
              "#0d0887"
             ],
             [
              0.1111111111111111,
              "#46039f"
             ],
             [
              0.2222222222222222,
              "#7201a8"
             ],
             [
              0.3333333333333333,
              "#9c179e"
             ],
             [
              0.4444444444444444,
              "#bd3786"
             ],
             [
              0.5555555555555556,
              "#d8576b"
             ],
             [
              0.6666666666666666,
              "#ed7953"
             ],
             [
              0.7777777777777778,
              "#fb9f3a"
             ],
             [
              0.8888888888888888,
              "#fdca26"
             ],
             [
              1,
              "#f0f921"
             ]
            ],
            "type": "heatmapgl"
           }
          ],
          "histogram": [
           {
            "marker": {
             "colorbar": {
              "outlinewidth": 0,
              "ticks": ""
             }
            },
            "type": "histogram"
           }
          ],
          "histogram2d": [
           {
            "colorbar": {
             "outlinewidth": 0,
             "ticks": ""
            },
            "colorscale": [
             [
              0,
              "#0d0887"
             ],
             [
              0.1111111111111111,
              "#46039f"
             ],
             [
              0.2222222222222222,
              "#7201a8"
             ],
             [
              0.3333333333333333,
              "#9c179e"
             ],
             [
              0.4444444444444444,
              "#bd3786"
             ],
             [
              0.5555555555555556,
              "#d8576b"
             ],
             [
              0.6666666666666666,
              "#ed7953"
             ],
             [
              0.7777777777777778,
              "#fb9f3a"
             ],
             [
              0.8888888888888888,
              "#fdca26"
             ],
             [
              1,
              "#f0f921"
             ]
            ],
            "type": "histogram2d"
           }
          ],
          "histogram2dcontour": [
           {
            "colorbar": {
             "outlinewidth": 0,
             "ticks": ""
            },
            "colorscale": [
             [
              0,
              "#0d0887"
             ],
             [
              0.1111111111111111,
              "#46039f"
             ],
             [
              0.2222222222222222,
              "#7201a8"
             ],
             [
              0.3333333333333333,
              "#9c179e"
             ],
             [
              0.4444444444444444,
              "#bd3786"
             ],
             [
              0.5555555555555556,
              "#d8576b"
             ],
             [
              0.6666666666666666,
              "#ed7953"
             ],
             [
              0.7777777777777778,
              "#fb9f3a"
             ],
             [
              0.8888888888888888,
              "#fdca26"
             ],
             [
              1,
              "#f0f921"
             ]
            ],
            "type": "histogram2dcontour"
           }
          ],
          "mesh3d": [
           {
            "colorbar": {
             "outlinewidth": 0,
             "ticks": ""
            },
            "type": "mesh3d"
           }
          ],
          "parcoords": [
           {
            "line": {
             "colorbar": {
              "outlinewidth": 0,
              "ticks": ""
             }
            },
            "type": "parcoords"
           }
          ],
          "pie": [
           {
            "automargin": true,
            "type": "pie"
           }
          ],
          "scatter": [
           {
            "marker": {
             "colorbar": {
              "outlinewidth": 0,
              "ticks": ""
             }
            },
            "type": "scatter"
           }
          ],
          "scatter3d": [
           {
            "line": {
             "colorbar": {
              "outlinewidth": 0,
              "ticks": ""
             }
            },
            "marker": {
             "colorbar": {
              "outlinewidth": 0,
              "ticks": ""
             }
            },
            "type": "scatter3d"
           }
          ],
          "scattercarpet": [
           {
            "marker": {
             "colorbar": {
              "outlinewidth": 0,
              "ticks": ""
             }
            },
            "type": "scattercarpet"
           }
          ],
          "scattergeo": [
           {
            "marker": {
             "colorbar": {
              "outlinewidth": 0,
              "ticks": ""
             }
            },
            "type": "scattergeo"
           }
          ],
          "scattergl": [
           {
            "marker": {
             "colorbar": {
              "outlinewidth": 0,
              "ticks": ""
             }
            },
            "type": "scattergl"
           }
          ],
          "scattermapbox": [
           {
            "marker": {
             "colorbar": {
              "outlinewidth": 0,
              "ticks": ""
             }
            },
            "type": "scattermapbox"
           }
          ],
          "scatterpolar": [
           {
            "marker": {
             "colorbar": {
              "outlinewidth": 0,
              "ticks": ""
             }
            },
            "type": "scatterpolar"
           }
          ],
          "scatterpolargl": [
           {
            "marker": {
             "colorbar": {
              "outlinewidth": 0,
              "ticks": ""
             }
            },
            "type": "scatterpolargl"
           }
          ],
          "scatterternary": [
           {
            "marker": {
             "colorbar": {
              "outlinewidth": 0,
              "ticks": ""
             }
            },
            "type": "scatterternary"
           }
          ],
          "surface": [
           {
            "colorbar": {
             "outlinewidth": 0,
             "ticks": ""
            },
            "colorscale": [
             [
              0,
              "#0d0887"
             ],
             [
              0.1111111111111111,
              "#46039f"
             ],
             [
              0.2222222222222222,
              "#7201a8"
             ],
             [
              0.3333333333333333,
              "#9c179e"
             ],
             [
              0.4444444444444444,
              "#bd3786"
             ],
             [
              0.5555555555555556,
              "#d8576b"
             ],
             [
              0.6666666666666666,
              "#ed7953"
             ],
             [
              0.7777777777777778,
              "#fb9f3a"
             ],
             [
              0.8888888888888888,
              "#fdca26"
             ],
             [
              1,
              "#f0f921"
             ]
            ],
            "type": "surface"
           }
          ],
          "table": [
           {
            "cells": {
             "fill": {
              "color": "#EBF0F8"
             },
             "line": {
              "color": "white"
             }
            },
            "header": {
             "fill": {
              "color": "#C8D4E3"
             },
             "line": {
              "color": "white"
             }
            },
            "type": "table"
           }
          ]
         },
         "layout": {
          "annotationdefaults": {
           "arrowcolor": "#2a3f5f",
           "arrowhead": 0,
           "arrowwidth": 1
          },
          "coloraxis": {
           "colorbar": {
            "outlinewidth": 0,
            "ticks": ""
           }
          },
          "colorscale": {
           "diverging": [
            [
             0,
             "#8e0152"
            ],
            [
             0.1,
             "#c51b7d"
            ],
            [
             0.2,
             "#de77ae"
            ],
            [
             0.3,
             "#f1b6da"
            ],
            [
             0.4,
             "#fde0ef"
            ],
            [
             0.5,
             "#f7f7f7"
            ],
            [
             0.6,
             "#e6f5d0"
            ],
            [
             0.7,
             "#b8e186"
            ],
            [
             0.8,
             "#7fbc41"
            ],
            [
             0.9,
             "#4d9221"
            ],
            [
             1,
             "#276419"
            ]
           ],
           "sequential": [
            [
             0,
             "#0d0887"
            ],
            [
             0.1111111111111111,
             "#46039f"
            ],
            [
             0.2222222222222222,
             "#7201a8"
            ],
            [
             0.3333333333333333,
             "#9c179e"
            ],
            [
             0.4444444444444444,
             "#bd3786"
            ],
            [
             0.5555555555555556,
             "#d8576b"
            ],
            [
             0.6666666666666666,
             "#ed7953"
            ],
            [
             0.7777777777777778,
             "#fb9f3a"
            ],
            [
             0.8888888888888888,
             "#fdca26"
            ],
            [
             1,
             "#f0f921"
            ]
           ],
           "sequentialminus": [
            [
             0,
             "#0d0887"
            ],
            [
             0.1111111111111111,
             "#46039f"
            ],
            [
             0.2222222222222222,
             "#7201a8"
            ],
            [
             0.3333333333333333,
             "#9c179e"
            ],
            [
             0.4444444444444444,
             "#bd3786"
            ],
            [
             0.5555555555555556,
             "#d8576b"
            ],
            [
             0.6666666666666666,
             "#ed7953"
            ],
            [
             0.7777777777777778,
             "#fb9f3a"
            ],
            [
             0.8888888888888888,
             "#fdca26"
            ],
            [
             1,
             "#f0f921"
            ]
           ]
          },
          "colorway": [
           "#636efa",
           "#EF553B",
           "#00cc96",
           "#ab63fa",
           "#FFA15A",
           "#19d3f3",
           "#FF6692",
           "#B6E880",
           "#FF97FF",
           "#FECB52"
          ],
          "font": {
           "color": "#2a3f5f"
          },
          "geo": {
           "bgcolor": "white",
           "lakecolor": "white",
           "landcolor": "#E5ECF6",
           "showlakes": true,
           "showland": true,
           "subunitcolor": "white"
          },
          "hoverlabel": {
           "align": "left"
          },
          "hovermode": "closest",
          "mapbox": {
           "style": "light"
          },
          "paper_bgcolor": "white",
          "plot_bgcolor": "#E5ECF6",
          "polar": {
           "angularaxis": {
            "gridcolor": "white",
            "linecolor": "white",
            "ticks": ""
           },
           "bgcolor": "#E5ECF6",
           "radialaxis": {
            "gridcolor": "white",
            "linecolor": "white",
            "ticks": ""
           }
          },
          "scene": {
           "xaxis": {
            "backgroundcolor": "#E5ECF6",
            "gridcolor": "white",
            "gridwidth": 2,
            "linecolor": "white",
            "showbackground": true,
            "ticks": "",
            "zerolinecolor": "white"
           },
           "yaxis": {
            "backgroundcolor": "#E5ECF6",
            "gridcolor": "white",
            "gridwidth": 2,
            "linecolor": "white",
            "showbackground": true,
            "ticks": "",
            "zerolinecolor": "white"
           },
           "zaxis": {
            "backgroundcolor": "#E5ECF6",
            "gridcolor": "white",
            "gridwidth": 2,
            "linecolor": "white",
            "showbackground": true,
            "ticks": "",
            "zerolinecolor": "white"
           }
          },
          "shapedefaults": {
           "line": {
            "color": "#2a3f5f"
           }
          },
          "ternary": {
           "aaxis": {
            "gridcolor": "white",
            "linecolor": "white",
            "ticks": ""
           },
           "baxis": {
            "gridcolor": "white",
            "linecolor": "white",
            "ticks": ""
           },
           "bgcolor": "#E5ECF6",
           "caxis": {
            "gridcolor": "white",
            "linecolor": "white",
            "ticks": ""
           }
          },
          "title": {
           "x": 0.05
          },
          "xaxis": {
           "automargin": true,
           "gridcolor": "white",
           "linecolor": "white",
           "ticks": "",
           "title": {
            "standoff": 15
           },
           "zerolinecolor": "white",
           "zerolinewidth": 2
          },
          "yaxis": {
           "automargin": true,
           "gridcolor": "white",
           "linecolor": "white",
           "ticks": "",
           "title": {
            "standoff": 15
           },
           "zerolinecolor": "white",
           "zerolinewidth": 2
          }
         }
        },
        "title": {
         "font": {
          "color": "#4D5663"
         }
        },
        "xaxis": {
         "gridcolor": "#E1E5ED",
         "showgrid": true,
         "tickfont": {
          "color": "#4D5663"
         },
         "title": {
          "font": {
           "color": "#4D5663"
          },
          "text": ""
         },
         "zerolinecolor": "#E1E5ED"
        },
        "yaxis": {
         "gridcolor": "#E1E5ED",
         "showgrid": true,
         "tickfont": {
          "color": "#4D5663"
         },
         "title": {
          "font": {
           "color": "#4D5663"
          },
          "text": ""
         },
         "zerolinecolor": "#E1E5ED"
        }
       }
      },
      "text/html": [
       "<div>\n",
       "        \n",
       "        \n",
       "            <div id=\"23e4ad65-01d1-44d6-b11a-8acc91dab114\" class=\"plotly-graph-div\" style=\"height:525px; width:100%;\"></div>\n",
       "            <script type=\"text/javascript\">\n",
       "                require([\"plotly\"], function(Plotly) {\n",
       "                    window.PLOTLYENV=window.PLOTLYENV || {};\n",
       "                    window.PLOTLYENV.BASE_URL='https://plot.ly';\n",
       "                    \n",
       "                if (document.getElementById(\"23e4ad65-01d1-44d6-b11a-8acc91dab114\")) {\n",
       "                    Plotly.newPlot(\n",
       "                        '23e4ad65-01d1-44d6-b11a-8acc91dab114',\n",
       "                        [{\"marker\": {\"color\": \"rgba(255, 153, 51, 0.6)\", \"line\": {\"color\": \"rgba(255, 153, 51, 1.0)\", \"width\": 1}}, \"name\": \"None\", \"orientation\": \"v\", \"text\": \"\", \"type\": \"bar\", \"x\": [\"A\", \"B\", \"C\", \"D\"], \"y\": [100, 100, 100, 100]}],\n",
       "                        {\"legend\": {\"bgcolor\": \"#F5F6F9\", \"font\": {\"color\": \"#4D5663\"}}, \"paper_bgcolor\": \"#F5F6F9\", \"plot_bgcolor\": \"#F5F6F9\", \"template\": {\"data\": {\"bar\": [{\"error_x\": {\"color\": \"#2a3f5f\"}, \"error_y\": {\"color\": \"#2a3f5f\"}, \"marker\": {\"line\": {\"color\": \"#E5ECF6\", \"width\": 0.5}}, \"type\": \"bar\"}], \"barpolar\": [{\"marker\": {\"line\": {\"color\": \"#E5ECF6\", \"width\": 0.5}}, \"type\": \"barpolar\"}], \"carpet\": [{\"aaxis\": {\"endlinecolor\": \"#2a3f5f\", \"gridcolor\": \"white\", \"linecolor\": \"white\", \"minorgridcolor\": \"white\", \"startlinecolor\": \"#2a3f5f\"}, \"baxis\": {\"endlinecolor\": \"#2a3f5f\", \"gridcolor\": \"white\", \"linecolor\": \"white\", \"minorgridcolor\": \"white\", \"startlinecolor\": \"#2a3f5f\"}, \"type\": \"carpet\"}], \"choropleth\": [{\"colorbar\": {\"outlinewidth\": 0, \"ticks\": \"\"}, \"type\": \"choropleth\"}], \"contour\": [{\"colorbar\": {\"outlinewidth\": 0, \"ticks\": \"\"}, \"colorscale\": [[0.0, \"#0d0887\"], [0.1111111111111111, \"#46039f\"], [0.2222222222222222, \"#7201a8\"], [0.3333333333333333, \"#9c179e\"], [0.4444444444444444, \"#bd3786\"], [0.5555555555555556, \"#d8576b\"], [0.6666666666666666, \"#ed7953\"], [0.7777777777777778, \"#fb9f3a\"], [0.8888888888888888, \"#fdca26\"], [1.0, \"#f0f921\"]], \"type\": \"contour\"}], \"contourcarpet\": [{\"colorbar\": {\"outlinewidth\": 0, \"ticks\": \"\"}, \"type\": \"contourcarpet\"}], \"heatmap\": [{\"colorbar\": {\"outlinewidth\": 0, \"ticks\": \"\"}, \"colorscale\": [[0.0, \"#0d0887\"], [0.1111111111111111, \"#46039f\"], [0.2222222222222222, \"#7201a8\"], [0.3333333333333333, \"#9c179e\"], [0.4444444444444444, \"#bd3786\"], [0.5555555555555556, \"#d8576b\"], [0.6666666666666666, \"#ed7953\"], [0.7777777777777778, \"#fb9f3a\"], [0.8888888888888888, \"#fdca26\"], [1.0, \"#f0f921\"]], \"type\": \"heatmap\"}], \"heatmapgl\": [{\"colorbar\": {\"outlinewidth\": 0, \"ticks\": \"\"}, \"colorscale\": [[0.0, \"#0d0887\"], [0.1111111111111111, \"#46039f\"], [0.2222222222222222, \"#7201a8\"], [0.3333333333333333, \"#9c179e\"], [0.4444444444444444, \"#bd3786\"], [0.5555555555555556, \"#d8576b\"], [0.6666666666666666, \"#ed7953\"], [0.7777777777777778, \"#fb9f3a\"], [0.8888888888888888, \"#fdca26\"], [1.0, \"#f0f921\"]], \"type\": \"heatmapgl\"}], \"histogram\": [{\"marker\": {\"colorbar\": {\"outlinewidth\": 0, \"ticks\": \"\"}}, \"type\": \"histogram\"}], \"histogram2d\": [{\"colorbar\": {\"outlinewidth\": 0, \"ticks\": \"\"}, \"colorscale\": [[0.0, \"#0d0887\"], [0.1111111111111111, \"#46039f\"], [0.2222222222222222, \"#7201a8\"], [0.3333333333333333, \"#9c179e\"], [0.4444444444444444, \"#bd3786\"], [0.5555555555555556, \"#d8576b\"], [0.6666666666666666, \"#ed7953\"], [0.7777777777777778, \"#fb9f3a\"], [0.8888888888888888, \"#fdca26\"], [1.0, \"#f0f921\"]], \"type\": \"histogram2d\"}], \"histogram2dcontour\": [{\"colorbar\": {\"outlinewidth\": 0, \"ticks\": \"\"}, \"colorscale\": [[0.0, \"#0d0887\"], [0.1111111111111111, \"#46039f\"], [0.2222222222222222, \"#7201a8\"], [0.3333333333333333, \"#9c179e\"], [0.4444444444444444, \"#bd3786\"], [0.5555555555555556, \"#d8576b\"], [0.6666666666666666, \"#ed7953\"], [0.7777777777777778, \"#fb9f3a\"], [0.8888888888888888, \"#fdca26\"], [1.0, \"#f0f921\"]], \"type\": \"histogram2dcontour\"}], \"mesh3d\": [{\"colorbar\": {\"outlinewidth\": 0, \"ticks\": \"\"}, \"type\": \"mesh3d\"}], \"parcoords\": [{\"line\": {\"colorbar\": {\"outlinewidth\": 0, \"ticks\": \"\"}}, \"type\": \"parcoords\"}], \"pie\": [{\"automargin\": true, \"type\": \"pie\"}], \"scatter\": [{\"marker\": {\"colorbar\": {\"outlinewidth\": 0, \"ticks\": \"\"}}, \"type\": \"scatter\"}], \"scatter3d\": [{\"line\": {\"colorbar\": {\"outlinewidth\": 0, \"ticks\": \"\"}}, \"marker\": {\"colorbar\": {\"outlinewidth\": 0, \"ticks\": \"\"}}, \"type\": \"scatter3d\"}], \"scattercarpet\": [{\"marker\": {\"colorbar\": {\"outlinewidth\": 0, \"ticks\": \"\"}}, \"type\": \"scattercarpet\"}], \"scattergeo\": [{\"marker\": {\"colorbar\": {\"outlinewidth\": 0, \"ticks\": \"\"}}, \"type\": \"scattergeo\"}], \"scattergl\": [{\"marker\": {\"colorbar\": {\"outlinewidth\": 0, \"ticks\": \"\"}}, \"type\": \"scattergl\"}], \"scattermapbox\": [{\"marker\": {\"colorbar\": {\"outlinewidth\": 0, \"ticks\": \"\"}}, \"type\": \"scattermapbox\"}], \"scatterpolar\": [{\"marker\": {\"colorbar\": {\"outlinewidth\": 0, \"ticks\": \"\"}}, \"type\": \"scatterpolar\"}], \"scatterpolargl\": [{\"marker\": {\"colorbar\": {\"outlinewidth\": 0, \"ticks\": \"\"}}, \"type\": \"scatterpolargl\"}], \"scatterternary\": [{\"marker\": {\"colorbar\": {\"outlinewidth\": 0, \"ticks\": \"\"}}, \"type\": \"scatterternary\"}], \"surface\": [{\"colorbar\": {\"outlinewidth\": 0, \"ticks\": \"\"}, \"colorscale\": [[0.0, \"#0d0887\"], [0.1111111111111111, \"#46039f\"], [0.2222222222222222, \"#7201a8\"], [0.3333333333333333, \"#9c179e\"], [0.4444444444444444, \"#bd3786\"], [0.5555555555555556, \"#d8576b\"], [0.6666666666666666, \"#ed7953\"], [0.7777777777777778, \"#fb9f3a\"], [0.8888888888888888, \"#fdca26\"], [1.0, \"#f0f921\"]], \"type\": \"surface\"}], \"table\": [{\"cells\": {\"fill\": {\"color\": \"#EBF0F8\"}, \"line\": {\"color\": \"white\"}}, \"header\": {\"fill\": {\"color\": \"#C8D4E3\"}, \"line\": {\"color\": \"white\"}}, \"type\": \"table\"}]}, \"layout\": {\"annotationdefaults\": {\"arrowcolor\": \"#2a3f5f\", \"arrowhead\": 0, \"arrowwidth\": 1}, \"coloraxis\": {\"colorbar\": {\"outlinewidth\": 0, \"ticks\": \"\"}}, \"colorscale\": {\"diverging\": [[0, \"#8e0152\"], [0.1, \"#c51b7d\"], [0.2, \"#de77ae\"], [0.3, \"#f1b6da\"], [0.4, \"#fde0ef\"], [0.5, \"#f7f7f7\"], [0.6, \"#e6f5d0\"], [0.7, \"#b8e186\"], [0.8, \"#7fbc41\"], [0.9, \"#4d9221\"], [1, \"#276419\"]], \"sequential\": [[0.0, \"#0d0887\"], [0.1111111111111111, \"#46039f\"], [0.2222222222222222, \"#7201a8\"], [0.3333333333333333, \"#9c179e\"], [0.4444444444444444, \"#bd3786\"], [0.5555555555555556, \"#d8576b\"], [0.6666666666666666, \"#ed7953\"], [0.7777777777777778, \"#fb9f3a\"], [0.8888888888888888, \"#fdca26\"], [1.0, \"#f0f921\"]], \"sequentialminus\": [[0.0, \"#0d0887\"], [0.1111111111111111, \"#46039f\"], [0.2222222222222222, \"#7201a8\"], [0.3333333333333333, \"#9c179e\"], [0.4444444444444444, \"#bd3786\"], [0.5555555555555556, \"#d8576b\"], [0.6666666666666666, \"#ed7953\"], [0.7777777777777778, \"#fb9f3a\"], [0.8888888888888888, \"#fdca26\"], [1.0, \"#f0f921\"]]}, \"colorway\": [\"#636efa\", \"#EF553B\", \"#00cc96\", \"#ab63fa\", \"#FFA15A\", \"#19d3f3\", \"#FF6692\", \"#B6E880\", \"#FF97FF\", \"#FECB52\"], \"font\": {\"color\": \"#2a3f5f\"}, \"geo\": {\"bgcolor\": \"white\", \"lakecolor\": \"white\", \"landcolor\": \"#E5ECF6\", \"showlakes\": true, \"showland\": true, \"subunitcolor\": \"white\"}, \"hoverlabel\": {\"align\": \"left\"}, \"hovermode\": \"closest\", \"mapbox\": {\"style\": \"light\"}, \"paper_bgcolor\": \"white\", \"plot_bgcolor\": \"#E5ECF6\", \"polar\": {\"angularaxis\": {\"gridcolor\": \"white\", \"linecolor\": \"white\", \"ticks\": \"\"}, \"bgcolor\": \"#E5ECF6\", \"radialaxis\": {\"gridcolor\": \"white\", \"linecolor\": \"white\", \"ticks\": \"\"}}, \"scene\": {\"xaxis\": {\"backgroundcolor\": \"#E5ECF6\", \"gridcolor\": \"white\", \"gridwidth\": 2, \"linecolor\": \"white\", \"showbackground\": true, \"ticks\": \"\", \"zerolinecolor\": \"white\"}, \"yaxis\": {\"backgroundcolor\": \"#E5ECF6\", \"gridcolor\": \"white\", \"gridwidth\": 2, \"linecolor\": \"white\", \"showbackground\": true, \"ticks\": \"\", \"zerolinecolor\": \"white\"}, \"zaxis\": {\"backgroundcolor\": \"#E5ECF6\", \"gridcolor\": \"white\", \"gridwidth\": 2, \"linecolor\": \"white\", \"showbackground\": true, \"ticks\": \"\", \"zerolinecolor\": \"white\"}}, \"shapedefaults\": {\"line\": {\"color\": \"#2a3f5f\"}}, \"ternary\": {\"aaxis\": {\"gridcolor\": \"white\", \"linecolor\": \"white\", \"ticks\": \"\"}, \"baxis\": {\"gridcolor\": \"white\", \"linecolor\": \"white\", \"ticks\": \"\"}, \"bgcolor\": \"#E5ECF6\", \"caxis\": {\"gridcolor\": \"white\", \"linecolor\": \"white\", \"ticks\": \"\"}}, \"title\": {\"x\": 0.05}, \"xaxis\": {\"automargin\": true, \"gridcolor\": \"white\", \"linecolor\": \"white\", \"ticks\": \"\", \"title\": {\"standoff\": 15}, \"zerolinecolor\": \"white\", \"zerolinewidth\": 2}, \"yaxis\": {\"automargin\": true, \"gridcolor\": \"white\", \"linecolor\": \"white\", \"ticks\": \"\", \"title\": {\"standoff\": 15}, \"zerolinecolor\": \"white\", \"zerolinewidth\": 2}}}, \"title\": {\"font\": {\"color\": \"#4D5663\"}}, \"xaxis\": {\"gridcolor\": \"#E1E5ED\", \"showgrid\": true, \"tickfont\": {\"color\": \"#4D5663\"}, \"title\": {\"font\": {\"color\": \"#4D5663\"}, \"text\": \"\"}, \"zerolinecolor\": \"#E1E5ED\"}, \"yaxis\": {\"gridcolor\": \"#E1E5ED\", \"showgrid\": true, \"tickfont\": {\"color\": \"#4D5663\"}, \"title\": {\"font\": {\"color\": \"#4D5663\"}, \"text\": \"\"}, \"zerolinecolor\": \"#E1E5ED\"}},\n",
       "                        {\"showLink\": true, \"linkText\": \"Export to plot.ly\", \"plotlyServerURL\": \"https://plot.ly\", \"responsive\": true}\n",
       "                    ).then(function(){\n",
       "                            \n",
       "var gd = document.getElementById('23e4ad65-01d1-44d6-b11a-8acc91dab114');\n",
       "var x = new MutationObserver(function (mutations, observer) {{\n",
       "        var display = window.getComputedStyle(gd).display;\n",
       "        if (!display || display === 'none') {{\n",
       "            console.log([gd, 'removed!']);\n",
       "            Plotly.purge(gd);\n",
       "            observer.disconnect();\n",
       "        }}\n",
       "}});\n",
       "\n",
       "// Listen for the removal of the full notebook cells\n",
       "var notebookContainer = gd.closest('#notebook-container');\n",
       "if (notebookContainer) {{\n",
       "    x.observe(notebookContainer, {childList: true});\n",
       "}}\n",
       "\n",
       "// Listen for the clearing of the current output cell\n",
       "var outputEl = gd.closest('.output');\n",
       "if (outputEl) {{\n",
       "    x.observe(outputEl, {childList: true});\n",
       "}}\n",
       "\n",
       "                        })\n",
       "                };\n",
       "                });\n",
       "            </script>\n",
       "        </div>"
      ]
     },
     "metadata": {},
     "output_type": "display_data"
    }
   ],
   "source": [
    "df.count().iplot(kind='bar')"
   ]
  },
  {
   "cell_type": "markdown",
   "metadata": {},
   "source": [
    "## Boxplots"
   ]
  },
  {
   "cell_type": "code",
   "execution_count": 13,
   "metadata": {},
   "outputs": [
    {
     "data": {
      "application/vnd.plotly.v1+json": {
       "config": {
        "linkText": "Export to plot.ly",
        "plotlyServerURL": "https://plot.ly",
        "showLink": true
       },
       "data": [
        {
         "boxpoints": false,
         "line": {
          "width": 1.3
         },
         "marker": {
          "color": "rgba(255, 153, 51, 1.0)"
         },
         "name": "A",
         "orientation": "v",
         "type": "box",
         "y": [
          0.5381855285673716,
          0.5071020305201216,
          0.4389237509487635,
          -0.6247998973105497,
          -0.32856245582140214,
          -0.5549132814916047,
          0.5059612828729726,
          -3.197502476482795,
          -0.20387507115536785,
          0.3459015762781,
          -0.2031519933742461,
          -1.4270667976720735,
          0.12125644113873606,
          -0.041134446239839334,
          0.09942498996999705,
          -0.6716409332021634,
          0.8054591919418969,
          1.6284504463712235,
          -1.0686571236688256,
          -0.6820570283090134,
          1.0601779267043576,
          -0.8874271184205513,
          -0.23584503326298303,
          -1.3723947795930347,
          -0.5272892633343157,
          -0.6442561046802101,
          -1.2512104607334211,
          -0.09174351149493501,
          0.9306815990203132,
          -0.467294899249402,
          0.018392476702123038,
          -1.700457788639387,
          -0.26741137780144897,
          -0.7421803421304896,
          -0.14671882870501557,
          -1.6275386920455386,
          -0.45338390016622215,
          -2.0071863672670602,
          0.1963189215463607,
          -1.4777986997953716,
          -2.1576217433969695,
          -0.7856668199645755,
          -1.2338432754092326,
          1.399825272513358,
          -1.0091689439017615,
          0.09028738823377347,
          -1.5408250419456964,
          0.0990984258625075,
          -0.4343856232182664,
          -1.537700800793354,
          -0.072884287636136,
          -1.0730149201477526,
          1.8456685132367332,
          0.7476570177073996,
          -1.0485473399110965,
          -0.6900292790057106,
          -0.2208261440483984,
          0.2686957612752167,
          -0.22816861670514565,
          0.7311199936618888,
          0.41812057329918606,
          1.0887363338922411,
          -0.3964498621702017,
          0.47286766096396265,
          -0.6027452918287854,
          0.7025165133369287,
          1.4569049926648543,
          0.9999577792691502,
          -1.2811979563182043,
          2.0804623137829674,
          1.539255595278702,
          0.4440631488297732,
          -1.5619867791736421,
          -0.31583137533287053,
          0.3250311620824069,
          -0.4222090529096985,
          1.7248048718981919,
          0.5322881033597029,
          -0.3313064131205352,
          -1.2259399680760918,
          -0.6630691986600332,
          0.043184530012049985,
          1.5981295317194895,
          -1.3508876092805546,
          1.0726560999357118,
          0.3672953794565466,
          -0.4116672934579571,
          0.47793618707943125,
          -1.0741938940368256,
          -0.7194551581808123,
          0.9656653652456971,
          -0.1998839148187243,
          1.1064616751011012,
          -0.3642037624025107,
          0.8254311216681306,
          0.7851611444731269,
          -0.8309895524553557,
          0.44985792521595347,
          1.695413609917251,
          -0.15895796721118688
         ]
        },
        {
         "boxpoints": false,
         "line": {
          "width": 1.3
         },
         "marker": {
          "color": "rgba(55, 128, 191, 1.0)"
         },
         "name": "B",
         "orientation": "v",
         "type": "box",
         "y": [
          0.6301674583573214,
          -1.561675696183232,
          0.6365258247311377,
          -0.22324860617551084,
          -1.6736946321158042,
          -0.15927706452952708,
          0.36989298593237285,
          1.3085200046585113,
          0.7159183818614192,
          1.4170368007607066,
          -0.8484128249213295,
          0.24290160075968745,
          1.0795918353343301,
          -0.8157998727705896,
          -0.7184505150668109,
          -0.11568818097186227,
          -1.2901791636364424,
          0.8400081678160328,
          -0.6676702261888512,
          -1.011257076667859,
          -0.6892287441692668,
          -0.23102459810075973,
          -0.21170064669943212,
          -0.20028233251560987,
          -1.078408181836114,
          1.462130966067993,
          -0.17927997159447678,
          -0.13052020849949877,
          0.4682168592110732,
          -1.5877343509461137,
          -0.6710951925528772,
          0.05576752593607448,
          0.5362381928866289,
          -0.34225661814037467,
          0.581933321085821,
          0.3947906536929084,
          0.01940690313621235,
          -0.2163038164030735,
          -1.4955367906604886,
          0.23791928037571633,
          -1.0977453084165723,
          0.5335144230984808,
          2.0993808494993873,
          -0.49490813917873455,
          0.3941349794262045,
          -0.3772928341008689,
          1.3048292635035965,
          -0.46672612038687655,
          -1.120489037175442,
          1.9940005382078847,
          0.20060951912701863,
          0.57128240835606,
          0.7145821222961338,
          1.4105370810949298,
          0.4049315688775944,
          0.8458061881151208,
          -0.7609317914602187,
          -1.6481370061848084,
          -0.8873946431515575,
          -1.0683226547519797,
          -0.5316480238934537,
          0.03361078302762433,
          -1.0363017034596884,
          0.658821017661889,
          -1.0755800129807123,
          0.9911979331699334,
          0.5361321263657128,
          0.988419798692416,
          -1.6384158410384904,
          -0.054614895140455734,
          -1.489486347353061,
          1.0573670070827268,
          -0.005366874743519029,
          -1.5582928434235677,
          1.3867439202182168,
          0.27510525110981254,
          -0.0661353713844357,
          0.4527693556244209,
          0.39889118623618947,
          1.3379470102985798,
          -0.9202241393884216,
          -0.7964312895565369,
          -0.6412882079248059,
          -0.7646490980947728,
          0.7922507978202409,
          -0.24143865713923998,
          0.6883199050793065,
          -0.44232087555933497,
          -0.46421476004079404,
          0.14348851689963255,
          -0.8266849594361187,
          -0.1976183507463993,
          1.1679312356869895,
          0.5426240028902773,
          -0.2893004673286161,
          0.6621600474085508,
          -1.2471603427386846,
          1.0389478529243041,
          -0.048911234267454785,
          0.2695699427674912
         ]
        },
        {
         "boxpoints": false,
         "line": {
          "width": 1.3
         },
         "marker": {
          "color": "rgba(50, 171, 96, 1.0)"
         },
         "name": "C",
         "orientation": "v",
         "type": "box",
         "y": [
          0.14506602511110148,
          -1.5350919477293514,
          -1.0564402955132137,
          -0.05366494973768762,
          -0.23532988259206,
          -0.06376402718449821,
          -0.3875871855539246,
          0.8889575112108654,
          -0.13230820292205872,
          -2.0768634529698575,
          0.8542654948565908,
          1.2591016290832808,
          0.055577214025398176,
          -1.5765266719500757,
          -0.07478080507591517,
          0.2986412469044207,
          -1.3865605376242653,
          -0.016753943949769947,
          1.536663931660215,
          -0.6478224006291703,
          -0.16944154867726552,
          -1.1912068331424026,
          -0.25680339372019473,
          0.4328630823987023,
          0.2722018160160951,
          -1.8520769036337186,
          -0.6375092932830504,
          -0.7955321290045767,
          -0.2148903750252082,
          0.5512614435268286,
          -0.4945659313053846,
          0.08927834189774887,
          -0.6555629714503787,
          -0.034297214996859844,
          1.3660523369049575,
          -0.2817361408288066,
          1.0632680641405627,
          0.28519020076291474,
          0.9352797650105166,
          0.48464803701997045,
          -1.4955528878230095,
          0.8348329474048144,
          0.9399305899605457,
          -1.3110079910772554,
          1.493664781975507,
          1.2378021641540384,
          -0.21476879517302902,
          -0.8684227613476898,
          2.379866832779196,
          0.6762504445379166,
          0.8153938463135066,
          -0.1874834666679136,
          -2.025887068164461,
          -0.23134055717521698,
          0.07379616021762368,
          -0.6801295155135376,
          2.723554612014531,
          -0.4166641061429242,
          -1.3711175028185112,
          -2.359727194601706,
          0.484914994727327,
          1.524158497592488,
          0.47027700405519596,
          1.4867724397113453,
          0.886753300712882,
          0.029158549039998746,
          -1.029575837223082,
          0.9314113396487392,
          0.052769031942404745,
          0.13338582615104563,
          0.8154145282993461,
          0.10710573411611993,
          0.3373752330790277,
          -0.5195165045736313,
          0.4427477157651256,
          0.6133730181764102,
          0.7512150936281655,
          -0.29974210812375635,
          0.605387491159014,
          0.449995135705989,
          0.21758041876843912,
          1.8620559687106546,
          -1.1183313706292377,
          1.0529824703212414,
          -0.3854369014622324,
          0.5553255899132032,
          -1.470004515987508,
          1.4703361223721525,
          2.6746366151907006,
          0.9702882982673493,
          -0.9803198964664515,
          -0.2542258021756626,
          -1.1776697118204689,
          0.3751877356390631,
          0.14435315708568935,
          -0.10729659569820357,
          -1.8318945960270736,
          0.41992730267581446,
          1.2596641865449796,
          1.10186947308976
         ]
        },
        {
         "boxpoints": false,
         "line": {
          "width": 1.3
         },
         "marker": {
          "color": "rgba(128, 0, 128, 1.0)"
         },
         "name": "D",
         "orientation": "v",
         "type": "box",
         "y": [
          2.050228155950427,
          -0.9590933400376149,
          -0.9022858940930771,
          -0.11245842772250299,
          -1.0379068828010054,
          0.34119877607034343,
          0.5667815384910767,
          -2.449915367431319,
          -0.6881195751990852,
          -0.4467084029103725,
          0.27233802571608334,
          0.9056722440606502,
          -2.4447262252508795,
          0.0016958510905633656,
          0.20714654897958837,
          -0.41331614803786604,
          1.453483440745612,
          0.6004098821605295,
          0.5069983878181352,
          -0.4892238260046472,
          0.30640967261840896,
          1.6408154921615061,
          0.6884152849973099,
          0.13027743145046594,
          -0.36403729362953186,
          -0.5023434212713528,
          -0.5220640506021428,
          0.11156329863109098,
          -0.06330919038657584,
          -0.05735058436595994,
          -0.4695934678133395,
          0.8923475645817046,
          0.8962584268478865,
          0.10264098688007241,
          -1.0138199721942345,
          0.03403677016801545,
          -1.2010673729625618,
          0.19554483632945618,
          0.78805709911097,
          0.29019857295086493,
          -1.574182450906617,
          1.0381859046735737,
          0.8422589849955819,
          -2.3701248365015197,
          1.0141153134288146,
          -2.2257729556872787,
          0.21958637495155045,
          0.8402614669134792,
          -2.4546019828650265,
          -0.4414196818536903,
          1.0470366257844936,
          -0.291738407197531,
          0.09930521623561693,
          0.03280369665492429,
          0.2228425094865553,
          -0.745494399913448,
          -1.1941154537874168,
          -0.0451813391166685,
          0.8564239459664448,
          -0.6195190541176119,
          0.4745602160619311,
          -0.6930746040422452,
          -1.3259836114544394,
          -0.015511187299125338,
          0.2200495973166145,
          2.8335206353490654,
          0.2210756024053435,
          0.1540311463037094,
          -1.5183911631483025,
          -2.232764001133131,
          -0.38035632475981773,
          -0.09141441406298612,
          -0.009350774221741225,
          -0.4530101873757683,
          0.7063108905074421,
          -1.297568021769972,
          -0.02059585283770215,
          0.6770796689310324,
          -0.49556153953140136,
          -2.090473213546201,
          0.37212669067377463,
          1.210290247335541,
          0.488565871663984,
          0.040795188878717185,
          -0.7574521159414243,
          0.9636605831858774,
          0.23073541530629288,
          -0.6483525230354428,
          0.2090513911515964,
          1.0233827275838547,
          -0.07074530883416033,
          0.779362420122101,
          -1.1713821437481107,
          1.6947331941675083,
          1.0449557884171017,
          0.7338766144330973,
          2.715466510306024,
          -0.2811212457762603,
          -0.06702146929721933,
          -1.8332739731995036
         ]
        }
       ],
       "layout": {
        "legend": {
         "bgcolor": "#F5F6F9",
         "font": {
          "color": "#4D5663"
         }
        },
        "paper_bgcolor": "#F5F6F9",
        "plot_bgcolor": "#F5F6F9",
        "template": {
         "data": {
          "bar": [
           {
            "error_x": {
             "color": "#2a3f5f"
            },
            "error_y": {
             "color": "#2a3f5f"
            },
            "marker": {
             "line": {
              "color": "#E5ECF6",
              "width": 0.5
             }
            },
            "type": "bar"
           }
          ],
          "barpolar": [
           {
            "marker": {
             "line": {
              "color": "#E5ECF6",
              "width": 0.5
             }
            },
            "type": "barpolar"
           }
          ],
          "carpet": [
           {
            "aaxis": {
             "endlinecolor": "#2a3f5f",
             "gridcolor": "white",
             "linecolor": "white",
             "minorgridcolor": "white",
             "startlinecolor": "#2a3f5f"
            },
            "baxis": {
             "endlinecolor": "#2a3f5f",
             "gridcolor": "white",
             "linecolor": "white",
             "minorgridcolor": "white",
             "startlinecolor": "#2a3f5f"
            },
            "type": "carpet"
           }
          ],
          "choropleth": [
           {
            "colorbar": {
             "outlinewidth": 0,
             "ticks": ""
            },
            "type": "choropleth"
           }
          ],
          "contour": [
           {
            "colorbar": {
             "outlinewidth": 0,
             "ticks": ""
            },
            "colorscale": [
             [
              0,
              "#0d0887"
             ],
             [
              0.1111111111111111,
              "#46039f"
             ],
             [
              0.2222222222222222,
              "#7201a8"
             ],
             [
              0.3333333333333333,
              "#9c179e"
             ],
             [
              0.4444444444444444,
              "#bd3786"
             ],
             [
              0.5555555555555556,
              "#d8576b"
             ],
             [
              0.6666666666666666,
              "#ed7953"
             ],
             [
              0.7777777777777778,
              "#fb9f3a"
             ],
             [
              0.8888888888888888,
              "#fdca26"
             ],
             [
              1,
              "#f0f921"
             ]
            ],
            "type": "contour"
           }
          ],
          "contourcarpet": [
           {
            "colorbar": {
             "outlinewidth": 0,
             "ticks": ""
            },
            "type": "contourcarpet"
           }
          ],
          "heatmap": [
           {
            "colorbar": {
             "outlinewidth": 0,
             "ticks": ""
            },
            "colorscale": [
             [
              0,
              "#0d0887"
             ],
             [
              0.1111111111111111,
              "#46039f"
             ],
             [
              0.2222222222222222,
              "#7201a8"
             ],
             [
              0.3333333333333333,
              "#9c179e"
             ],
             [
              0.4444444444444444,
              "#bd3786"
             ],
             [
              0.5555555555555556,
              "#d8576b"
             ],
             [
              0.6666666666666666,
              "#ed7953"
             ],
             [
              0.7777777777777778,
              "#fb9f3a"
             ],
             [
              0.8888888888888888,
              "#fdca26"
             ],
             [
              1,
              "#f0f921"
             ]
            ],
            "type": "heatmap"
           }
          ],
          "heatmapgl": [
           {
            "colorbar": {
             "outlinewidth": 0,
             "ticks": ""
            },
            "colorscale": [
             [
              0,
              "#0d0887"
             ],
             [
              0.1111111111111111,
              "#46039f"
             ],
             [
              0.2222222222222222,
              "#7201a8"
             ],
             [
              0.3333333333333333,
              "#9c179e"
             ],
             [
              0.4444444444444444,
              "#bd3786"
             ],
             [
              0.5555555555555556,
              "#d8576b"
             ],
             [
              0.6666666666666666,
              "#ed7953"
             ],
             [
              0.7777777777777778,
              "#fb9f3a"
             ],
             [
              0.8888888888888888,
              "#fdca26"
             ],
             [
              1,
              "#f0f921"
             ]
            ],
            "type": "heatmapgl"
           }
          ],
          "histogram": [
           {
            "marker": {
             "colorbar": {
              "outlinewidth": 0,
              "ticks": ""
             }
            },
            "type": "histogram"
           }
          ],
          "histogram2d": [
           {
            "colorbar": {
             "outlinewidth": 0,
             "ticks": ""
            },
            "colorscale": [
             [
              0,
              "#0d0887"
             ],
             [
              0.1111111111111111,
              "#46039f"
             ],
             [
              0.2222222222222222,
              "#7201a8"
             ],
             [
              0.3333333333333333,
              "#9c179e"
             ],
             [
              0.4444444444444444,
              "#bd3786"
             ],
             [
              0.5555555555555556,
              "#d8576b"
             ],
             [
              0.6666666666666666,
              "#ed7953"
             ],
             [
              0.7777777777777778,
              "#fb9f3a"
             ],
             [
              0.8888888888888888,
              "#fdca26"
             ],
             [
              1,
              "#f0f921"
             ]
            ],
            "type": "histogram2d"
           }
          ],
          "histogram2dcontour": [
           {
            "colorbar": {
             "outlinewidth": 0,
             "ticks": ""
            },
            "colorscale": [
             [
              0,
              "#0d0887"
             ],
             [
              0.1111111111111111,
              "#46039f"
             ],
             [
              0.2222222222222222,
              "#7201a8"
             ],
             [
              0.3333333333333333,
              "#9c179e"
             ],
             [
              0.4444444444444444,
              "#bd3786"
             ],
             [
              0.5555555555555556,
              "#d8576b"
             ],
             [
              0.6666666666666666,
              "#ed7953"
             ],
             [
              0.7777777777777778,
              "#fb9f3a"
             ],
             [
              0.8888888888888888,
              "#fdca26"
             ],
             [
              1,
              "#f0f921"
             ]
            ],
            "type": "histogram2dcontour"
           }
          ],
          "mesh3d": [
           {
            "colorbar": {
             "outlinewidth": 0,
             "ticks": ""
            },
            "type": "mesh3d"
           }
          ],
          "parcoords": [
           {
            "line": {
             "colorbar": {
              "outlinewidth": 0,
              "ticks": ""
             }
            },
            "type": "parcoords"
           }
          ],
          "pie": [
           {
            "automargin": true,
            "type": "pie"
           }
          ],
          "scatter": [
           {
            "marker": {
             "colorbar": {
              "outlinewidth": 0,
              "ticks": ""
             }
            },
            "type": "scatter"
           }
          ],
          "scatter3d": [
           {
            "line": {
             "colorbar": {
              "outlinewidth": 0,
              "ticks": ""
             }
            },
            "marker": {
             "colorbar": {
              "outlinewidth": 0,
              "ticks": ""
             }
            },
            "type": "scatter3d"
           }
          ],
          "scattercarpet": [
           {
            "marker": {
             "colorbar": {
              "outlinewidth": 0,
              "ticks": ""
             }
            },
            "type": "scattercarpet"
           }
          ],
          "scattergeo": [
           {
            "marker": {
             "colorbar": {
              "outlinewidth": 0,
              "ticks": ""
             }
            },
            "type": "scattergeo"
           }
          ],
          "scattergl": [
           {
            "marker": {
             "colorbar": {
              "outlinewidth": 0,
              "ticks": ""
             }
            },
            "type": "scattergl"
           }
          ],
          "scattermapbox": [
           {
            "marker": {
             "colorbar": {
              "outlinewidth": 0,
              "ticks": ""
             }
            },
            "type": "scattermapbox"
           }
          ],
          "scatterpolar": [
           {
            "marker": {
             "colorbar": {
              "outlinewidth": 0,
              "ticks": ""
             }
            },
            "type": "scatterpolar"
           }
          ],
          "scatterpolargl": [
           {
            "marker": {
             "colorbar": {
              "outlinewidth": 0,
              "ticks": ""
             }
            },
            "type": "scatterpolargl"
           }
          ],
          "scatterternary": [
           {
            "marker": {
             "colorbar": {
              "outlinewidth": 0,
              "ticks": ""
             }
            },
            "type": "scatterternary"
           }
          ],
          "surface": [
           {
            "colorbar": {
             "outlinewidth": 0,
             "ticks": ""
            },
            "colorscale": [
             [
              0,
              "#0d0887"
             ],
             [
              0.1111111111111111,
              "#46039f"
             ],
             [
              0.2222222222222222,
              "#7201a8"
             ],
             [
              0.3333333333333333,
              "#9c179e"
             ],
             [
              0.4444444444444444,
              "#bd3786"
             ],
             [
              0.5555555555555556,
              "#d8576b"
             ],
             [
              0.6666666666666666,
              "#ed7953"
             ],
             [
              0.7777777777777778,
              "#fb9f3a"
             ],
             [
              0.8888888888888888,
              "#fdca26"
             ],
             [
              1,
              "#f0f921"
             ]
            ],
            "type": "surface"
           }
          ],
          "table": [
           {
            "cells": {
             "fill": {
              "color": "#EBF0F8"
             },
             "line": {
              "color": "white"
             }
            },
            "header": {
             "fill": {
              "color": "#C8D4E3"
             },
             "line": {
              "color": "white"
             }
            },
            "type": "table"
           }
          ]
         },
         "layout": {
          "annotationdefaults": {
           "arrowcolor": "#2a3f5f",
           "arrowhead": 0,
           "arrowwidth": 1
          },
          "coloraxis": {
           "colorbar": {
            "outlinewidth": 0,
            "ticks": ""
           }
          },
          "colorscale": {
           "diverging": [
            [
             0,
             "#8e0152"
            ],
            [
             0.1,
             "#c51b7d"
            ],
            [
             0.2,
             "#de77ae"
            ],
            [
             0.3,
             "#f1b6da"
            ],
            [
             0.4,
             "#fde0ef"
            ],
            [
             0.5,
             "#f7f7f7"
            ],
            [
             0.6,
             "#e6f5d0"
            ],
            [
             0.7,
             "#b8e186"
            ],
            [
             0.8,
             "#7fbc41"
            ],
            [
             0.9,
             "#4d9221"
            ],
            [
             1,
             "#276419"
            ]
           ],
           "sequential": [
            [
             0,
             "#0d0887"
            ],
            [
             0.1111111111111111,
             "#46039f"
            ],
            [
             0.2222222222222222,
             "#7201a8"
            ],
            [
             0.3333333333333333,
             "#9c179e"
            ],
            [
             0.4444444444444444,
             "#bd3786"
            ],
            [
             0.5555555555555556,
             "#d8576b"
            ],
            [
             0.6666666666666666,
             "#ed7953"
            ],
            [
             0.7777777777777778,
             "#fb9f3a"
            ],
            [
             0.8888888888888888,
             "#fdca26"
            ],
            [
             1,
             "#f0f921"
            ]
           ],
           "sequentialminus": [
            [
             0,
             "#0d0887"
            ],
            [
             0.1111111111111111,
             "#46039f"
            ],
            [
             0.2222222222222222,
             "#7201a8"
            ],
            [
             0.3333333333333333,
             "#9c179e"
            ],
            [
             0.4444444444444444,
             "#bd3786"
            ],
            [
             0.5555555555555556,
             "#d8576b"
            ],
            [
             0.6666666666666666,
             "#ed7953"
            ],
            [
             0.7777777777777778,
             "#fb9f3a"
            ],
            [
             0.8888888888888888,
             "#fdca26"
            ],
            [
             1,
             "#f0f921"
            ]
           ]
          },
          "colorway": [
           "#636efa",
           "#EF553B",
           "#00cc96",
           "#ab63fa",
           "#FFA15A",
           "#19d3f3",
           "#FF6692",
           "#B6E880",
           "#FF97FF",
           "#FECB52"
          ],
          "font": {
           "color": "#2a3f5f"
          },
          "geo": {
           "bgcolor": "white",
           "lakecolor": "white",
           "landcolor": "#E5ECF6",
           "showlakes": true,
           "showland": true,
           "subunitcolor": "white"
          },
          "hoverlabel": {
           "align": "left"
          },
          "hovermode": "closest",
          "mapbox": {
           "style": "light"
          },
          "paper_bgcolor": "white",
          "plot_bgcolor": "#E5ECF6",
          "polar": {
           "angularaxis": {
            "gridcolor": "white",
            "linecolor": "white",
            "ticks": ""
           },
           "bgcolor": "#E5ECF6",
           "radialaxis": {
            "gridcolor": "white",
            "linecolor": "white",
            "ticks": ""
           }
          },
          "scene": {
           "xaxis": {
            "backgroundcolor": "#E5ECF6",
            "gridcolor": "white",
            "gridwidth": 2,
            "linecolor": "white",
            "showbackground": true,
            "ticks": "",
            "zerolinecolor": "white"
           },
           "yaxis": {
            "backgroundcolor": "#E5ECF6",
            "gridcolor": "white",
            "gridwidth": 2,
            "linecolor": "white",
            "showbackground": true,
            "ticks": "",
            "zerolinecolor": "white"
           },
           "zaxis": {
            "backgroundcolor": "#E5ECF6",
            "gridcolor": "white",
            "gridwidth": 2,
            "linecolor": "white",
            "showbackground": true,
            "ticks": "",
            "zerolinecolor": "white"
           }
          },
          "shapedefaults": {
           "line": {
            "color": "#2a3f5f"
           }
          },
          "ternary": {
           "aaxis": {
            "gridcolor": "white",
            "linecolor": "white",
            "ticks": ""
           },
           "baxis": {
            "gridcolor": "white",
            "linecolor": "white",
            "ticks": ""
           },
           "bgcolor": "#E5ECF6",
           "caxis": {
            "gridcolor": "white",
            "linecolor": "white",
            "ticks": ""
           }
          },
          "title": {
           "x": 0.05
          },
          "xaxis": {
           "automargin": true,
           "gridcolor": "white",
           "linecolor": "white",
           "ticks": "",
           "title": {
            "standoff": 15
           },
           "zerolinecolor": "white",
           "zerolinewidth": 2
          },
          "yaxis": {
           "automargin": true,
           "gridcolor": "white",
           "linecolor": "white",
           "ticks": "",
           "title": {
            "standoff": 15
           },
           "zerolinecolor": "white",
           "zerolinewidth": 2
          }
         }
        },
        "title": {
         "font": {
          "color": "#4D5663"
         }
        },
        "xaxis": {
         "gridcolor": "#E1E5ED",
         "showgrid": true,
         "tickfont": {
          "color": "#4D5663"
         },
         "title": {
          "font": {
           "color": "#4D5663"
          },
          "text": ""
         },
         "zerolinecolor": "#E1E5ED"
        },
        "yaxis": {
         "gridcolor": "#E1E5ED",
         "showgrid": true,
         "tickfont": {
          "color": "#4D5663"
         },
         "title": {
          "font": {
           "color": "#4D5663"
          },
          "text": ""
         },
         "zerolinecolor": "#E1E5ED"
        }
       }
      },
      "text/html": [
       "<div>\n",
       "        \n",
       "        \n",
       "            <div id=\"1262c24a-7453-45ac-9d5e-23f9ff8555b3\" class=\"plotly-graph-div\" style=\"height:525px; width:100%;\"></div>\n",
       "            <script type=\"text/javascript\">\n",
       "                require([\"plotly\"], function(Plotly) {\n",
       "                    window.PLOTLYENV=window.PLOTLYENV || {};\n",
       "                    window.PLOTLYENV.BASE_URL='https://plot.ly';\n",
       "                    \n",
       "                if (document.getElementById(\"1262c24a-7453-45ac-9d5e-23f9ff8555b3\")) {\n",
       "                    Plotly.newPlot(\n",
       "                        '1262c24a-7453-45ac-9d5e-23f9ff8555b3',\n",
       "                        [{\"boxpoints\": false, \"line\": {\"width\": 1.3}, \"marker\": {\"color\": \"rgba(255, 153, 51, 1.0)\"}, \"name\": \"A\", \"orientation\": \"v\", \"type\": \"box\", \"y\": [0.5381855285673716, 0.5071020305201216, 0.4389237509487635, -0.6247998973105497, -0.32856245582140214, -0.5549132814916047, 0.5059612828729726, -3.197502476482795, -0.20387507115536785, 0.3459015762781, -0.2031519933742461, -1.4270667976720735, 0.12125644113873606, -0.041134446239839334, 0.09942498996999705, -0.6716409332021634, 0.8054591919418969, 1.6284504463712235, -1.0686571236688256, -0.6820570283090134, 1.0601779267043576, -0.8874271184205513, -0.23584503326298303, -1.3723947795930347, -0.5272892633343157, -0.6442561046802101, -1.2512104607334211, -0.09174351149493501, 0.9306815990203132, -0.467294899249402, 0.018392476702123038, -1.700457788639387, -0.26741137780144897, -0.7421803421304896, -0.14671882870501557, -1.6275386920455386, -0.45338390016622215, -2.0071863672670602, 0.1963189215463607, -1.4777986997953716, -2.1576217433969695, -0.7856668199645755, -1.2338432754092326, 1.399825272513358, -1.0091689439017615, 0.09028738823377347, -1.5408250419456964, 0.0990984258625075, -0.4343856232182664, -1.537700800793354, -0.072884287636136, -1.0730149201477526, 1.8456685132367332, 0.7476570177073996, -1.0485473399110965, -0.6900292790057106, -0.2208261440483984, 0.2686957612752167, -0.22816861670514565, 0.7311199936618888, 0.41812057329918606, 1.0887363338922411, -0.3964498621702017, 0.47286766096396265, -0.6027452918287854, 0.7025165133369287, 1.4569049926648543, 0.9999577792691502, -1.2811979563182043, 2.0804623137829674, 1.539255595278702, 0.4440631488297732, -1.5619867791736421, -0.31583137533287053, 0.3250311620824069, -0.4222090529096985, 1.7248048718981919, 0.5322881033597029, -0.3313064131205352, -1.2259399680760918, -0.6630691986600332, 0.043184530012049985, 1.5981295317194895, -1.3508876092805546, 1.0726560999357118, 0.3672953794565466, -0.4116672934579571, 0.47793618707943125, -1.0741938940368256, -0.7194551581808123, 0.9656653652456971, -0.1998839148187243, 1.1064616751011012, -0.3642037624025107, 0.8254311216681306, 0.7851611444731269, -0.8309895524553557, 0.44985792521595347, 1.695413609917251, -0.15895796721118688]}, {\"boxpoints\": false, \"line\": {\"width\": 1.3}, \"marker\": {\"color\": \"rgba(55, 128, 191, 1.0)\"}, \"name\": \"B\", \"orientation\": \"v\", \"type\": \"box\", \"y\": [0.6301674583573214, -1.561675696183232, 0.6365258247311377, -0.22324860617551084, -1.6736946321158042, -0.15927706452952708, 0.36989298593237285, 1.3085200046585113, 0.7159183818614192, 1.4170368007607066, -0.8484128249213295, 0.24290160075968745, 1.0795918353343301, -0.8157998727705896, -0.7184505150668109, -0.11568818097186227, -1.2901791636364424, 0.8400081678160328, -0.6676702261888512, -1.011257076667859, -0.6892287441692668, -0.23102459810075973, -0.21170064669943212, -0.20028233251560987, -1.078408181836114, 1.462130966067993, -0.17927997159447678, -0.13052020849949877, 0.4682168592110732, -1.5877343509461137, -0.6710951925528772, 0.05576752593607448, 0.5362381928866289, -0.34225661814037467, 0.581933321085821, 0.3947906536929084, 0.01940690313621235, -0.2163038164030735, -1.4955367906604886, 0.23791928037571633, -1.0977453084165723, 0.5335144230984808, 2.0993808494993873, -0.49490813917873455, 0.3941349794262045, -0.3772928341008689, 1.3048292635035965, -0.46672612038687655, -1.120489037175442, 1.9940005382078847, 0.20060951912701863, 0.57128240835606, 0.7145821222961338, 1.4105370810949298, 0.4049315688775944, 0.8458061881151208, -0.7609317914602187, -1.6481370061848084, -0.8873946431515575, -1.0683226547519797, -0.5316480238934537, 0.03361078302762433, -1.0363017034596884, 0.658821017661889, -1.0755800129807123, 0.9911979331699334, 0.5361321263657128, 0.988419798692416, -1.6384158410384904, -0.054614895140455734, -1.489486347353061, 1.0573670070827268, -0.005366874743519029, -1.5582928434235677, 1.3867439202182168, 0.27510525110981254, -0.0661353713844357, 0.4527693556244209, 0.39889118623618947, 1.3379470102985798, -0.9202241393884216, -0.7964312895565369, -0.6412882079248059, -0.7646490980947728, 0.7922507978202409, -0.24143865713923998, 0.6883199050793065, -0.44232087555933497, -0.46421476004079404, 0.14348851689963255, -0.8266849594361187, -0.1976183507463993, 1.1679312356869895, 0.5426240028902773, -0.2893004673286161, 0.6621600474085508, -1.2471603427386846, 1.0389478529243041, -0.048911234267454785, 0.2695699427674912]}, {\"boxpoints\": false, \"line\": {\"width\": 1.3}, \"marker\": {\"color\": \"rgba(50, 171, 96, 1.0)\"}, \"name\": \"C\", \"orientation\": \"v\", \"type\": \"box\", \"y\": [0.14506602511110148, -1.5350919477293514, -1.0564402955132137, -0.05366494973768762, -0.23532988259206, -0.06376402718449821, -0.3875871855539246, 0.8889575112108654, -0.13230820292205872, -2.0768634529698575, 0.8542654948565908, 1.2591016290832808, 0.055577214025398176, -1.5765266719500757, -0.07478080507591517, 0.2986412469044207, -1.3865605376242653, -0.016753943949769947, 1.536663931660215, -0.6478224006291703, -0.16944154867726552, -1.1912068331424026, -0.25680339372019473, 0.4328630823987023, 0.2722018160160951, -1.8520769036337186, -0.6375092932830504, -0.7955321290045767, -0.2148903750252082, 0.5512614435268286, -0.4945659313053846, 0.08927834189774887, -0.6555629714503787, -0.034297214996859844, 1.3660523369049575, -0.2817361408288066, 1.0632680641405627, 0.28519020076291474, 0.9352797650105166, 0.48464803701997045, -1.4955528878230095, 0.8348329474048144, 0.9399305899605457, -1.3110079910772554, 1.493664781975507, 1.2378021641540384, -0.21476879517302902, -0.8684227613476898, 2.379866832779196, 0.6762504445379166, 0.8153938463135066, -0.1874834666679136, -2.025887068164461, -0.23134055717521698, 0.07379616021762368, -0.6801295155135376, 2.723554612014531, -0.4166641061429242, -1.3711175028185112, -2.359727194601706, 0.484914994727327, 1.524158497592488, 0.47027700405519596, 1.4867724397113453, 0.886753300712882, 0.029158549039998746, -1.029575837223082, 0.9314113396487392, 0.052769031942404745, 0.13338582615104563, 0.8154145282993461, 0.10710573411611993, 0.3373752330790277, -0.5195165045736313, 0.4427477157651256, 0.6133730181764102, 0.7512150936281655, -0.29974210812375635, 0.605387491159014, 0.449995135705989, 0.21758041876843912, 1.8620559687106546, -1.1183313706292377, 1.0529824703212414, -0.3854369014622324, 0.5553255899132032, -1.470004515987508, 1.4703361223721525, 2.6746366151907006, 0.9702882982673493, -0.9803198964664515, -0.2542258021756626, -1.1776697118204689, 0.3751877356390631, 0.14435315708568935, -0.10729659569820357, -1.8318945960270736, 0.41992730267581446, 1.2596641865449796, 1.10186947308976]}, {\"boxpoints\": false, \"line\": {\"width\": 1.3}, \"marker\": {\"color\": \"rgba(128, 0, 128, 1.0)\"}, \"name\": \"D\", \"orientation\": \"v\", \"type\": \"box\", \"y\": [2.050228155950427, -0.9590933400376149, -0.9022858940930771, -0.11245842772250299, -1.0379068828010054, 0.34119877607034343, 0.5667815384910767, -2.449915367431319, -0.6881195751990852, -0.4467084029103725, 0.27233802571608334, 0.9056722440606502, -2.4447262252508795, 0.0016958510905633656, 0.20714654897958837, -0.41331614803786604, 1.453483440745612, 0.6004098821605295, 0.5069983878181352, -0.4892238260046472, 0.30640967261840896, 1.6408154921615061, 0.6884152849973099, 0.13027743145046594, -0.36403729362953186, -0.5023434212713528, -0.5220640506021428, 0.11156329863109098, -0.06330919038657584, -0.05735058436595994, -0.4695934678133395, 0.8923475645817046, 0.8962584268478865, 0.10264098688007241, -1.0138199721942345, 0.03403677016801545, -1.2010673729625618, 0.19554483632945618, 0.78805709911097, 0.29019857295086493, -1.574182450906617, 1.0381859046735737, 0.8422589849955819, -2.3701248365015197, 1.0141153134288146, -2.2257729556872787, 0.21958637495155045, 0.8402614669134792, -2.4546019828650265, -0.4414196818536903, 1.0470366257844936, -0.291738407197531, 0.09930521623561693, 0.03280369665492429, 0.2228425094865553, -0.745494399913448, -1.1941154537874168, -0.0451813391166685, 0.8564239459664448, -0.6195190541176119, 0.4745602160619311, -0.6930746040422452, -1.3259836114544394, -0.015511187299125338, 0.2200495973166145, 2.8335206353490654, 0.2210756024053435, 0.1540311463037094, -1.5183911631483025, -2.232764001133131, -0.38035632475981773, -0.09141441406298612, -0.009350774221741225, -0.4530101873757683, 0.7063108905074421, -1.297568021769972, -0.02059585283770215, 0.6770796689310324, -0.49556153953140136, -2.090473213546201, 0.37212669067377463, 1.210290247335541, 0.488565871663984, 0.040795188878717185, -0.7574521159414243, 0.9636605831858774, 0.23073541530629288, -0.6483525230354428, 0.2090513911515964, 1.0233827275838547, -0.07074530883416033, 0.779362420122101, -1.1713821437481107, 1.6947331941675083, 1.0449557884171017, 0.7338766144330973, 2.715466510306024, -0.2811212457762603, -0.06702146929721933, -1.8332739731995036]}],\n",
       "                        {\"legend\": {\"bgcolor\": \"#F5F6F9\", \"font\": {\"color\": \"#4D5663\"}}, \"paper_bgcolor\": \"#F5F6F9\", \"plot_bgcolor\": \"#F5F6F9\", \"template\": {\"data\": {\"bar\": [{\"error_x\": {\"color\": \"#2a3f5f\"}, \"error_y\": {\"color\": \"#2a3f5f\"}, \"marker\": {\"line\": {\"color\": \"#E5ECF6\", \"width\": 0.5}}, \"type\": \"bar\"}], \"barpolar\": [{\"marker\": {\"line\": {\"color\": \"#E5ECF6\", \"width\": 0.5}}, \"type\": \"barpolar\"}], \"carpet\": [{\"aaxis\": {\"endlinecolor\": \"#2a3f5f\", \"gridcolor\": \"white\", \"linecolor\": \"white\", \"minorgridcolor\": \"white\", \"startlinecolor\": \"#2a3f5f\"}, \"baxis\": {\"endlinecolor\": \"#2a3f5f\", \"gridcolor\": \"white\", \"linecolor\": \"white\", \"minorgridcolor\": \"white\", \"startlinecolor\": \"#2a3f5f\"}, \"type\": \"carpet\"}], \"choropleth\": [{\"colorbar\": {\"outlinewidth\": 0, \"ticks\": \"\"}, \"type\": \"choropleth\"}], \"contour\": [{\"colorbar\": {\"outlinewidth\": 0, \"ticks\": \"\"}, \"colorscale\": [[0.0, \"#0d0887\"], [0.1111111111111111, \"#46039f\"], [0.2222222222222222, \"#7201a8\"], [0.3333333333333333, \"#9c179e\"], [0.4444444444444444, \"#bd3786\"], [0.5555555555555556, \"#d8576b\"], [0.6666666666666666, \"#ed7953\"], [0.7777777777777778, \"#fb9f3a\"], [0.8888888888888888, \"#fdca26\"], [1.0, \"#f0f921\"]], \"type\": \"contour\"}], \"contourcarpet\": [{\"colorbar\": {\"outlinewidth\": 0, \"ticks\": \"\"}, \"type\": \"contourcarpet\"}], \"heatmap\": [{\"colorbar\": {\"outlinewidth\": 0, \"ticks\": \"\"}, \"colorscale\": [[0.0, \"#0d0887\"], [0.1111111111111111, \"#46039f\"], [0.2222222222222222, \"#7201a8\"], [0.3333333333333333, \"#9c179e\"], [0.4444444444444444, \"#bd3786\"], [0.5555555555555556, \"#d8576b\"], [0.6666666666666666, \"#ed7953\"], [0.7777777777777778, \"#fb9f3a\"], [0.8888888888888888, \"#fdca26\"], [1.0, \"#f0f921\"]], \"type\": \"heatmap\"}], \"heatmapgl\": [{\"colorbar\": {\"outlinewidth\": 0, \"ticks\": \"\"}, \"colorscale\": [[0.0, \"#0d0887\"], [0.1111111111111111, \"#46039f\"], [0.2222222222222222, \"#7201a8\"], [0.3333333333333333, \"#9c179e\"], [0.4444444444444444, \"#bd3786\"], [0.5555555555555556, \"#d8576b\"], [0.6666666666666666, \"#ed7953\"], [0.7777777777777778, \"#fb9f3a\"], [0.8888888888888888, \"#fdca26\"], [1.0, \"#f0f921\"]], \"type\": \"heatmapgl\"}], \"histogram\": [{\"marker\": {\"colorbar\": {\"outlinewidth\": 0, \"ticks\": \"\"}}, \"type\": \"histogram\"}], \"histogram2d\": [{\"colorbar\": {\"outlinewidth\": 0, \"ticks\": \"\"}, \"colorscale\": [[0.0, \"#0d0887\"], [0.1111111111111111, \"#46039f\"], [0.2222222222222222, \"#7201a8\"], [0.3333333333333333, \"#9c179e\"], [0.4444444444444444, \"#bd3786\"], [0.5555555555555556, \"#d8576b\"], [0.6666666666666666, \"#ed7953\"], [0.7777777777777778, \"#fb9f3a\"], [0.8888888888888888, \"#fdca26\"], [1.0, \"#f0f921\"]], \"type\": \"histogram2d\"}], \"histogram2dcontour\": [{\"colorbar\": {\"outlinewidth\": 0, \"ticks\": \"\"}, \"colorscale\": [[0.0, \"#0d0887\"], [0.1111111111111111, \"#46039f\"], [0.2222222222222222, \"#7201a8\"], [0.3333333333333333, \"#9c179e\"], [0.4444444444444444, \"#bd3786\"], [0.5555555555555556, \"#d8576b\"], [0.6666666666666666, \"#ed7953\"], [0.7777777777777778, \"#fb9f3a\"], [0.8888888888888888, \"#fdca26\"], [1.0, \"#f0f921\"]], \"type\": \"histogram2dcontour\"}], \"mesh3d\": [{\"colorbar\": {\"outlinewidth\": 0, \"ticks\": \"\"}, \"type\": \"mesh3d\"}], \"parcoords\": [{\"line\": {\"colorbar\": {\"outlinewidth\": 0, \"ticks\": \"\"}}, \"type\": \"parcoords\"}], \"pie\": [{\"automargin\": true, \"type\": \"pie\"}], \"scatter\": [{\"marker\": {\"colorbar\": {\"outlinewidth\": 0, \"ticks\": \"\"}}, \"type\": \"scatter\"}], \"scatter3d\": [{\"line\": {\"colorbar\": {\"outlinewidth\": 0, \"ticks\": \"\"}}, \"marker\": {\"colorbar\": {\"outlinewidth\": 0, \"ticks\": \"\"}}, \"type\": \"scatter3d\"}], \"scattercarpet\": [{\"marker\": {\"colorbar\": {\"outlinewidth\": 0, \"ticks\": \"\"}}, \"type\": \"scattercarpet\"}], \"scattergeo\": [{\"marker\": {\"colorbar\": {\"outlinewidth\": 0, \"ticks\": \"\"}}, \"type\": \"scattergeo\"}], \"scattergl\": [{\"marker\": {\"colorbar\": {\"outlinewidth\": 0, \"ticks\": \"\"}}, \"type\": \"scattergl\"}], \"scattermapbox\": [{\"marker\": {\"colorbar\": {\"outlinewidth\": 0, \"ticks\": \"\"}}, \"type\": \"scattermapbox\"}], \"scatterpolar\": [{\"marker\": {\"colorbar\": {\"outlinewidth\": 0, \"ticks\": \"\"}}, \"type\": \"scatterpolar\"}], \"scatterpolargl\": [{\"marker\": {\"colorbar\": {\"outlinewidth\": 0, \"ticks\": \"\"}}, \"type\": \"scatterpolargl\"}], \"scatterternary\": [{\"marker\": {\"colorbar\": {\"outlinewidth\": 0, \"ticks\": \"\"}}, \"type\": \"scatterternary\"}], \"surface\": [{\"colorbar\": {\"outlinewidth\": 0, \"ticks\": \"\"}, \"colorscale\": [[0.0, \"#0d0887\"], [0.1111111111111111, \"#46039f\"], [0.2222222222222222, \"#7201a8\"], [0.3333333333333333, \"#9c179e\"], [0.4444444444444444, \"#bd3786\"], [0.5555555555555556, \"#d8576b\"], [0.6666666666666666, \"#ed7953\"], [0.7777777777777778, \"#fb9f3a\"], [0.8888888888888888, \"#fdca26\"], [1.0, \"#f0f921\"]], \"type\": \"surface\"}], \"table\": [{\"cells\": {\"fill\": {\"color\": \"#EBF0F8\"}, \"line\": {\"color\": \"white\"}}, \"header\": {\"fill\": {\"color\": \"#C8D4E3\"}, \"line\": {\"color\": \"white\"}}, \"type\": \"table\"}]}, \"layout\": {\"annotationdefaults\": {\"arrowcolor\": \"#2a3f5f\", \"arrowhead\": 0, \"arrowwidth\": 1}, \"coloraxis\": {\"colorbar\": {\"outlinewidth\": 0, \"ticks\": \"\"}}, \"colorscale\": {\"diverging\": [[0, \"#8e0152\"], [0.1, \"#c51b7d\"], [0.2, \"#de77ae\"], [0.3, \"#f1b6da\"], [0.4, \"#fde0ef\"], [0.5, \"#f7f7f7\"], [0.6, \"#e6f5d0\"], [0.7, \"#b8e186\"], [0.8, \"#7fbc41\"], [0.9, \"#4d9221\"], [1, \"#276419\"]], \"sequential\": [[0.0, \"#0d0887\"], [0.1111111111111111, \"#46039f\"], [0.2222222222222222, \"#7201a8\"], [0.3333333333333333, \"#9c179e\"], [0.4444444444444444, \"#bd3786\"], [0.5555555555555556, \"#d8576b\"], [0.6666666666666666, \"#ed7953\"], [0.7777777777777778, \"#fb9f3a\"], [0.8888888888888888, \"#fdca26\"], [1.0, \"#f0f921\"]], \"sequentialminus\": [[0.0, \"#0d0887\"], [0.1111111111111111, \"#46039f\"], [0.2222222222222222, \"#7201a8\"], [0.3333333333333333, \"#9c179e\"], [0.4444444444444444, \"#bd3786\"], [0.5555555555555556, \"#d8576b\"], [0.6666666666666666, \"#ed7953\"], [0.7777777777777778, \"#fb9f3a\"], [0.8888888888888888, \"#fdca26\"], [1.0, \"#f0f921\"]]}, \"colorway\": [\"#636efa\", \"#EF553B\", \"#00cc96\", \"#ab63fa\", \"#FFA15A\", \"#19d3f3\", \"#FF6692\", \"#B6E880\", \"#FF97FF\", \"#FECB52\"], \"font\": {\"color\": \"#2a3f5f\"}, \"geo\": {\"bgcolor\": \"white\", \"lakecolor\": \"white\", \"landcolor\": \"#E5ECF6\", \"showlakes\": true, \"showland\": true, \"subunitcolor\": \"white\"}, \"hoverlabel\": {\"align\": \"left\"}, \"hovermode\": \"closest\", \"mapbox\": {\"style\": \"light\"}, \"paper_bgcolor\": \"white\", \"plot_bgcolor\": \"#E5ECF6\", \"polar\": {\"angularaxis\": {\"gridcolor\": \"white\", \"linecolor\": \"white\", \"ticks\": \"\"}, \"bgcolor\": \"#E5ECF6\", \"radialaxis\": {\"gridcolor\": \"white\", \"linecolor\": \"white\", \"ticks\": \"\"}}, \"scene\": {\"xaxis\": {\"backgroundcolor\": \"#E5ECF6\", \"gridcolor\": \"white\", \"gridwidth\": 2, \"linecolor\": \"white\", \"showbackground\": true, \"ticks\": \"\", \"zerolinecolor\": \"white\"}, \"yaxis\": {\"backgroundcolor\": \"#E5ECF6\", \"gridcolor\": \"white\", \"gridwidth\": 2, \"linecolor\": \"white\", \"showbackground\": true, \"ticks\": \"\", \"zerolinecolor\": \"white\"}, \"zaxis\": {\"backgroundcolor\": \"#E5ECF6\", \"gridcolor\": \"white\", \"gridwidth\": 2, \"linecolor\": \"white\", \"showbackground\": true, \"ticks\": \"\", \"zerolinecolor\": \"white\"}}, \"shapedefaults\": {\"line\": {\"color\": \"#2a3f5f\"}}, \"ternary\": {\"aaxis\": {\"gridcolor\": \"white\", \"linecolor\": \"white\", \"ticks\": \"\"}, \"baxis\": {\"gridcolor\": \"white\", \"linecolor\": \"white\", \"ticks\": \"\"}, \"bgcolor\": \"#E5ECF6\", \"caxis\": {\"gridcolor\": \"white\", \"linecolor\": \"white\", \"ticks\": \"\"}}, \"title\": {\"x\": 0.05}, \"xaxis\": {\"automargin\": true, \"gridcolor\": \"white\", \"linecolor\": \"white\", \"ticks\": \"\", \"title\": {\"standoff\": 15}, \"zerolinecolor\": \"white\", \"zerolinewidth\": 2}, \"yaxis\": {\"automargin\": true, \"gridcolor\": \"white\", \"linecolor\": \"white\", \"ticks\": \"\", \"title\": {\"standoff\": 15}, \"zerolinecolor\": \"white\", \"zerolinewidth\": 2}}}, \"title\": {\"font\": {\"color\": \"#4D5663\"}}, \"xaxis\": {\"gridcolor\": \"#E1E5ED\", \"showgrid\": true, \"tickfont\": {\"color\": \"#4D5663\"}, \"title\": {\"font\": {\"color\": \"#4D5663\"}, \"text\": \"\"}, \"zerolinecolor\": \"#E1E5ED\"}, \"yaxis\": {\"gridcolor\": \"#E1E5ED\", \"showgrid\": true, \"tickfont\": {\"color\": \"#4D5663\"}, \"title\": {\"font\": {\"color\": \"#4D5663\"}, \"text\": \"\"}, \"zerolinecolor\": \"#E1E5ED\"}},\n",
       "                        {\"showLink\": true, \"linkText\": \"Export to plot.ly\", \"plotlyServerURL\": \"https://plot.ly\", \"responsive\": true}\n",
       "                    ).then(function(){\n",
       "                            \n",
       "var gd = document.getElementById('1262c24a-7453-45ac-9d5e-23f9ff8555b3');\n",
       "var x = new MutationObserver(function (mutations, observer) {{\n",
       "        var display = window.getComputedStyle(gd).display;\n",
       "        if (!display || display === 'none') {{\n",
       "            console.log([gd, 'removed!']);\n",
       "            Plotly.purge(gd);\n",
       "            observer.disconnect();\n",
       "        }}\n",
       "}});\n",
       "\n",
       "// Listen for the removal of the full notebook cells\n",
       "var notebookContainer = gd.closest('#notebook-container');\n",
       "if (notebookContainer) {{\n",
       "    x.observe(notebookContainer, {childList: true});\n",
       "}}\n",
       "\n",
       "// Listen for the clearing of the current output cell\n",
       "var outputEl = gd.closest('.output');\n",
       "if (outputEl) {{\n",
       "    x.observe(outputEl, {childList: true});\n",
       "}}\n",
       "\n",
       "                        })\n",
       "                };\n",
       "                });\n",
       "            </script>\n",
       "        </div>"
      ]
     },
     "metadata": {},
     "output_type": "display_data"
    }
   ],
   "source": [
    "df.iplot(kind='box')"
   ]
  },
  {
   "cell_type": "markdown",
   "metadata": {},
   "source": [
    "## 3d Surface"
   ]
  },
  {
   "cell_type": "code",
   "execution_count": 14,
   "metadata": {},
   "outputs": [
    {
     "data": {
      "application/vnd.plotly.v1+json": {
       "config": {
        "linkText": "Export to plot.ly",
        "plotlyServerURL": "https://plot.ly",
        "showLink": true
       },
       "data": [
        {
         "colorscale": [
          [
           0,
           "rgb(165,0,38)"
          ],
          [
           0.1,
           "rgb(215,48,39)"
          ],
          [
           0.2,
           "rgb(244,109,67)"
          ],
          [
           0.3,
           "rgb(253,174,97)"
          ],
          [
           0.4,
           "rgb(254,224,144)"
          ],
          [
           0.5,
           "rgb(255,255,191)"
          ],
          [
           0.6,
           "rgb(224,243,248)"
          ],
          [
           0.7,
           "rgb(171,217,233)"
          ],
          [
           0.8,
           "rgb(116,173,209)"
          ],
          [
           0.9,
           "rgb(69,117,180)"
          ],
          [
           1,
           "rgb(49,54,149)"
          ]
         ],
         "type": "surface",
         "x": [
          0,
          1,
          2,
          3,
          4
         ],
         "y": [
          "x",
          "y",
          "z"
         ],
         "z": [
          [
           1,
           2,
           3,
           4,
           5
          ],
          [
           10,
           20,
           30,
           20,
           10
          ],
          [
           5,
           4,
           3,
           2,
           1
          ]
         ]
        }
       ],
       "layout": {
        "legend": {
         "bgcolor": "#F5F6F9",
         "font": {
          "color": "#4D5663"
         }
        },
        "paper_bgcolor": "#F5F6F9",
        "plot_bgcolor": "#F5F6F9",
        "template": {
         "data": {
          "bar": [
           {
            "error_x": {
             "color": "#2a3f5f"
            },
            "error_y": {
             "color": "#2a3f5f"
            },
            "marker": {
             "line": {
              "color": "#E5ECF6",
              "width": 0.5
             }
            },
            "type": "bar"
           }
          ],
          "barpolar": [
           {
            "marker": {
             "line": {
              "color": "#E5ECF6",
              "width": 0.5
             }
            },
            "type": "barpolar"
           }
          ],
          "carpet": [
           {
            "aaxis": {
             "endlinecolor": "#2a3f5f",
             "gridcolor": "white",
             "linecolor": "white",
             "minorgridcolor": "white",
             "startlinecolor": "#2a3f5f"
            },
            "baxis": {
             "endlinecolor": "#2a3f5f",
             "gridcolor": "white",
             "linecolor": "white",
             "minorgridcolor": "white",
             "startlinecolor": "#2a3f5f"
            },
            "type": "carpet"
           }
          ],
          "choropleth": [
           {
            "colorbar": {
             "outlinewidth": 0,
             "ticks": ""
            },
            "type": "choropleth"
           }
          ],
          "contour": [
           {
            "colorbar": {
             "outlinewidth": 0,
             "ticks": ""
            },
            "colorscale": [
             [
              0,
              "#0d0887"
             ],
             [
              0.1111111111111111,
              "#46039f"
             ],
             [
              0.2222222222222222,
              "#7201a8"
             ],
             [
              0.3333333333333333,
              "#9c179e"
             ],
             [
              0.4444444444444444,
              "#bd3786"
             ],
             [
              0.5555555555555556,
              "#d8576b"
             ],
             [
              0.6666666666666666,
              "#ed7953"
             ],
             [
              0.7777777777777778,
              "#fb9f3a"
             ],
             [
              0.8888888888888888,
              "#fdca26"
             ],
             [
              1,
              "#f0f921"
             ]
            ],
            "type": "contour"
           }
          ],
          "contourcarpet": [
           {
            "colorbar": {
             "outlinewidth": 0,
             "ticks": ""
            },
            "type": "contourcarpet"
           }
          ],
          "heatmap": [
           {
            "colorbar": {
             "outlinewidth": 0,
             "ticks": ""
            },
            "colorscale": [
             [
              0,
              "#0d0887"
             ],
             [
              0.1111111111111111,
              "#46039f"
             ],
             [
              0.2222222222222222,
              "#7201a8"
             ],
             [
              0.3333333333333333,
              "#9c179e"
             ],
             [
              0.4444444444444444,
              "#bd3786"
             ],
             [
              0.5555555555555556,
              "#d8576b"
             ],
             [
              0.6666666666666666,
              "#ed7953"
             ],
             [
              0.7777777777777778,
              "#fb9f3a"
             ],
             [
              0.8888888888888888,
              "#fdca26"
             ],
             [
              1,
              "#f0f921"
             ]
            ],
            "type": "heatmap"
           }
          ],
          "heatmapgl": [
           {
            "colorbar": {
             "outlinewidth": 0,
             "ticks": ""
            },
            "colorscale": [
             [
              0,
              "#0d0887"
             ],
             [
              0.1111111111111111,
              "#46039f"
             ],
             [
              0.2222222222222222,
              "#7201a8"
             ],
             [
              0.3333333333333333,
              "#9c179e"
             ],
             [
              0.4444444444444444,
              "#bd3786"
             ],
             [
              0.5555555555555556,
              "#d8576b"
             ],
             [
              0.6666666666666666,
              "#ed7953"
             ],
             [
              0.7777777777777778,
              "#fb9f3a"
             ],
             [
              0.8888888888888888,
              "#fdca26"
             ],
             [
              1,
              "#f0f921"
             ]
            ],
            "type": "heatmapgl"
           }
          ],
          "histogram": [
           {
            "marker": {
             "colorbar": {
              "outlinewidth": 0,
              "ticks": ""
             }
            },
            "type": "histogram"
           }
          ],
          "histogram2d": [
           {
            "colorbar": {
             "outlinewidth": 0,
             "ticks": ""
            },
            "colorscale": [
             [
              0,
              "#0d0887"
             ],
             [
              0.1111111111111111,
              "#46039f"
             ],
             [
              0.2222222222222222,
              "#7201a8"
             ],
             [
              0.3333333333333333,
              "#9c179e"
             ],
             [
              0.4444444444444444,
              "#bd3786"
             ],
             [
              0.5555555555555556,
              "#d8576b"
             ],
             [
              0.6666666666666666,
              "#ed7953"
             ],
             [
              0.7777777777777778,
              "#fb9f3a"
             ],
             [
              0.8888888888888888,
              "#fdca26"
             ],
             [
              1,
              "#f0f921"
             ]
            ],
            "type": "histogram2d"
           }
          ],
          "histogram2dcontour": [
           {
            "colorbar": {
             "outlinewidth": 0,
             "ticks": ""
            },
            "colorscale": [
             [
              0,
              "#0d0887"
             ],
             [
              0.1111111111111111,
              "#46039f"
             ],
             [
              0.2222222222222222,
              "#7201a8"
             ],
             [
              0.3333333333333333,
              "#9c179e"
             ],
             [
              0.4444444444444444,
              "#bd3786"
             ],
             [
              0.5555555555555556,
              "#d8576b"
             ],
             [
              0.6666666666666666,
              "#ed7953"
             ],
             [
              0.7777777777777778,
              "#fb9f3a"
             ],
             [
              0.8888888888888888,
              "#fdca26"
             ],
             [
              1,
              "#f0f921"
             ]
            ],
            "type": "histogram2dcontour"
           }
          ],
          "mesh3d": [
           {
            "colorbar": {
             "outlinewidth": 0,
             "ticks": ""
            },
            "type": "mesh3d"
           }
          ],
          "parcoords": [
           {
            "line": {
             "colorbar": {
              "outlinewidth": 0,
              "ticks": ""
             }
            },
            "type": "parcoords"
           }
          ],
          "pie": [
           {
            "automargin": true,
            "type": "pie"
           }
          ],
          "scatter": [
           {
            "marker": {
             "colorbar": {
              "outlinewidth": 0,
              "ticks": ""
             }
            },
            "type": "scatter"
           }
          ],
          "scatter3d": [
           {
            "line": {
             "colorbar": {
              "outlinewidth": 0,
              "ticks": ""
             }
            },
            "marker": {
             "colorbar": {
              "outlinewidth": 0,
              "ticks": ""
             }
            },
            "type": "scatter3d"
           }
          ],
          "scattercarpet": [
           {
            "marker": {
             "colorbar": {
              "outlinewidth": 0,
              "ticks": ""
             }
            },
            "type": "scattercarpet"
           }
          ],
          "scattergeo": [
           {
            "marker": {
             "colorbar": {
              "outlinewidth": 0,
              "ticks": ""
             }
            },
            "type": "scattergeo"
           }
          ],
          "scattergl": [
           {
            "marker": {
             "colorbar": {
              "outlinewidth": 0,
              "ticks": ""
             }
            },
            "type": "scattergl"
           }
          ],
          "scattermapbox": [
           {
            "marker": {
             "colorbar": {
              "outlinewidth": 0,
              "ticks": ""
             }
            },
            "type": "scattermapbox"
           }
          ],
          "scatterpolar": [
           {
            "marker": {
             "colorbar": {
              "outlinewidth": 0,
              "ticks": ""
             }
            },
            "type": "scatterpolar"
           }
          ],
          "scatterpolargl": [
           {
            "marker": {
             "colorbar": {
              "outlinewidth": 0,
              "ticks": ""
             }
            },
            "type": "scatterpolargl"
           }
          ],
          "scatterternary": [
           {
            "marker": {
             "colorbar": {
              "outlinewidth": 0,
              "ticks": ""
             }
            },
            "type": "scatterternary"
           }
          ],
          "surface": [
           {
            "colorbar": {
             "outlinewidth": 0,
             "ticks": ""
            },
            "colorscale": [
             [
              0,
              "#0d0887"
             ],
             [
              0.1111111111111111,
              "#46039f"
             ],
             [
              0.2222222222222222,
              "#7201a8"
             ],
             [
              0.3333333333333333,
              "#9c179e"
             ],
             [
              0.4444444444444444,
              "#bd3786"
             ],
             [
              0.5555555555555556,
              "#d8576b"
             ],
             [
              0.6666666666666666,
              "#ed7953"
             ],
             [
              0.7777777777777778,
              "#fb9f3a"
             ],
             [
              0.8888888888888888,
              "#fdca26"
             ],
             [
              1,
              "#f0f921"
             ]
            ],
            "type": "surface"
           }
          ],
          "table": [
           {
            "cells": {
             "fill": {
              "color": "#EBF0F8"
             },
             "line": {
              "color": "white"
             }
            },
            "header": {
             "fill": {
              "color": "#C8D4E3"
             },
             "line": {
              "color": "white"
             }
            },
            "type": "table"
           }
          ]
         },
         "layout": {
          "annotationdefaults": {
           "arrowcolor": "#2a3f5f",
           "arrowhead": 0,
           "arrowwidth": 1
          },
          "coloraxis": {
           "colorbar": {
            "outlinewidth": 0,
            "ticks": ""
           }
          },
          "colorscale": {
           "diverging": [
            [
             0,
             "#8e0152"
            ],
            [
             0.1,
             "#c51b7d"
            ],
            [
             0.2,
             "#de77ae"
            ],
            [
             0.3,
             "#f1b6da"
            ],
            [
             0.4,
             "#fde0ef"
            ],
            [
             0.5,
             "#f7f7f7"
            ],
            [
             0.6,
             "#e6f5d0"
            ],
            [
             0.7,
             "#b8e186"
            ],
            [
             0.8,
             "#7fbc41"
            ],
            [
             0.9,
             "#4d9221"
            ],
            [
             1,
             "#276419"
            ]
           ],
           "sequential": [
            [
             0,
             "#0d0887"
            ],
            [
             0.1111111111111111,
             "#46039f"
            ],
            [
             0.2222222222222222,
             "#7201a8"
            ],
            [
             0.3333333333333333,
             "#9c179e"
            ],
            [
             0.4444444444444444,
             "#bd3786"
            ],
            [
             0.5555555555555556,
             "#d8576b"
            ],
            [
             0.6666666666666666,
             "#ed7953"
            ],
            [
             0.7777777777777778,
             "#fb9f3a"
            ],
            [
             0.8888888888888888,
             "#fdca26"
            ],
            [
             1,
             "#f0f921"
            ]
           ],
           "sequentialminus": [
            [
             0,
             "#0d0887"
            ],
            [
             0.1111111111111111,
             "#46039f"
            ],
            [
             0.2222222222222222,
             "#7201a8"
            ],
            [
             0.3333333333333333,
             "#9c179e"
            ],
            [
             0.4444444444444444,
             "#bd3786"
            ],
            [
             0.5555555555555556,
             "#d8576b"
            ],
            [
             0.6666666666666666,
             "#ed7953"
            ],
            [
             0.7777777777777778,
             "#fb9f3a"
            ],
            [
             0.8888888888888888,
             "#fdca26"
            ],
            [
             1,
             "#f0f921"
            ]
           ]
          },
          "colorway": [
           "#636efa",
           "#EF553B",
           "#00cc96",
           "#ab63fa",
           "#FFA15A",
           "#19d3f3",
           "#FF6692",
           "#B6E880",
           "#FF97FF",
           "#FECB52"
          ],
          "font": {
           "color": "#2a3f5f"
          },
          "geo": {
           "bgcolor": "white",
           "lakecolor": "white",
           "landcolor": "#E5ECF6",
           "showlakes": true,
           "showland": true,
           "subunitcolor": "white"
          },
          "hoverlabel": {
           "align": "left"
          },
          "hovermode": "closest",
          "mapbox": {
           "style": "light"
          },
          "paper_bgcolor": "white",
          "plot_bgcolor": "#E5ECF6",
          "polar": {
           "angularaxis": {
            "gridcolor": "white",
            "linecolor": "white",
            "ticks": ""
           },
           "bgcolor": "#E5ECF6",
           "radialaxis": {
            "gridcolor": "white",
            "linecolor": "white",
            "ticks": ""
           }
          },
          "scene": {
           "xaxis": {
            "backgroundcolor": "#E5ECF6",
            "gridcolor": "white",
            "gridwidth": 2,
            "linecolor": "white",
            "showbackground": true,
            "ticks": "",
            "zerolinecolor": "white"
           },
           "yaxis": {
            "backgroundcolor": "#E5ECF6",
            "gridcolor": "white",
            "gridwidth": 2,
            "linecolor": "white",
            "showbackground": true,
            "ticks": "",
            "zerolinecolor": "white"
           },
           "zaxis": {
            "backgroundcolor": "#E5ECF6",
            "gridcolor": "white",
            "gridwidth": 2,
            "linecolor": "white",
            "showbackground": true,
            "ticks": "",
            "zerolinecolor": "white"
           }
          },
          "shapedefaults": {
           "line": {
            "color": "#2a3f5f"
           }
          },
          "ternary": {
           "aaxis": {
            "gridcolor": "white",
            "linecolor": "white",
            "ticks": ""
           },
           "baxis": {
            "gridcolor": "white",
            "linecolor": "white",
            "ticks": ""
           },
           "bgcolor": "#E5ECF6",
           "caxis": {
            "gridcolor": "white",
            "linecolor": "white",
            "ticks": ""
           }
          },
          "title": {
           "x": 0.05
          },
          "xaxis": {
           "automargin": true,
           "gridcolor": "white",
           "linecolor": "white",
           "ticks": "",
           "title": {
            "standoff": 15
           },
           "zerolinecolor": "white",
           "zerolinewidth": 2
          },
          "yaxis": {
           "automargin": true,
           "gridcolor": "white",
           "linecolor": "white",
           "ticks": "",
           "title": {
            "standoff": 15
           },
           "zerolinecolor": "white",
           "zerolinewidth": 2
          }
         }
        },
        "title": {
         "font": {
          "color": "#4D5663"
         }
        },
        "xaxis": {
         "gridcolor": "#E1E5ED",
         "showgrid": true,
         "tickfont": {
          "color": "#4D5663"
         },
         "title": {
          "font": {
           "color": "#4D5663"
          },
          "text": ""
         },
         "zerolinecolor": "#E1E5ED"
        },
        "yaxis": {
         "gridcolor": "#E1E5ED",
         "showgrid": true,
         "tickfont": {
          "color": "#4D5663"
         },
         "title": {
          "font": {
           "color": "#4D5663"
          },
          "text": ""
         },
         "zerolinecolor": "#E1E5ED"
        }
       }
      },
      "text/html": [
       "<div>\n",
       "        \n",
       "        \n",
       "            <div id=\"3455cfa2-e4a0-459c-afc0-2afe3dee4d8b\" class=\"plotly-graph-div\" style=\"height:525px; width:100%;\"></div>\n",
       "            <script type=\"text/javascript\">\n",
       "                require([\"plotly\"], function(Plotly) {\n",
       "                    window.PLOTLYENV=window.PLOTLYENV || {};\n",
       "                    window.PLOTLYENV.BASE_URL='https://plot.ly';\n",
       "                    \n",
       "                if (document.getElementById(\"3455cfa2-e4a0-459c-afc0-2afe3dee4d8b\")) {\n",
       "                    Plotly.newPlot(\n",
       "                        '3455cfa2-e4a0-459c-afc0-2afe3dee4d8b',\n",
       "                        [{\"colorscale\": [[0.0, \"rgb(165,0,38)\"], [0.1, \"rgb(215,48,39)\"], [0.2, \"rgb(244,109,67)\"], [0.3, \"rgb(253,174,97)\"], [0.4, \"rgb(254,224,144)\"], [0.5, \"rgb(255,255,191)\"], [0.6, \"rgb(224,243,248)\"], [0.7, \"rgb(171,217,233)\"], [0.8, \"rgb(116,173,209)\"], [0.9, \"rgb(69,117,180)\"], [1.0, \"rgb(49,54,149)\"]], \"type\": \"surface\", \"x\": [0, 1, 2, 3, 4], \"y\": [\"x\", \"y\", \"z\"], \"z\": [[1, 2, 3, 4, 5], [10, 20, 30, 20, 10], [5, 4, 3, 2, 1]]}],\n",
       "                        {\"legend\": {\"bgcolor\": \"#F5F6F9\", \"font\": {\"color\": \"#4D5663\"}}, \"paper_bgcolor\": \"#F5F6F9\", \"plot_bgcolor\": \"#F5F6F9\", \"template\": {\"data\": {\"bar\": [{\"error_x\": {\"color\": \"#2a3f5f\"}, \"error_y\": {\"color\": \"#2a3f5f\"}, \"marker\": {\"line\": {\"color\": \"#E5ECF6\", \"width\": 0.5}}, \"type\": \"bar\"}], \"barpolar\": [{\"marker\": {\"line\": {\"color\": \"#E5ECF6\", \"width\": 0.5}}, \"type\": \"barpolar\"}], \"carpet\": [{\"aaxis\": {\"endlinecolor\": \"#2a3f5f\", \"gridcolor\": \"white\", \"linecolor\": \"white\", \"minorgridcolor\": \"white\", \"startlinecolor\": \"#2a3f5f\"}, \"baxis\": {\"endlinecolor\": \"#2a3f5f\", \"gridcolor\": \"white\", \"linecolor\": \"white\", \"minorgridcolor\": \"white\", \"startlinecolor\": \"#2a3f5f\"}, \"type\": \"carpet\"}], \"choropleth\": [{\"colorbar\": {\"outlinewidth\": 0, \"ticks\": \"\"}, \"type\": \"choropleth\"}], \"contour\": [{\"colorbar\": {\"outlinewidth\": 0, \"ticks\": \"\"}, \"colorscale\": [[0.0, \"#0d0887\"], [0.1111111111111111, \"#46039f\"], [0.2222222222222222, \"#7201a8\"], [0.3333333333333333, \"#9c179e\"], [0.4444444444444444, \"#bd3786\"], [0.5555555555555556, \"#d8576b\"], [0.6666666666666666, \"#ed7953\"], [0.7777777777777778, \"#fb9f3a\"], [0.8888888888888888, \"#fdca26\"], [1.0, \"#f0f921\"]], \"type\": \"contour\"}], \"contourcarpet\": [{\"colorbar\": {\"outlinewidth\": 0, \"ticks\": \"\"}, \"type\": \"contourcarpet\"}], \"heatmap\": [{\"colorbar\": {\"outlinewidth\": 0, \"ticks\": \"\"}, \"colorscale\": [[0.0, \"#0d0887\"], [0.1111111111111111, \"#46039f\"], [0.2222222222222222, \"#7201a8\"], [0.3333333333333333, \"#9c179e\"], [0.4444444444444444, \"#bd3786\"], [0.5555555555555556, \"#d8576b\"], [0.6666666666666666, \"#ed7953\"], [0.7777777777777778, \"#fb9f3a\"], [0.8888888888888888, \"#fdca26\"], [1.0, \"#f0f921\"]], \"type\": \"heatmap\"}], \"heatmapgl\": [{\"colorbar\": {\"outlinewidth\": 0, \"ticks\": \"\"}, \"colorscale\": [[0.0, \"#0d0887\"], [0.1111111111111111, \"#46039f\"], [0.2222222222222222, \"#7201a8\"], [0.3333333333333333, \"#9c179e\"], [0.4444444444444444, \"#bd3786\"], [0.5555555555555556, \"#d8576b\"], [0.6666666666666666, \"#ed7953\"], [0.7777777777777778, \"#fb9f3a\"], [0.8888888888888888, \"#fdca26\"], [1.0, \"#f0f921\"]], \"type\": \"heatmapgl\"}], \"histogram\": [{\"marker\": {\"colorbar\": {\"outlinewidth\": 0, \"ticks\": \"\"}}, \"type\": \"histogram\"}], \"histogram2d\": [{\"colorbar\": {\"outlinewidth\": 0, \"ticks\": \"\"}, \"colorscale\": [[0.0, \"#0d0887\"], [0.1111111111111111, \"#46039f\"], [0.2222222222222222, \"#7201a8\"], [0.3333333333333333, \"#9c179e\"], [0.4444444444444444, \"#bd3786\"], [0.5555555555555556, \"#d8576b\"], [0.6666666666666666, \"#ed7953\"], [0.7777777777777778, \"#fb9f3a\"], [0.8888888888888888, \"#fdca26\"], [1.0, \"#f0f921\"]], \"type\": \"histogram2d\"}], \"histogram2dcontour\": [{\"colorbar\": {\"outlinewidth\": 0, \"ticks\": \"\"}, \"colorscale\": [[0.0, \"#0d0887\"], [0.1111111111111111, \"#46039f\"], [0.2222222222222222, \"#7201a8\"], [0.3333333333333333, \"#9c179e\"], [0.4444444444444444, \"#bd3786\"], [0.5555555555555556, \"#d8576b\"], [0.6666666666666666, \"#ed7953\"], [0.7777777777777778, \"#fb9f3a\"], [0.8888888888888888, \"#fdca26\"], [1.0, \"#f0f921\"]], \"type\": \"histogram2dcontour\"}], \"mesh3d\": [{\"colorbar\": {\"outlinewidth\": 0, \"ticks\": \"\"}, \"type\": \"mesh3d\"}], \"parcoords\": [{\"line\": {\"colorbar\": {\"outlinewidth\": 0, \"ticks\": \"\"}}, \"type\": \"parcoords\"}], \"pie\": [{\"automargin\": true, \"type\": \"pie\"}], \"scatter\": [{\"marker\": {\"colorbar\": {\"outlinewidth\": 0, \"ticks\": \"\"}}, \"type\": \"scatter\"}], \"scatter3d\": [{\"line\": {\"colorbar\": {\"outlinewidth\": 0, \"ticks\": \"\"}}, \"marker\": {\"colorbar\": {\"outlinewidth\": 0, \"ticks\": \"\"}}, \"type\": \"scatter3d\"}], \"scattercarpet\": [{\"marker\": {\"colorbar\": {\"outlinewidth\": 0, \"ticks\": \"\"}}, \"type\": \"scattercarpet\"}], \"scattergeo\": [{\"marker\": {\"colorbar\": {\"outlinewidth\": 0, \"ticks\": \"\"}}, \"type\": \"scattergeo\"}], \"scattergl\": [{\"marker\": {\"colorbar\": {\"outlinewidth\": 0, \"ticks\": \"\"}}, \"type\": \"scattergl\"}], \"scattermapbox\": [{\"marker\": {\"colorbar\": {\"outlinewidth\": 0, \"ticks\": \"\"}}, \"type\": \"scattermapbox\"}], \"scatterpolar\": [{\"marker\": {\"colorbar\": {\"outlinewidth\": 0, \"ticks\": \"\"}}, \"type\": \"scatterpolar\"}], \"scatterpolargl\": [{\"marker\": {\"colorbar\": {\"outlinewidth\": 0, \"ticks\": \"\"}}, \"type\": \"scatterpolargl\"}], \"scatterternary\": [{\"marker\": {\"colorbar\": {\"outlinewidth\": 0, \"ticks\": \"\"}}, \"type\": \"scatterternary\"}], \"surface\": [{\"colorbar\": {\"outlinewidth\": 0, \"ticks\": \"\"}, \"colorscale\": [[0.0, \"#0d0887\"], [0.1111111111111111, \"#46039f\"], [0.2222222222222222, \"#7201a8\"], [0.3333333333333333, \"#9c179e\"], [0.4444444444444444, \"#bd3786\"], [0.5555555555555556, \"#d8576b\"], [0.6666666666666666, \"#ed7953\"], [0.7777777777777778, \"#fb9f3a\"], [0.8888888888888888, \"#fdca26\"], [1.0, \"#f0f921\"]], \"type\": \"surface\"}], \"table\": [{\"cells\": {\"fill\": {\"color\": \"#EBF0F8\"}, \"line\": {\"color\": \"white\"}}, \"header\": {\"fill\": {\"color\": \"#C8D4E3\"}, \"line\": {\"color\": \"white\"}}, \"type\": \"table\"}]}, \"layout\": {\"annotationdefaults\": {\"arrowcolor\": \"#2a3f5f\", \"arrowhead\": 0, \"arrowwidth\": 1}, \"coloraxis\": {\"colorbar\": {\"outlinewidth\": 0, \"ticks\": \"\"}}, \"colorscale\": {\"diverging\": [[0, \"#8e0152\"], [0.1, \"#c51b7d\"], [0.2, \"#de77ae\"], [0.3, \"#f1b6da\"], [0.4, \"#fde0ef\"], [0.5, \"#f7f7f7\"], [0.6, \"#e6f5d0\"], [0.7, \"#b8e186\"], [0.8, \"#7fbc41\"], [0.9, \"#4d9221\"], [1, \"#276419\"]], \"sequential\": [[0.0, \"#0d0887\"], [0.1111111111111111, \"#46039f\"], [0.2222222222222222, \"#7201a8\"], [0.3333333333333333, \"#9c179e\"], [0.4444444444444444, \"#bd3786\"], [0.5555555555555556, \"#d8576b\"], [0.6666666666666666, \"#ed7953\"], [0.7777777777777778, \"#fb9f3a\"], [0.8888888888888888, \"#fdca26\"], [1.0, \"#f0f921\"]], \"sequentialminus\": [[0.0, \"#0d0887\"], [0.1111111111111111, \"#46039f\"], [0.2222222222222222, \"#7201a8\"], [0.3333333333333333, \"#9c179e\"], [0.4444444444444444, \"#bd3786\"], [0.5555555555555556, \"#d8576b\"], [0.6666666666666666, \"#ed7953\"], [0.7777777777777778, \"#fb9f3a\"], [0.8888888888888888, \"#fdca26\"], [1.0, \"#f0f921\"]]}, \"colorway\": [\"#636efa\", \"#EF553B\", \"#00cc96\", \"#ab63fa\", \"#FFA15A\", \"#19d3f3\", \"#FF6692\", \"#B6E880\", \"#FF97FF\", \"#FECB52\"], \"font\": {\"color\": \"#2a3f5f\"}, \"geo\": {\"bgcolor\": \"white\", \"lakecolor\": \"white\", \"landcolor\": \"#E5ECF6\", \"showlakes\": true, \"showland\": true, \"subunitcolor\": \"white\"}, \"hoverlabel\": {\"align\": \"left\"}, \"hovermode\": \"closest\", \"mapbox\": {\"style\": \"light\"}, \"paper_bgcolor\": \"white\", \"plot_bgcolor\": \"#E5ECF6\", \"polar\": {\"angularaxis\": {\"gridcolor\": \"white\", \"linecolor\": \"white\", \"ticks\": \"\"}, \"bgcolor\": \"#E5ECF6\", \"radialaxis\": {\"gridcolor\": \"white\", \"linecolor\": \"white\", \"ticks\": \"\"}}, \"scene\": {\"xaxis\": {\"backgroundcolor\": \"#E5ECF6\", \"gridcolor\": \"white\", \"gridwidth\": 2, \"linecolor\": \"white\", \"showbackground\": true, \"ticks\": \"\", \"zerolinecolor\": \"white\"}, \"yaxis\": {\"backgroundcolor\": \"#E5ECF6\", \"gridcolor\": \"white\", \"gridwidth\": 2, \"linecolor\": \"white\", \"showbackground\": true, \"ticks\": \"\", \"zerolinecolor\": \"white\"}, \"zaxis\": {\"backgroundcolor\": \"#E5ECF6\", \"gridcolor\": \"white\", \"gridwidth\": 2, \"linecolor\": \"white\", \"showbackground\": true, \"ticks\": \"\", \"zerolinecolor\": \"white\"}}, \"shapedefaults\": {\"line\": {\"color\": \"#2a3f5f\"}}, \"ternary\": {\"aaxis\": {\"gridcolor\": \"white\", \"linecolor\": \"white\", \"ticks\": \"\"}, \"baxis\": {\"gridcolor\": \"white\", \"linecolor\": \"white\", \"ticks\": \"\"}, \"bgcolor\": \"#E5ECF6\", \"caxis\": {\"gridcolor\": \"white\", \"linecolor\": \"white\", \"ticks\": \"\"}}, \"title\": {\"x\": 0.05}, \"xaxis\": {\"automargin\": true, \"gridcolor\": \"white\", \"linecolor\": \"white\", \"ticks\": \"\", \"title\": {\"standoff\": 15}, \"zerolinecolor\": \"white\", \"zerolinewidth\": 2}, \"yaxis\": {\"automargin\": true, \"gridcolor\": \"white\", \"linecolor\": \"white\", \"ticks\": \"\", \"title\": {\"standoff\": 15}, \"zerolinecolor\": \"white\", \"zerolinewidth\": 2}}}, \"title\": {\"font\": {\"color\": \"#4D5663\"}}, \"xaxis\": {\"gridcolor\": \"#E1E5ED\", \"showgrid\": true, \"tickfont\": {\"color\": \"#4D5663\"}, \"title\": {\"font\": {\"color\": \"#4D5663\"}, \"text\": \"\"}, \"zerolinecolor\": \"#E1E5ED\"}, \"yaxis\": {\"gridcolor\": \"#E1E5ED\", \"showgrid\": true, \"tickfont\": {\"color\": \"#4D5663\"}, \"title\": {\"font\": {\"color\": \"#4D5663\"}, \"text\": \"\"}, \"zerolinecolor\": \"#E1E5ED\"}},\n",
       "                        {\"showLink\": true, \"linkText\": \"Export to plot.ly\", \"plotlyServerURL\": \"https://plot.ly\", \"responsive\": true}\n",
       "                    ).then(function(){\n",
       "                            \n",
       "var gd = document.getElementById('3455cfa2-e4a0-459c-afc0-2afe3dee4d8b');\n",
       "var x = new MutationObserver(function (mutations, observer) {{\n",
       "        var display = window.getComputedStyle(gd).display;\n",
       "        if (!display || display === 'none') {{\n",
       "            console.log([gd, 'removed!']);\n",
       "            Plotly.purge(gd);\n",
       "            observer.disconnect();\n",
       "        }}\n",
       "}});\n",
       "\n",
       "// Listen for the removal of the full notebook cells\n",
       "var notebookContainer = gd.closest('#notebook-container');\n",
       "if (notebookContainer) {{\n",
       "    x.observe(notebookContainer, {childList: true});\n",
       "}}\n",
       "\n",
       "// Listen for the clearing of the current output cell\n",
       "var outputEl = gd.closest('.output');\n",
       "if (outputEl) {{\n",
       "    x.observe(outputEl, {childList: true});\n",
       "}}\n",
       "\n",
       "                        })\n",
       "                };\n",
       "                });\n",
       "            </script>\n",
       "        </div>"
      ]
     },
     "metadata": {},
     "output_type": "display_data"
    }
   ],
   "source": [
    "df3 = pd.DataFrame({'x':[1,2,3,4,5],'y':[10,20,30,20,10],'z':[5,4,3,2,1]})\n",
    "df3.iplot(kind='surface',colorscale='rdylbu')"
   ]
  },
  {
   "cell_type": "markdown",
   "metadata": {},
   "source": [
    "## Spread"
   ]
  },
  {
   "cell_type": "code",
   "execution_count": 15,
   "metadata": {},
   "outputs": [
    {
     "name": "stderr",
     "output_type": "stream",
     "text": [
      "C:\\Users\\gollu\\anaconda\\lib\\site-packages\\cufflinks\\plotlytools.py:849: FutureWarning:\n",
      "\n",
      "The pandas.np module is deprecated and will be removed from pandas in a future version. Import numpy directly instead\n",
      "\n",
      "C:\\Users\\gollu\\anaconda\\lib\\site-packages\\cufflinks\\plotlytools.py:850: FutureWarning:\n",
      "\n",
      "The pandas.np module is deprecated and will be removed from pandas in a future version. Import numpy directly instead\n",
      "\n"
     ]
    },
    {
     "data": {
      "application/vnd.plotly.v1+json": {
       "config": {
        "linkText": "Export to plot.ly",
        "plotlyServerURL": "https://plot.ly",
        "showLink": true
       },
       "data": [
        {
         "line": {
          "color": "rgba(255, 153, 51, 1.0)",
          "dash": "solid",
          "shape": "linear",
          "width": 1.3
         },
         "mode": "lines",
         "name": "A",
         "text": "",
         "type": "scatter",
         "x": [
          0,
          1,
          2,
          3,
          4,
          5,
          6,
          7,
          8,
          9,
          10,
          11,
          12,
          13,
          14,
          15,
          16,
          17,
          18,
          19,
          20,
          21,
          22,
          23,
          24,
          25,
          26,
          27,
          28,
          29,
          30,
          31,
          32,
          33,
          34,
          35,
          36,
          37,
          38,
          39,
          40,
          41,
          42,
          43,
          44,
          45,
          46,
          47,
          48,
          49,
          50,
          51,
          52,
          53,
          54,
          55,
          56,
          57,
          58,
          59,
          60,
          61,
          62,
          63,
          64,
          65,
          66,
          67,
          68,
          69,
          70,
          71,
          72,
          73,
          74,
          75,
          76,
          77,
          78,
          79,
          80,
          81,
          82,
          83,
          84,
          85,
          86,
          87,
          88,
          89,
          90,
          91,
          92,
          93,
          94,
          95,
          96,
          97,
          98,
          99
         ],
         "y": [
          0.5381855285673716,
          0.5071020305201216,
          0.4389237509487635,
          -0.6247998973105497,
          -0.32856245582140214,
          -0.5549132814916047,
          0.5059612828729726,
          -3.197502476482795,
          -0.20387507115536785,
          0.3459015762781,
          -0.2031519933742461,
          -1.4270667976720735,
          0.12125644113873606,
          -0.041134446239839334,
          0.09942498996999705,
          -0.6716409332021634,
          0.8054591919418969,
          1.6284504463712235,
          -1.0686571236688256,
          -0.6820570283090134,
          1.0601779267043576,
          -0.8874271184205513,
          -0.23584503326298303,
          -1.3723947795930347,
          -0.5272892633343157,
          -0.6442561046802101,
          -1.2512104607334211,
          -0.09174351149493501,
          0.9306815990203132,
          -0.467294899249402,
          0.018392476702123038,
          -1.700457788639387,
          -0.26741137780144897,
          -0.7421803421304896,
          -0.14671882870501557,
          -1.6275386920455386,
          -0.45338390016622215,
          -2.0071863672670602,
          0.1963189215463607,
          -1.4777986997953716,
          -2.1576217433969695,
          -0.7856668199645755,
          -1.2338432754092326,
          1.399825272513358,
          -1.0091689439017615,
          0.09028738823377347,
          -1.5408250419456964,
          0.0990984258625075,
          -0.4343856232182664,
          -1.537700800793354,
          -0.072884287636136,
          -1.0730149201477526,
          1.8456685132367332,
          0.7476570177073996,
          -1.0485473399110965,
          -0.6900292790057106,
          -0.2208261440483984,
          0.2686957612752167,
          -0.22816861670514565,
          0.7311199936618888,
          0.41812057329918606,
          1.0887363338922411,
          -0.3964498621702017,
          0.47286766096396265,
          -0.6027452918287854,
          0.7025165133369287,
          1.4569049926648543,
          0.9999577792691502,
          -1.2811979563182043,
          2.0804623137829674,
          1.539255595278702,
          0.4440631488297732,
          -1.5619867791736421,
          -0.31583137533287053,
          0.3250311620824069,
          -0.4222090529096985,
          1.7248048718981919,
          0.5322881033597029,
          -0.3313064131205352,
          -1.2259399680760918,
          -0.6630691986600332,
          0.043184530012049985,
          1.5981295317194895,
          -1.3508876092805546,
          1.0726560999357118,
          0.3672953794565466,
          -0.4116672934579571,
          0.47793618707943125,
          -1.0741938940368256,
          -0.7194551581808123,
          0.9656653652456971,
          -0.1998839148187243,
          1.1064616751011012,
          -0.3642037624025107,
          0.8254311216681306,
          0.7851611444731269,
          -0.8309895524553557,
          0.44985792521595347,
          1.695413609917251,
          -0.15895796721118688
         ]
        },
        {
         "line": {
          "color": "rgba(55, 128, 191, 1.0)",
          "dash": "solid",
          "shape": "linear",
          "width": 1.3
         },
         "mode": "lines",
         "name": "B",
         "text": "",
         "type": "scatter",
         "x": [
          0,
          1,
          2,
          3,
          4,
          5,
          6,
          7,
          8,
          9,
          10,
          11,
          12,
          13,
          14,
          15,
          16,
          17,
          18,
          19,
          20,
          21,
          22,
          23,
          24,
          25,
          26,
          27,
          28,
          29,
          30,
          31,
          32,
          33,
          34,
          35,
          36,
          37,
          38,
          39,
          40,
          41,
          42,
          43,
          44,
          45,
          46,
          47,
          48,
          49,
          50,
          51,
          52,
          53,
          54,
          55,
          56,
          57,
          58,
          59,
          60,
          61,
          62,
          63,
          64,
          65,
          66,
          67,
          68,
          69,
          70,
          71,
          72,
          73,
          74,
          75,
          76,
          77,
          78,
          79,
          80,
          81,
          82,
          83,
          84,
          85,
          86,
          87,
          88,
          89,
          90,
          91,
          92,
          93,
          94,
          95,
          96,
          97,
          98,
          99
         ],
         "y": [
          0.6301674583573214,
          -1.561675696183232,
          0.6365258247311377,
          -0.22324860617551084,
          -1.6736946321158042,
          -0.15927706452952708,
          0.36989298593237285,
          1.3085200046585113,
          0.7159183818614192,
          1.4170368007607066,
          -0.8484128249213295,
          0.24290160075968745,
          1.0795918353343301,
          -0.8157998727705896,
          -0.7184505150668109,
          -0.11568818097186227,
          -1.2901791636364424,
          0.8400081678160328,
          -0.6676702261888512,
          -1.011257076667859,
          -0.6892287441692668,
          -0.23102459810075973,
          -0.21170064669943212,
          -0.20028233251560987,
          -1.078408181836114,
          1.462130966067993,
          -0.17927997159447678,
          -0.13052020849949877,
          0.4682168592110732,
          -1.5877343509461137,
          -0.6710951925528772,
          0.05576752593607448,
          0.5362381928866289,
          -0.34225661814037467,
          0.581933321085821,
          0.3947906536929084,
          0.01940690313621235,
          -0.2163038164030735,
          -1.4955367906604886,
          0.23791928037571633,
          -1.0977453084165723,
          0.5335144230984808,
          2.0993808494993873,
          -0.49490813917873455,
          0.3941349794262045,
          -0.3772928341008689,
          1.3048292635035965,
          -0.46672612038687655,
          -1.120489037175442,
          1.9940005382078847,
          0.20060951912701863,
          0.57128240835606,
          0.7145821222961338,
          1.4105370810949298,
          0.4049315688775944,
          0.8458061881151208,
          -0.7609317914602187,
          -1.6481370061848084,
          -0.8873946431515575,
          -1.0683226547519797,
          -0.5316480238934537,
          0.03361078302762433,
          -1.0363017034596884,
          0.658821017661889,
          -1.0755800129807123,
          0.9911979331699334,
          0.5361321263657128,
          0.988419798692416,
          -1.6384158410384904,
          -0.054614895140455734,
          -1.489486347353061,
          1.0573670070827268,
          -0.005366874743519029,
          -1.5582928434235677,
          1.3867439202182168,
          0.27510525110981254,
          -0.0661353713844357,
          0.4527693556244209,
          0.39889118623618947,
          1.3379470102985798,
          -0.9202241393884216,
          -0.7964312895565369,
          -0.6412882079248059,
          -0.7646490980947728,
          0.7922507978202409,
          -0.24143865713923998,
          0.6883199050793065,
          -0.44232087555933497,
          -0.46421476004079404,
          0.14348851689963255,
          -0.8266849594361187,
          -0.1976183507463993,
          1.1679312356869895,
          0.5426240028902773,
          -0.2893004673286161,
          0.6621600474085508,
          -1.2471603427386846,
          1.0389478529243041,
          -0.048911234267454785,
          0.2695699427674912
         ]
        },
        {
         "connectgaps": false,
         "fill": "tozeroy",
         "line": {
          "color": "green",
          "dash": "solid",
          "shape": "linear",
          "width": 0.5
         },
         "mode": "lines",
         "name": "Spread",
         "showlegend": false,
         "type": "scatter",
         "x": [
          0,
          1,
          2,
          3,
          4,
          5,
          6,
          7,
          8,
          9,
          10,
          11,
          12,
          13,
          14,
          15,
          16,
          17,
          18,
          19,
          20,
          21,
          22,
          23,
          24,
          25,
          26,
          27,
          28,
          29,
          30,
          31,
          32,
          33,
          34,
          35,
          36,
          37,
          38,
          39,
          40,
          41,
          42,
          43,
          44,
          45,
          46,
          47,
          48,
          49,
          50,
          51,
          52,
          53,
          54,
          55,
          56,
          57,
          58,
          59,
          60,
          61,
          62,
          63,
          64,
          65,
          66,
          67,
          68,
          69,
          70,
          71,
          72,
          73,
          74,
          75,
          76,
          77,
          78,
          79,
          80,
          81,
          82,
          83,
          84,
          85,
          86,
          87,
          88,
          89,
          90,
          91,
          92,
          93,
          94,
          95,
          96,
          97,
          98,
          99
         ],
         "xaxis": "x2",
         "y": [
          "",
          2.068777726703354,
          "",
          "",
          1.345132176294402,
          "",
          0.13606829694059974,
          "",
          "",
          "",
          0.6452608315470834,
          "",
          "",
          0.7746654265307503,
          0.817875505036808,
          "",
          2.0956383555783393,
          0.7884422785551907,
          "",
          0.32920004835884564,
          1.7494066708736244,
          "",
          "",
          "",
          0.5511189185017983,
          "",
          "",
          0.038776697004563765,
          0.46246473980924,
          1.1204394516967118,
          0.6894876692550003,
          "",
          "",
          "",
          "",
          "",
          "",
          "",
          1.6918557122068494,
          "",
          "",
          "",
          "",
          1.8947334116920924,
          "",
          0.46758022233464236,
          "",
          0.565824546249384,
          0.6861034139571756,
          "",
          "",
          "",
          1.1310863909405993,
          "",
          "",
          "",
          0.5401056474118203,
          1.9168327674600252,
          0.6592260264464118,
          1.7994426484138686,
          0.9497685971926397,
          1.0551255508646167,
          0.6398518412894867,
          "",
          0.4728347211519268,
          "",
          0.9207728662991415,
          0.011537980576734164,
          0.35721788472028604,
          2.1350772089234233,
          3.028741942631763,
          "",
          "",
          1.2424614680906971,
          "",
          "",
          1.7909402432826276,
          0.079518747735282,
          "",
          "",
          0.2571549407283884,
          0.8396158195685869,
          2.2394177396442956,
          "",
          0.2804053021154709,
          0.6087340365957866,
          "",
          0.9202570626387663,
          "",
          "",
          1.792350324681816,
          "",
          "",
          "",
          1.1147315889967466,
          0.12300109706457607,
          0.41617079028332893,
          "",
          1.7443248441847057,
          ""
         ],
         "yaxis": "y2"
        },
        {
         "connectgaps": false,
         "fill": "tozeroy",
         "line": {
          "color": "red",
          "dash": "solid",
          "shape": "linear",
          "width": 0.5
         },
         "mode": "lines",
         "name": "Spread",
         "showlegend": false,
         "type": "scatter",
         "x": [
          0,
          1,
          2,
          3,
          4,
          5,
          6,
          7,
          8,
          9,
          10,
          11,
          12,
          13,
          14,
          15,
          16,
          17,
          18,
          19,
          20,
          21,
          22,
          23,
          24,
          25,
          26,
          27,
          28,
          29,
          30,
          31,
          32,
          33,
          34,
          35,
          36,
          37,
          38,
          39,
          40,
          41,
          42,
          43,
          44,
          45,
          46,
          47,
          48,
          49,
          50,
          51,
          52,
          53,
          54,
          55,
          56,
          57,
          58,
          59,
          60,
          61,
          62,
          63,
          64,
          65,
          66,
          67,
          68,
          69,
          70,
          71,
          72,
          73,
          74,
          75,
          76,
          77,
          78,
          79,
          80,
          81,
          82,
          83,
          84,
          85,
          86,
          87,
          88,
          89,
          90,
          91,
          92,
          93,
          94,
          95,
          96,
          97,
          98,
          99
         ],
         "xaxis": "x2",
         "y": [
          -0.09198192978994979,
          "",
          -0.1976020737823742,
          -0.4015512911350389,
          "",
          -0.3956362169620776,
          "",
          -4.506022481141306,
          -0.919793453016787,
          -1.0711352244826067,
          "",
          -1.6699683984317608,
          -0.9583353941955941,
          "",
          "",
          -0.5559527522303012,
          "",
          "",
          -0.4009868974799744,
          "",
          "",
          -0.6564025203197916,
          -0.024144386563550918,
          -1.172112447077425,
          "",
          -2.106387070748203,
          -1.0719304891389443,
          "",
          "",
          "",
          "",
          -1.7562253145754614,
          -0.8036495706880779,
          -0.3999237239901149,
          -0.7286521497908365,
          -2.022329345738447,
          -0.4727908033024345,
          -1.7908825508639867,
          "",
          -1.715717980171088,
          -1.0598764349803973,
          -1.3191812430630563,
          -3.33322412490862,
          "",
          -1.403303923327966,
          "",
          -2.845654305449293,
          "",
          "",
          -3.5317013390012386,
          -0.2734938067631546,
          -1.6442973285038125,
          "",
          -0.6628800633875302,
          -1.453478908788691,
          -1.5358354671208314,
          "",
          "",
          "",
          "",
          "",
          "",
          "",
          -0.1859533566979264,
          "",
          -0.28868141983300477,
          "",
          "",
          "",
          "",
          "",
          -0.6133038582529535,
          -1.5566199044301232,
          "",
          -1.06171275813581,
          -0.6973143040195111,
          "",
          "",
          -0.7301975993567247,
          -2.5638869783746716,
          "",
          "",
          "",
          -0.5862385111857819,
          "",
          "",
          -1.0999871985372636,
          "",
          -0.6099791339960317,
          -0.8629436750804449,
          "",
          -0.002265564072325005,
          -0.06146956058588837,
          -0.9068277652927881,
          "",
          "",
          "",
          -0.5890899277083507,
          "",
          -0.42852790997867807
         ],
         "yaxis": "y2"
        }
       ],
       "layout": {
        "hovermode": "x",
        "legend": {
         "bgcolor": "#F5F6F9",
         "font": {
          "color": "#4D5663"
         }
        },
        "paper_bgcolor": "#F5F6F9",
        "plot_bgcolor": "#F5F6F9",
        "template": {
         "data": {
          "bar": [
           {
            "error_x": {
             "color": "#2a3f5f"
            },
            "error_y": {
             "color": "#2a3f5f"
            },
            "marker": {
             "line": {
              "color": "#E5ECF6",
              "width": 0.5
             }
            },
            "type": "bar"
           }
          ],
          "barpolar": [
           {
            "marker": {
             "line": {
              "color": "#E5ECF6",
              "width": 0.5
             }
            },
            "type": "barpolar"
           }
          ],
          "carpet": [
           {
            "aaxis": {
             "endlinecolor": "#2a3f5f",
             "gridcolor": "white",
             "linecolor": "white",
             "minorgridcolor": "white",
             "startlinecolor": "#2a3f5f"
            },
            "baxis": {
             "endlinecolor": "#2a3f5f",
             "gridcolor": "white",
             "linecolor": "white",
             "minorgridcolor": "white",
             "startlinecolor": "#2a3f5f"
            },
            "type": "carpet"
           }
          ],
          "choropleth": [
           {
            "colorbar": {
             "outlinewidth": 0,
             "ticks": ""
            },
            "type": "choropleth"
           }
          ],
          "contour": [
           {
            "colorbar": {
             "outlinewidth": 0,
             "ticks": ""
            },
            "colorscale": [
             [
              0,
              "#0d0887"
             ],
             [
              0.1111111111111111,
              "#46039f"
             ],
             [
              0.2222222222222222,
              "#7201a8"
             ],
             [
              0.3333333333333333,
              "#9c179e"
             ],
             [
              0.4444444444444444,
              "#bd3786"
             ],
             [
              0.5555555555555556,
              "#d8576b"
             ],
             [
              0.6666666666666666,
              "#ed7953"
             ],
             [
              0.7777777777777778,
              "#fb9f3a"
             ],
             [
              0.8888888888888888,
              "#fdca26"
             ],
             [
              1,
              "#f0f921"
             ]
            ],
            "type": "contour"
           }
          ],
          "contourcarpet": [
           {
            "colorbar": {
             "outlinewidth": 0,
             "ticks": ""
            },
            "type": "contourcarpet"
           }
          ],
          "heatmap": [
           {
            "colorbar": {
             "outlinewidth": 0,
             "ticks": ""
            },
            "colorscale": [
             [
              0,
              "#0d0887"
             ],
             [
              0.1111111111111111,
              "#46039f"
             ],
             [
              0.2222222222222222,
              "#7201a8"
             ],
             [
              0.3333333333333333,
              "#9c179e"
             ],
             [
              0.4444444444444444,
              "#bd3786"
             ],
             [
              0.5555555555555556,
              "#d8576b"
             ],
             [
              0.6666666666666666,
              "#ed7953"
             ],
             [
              0.7777777777777778,
              "#fb9f3a"
             ],
             [
              0.8888888888888888,
              "#fdca26"
             ],
             [
              1,
              "#f0f921"
             ]
            ],
            "type": "heatmap"
           }
          ],
          "heatmapgl": [
           {
            "colorbar": {
             "outlinewidth": 0,
             "ticks": ""
            },
            "colorscale": [
             [
              0,
              "#0d0887"
             ],
             [
              0.1111111111111111,
              "#46039f"
             ],
             [
              0.2222222222222222,
              "#7201a8"
             ],
             [
              0.3333333333333333,
              "#9c179e"
             ],
             [
              0.4444444444444444,
              "#bd3786"
             ],
             [
              0.5555555555555556,
              "#d8576b"
             ],
             [
              0.6666666666666666,
              "#ed7953"
             ],
             [
              0.7777777777777778,
              "#fb9f3a"
             ],
             [
              0.8888888888888888,
              "#fdca26"
             ],
             [
              1,
              "#f0f921"
             ]
            ],
            "type": "heatmapgl"
           }
          ],
          "histogram": [
           {
            "marker": {
             "colorbar": {
              "outlinewidth": 0,
              "ticks": ""
             }
            },
            "type": "histogram"
           }
          ],
          "histogram2d": [
           {
            "colorbar": {
             "outlinewidth": 0,
             "ticks": ""
            },
            "colorscale": [
             [
              0,
              "#0d0887"
             ],
             [
              0.1111111111111111,
              "#46039f"
             ],
             [
              0.2222222222222222,
              "#7201a8"
             ],
             [
              0.3333333333333333,
              "#9c179e"
             ],
             [
              0.4444444444444444,
              "#bd3786"
             ],
             [
              0.5555555555555556,
              "#d8576b"
             ],
             [
              0.6666666666666666,
              "#ed7953"
             ],
             [
              0.7777777777777778,
              "#fb9f3a"
             ],
             [
              0.8888888888888888,
              "#fdca26"
             ],
             [
              1,
              "#f0f921"
             ]
            ],
            "type": "histogram2d"
           }
          ],
          "histogram2dcontour": [
           {
            "colorbar": {
             "outlinewidth": 0,
             "ticks": ""
            },
            "colorscale": [
             [
              0,
              "#0d0887"
             ],
             [
              0.1111111111111111,
              "#46039f"
             ],
             [
              0.2222222222222222,
              "#7201a8"
             ],
             [
              0.3333333333333333,
              "#9c179e"
             ],
             [
              0.4444444444444444,
              "#bd3786"
             ],
             [
              0.5555555555555556,
              "#d8576b"
             ],
             [
              0.6666666666666666,
              "#ed7953"
             ],
             [
              0.7777777777777778,
              "#fb9f3a"
             ],
             [
              0.8888888888888888,
              "#fdca26"
             ],
             [
              1,
              "#f0f921"
             ]
            ],
            "type": "histogram2dcontour"
           }
          ],
          "mesh3d": [
           {
            "colorbar": {
             "outlinewidth": 0,
             "ticks": ""
            },
            "type": "mesh3d"
           }
          ],
          "parcoords": [
           {
            "line": {
             "colorbar": {
              "outlinewidth": 0,
              "ticks": ""
             }
            },
            "type": "parcoords"
           }
          ],
          "pie": [
           {
            "automargin": true,
            "type": "pie"
           }
          ],
          "scatter": [
           {
            "marker": {
             "colorbar": {
              "outlinewidth": 0,
              "ticks": ""
             }
            },
            "type": "scatter"
           }
          ],
          "scatter3d": [
           {
            "line": {
             "colorbar": {
              "outlinewidth": 0,
              "ticks": ""
             }
            },
            "marker": {
             "colorbar": {
              "outlinewidth": 0,
              "ticks": ""
             }
            },
            "type": "scatter3d"
           }
          ],
          "scattercarpet": [
           {
            "marker": {
             "colorbar": {
              "outlinewidth": 0,
              "ticks": ""
             }
            },
            "type": "scattercarpet"
           }
          ],
          "scattergeo": [
           {
            "marker": {
             "colorbar": {
              "outlinewidth": 0,
              "ticks": ""
             }
            },
            "type": "scattergeo"
           }
          ],
          "scattergl": [
           {
            "marker": {
             "colorbar": {
              "outlinewidth": 0,
              "ticks": ""
             }
            },
            "type": "scattergl"
           }
          ],
          "scattermapbox": [
           {
            "marker": {
             "colorbar": {
              "outlinewidth": 0,
              "ticks": ""
             }
            },
            "type": "scattermapbox"
           }
          ],
          "scatterpolar": [
           {
            "marker": {
             "colorbar": {
              "outlinewidth": 0,
              "ticks": ""
             }
            },
            "type": "scatterpolar"
           }
          ],
          "scatterpolargl": [
           {
            "marker": {
             "colorbar": {
              "outlinewidth": 0,
              "ticks": ""
             }
            },
            "type": "scatterpolargl"
           }
          ],
          "scatterternary": [
           {
            "marker": {
             "colorbar": {
              "outlinewidth": 0,
              "ticks": ""
             }
            },
            "type": "scatterternary"
           }
          ],
          "surface": [
           {
            "colorbar": {
             "outlinewidth": 0,
             "ticks": ""
            },
            "colorscale": [
             [
              0,
              "#0d0887"
             ],
             [
              0.1111111111111111,
              "#46039f"
             ],
             [
              0.2222222222222222,
              "#7201a8"
             ],
             [
              0.3333333333333333,
              "#9c179e"
             ],
             [
              0.4444444444444444,
              "#bd3786"
             ],
             [
              0.5555555555555556,
              "#d8576b"
             ],
             [
              0.6666666666666666,
              "#ed7953"
             ],
             [
              0.7777777777777778,
              "#fb9f3a"
             ],
             [
              0.8888888888888888,
              "#fdca26"
             ],
             [
              1,
              "#f0f921"
             ]
            ],
            "type": "surface"
           }
          ],
          "table": [
           {
            "cells": {
             "fill": {
              "color": "#EBF0F8"
             },
             "line": {
              "color": "white"
             }
            },
            "header": {
             "fill": {
              "color": "#C8D4E3"
             },
             "line": {
              "color": "white"
             }
            },
            "type": "table"
           }
          ]
         },
         "layout": {
          "annotationdefaults": {
           "arrowcolor": "#2a3f5f",
           "arrowhead": 0,
           "arrowwidth": 1
          },
          "coloraxis": {
           "colorbar": {
            "outlinewidth": 0,
            "ticks": ""
           }
          },
          "colorscale": {
           "diverging": [
            [
             0,
             "#8e0152"
            ],
            [
             0.1,
             "#c51b7d"
            ],
            [
             0.2,
             "#de77ae"
            ],
            [
             0.3,
             "#f1b6da"
            ],
            [
             0.4,
             "#fde0ef"
            ],
            [
             0.5,
             "#f7f7f7"
            ],
            [
             0.6,
             "#e6f5d0"
            ],
            [
             0.7,
             "#b8e186"
            ],
            [
             0.8,
             "#7fbc41"
            ],
            [
             0.9,
             "#4d9221"
            ],
            [
             1,
             "#276419"
            ]
           ],
           "sequential": [
            [
             0,
             "#0d0887"
            ],
            [
             0.1111111111111111,
             "#46039f"
            ],
            [
             0.2222222222222222,
             "#7201a8"
            ],
            [
             0.3333333333333333,
             "#9c179e"
            ],
            [
             0.4444444444444444,
             "#bd3786"
            ],
            [
             0.5555555555555556,
             "#d8576b"
            ],
            [
             0.6666666666666666,
             "#ed7953"
            ],
            [
             0.7777777777777778,
             "#fb9f3a"
            ],
            [
             0.8888888888888888,
             "#fdca26"
            ],
            [
             1,
             "#f0f921"
            ]
           ],
           "sequentialminus": [
            [
             0,
             "#0d0887"
            ],
            [
             0.1111111111111111,
             "#46039f"
            ],
            [
             0.2222222222222222,
             "#7201a8"
            ],
            [
             0.3333333333333333,
             "#9c179e"
            ],
            [
             0.4444444444444444,
             "#bd3786"
            ],
            [
             0.5555555555555556,
             "#d8576b"
            ],
            [
             0.6666666666666666,
             "#ed7953"
            ],
            [
             0.7777777777777778,
             "#fb9f3a"
            ],
            [
             0.8888888888888888,
             "#fdca26"
            ],
            [
             1,
             "#f0f921"
            ]
           ]
          },
          "colorway": [
           "#636efa",
           "#EF553B",
           "#00cc96",
           "#ab63fa",
           "#FFA15A",
           "#19d3f3",
           "#FF6692",
           "#B6E880",
           "#FF97FF",
           "#FECB52"
          ],
          "font": {
           "color": "#2a3f5f"
          },
          "geo": {
           "bgcolor": "white",
           "lakecolor": "white",
           "landcolor": "#E5ECF6",
           "showlakes": true,
           "showland": true,
           "subunitcolor": "white"
          },
          "hoverlabel": {
           "align": "left"
          },
          "hovermode": "closest",
          "mapbox": {
           "style": "light"
          },
          "paper_bgcolor": "white",
          "plot_bgcolor": "#E5ECF6",
          "polar": {
           "angularaxis": {
            "gridcolor": "white",
            "linecolor": "white",
            "ticks": ""
           },
           "bgcolor": "#E5ECF6",
           "radialaxis": {
            "gridcolor": "white",
            "linecolor": "white",
            "ticks": ""
           }
          },
          "scene": {
           "xaxis": {
            "backgroundcolor": "#E5ECF6",
            "gridcolor": "white",
            "gridwidth": 2,
            "linecolor": "white",
            "showbackground": true,
            "ticks": "",
            "zerolinecolor": "white"
           },
           "yaxis": {
            "backgroundcolor": "#E5ECF6",
            "gridcolor": "white",
            "gridwidth": 2,
            "linecolor": "white",
            "showbackground": true,
            "ticks": "",
            "zerolinecolor": "white"
           },
           "zaxis": {
            "backgroundcolor": "#E5ECF6",
            "gridcolor": "white",
            "gridwidth": 2,
            "linecolor": "white",
            "showbackground": true,
            "ticks": "",
            "zerolinecolor": "white"
           }
          },
          "shapedefaults": {
           "line": {
            "color": "#2a3f5f"
           }
          },
          "ternary": {
           "aaxis": {
            "gridcolor": "white",
            "linecolor": "white",
            "ticks": ""
           },
           "baxis": {
            "gridcolor": "white",
            "linecolor": "white",
            "ticks": ""
           },
           "bgcolor": "#E5ECF6",
           "caxis": {
            "gridcolor": "white",
            "linecolor": "white",
            "ticks": ""
           }
          },
          "title": {
           "x": 0.05
          },
          "xaxis": {
           "automargin": true,
           "gridcolor": "white",
           "linecolor": "white",
           "ticks": "",
           "title": {
            "standoff": 15
           },
           "zerolinecolor": "white",
           "zerolinewidth": 2
          },
          "yaxis": {
           "automargin": true,
           "gridcolor": "white",
           "linecolor": "white",
           "ticks": "",
           "title": {
            "standoff": 15
           },
           "zerolinecolor": "white",
           "zerolinewidth": 2
          }
         }
        },
        "title": {
         "font": {
          "color": "#4D5663"
         }
        },
        "xaxis": {
         "gridcolor": "#E1E5ED",
         "showgrid": true,
         "tickfont": {
          "color": "#4D5663"
         },
         "title": {
          "font": {
           "color": "#4D5663"
          },
          "text": ""
         },
         "zerolinecolor": "#E1E5ED"
        },
        "xaxis2": {
         "anchor": "y2",
         "gridcolor": "#E1E5ED",
         "showgrid": true,
         "showticklabels": false,
         "tickfont": {
          "color": "#4D5663"
         },
         "title": {
          "font": {
           "color": "#4D5663"
          },
          "text": ""
         },
         "zerolinecolor": "#E1E5ED"
        },
        "yaxis": {
         "domain": [
          0.3,
          1
         ],
         "gridcolor": "#E1E5ED",
         "showgrid": true,
         "tickfont": {
          "color": "#4D5663"
         },
         "title": {
          "font": {
           "color": "#4D5663"
          },
          "text": ""
         },
         "zerolinecolor": "#E1E5ED"
        },
        "yaxis2": {
         "domain": [
          0,
          0.25
         ],
         "gridcolor": "#E1E5ED",
         "showgrid": true,
         "tickfont": {
          "color": "#4D5663"
         },
         "title": {
          "font": {
           "color": "#4D5663"
          },
          "text": "Spread"
         },
         "zerolinecolor": "#E1E5ED"
        }
       }
      },
      "text/html": [
       "<div>\n",
       "        \n",
       "        \n",
       "            <div id=\"a11d8718-b031-4663-927c-a9e95117c3fa\" class=\"plotly-graph-div\" style=\"height:525px; width:100%;\"></div>\n",
       "            <script type=\"text/javascript\">\n",
       "                require([\"plotly\"], function(Plotly) {\n",
       "                    window.PLOTLYENV=window.PLOTLYENV || {};\n",
       "                    window.PLOTLYENV.BASE_URL='https://plot.ly';\n",
       "                    \n",
       "                if (document.getElementById(\"a11d8718-b031-4663-927c-a9e95117c3fa\")) {\n",
       "                    Plotly.newPlot(\n",
       "                        'a11d8718-b031-4663-927c-a9e95117c3fa',\n",
       "                        [{\"line\": {\"color\": \"rgba(255, 153, 51, 1.0)\", \"dash\": \"solid\", \"shape\": \"linear\", \"width\": 1.3}, \"mode\": \"lines\", \"name\": \"A\", \"text\": \"\", \"type\": \"scatter\", \"x\": [0, 1, 2, 3, 4, 5, 6, 7, 8, 9, 10, 11, 12, 13, 14, 15, 16, 17, 18, 19, 20, 21, 22, 23, 24, 25, 26, 27, 28, 29, 30, 31, 32, 33, 34, 35, 36, 37, 38, 39, 40, 41, 42, 43, 44, 45, 46, 47, 48, 49, 50, 51, 52, 53, 54, 55, 56, 57, 58, 59, 60, 61, 62, 63, 64, 65, 66, 67, 68, 69, 70, 71, 72, 73, 74, 75, 76, 77, 78, 79, 80, 81, 82, 83, 84, 85, 86, 87, 88, 89, 90, 91, 92, 93, 94, 95, 96, 97, 98, 99], \"y\": [0.5381855285673716, 0.5071020305201216, 0.4389237509487635, -0.6247998973105497, -0.32856245582140214, -0.5549132814916047, 0.5059612828729726, -3.197502476482795, -0.20387507115536785, 0.3459015762781, -0.2031519933742461, -1.4270667976720735, 0.12125644113873606, -0.041134446239839334, 0.09942498996999705, -0.6716409332021634, 0.8054591919418969, 1.6284504463712235, -1.0686571236688256, -0.6820570283090134, 1.0601779267043576, -0.8874271184205513, -0.23584503326298303, -1.3723947795930347, -0.5272892633343157, -0.6442561046802101, -1.2512104607334211, -0.09174351149493501, 0.9306815990203132, -0.467294899249402, 0.018392476702123038, -1.700457788639387, -0.26741137780144897, -0.7421803421304896, -0.14671882870501557, -1.6275386920455386, -0.45338390016622215, -2.0071863672670602, 0.1963189215463607, -1.4777986997953716, -2.1576217433969695, -0.7856668199645755, -1.2338432754092326, 1.399825272513358, -1.0091689439017615, 0.09028738823377347, -1.5408250419456964, 0.0990984258625075, -0.4343856232182664, -1.537700800793354, -0.072884287636136, -1.0730149201477526, 1.8456685132367332, 0.7476570177073996, -1.0485473399110965, -0.6900292790057106, -0.2208261440483984, 0.2686957612752167, -0.22816861670514565, 0.7311199936618888, 0.41812057329918606, 1.0887363338922411, -0.3964498621702017, 0.47286766096396265, -0.6027452918287854, 0.7025165133369287, 1.4569049926648543, 0.9999577792691502, -1.2811979563182043, 2.0804623137829674, 1.539255595278702, 0.4440631488297732, -1.5619867791736421, -0.31583137533287053, 0.3250311620824069, -0.4222090529096985, 1.7248048718981919, 0.5322881033597029, -0.3313064131205352, -1.2259399680760918, -0.6630691986600332, 0.043184530012049985, 1.5981295317194895, -1.3508876092805546, 1.0726560999357118, 0.3672953794565466, -0.4116672934579571, 0.47793618707943125, -1.0741938940368256, -0.7194551581808123, 0.9656653652456971, -0.1998839148187243, 1.1064616751011012, -0.3642037624025107, 0.8254311216681306, 0.7851611444731269, -0.8309895524553557, 0.44985792521595347, 1.695413609917251, -0.15895796721118688]}, {\"line\": {\"color\": \"rgba(55, 128, 191, 1.0)\", \"dash\": \"solid\", \"shape\": \"linear\", \"width\": 1.3}, \"mode\": \"lines\", \"name\": \"B\", \"text\": \"\", \"type\": \"scatter\", \"x\": [0, 1, 2, 3, 4, 5, 6, 7, 8, 9, 10, 11, 12, 13, 14, 15, 16, 17, 18, 19, 20, 21, 22, 23, 24, 25, 26, 27, 28, 29, 30, 31, 32, 33, 34, 35, 36, 37, 38, 39, 40, 41, 42, 43, 44, 45, 46, 47, 48, 49, 50, 51, 52, 53, 54, 55, 56, 57, 58, 59, 60, 61, 62, 63, 64, 65, 66, 67, 68, 69, 70, 71, 72, 73, 74, 75, 76, 77, 78, 79, 80, 81, 82, 83, 84, 85, 86, 87, 88, 89, 90, 91, 92, 93, 94, 95, 96, 97, 98, 99], \"y\": [0.6301674583573214, -1.561675696183232, 0.6365258247311377, -0.22324860617551084, -1.6736946321158042, -0.15927706452952708, 0.36989298593237285, 1.3085200046585113, 0.7159183818614192, 1.4170368007607066, -0.8484128249213295, 0.24290160075968745, 1.0795918353343301, -0.8157998727705896, -0.7184505150668109, -0.11568818097186227, -1.2901791636364424, 0.8400081678160328, -0.6676702261888512, -1.011257076667859, -0.6892287441692668, -0.23102459810075973, -0.21170064669943212, -0.20028233251560987, -1.078408181836114, 1.462130966067993, -0.17927997159447678, -0.13052020849949877, 0.4682168592110732, -1.5877343509461137, -0.6710951925528772, 0.05576752593607448, 0.5362381928866289, -0.34225661814037467, 0.581933321085821, 0.3947906536929084, 0.01940690313621235, -0.2163038164030735, -1.4955367906604886, 0.23791928037571633, -1.0977453084165723, 0.5335144230984808, 2.0993808494993873, -0.49490813917873455, 0.3941349794262045, -0.3772928341008689, 1.3048292635035965, -0.46672612038687655, -1.120489037175442, 1.9940005382078847, 0.20060951912701863, 0.57128240835606, 0.7145821222961338, 1.4105370810949298, 0.4049315688775944, 0.8458061881151208, -0.7609317914602187, -1.6481370061848084, -0.8873946431515575, -1.0683226547519797, -0.5316480238934537, 0.03361078302762433, -1.0363017034596884, 0.658821017661889, -1.0755800129807123, 0.9911979331699334, 0.5361321263657128, 0.988419798692416, -1.6384158410384904, -0.054614895140455734, -1.489486347353061, 1.0573670070827268, -0.005366874743519029, -1.5582928434235677, 1.3867439202182168, 0.27510525110981254, -0.0661353713844357, 0.4527693556244209, 0.39889118623618947, 1.3379470102985798, -0.9202241393884216, -0.7964312895565369, -0.6412882079248059, -0.7646490980947728, 0.7922507978202409, -0.24143865713923998, 0.6883199050793065, -0.44232087555933497, -0.46421476004079404, 0.14348851689963255, -0.8266849594361187, -0.1976183507463993, 1.1679312356869895, 0.5426240028902773, -0.2893004673286161, 0.6621600474085508, -1.2471603427386846, 1.0389478529243041, -0.048911234267454785, 0.2695699427674912]}, {\"connectgaps\": false, \"fill\": \"tozeroy\", \"line\": {\"color\": \"green\", \"dash\": \"solid\", \"shape\": \"linear\", \"width\": 0.5}, \"mode\": \"lines\", \"name\": \"Spread\", \"showlegend\": false, \"type\": \"scatter\", \"x\": [0, 1, 2, 3, 4, 5, 6, 7, 8, 9, 10, 11, 12, 13, 14, 15, 16, 17, 18, 19, 20, 21, 22, 23, 24, 25, 26, 27, 28, 29, 30, 31, 32, 33, 34, 35, 36, 37, 38, 39, 40, 41, 42, 43, 44, 45, 46, 47, 48, 49, 50, 51, 52, 53, 54, 55, 56, 57, 58, 59, 60, 61, 62, 63, 64, 65, 66, 67, 68, 69, 70, 71, 72, 73, 74, 75, 76, 77, 78, 79, 80, 81, 82, 83, 84, 85, 86, 87, 88, 89, 90, 91, 92, 93, 94, 95, 96, 97, 98, 99], \"xaxis\": \"x2\", \"y\": [\"\", 2.068777726703354, \"\", \"\", 1.345132176294402, \"\", 0.13606829694059974, \"\", \"\", \"\", 0.6452608315470834, \"\", \"\", 0.7746654265307503, 0.817875505036808, \"\", 2.0956383555783393, 0.7884422785551907, \"\", 0.32920004835884564, 1.7494066708736244, \"\", \"\", \"\", 0.5511189185017983, \"\", \"\", 0.038776697004563765, 0.46246473980924, 1.1204394516967118, 0.6894876692550003, \"\", \"\", \"\", \"\", \"\", \"\", \"\", 1.6918557122068494, \"\", \"\", \"\", \"\", 1.8947334116920924, \"\", 0.46758022233464236, \"\", 0.565824546249384, 0.6861034139571756, \"\", \"\", \"\", 1.1310863909405993, \"\", \"\", \"\", 0.5401056474118203, 1.9168327674600252, 0.6592260264464118, 1.7994426484138686, 0.9497685971926397, 1.0551255508646167, 0.6398518412894867, \"\", 0.4728347211519268, \"\", 0.9207728662991415, 0.011537980576734164, 0.35721788472028604, 2.1350772089234233, 3.028741942631763, \"\", \"\", 1.2424614680906971, \"\", \"\", 1.7909402432826276, 0.079518747735282, \"\", \"\", 0.2571549407283884, 0.8396158195685869, 2.2394177396442956, \"\", 0.2804053021154709, 0.6087340365957866, \"\", 0.9202570626387663, \"\", \"\", 1.792350324681816, \"\", \"\", \"\", 1.1147315889967466, 0.12300109706457607, 0.41617079028332893, \"\", 1.7443248441847057, \"\"], \"yaxis\": \"y2\"}, {\"connectgaps\": false, \"fill\": \"tozeroy\", \"line\": {\"color\": \"red\", \"dash\": \"solid\", \"shape\": \"linear\", \"width\": 0.5}, \"mode\": \"lines\", \"name\": \"Spread\", \"showlegend\": false, \"type\": \"scatter\", \"x\": [0, 1, 2, 3, 4, 5, 6, 7, 8, 9, 10, 11, 12, 13, 14, 15, 16, 17, 18, 19, 20, 21, 22, 23, 24, 25, 26, 27, 28, 29, 30, 31, 32, 33, 34, 35, 36, 37, 38, 39, 40, 41, 42, 43, 44, 45, 46, 47, 48, 49, 50, 51, 52, 53, 54, 55, 56, 57, 58, 59, 60, 61, 62, 63, 64, 65, 66, 67, 68, 69, 70, 71, 72, 73, 74, 75, 76, 77, 78, 79, 80, 81, 82, 83, 84, 85, 86, 87, 88, 89, 90, 91, 92, 93, 94, 95, 96, 97, 98, 99], \"xaxis\": \"x2\", \"y\": [-0.09198192978994979, \"\", -0.1976020737823742, -0.4015512911350389, \"\", -0.3956362169620776, \"\", -4.506022481141306, -0.919793453016787, -1.0711352244826067, \"\", -1.6699683984317608, -0.9583353941955941, \"\", \"\", -0.5559527522303012, \"\", \"\", -0.4009868974799744, \"\", \"\", -0.6564025203197916, -0.024144386563550918, -1.172112447077425, \"\", -2.106387070748203, -1.0719304891389443, \"\", \"\", \"\", \"\", -1.7562253145754614, -0.8036495706880779, -0.3999237239901149, -0.7286521497908365, -2.022329345738447, -0.4727908033024345, -1.7908825508639867, \"\", -1.715717980171088, -1.0598764349803973, -1.3191812430630563, -3.33322412490862, \"\", -1.403303923327966, \"\", -2.845654305449293, \"\", \"\", -3.5317013390012386, -0.2734938067631546, -1.6442973285038125, \"\", -0.6628800633875302, -1.453478908788691, -1.5358354671208314, \"\", \"\", \"\", \"\", \"\", \"\", \"\", -0.1859533566979264, \"\", -0.28868141983300477, \"\", \"\", \"\", \"\", \"\", -0.6133038582529535, -1.5566199044301232, \"\", -1.06171275813581, -0.6973143040195111, \"\", \"\", -0.7301975993567247, -2.5638869783746716, \"\", \"\", \"\", -0.5862385111857819, \"\", \"\", -1.0999871985372636, \"\", -0.6099791339960317, -0.8629436750804449, \"\", -0.002265564072325005, -0.06146956058588837, -0.9068277652927881, \"\", \"\", \"\", -0.5890899277083507, \"\", -0.42852790997867807], \"yaxis\": \"y2\"}],\n",
       "                        {\"hovermode\": \"x\", \"legend\": {\"bgcolor\": \"#F5F6F9\", \"font\": {\"color\": \"#4D5663\"}}, \"paper_bgcolor\": \"#F5F6F9\", \"plot_bgcolor\": \"#F5F6F9\", \"template\": {\"data\": {\"bar\": [{\"error_x\": {\"color\": \"#2a3f5f\"}, \"error_y\": {\"color\": \"#2a3f5f\"}, \"marker\": {\"line\": {\"color\": \"#E5ECF6\", \"width\": 0.5}}, \"type\": \"bar\"}], \"barpolar\": [{\"marker\": {\"line\": {\"color\": \"#E5ECF6\", \"width\": 0.5}}, \"type\": \"barpolar\"}], \"carpet\": [{\"aaxis\": {\"endlinecolor\": \"#2a3f5f\", \"gridcolor\": \"white\", \"linecolor\": \"white\", \"minorgridcolor\": \"white\", \"startlinecolor\": \"#2a3f5f\"}, \"baxis\": {\"endlinecolor\": \"#2a3f5f\", \"gridcolor\": \"white\", \"linecolor\": \"white\", \"minorgridcolor\": \"white\", \"startlinecolor\": \"#2a3f5f\"}, \"type\": \"carpet\"}], \"choropleth\": [{\"colorbar\": {\"outlinewidth\": 0, \"ticks\": \"\"}, \"type\": \"choropleth\"}], \"contour\": [{\"colorbar\": {\"outlinewidth\": 0, \"ticks\": \"\"}, \"colorscale\": [[0.0, \"#0d0887\"], [0.1111111111111111, \"#46039f\"], [0.2222222222222222, \"#7201a8\"], [0.3333333333333333, \"#9c179e\"], [0.4444444444444444, \"#bd3786\"], [0.5555555555555556, \"#d8576b\"], [0.6666666666666666, \"#ed7953\"], [0.7777777777777778, \"#fb9f3a\"], [0.8888888888888888, \"#fdca26\"], [1.0, \"#f0f921\"]], \"type\": \"contour\"}], \"contourcarpet\": [{\"colorbar\": {\"outlinewidth\": 0, \"ticks\": \"\"}, \"type\": \"contourcarpet\"}], \"heatmap\": [{\"colorbar\": {\"outlinewidth\": 0, \"ticks\": \"\"}, \"colorscale\": [[0.0, \"#0d0887\"], [0.1111111111111111, \"#46039f\"], [0.2222222222222222, \"#7201a8\"], [0.3333333333333333, \"#9c179e\"], [0.4444444444444444, \"#bd3786\"], [0.5555555555555556, \"#d8576b\"], [0.6666666666666666, \"#ed7953\"], [0.7777777777777778, \"#fb9f3a\"], [0.8888888888888888, \"#fdca26\"], [1.0, \"#f0f921\"]], \"type\": \"heatmap\"}], \"heatmapgl\": [{\"colorbar\": {\"outlinewidth\": 0, \"ticks\": \"\"}, \"colorscale\": [[0.0, \"#0d0887\"], [0.1111111111111111, \"#46039f\"], [0.2222222222222222, \"#7201a8\"], [0.3333333333333333, \"#9c179e\"], [0.4444444444444444, \"#bd3786\"], [0.5555555555555556, \"#d8576b\"], [0.6666666666666666, \"#ed7953\"], [0.7777777777777778, \"#fb9f3a\"], [0.8888888888888888, \"#fdca26\"], [1.0, \"#f0f921\"]], \"type\": \"heatmapgl\"}], \"histogram\": [{\"marker\": {\"colorbar\": {\"outlinewidth\": 0, \"ticks\": \"\"}}, \"type\": \"histogram\"}], \"histogram2d\": [{\"colorbar\": {\"outlinewidth\": 0, \"ticks\": \"\"}, \"colorscale\": [[0.0, \"#0d0887\"], [0.1111111111111111, \"#46039f\"], [0.2222222222222222, \"#7201a8\"], [0.3333333333333333, \"#9c179e\"], [0.4444444444444444, \"#bd3786\"], [0.5555555555555556, \"#d8576b\"], [0.6666666666666666, \"#ed7953\"], [0.7777777777777778, \"#fb9f3a\"], [0.8888888888888888, \"#fdca26\"], [1.0, \"#f0f921\"]], \"type\": \"histogram2d\"}], \"histogram2dcontour\": [{\"colorbar\": {\"outlinewidth\": 0, \"ticks\": \"\"}, \"colorscale\": [[0.0, \"#0d0887\"], [0.1111111111111111, \"#46039f\"], [0.2222222222222222, \"#7201a8\"], [0.3333333333333333, \"#9c179e\"], [0.4444444444444444, \"#bd3786\"], [0.5555555555555556, \"#d8576b\"], [0.6666666666666666, \"#ed7953\"], [0.7777777777777778, \"#fb9f3a\"], [0.8888888888888888, \"#fdca26\"], [1.0, \"#f0f921\"]], \"type\": \"histogram2dcontour\"}], \"mesh3d\": [{\"colorbar\": {\"outlinewidth\": 0, \"ticks\": \"\"}, \"type\": \"mesh3d\"}], \"parcoords\": [{\"line\": {\"colorbar\": {\"outlinewidth\": 0, \"ticks\": \"\"}}, \"type\": \"parcoords\"}], \"pie\": [{\"automargin\": true, \"type\": \"pie\"}], \"scatter\": [{\"marker\": {\"colorbar\": {\"outlinewidth\": 0, \"ticks\": \"\"}}, \"type\": \"scatter\"}], \"scatter3d\": [{\"line\": {\"colorbar\": {\"outlinewidth\": 0, \"ticks\": \"\"}}, \"marker\": {\"colorbar\": {\"outlinewidth\": 0, \"ticks\": \"\"}}, \"type\": \"scatter3d\"}], \"scattercarpet\": [{\"marker\": {\"colorbar\": {\"outlinewidth\": 0, \"ticks\": \"\"}}, \"type\": \"scattercarpet\"}], \"scattergeo\": [{\"marker\": {\"colorbar\": {\"outlinewidth\": 0, \"ticks\": \"\"}}, \"type\": \"scattergeo\"}], \"scattergl\": [{\"marker\": {\"colorbar\": {\"outlinewidth\": 0, \"ticks\": \"\"}}, \"type\": \"scattergl\"}], \"scattermapbox\": [{\"marker\": {\"colorbar\": {\"outlinewidth\": 0, \"ticks\": \"\"}}, \"type\": \"scattermapbox\"}], \"scatterpolar\": [{\"marker\": {\"colorbar\": {\"outlinewidth\": 0, \"ticks\": \"\"}}, \"type\": \"scatterpolar\"}], \"scatterpolargl\": [{\"marker\": {\"colorbar\": {\"outlinewidth\": 0, \"ticks\": \"\"}}, \"type\": \"scatterpolargl\"}], \"scatterternary\": [{\"marker\": {\"colorbar\": {\"outlinewidth\": 0, \"ticks\": \"\"}}, \"type\": \"scatterternary\"}], \"surface\": [{\"colorbar\": {\"outlinewidth\": 0, \"ticks\": \"\"}, \"colorscale\": [[0.0, \"#0d0887\"], [0.1111111111111111, \"#46039f\"], [0.2222222222222222, \"#7201a8\"], [0.3333333333333333, \"#9c179e\"], [0.4444444444444444, \"#bd3786\"], [0.5555555555555556, \"#d8576b\"], [0.6666666666666666, \"#ed7953\"], [0.7777777777777778, \"#fb9f3a\"], [0.8888888888888888, \"#fdca26\"], [1.0, \"#f0f921\"]], \"type\": \"surface\"}], \"table\": [{\"cells\": {\"fill\": {\"color\": \"#EBF0F8\"}, \"line\": {\"color\": \"white\"}}, \"header\": {\"fill\": {\"color\": \"#C8D4E3\"}, \"line\": {\"color\": \"white\"}}, \"type\": \"table\"}]}, \"layout\": {\"annotationdefaults\": {\"arrowcolor\": \"#2a3f5f\", \"arrowhead\": 0, \"arrowwidth\": 1}, \"coloraxis\": {\"colorbar\": {\"outlinewidth\": 0, \"ticks\": \"\"}}, \"colorscale\": {\"diverging\": [[0, \"#8e0152\"], [0.1, \"#c51b7d\"], [0.2, \"#de77ae\"], [0.3, \"#f1b6da\"], [0.4, \"#fde0ef\"], [0.5, \"#f7f7f7\"], [0.6, \"#e6f5d0\"], [0.7, \"#b8e186\"], [0.8, \"#7fbc41\"], [0.9, \"#4d9221\"], [1, \"#276419\"]], \"sequential\": [[0.0, \"#0d0887\"], [0.1111111111111111, \"#46039f\"], [0.2222222222222222, \"#7201a8\"], [0.3333333333333333, \"#9c179e\"], [0.4444444444444444, \"#bd3786\"], [0.5555555555555556, \"#d8576b\"], [0.6666666666666666, \"#ed7953\"], [0.7777777777777778, \"#fb9f3a\"], [0.8888888888888888, \"#fdca26\"], [1.0, \"#f0f921\"]], \"sequentialminus\": [[0.0, \"#0d0887\"], [0.1111111111111111, \"#46039f\"], [0.2222222222222222, \"#7201a8\"], [0.3333333333333333, \"#9c179e\"], [0.4444444444444444, \"#bd3786\"], [0.5555555555555556, \"#d8576b\"], [0.6666666666666666, \"#ed7953\"], [0.7777777777777778, \"#fb9f3a\"], [0.8888888888888888, \"#fdca26\"], [1.0, \"#f0f921\"]]}, \"colorway\": [\"#636efa\", \"#EF553B\", \"#00cc96\", \"#ab63fa\", \"#FFA15A\", \"#19d3f3\", \"#FF6692\", \"#B6E880\", \"#FF97FF\", \"#FECB52\"], \"font\": {\"color\": \"#2a3f5f\"}, \"geo\": {\"bgcolor\": \"white\", \"lakecolor\": \"white\", \"landcolor\": \"#E5ECF6\", \"showlakes\": true, \"showland\": true, \"subunitcolor\": \"white\"}, \"hoverlabel\": {\"align\": \"left\"}, \"hovermode\": \"closest\", \"mapbox\": {\"style\": \"light\"}, \"paper_bgcolor\": \"white\", \"plot_bgcolor\": \"#E5ECF6\", \"polar\": {\"angularaxis\": {\"gridcolor\": \"white\", \"linecolor\": \"white\", \"ticks\": \"\"}, \"bgcolor\": \"#E5ECF6\", \"radialaxis\": {\"gridcolor\": \"white\", \"linecolor\": \"white\", \"ticks\": \"\"}}, \"scene\": {\"xaxis\": {\"backgroundcolor\": \"#E5ECF6\", \"gridcolor\": \"white\", \"gridwidth\": 2, \"linecolor\": \"white\", \"showbackground\": true, \"ticks\": \"\", \"zerolinecolor\": \"white\"}, \"yaxis\": {\"backgroundcolor\": \"#E5ECF6\", \"gridcolor\": \"white\", \"gridwidth\": 2, \"linecolor\": \"white\", \"showbackground\": true, \"ticks\": \"\", \"zerolinecolor\": \"white\"}, \"zaxis\": {\"backgroundcolor\": \"#E5ECF6\", \"gridcolor\": \"white\", \"gridwidth\": 2, \"linecolor\": \"white\", \"showbackground\": true, \"ticks\": \"\", \"zerolinecolor\": \"white\"}}, \"shapedefaults\": {\"line\": {\"color\": \"#2a3f5f\"}}, \"ternary\": {\"aaxis\": {\"gridcolor\": \"white\", \"linecolor\": \"white\", \"ticks\": \"\"}, \"baxis\": {\"gridcolor\": \"white\", \"linecolor\": \"white\", \"ticks\": \"\"}, \"bgcolor\": \"#E5ECF6\", \"caxis\": {\"gridcolor\": \"white\", \"linecolor\": \"white\", \"ticks\": \"\"}}, \"title\": {\"x\": 0.05}, \"xaxis\": {\"automargin\": true, \"gridcolor\": \"white\", \"linecolor\": \"white\", \"ticks\": \"\", \"title\": {\"standoff\": 15}, \"zerolinecolor\": \"white\", \"zerolinewidth\": 2}, \"yaxis\": {\"automargin\": true, \"gridcolor\": \"white\", \"linecolor\": \"white\", \"ticks\": \"\", \"title\": {\"standoff\": 15}, \"zerolinecolor\": \"white\", \"zerolinewidth\": 2}}}, \"title\": {\"font\": {\"color\": \"#4D5663\"}}, \"xaxis\": {\"gridcolor\": \"#E1E5ED\", \"showgrid\": true, \"tickfont\": {\"color\": \"#4D5663\"}, \"title\": {\"font\": {\"color\": \"#4D5663\"}, \"text\": \"\"}, \"zerolinecolor\": \"#E1E5ED\"}, \"xaxis2\": {\"anchor\": \"y2\", \"gridcolor\": \"#E1E5ED\", \"showgrid\": true, \"showticklabels\": false, \"tickfont\": {\"color\": \"#4D5663\"}, \"title\": {\"font\": {\"color\": \"#4D5663\"}, \"text\": \"\"}, \"zerolinecolor\": \"#E1E5ED\"}, \"yaxis\": {\"domain\": [0.3, 1], \"gridcolor\": \"#E1E5ED\", \"showgrid\": true, \"tickfont\": {\"color\": \"#4D5663\"}, \"title\": {\"font\": {\"color\": \"#4D5663\"}, \"text\": \"\"}, \"zerolinecolor\": \"#E1E5ED\"}, \"yaxis2\": {\"domain\": [0, 0.25], \"gridcolor\": \"#E1E5ED\", \"showgrid\": true, \"tickfont\": {\"color\": \"#4D5663\"}, \"title\": {\"font\": {\"color\": \"#4D5663\"}, \"text\": \"Spread\"}, \"zerolinecolor\": \"#E1E5ED\"}},\n",
       "                        {\"showLink\": true, \"linkText\": \"Export to plot.ly\", \"plotlyServerURL\": \"https://plot.ly\", \"responsive\": true}\n",
       "                    ).then(function(){\n",
       "                            \n",
       "var gd = document.getElementById('a11d8718-b031-4663-927c-a9e95117c3fa');\n",
       "var x = new MutationObserver(function (mutations, observer) {{\n",
       "        var display = window.getComputedStyle(gd).display;\n",
       "        if (!display || display === 'none') {{\n",
       "            console.log([gd, 'removed!']);\n",
       "            Plotly.purge(gd);\n",
       "            observer.disconnect();\n",
       "        }}\n",
       "}});\n",
       "\n",
       "// Listen for the removal of the full notebook cells\n",
       "var notebookContainer = gd.closest('#notebook-container');\n",
       "if (notebookContainer) {{\n",
       "    x.observe(notebookContainer, {childList: true});\n",
       "}}\n",
       "\n",
       "// Listen for the clearing of the current output cell\n",
       "var outputEl = gd.closest('.output');\n",
       "if (outputEl) {{\n",
       "    x.observe(outputEl, {childList: true});\n",
       "}}\n",
       "\n",
       "                        })\n",
       "                };\n",
       "                });\n",
       "            </script>\n",
       "        </div>"
      ]
     },
     "metadata": {},
     "output_type": "display_data"
    }
   ],
   "source": [
    "df[['A','B']].iplot(kind='spread')"
   ]
  },
  {
   "cell_type": "markdown",
   "metadata": {},
   "source": [
    "## histogram"
   ]
  },
  {
   "cell_type": "code",
   "execution_count": 16,
   "metadata": {},
   "outputs": [
    {
     "data": {
      "application/vnd.plotly.v1+json": {
       "config": {
        "linkText": "Export to plot.ly",
        "plotlyServerURL": "https://plot.ly",
        "showLink": true
       },
       "data": [
        {
         "histfunc": "count",
         "histnorm": "",
         "marker": {
          "color": "rgba(255, 153, 51, 1.0)",
          "line": {
           "color": "#4D5663",
           "width": 1.3
          }
         },
         "name": "A",
         "nbinsx": 25,
         "opacity": 0.8,
         "orientation": "v",
         "type": "histogram",
         "x": [
          0.5381855285673716,
          0.5071020305201216,
          0.4389237509487635,
          -0.6247998973105497,
          -0.32856245582140214,
          -0.5549132814916047,
          0.5059612828729726,
          -3.197502476482795,
          -0.20387507115536785,
          0.3459015762781,
          -0.2031519933742461,
          -1.4270667976720735,
          0.12125644113873606,
          -0.041134446239839334,
          0.09942498996999705,
          -0.6716409332021634,
          0.8054591919418969,
          1.6284504463712235,
          -1.0686571236688256,
          -0.6820570283090134,
          1.0601779267043576,
          -0.8874271184205513,
          -0.23584503326298303,
          -1.3723947795930347,
          -0.5272892633343157,
          -0.6442561046802101,
          -1.2512104607334211,
          -0.09174351149493501,
          0.9306815990203132,
          -0.467294899249402,
          0.018392476702123038,
          -1.700457788639387,
          -0.26741137780144897,
          -0.7421803421304896,
          -0.14671882870501557,
          -1.6275386920455386,
          -0.45338390016622215,
          -2.0071863672670602,
          0.1963189215463607,
          -1.4777986997953716,
          -2.1576217433969695,
          -0.7856668199645755,
          -1.2338432754092326,
          1.399825272513358,
          -1.0091689439017615,
          0.09028738823377347,
          -1.5408250419456964,
          0.0990984258625075,
          -0.4343856232182664,
          -1.537700800793354,
          -0.072884287636136,
          -1.0730149201477526,
          1.8456685132367332,
          0.7476570177073996,
          -1.0485473399110965,
          -0.6900292790057106,
          -0.2208261440483984,
          0.2686957612752167,
          -0.22816861670514565,
          0.7311199936618888,
          0.41812057329918606,
          1.0887363338922411,
          -0.3964498621702017,
          0.47286766096396265,
          -0.6027452918287854,
          0.7025165133369287,
          1.4569049926648543,
          0.9999577792691502,
          -1.2811979563182043,
          2.0804623137829674,
          1.539255595278702,
          0.4440631488297732,
          -1.5619867791736421,
          -0.31583137533287053,
          0.3250311620824069,
          -0.4222090529096985,
          1.7248048718981919,
          0.5322881033597029,
          -0.3313064131205352,
          -1.2259399680760918,
          -0.6630691986600332,
          0.043184530012049985,
          1.5981295317194895,
          -1.3508876092805546,
          1.0726560999357118,
          0.3672953794565466,
          -0.4116672934579571,
          0.47793618707943125,
          -1.0741938940368256,
          -0.7194551581808123,
          0.9656653652456971,
          -0.1998839148187243,
          1.1064616751011012,
          -0.3642037624025107,
          0.8254311216681306,
          0.7851611444731269,
          -0.8309895524553557,
          0.44985792521595347,
          1.695413609917251,
          -0.15895796721118688
         ]
        }
       ],
       "layout": {
        "barmode": "overlay",
        "legend": {
         "bgcolor": "#F5F6F9",
         "font": {
          "color": "#4D5663"
         }
        },
        "paper_bgcolor": "#F5F6F9",
        "plot_bgcolor": "#F5F6F9",
        "template": {
         "data": {
          "bar": [
           {
            "error_x": {
             "color": "#2a3f5f"
            },
            "error_y": {
             "color": "#2a3f5f"
            },
            "marker": {
             "line": {
              "color": "#E5ECF6",
              "width": 0.5
             }
            },
            "type": "bar"
           }
          ],
          "barpolar": [
           {
            "marker": {
             "line": {
              "color": "#E5ECF6",
              "width": 0.5
             }
            },
            "type": "barpolar"
           }
          ],
          "carpet": [
           {
            "aaxis": {
             "endlinecolor": "#2a3f5f",
             "gridcolor": "white",
             "linecolor": "white",
             "minorgridcolor": "white",
             "startlinecolor": "#2a3f5f"
            },
            "baxis": {
             "endlinecolor": "#2a3f5f",
             "gridcolor": "white",
             "linecolor": "white",
             "minorgridcolor": "white",
             "startlinecolor": "#2a3f5f"
            },
            "type": "carpet"
           }
          ],
          "choropleth": [
           {
            "colorbar": {
             "outlinewidth": 0,
             "ticks": ""
            },
            "type": "choropleth"
           }
          ],
          "contour": [
           {
            "colorbar": {
             "outlinewidth": 0,
             "ticks": ""
            },
            "colorscale": [
             [
              0,
              "#0d0887"
             ],
             [
              0.1111111111111111,
              "#46039f"
             ],
             [
              0.2222222222222222,
              "#7201a8"
             ],
             [
              0.3333333333333333,
              "#9c179e"
             ],
             [
              0.4444444444444444,
              "#bd3786"
             ],
             [
              0.5555555555555556,
              "#d8576b"
             ],
             [
              0.6666666666666666,
              "#ed7953"
             ],
             [
              0.7777777777777778,
              "#fb9f3a"
             ],
             [
              0.8888888888888888,
              "#fdca26"
             ],
             [
              1,
              "#f0f921"
             ]
            ],
            "type": "contour"
           }
          ],
          "contourcarpet": [
           {
            "colorbar": {
             "outlinewidth": 0,
             "ticks": ""
            },
            "type": "contourcarpet"
           }
          ],
          "heatmap": [
           {
            "colorbar": {
             "outlinewidth": 0,
             "ticks": ""
            },
            "colorscale": [
             [
              0,
              "#0d0887"
             ],
             [
              0.1111111111111111,
              "#46039f"
             ],
             [
              0.2222222222222222,
              "#7201a8"
             ],
             [
              0.3333333333333333,
              "#9c179e"
             ],
             [
              0.4444444444444444,
              "#bd3786"
             ],
             [
              0.5555555555555556,
              "#d8576b"
             ],
             [
              0.6666666666666666,
              "#ed7953"
             ],
             [
              0.7777777777777778,
              "#fb9f3a"
             ],
             [
              0.8888888888888888,
              "#fdca26"
             ],
             [
              1,
              "#f0f921"
             ]
            ],
            "type": "heatmap"
           }
          ],
          "heatmapgl": [
           {
            "colorbar": {
             "outlinewidth": 0,
             "ticks": ""
            },
            "colorscale": [
             [
              0,
              "#0d0887"
             ],
             [
              0.1111111111111111,
              "#46039f"
             ],
             [
              0.2222222222222222,
              "#7201a8"
             ],
             [
              0.3333333333333333,
              "#9c179e"
             ],
             [
              0.4444444444444444,
              "#bd3786"
             ],
             [
              0.5555555555555556,
              "#d8576b"
             ],
             [
              0.6666666666666666,
              "#ed7953"
             ],
             [
              0.7777777777777778,
              "#fb9f3a"
             ],
             [
              0.8888888888888888,
              "#fdca26"
             ],
             [
              1,
              "#f0f921"
             ]
            ],
            "type": "heatmapgl"
           }
          ],
          "histogram": [
           {
            "marker": {
             "colorbar": {
              "outlinewidth": 0,
              "ticks": ""
             }
            },
            "type": "histogram"
           }
          ],
          "histogram2d": [
           {
            "colorbar": {
             "outlinewidth": 0,
             "ticks": ""
            },
            "colorscale": [
             [
              0,
              "#0d0887"
             ],
             [
              0.1111111111111111,
              "#46039f"
             ],
             [
              0.2222222222222222,
              "#7201a8"
             ],
             [
              0.3333333333333333,
              "#9c179e"
             ],
             [
              0.4444444444444444,
              "#bd3786"
             ],
             [
              0.5555555555555556,
              "#d8576b"
             ],
             [
              0.6666666666666666,
              "#ed7953"
             ],
             [
              0.7777777777777778,
              "#fb9f3a"
             ],
             [
              0.8888888888888888,
              "#fdca26"
             ],
             [
              1,
              "#f0f921"
             ]
            ],
            "type": "histogram2d"
           }
          ],
          "histogram2dcontour": [
           {
            "colorbar": {
             "outlinewidth": 0,
             "ticks": ""
            },
            "colorscale": [
             [
              0,
              "#0d0887"
             ],
             [
              0.1111111111111111,
              "#46039f"
             ],
             [
              0.2222222222222222,
              "#7201a8"
             ],
             [
              0.3333333333333333,
              "#9c179e"
             ],
             [
              0.4444444444444444,
              "#bd3786"
             ],
             [
              0.5555555555555556,
              "#d8576b"
             ],
             [
              0.6666666666666666,
              "#ed7953"
             ],
             [
              0.7777777777777778,
              "#fb9f3a"
             ],
             [
              0.8888888888888888,
              "#fdca26"
             ],
             [
              1,
              "#f0f921"
             ]
            ],
            "type": "histogram2dcontour"
           }
          ],
          "mesh3d": [
           {
            "colorbar": {
             "outlinewidth": 0,
             "ticks": ""
            },
            "type": "mesh3d"
           }
          ],
          "parcoords": [
           {
            "line": {
             "colorbar": {
              "outlinewidth": 0,
              "ticks": ""
             }
            },
            "type": "parcoords"
           }
          ],
          "pie": [
           {
            "automargin": true,
            "type": "pie"
           }
          ],
          "scatter": [
           {
            "marker": {
             "colorbar": {
              "outlinewidth": 0,
              "ticks": ""
             }
            },
            "type": "scatter"
           }
          ],
          "scatter3d": [
           {
            "line": {
             "colorbar": {
              "outlinewidth": 0,
              "ticks": ""
             }
            },
            "marker": {
             "colorbar": {
              "outlinewidth": 0,
              "ticks": ""
             }
            },
            "type": "scatter3d"
           }
          ],
          "scattercarpet": [
           {
            "marker": {
             "colorbar": {
              "outlinewidth": 0,
              "ticks": ""
             }
            },
            "type": "scattercarpet"
           }
          ],
          "scattergeo": [
           {
            "marker": {
             "colorbar": {
              "outlinewidth": 0,
              "ticks": ""
             }
            },
            "type": "scattergeo"
           }
          ],
          "scattergl": [
           {
            "marker": {
             "colorbar": {
              "outlinewidth": 0,
              "ticks": ""
             }
            },
            "type": "scattergl"
           }
          ],
          "scattermapbox": [
           {
            "marker": {
             "colorbar": {
              "outlinewidth": 0,
              "ticks": ""
             }
            },
            "type": "scattermapbox"
           }
          ],
          "scatterpolar": [
           {
            "marker": {
             "colorbar": {
              "outlinewidth": 0,
              "ticks": ""
             }
            },
            "type": "scatterpolar"
           }
          ],
          "scatterpolargl": [
           {
            "marker": {
             "colorbar": {
              "outlinewidth": 0,
              "ticks": ""
             }
            },
            "type": "scatterpolargl"
           }
          ],
          "scatterternary": [
           {
            "marker": {
             "colorbar": {
              "outlinewidth": 0,
              "ticks": ""
             }
            },
            "type": "scatterternary"
           }
          ],
          "surface": [
           {
            "colorbar": {
             "outlinewidth": 0,
             "ticks": ""
            },
            "colorscale": [
             [
              0,
              "#0d0887"
             ],
             [
              0.1111111111111111,
              "#46039f"
             ],
             [
              0.2222222222222222,
              "#7201a8"
             ],
             [
              0.3333333333333333,
              "#9c179e"
             ],
             [
              0.4444444444444444,
              "#bd3786"
             ],
             [
              0.5555555555555556,
              "#d8576b"
             ],
             [
              0.6666666666666666,
              "#ed7953"
             ],
             [
              0.7777777777777778,
              "#fb9f3a"
             ],
             [
              0.8888888888888888,
              "#fdca26"
             ],
             [
              1,
              "#f0f921"
             ]
            ],
            "type": "surface"
           }
          ],
          "table": [
           {
            "cells": {
             "fill": {
              "color": "#EBF0F8"
             },
             "line": {
              "color": "white"
             }
            },
            "header": {
             "fill": {
              "color": "#C8D4E3"
             },
             "line": {
              "color": "white"
             }
            },
            "type": "table"
           }
          ]
         },
         "layout": {
          "annotationdefaults": {
           "arrowcolor": "#2a3f5f",
           "arrowhead": 0,
           "arrowwidth": 1
          },
          "coloraxis": {
           "colorbar": {
            "outlinewidth": 0,
            "ticks": ""
           }
          },
          "colorscale": {
           "diverging": [
            [
             0,
             "#8e0152"
            ],
            [
             0.1,
             "#c51b7d"
            ],
            [
             0.2,
             "#de77ae"
            ],
            [
             0.3,
             "#f1b6da"
            ],
            [
             0.4,
             "#fde0ef"
            ],
            [
             0.5,
             "#f7f7f7"
            ],
            [
             0.6,
             "#e6f5d0"
            ],
            [
             0.7,
             "#b8e186"
            ],
            [
             0.8,
             "#7fbc41"
            ],
            [
             0.9,
             "#4d9221"
            ],
            [
             1,
             "#276419"
            ]
           ],
           "sequential": [
            [
             0,
             "#0d0887"
            ],
            [
             0.1111111111111111,
             "#46039f"
            ],
            [
             0.2222222222222222,
             "#7201a8"
            ],
            [
             0.3333333333333333,
             "#9c179e"
            ],
            [
             0.4444444444444444,
             "#bd3786"
            ],
            [
             0.5555555555555556,
             "#d8576b"
            ],
            [
             0.6666666666666666,
             "#ed7953"
            ],
            [
             0.7777777777777778,
             "#fb9f3a"
            ],
            [
             0.8888888888888888,
             "#fdca26"
            ],
            [
             1,
             "#f0f921"
            ]
           ],
           "sequentialminus": [
            [
             0,
             "#0d0887"
            ],
            [
             0.1111111111111111,
             "#46039f"
            ],
            [
             0.2222222222222222,
             "#7201a8"
            ],
            [
             0.3333333333333333,
             "#9c179e"
            ],
            [
             0.4444444444444444,
             "#bd3786"
            ],
            [
             0.5555555555555556,
             "#d8576b"
            ],
            [
             0.6666666666666666,
             "#ed7953"
            ],
            [
             0.7777777777777778,
             "#fb9f3a"
            ],
            [
             0.8888888888888888,
             "#fdca26"
            ],
            [
             1,
             "#f0f921"
            ]
           ]
          },
          "colorway": [
           "#636efa",
           "#EF553B",
           "#00cc96",
           "#ab63fa",
           "#FFA15A",
           "#19d3f3",
           "#FF6692",
           "#B6E880",
           "#FF97FF",
           "#FECB52"
          ],
          "font": {
           "color": "#2a3f5f"
          },
          "geo": {
           "bgcolor": "white",
           "lakecolor": "white",
           "landcolor": "#E5ECF6",
           "showlakes": true,
           "showland": true,
           "subunitcolor": "white"
          },
          "hoverlabel": {
           "align": "left"
          },
          "hovermode": "closest",
          "mapbox": {
           "style": "light"
          },
          "paper_bgcolor": "white",
          "plot_bgcolor": "#E5ECF6",
          "polar": {
           "angularaxis": {
            "gridcolor": "white",
            "linecolor": "white",
            "ticks": ""
           },
           "bgcolor": "#E5ECF6",
           "radialaxis": {
            "gridcolor": "white",
            "linecolor": "white",
            "ticks": ""
           }
          },
          "scene": {
           "xaxis": {
            "backgroundcolor": "#E5ECF6",
            "gridcolor": "white",
            "gridwidth": 2,
            "linecolor": "white",
            "showbackground": true,
            "ticks": "",
            "zerolinecolor": "white"
           },
           "yaxis": {
            "backgroundcolor": "#E5ECF6",
            "gridcolor": "white",
            "gridwidth": 2,
            "linecolor": "white",
            "showbackground": true,
            "ticks": "",
            "zerolinecolor": "white"
           },
           "zaxis": {
            "backgroundcolor": "#E5ECF6",
            "gridcolor": "white",
            "gridwidth": 2,
            "linecolor": "white",
            "showbackground": true,
            "ticks": "",
            "zerolinecolor": "white"
           }
          },
          "shapedefaults": {
           "line": {
            "color": "#2a3f5f"
           }
          },
          "ternary": {
           "aaxis": {
            "gridcolor": "white",
            "linecolor": "white",
            "ticks": ""
           },
           "baxis": {
            "gridcolor": "white",
            "linecolor": "white",
            "ticks": ""
           },
           "bgcolor": "#E5ECF6",
           "caxis": {
            "gridcolor": "white",
            "linecolor": "white",
            "ticks": ""
           }
          },
          "title": {
           "x": 0.05
          },
          "xaxis": {
           "automargin": true,
           "gridcolor": "white",
           "linecolor": "white",
           "ticks": "",
           "title": {
            "standoff": 15
           },
           "zerolinecolor": "white",
           "zerolinewidth": 2
          },
          "yaxis": {
           "automargin": true,
           "gridcolor": "white",
           "linecolor": "white",
           "ticks": "",
           "title": {
            "standoff": 15
           },
           "zerolinecolor": "white",
           "zerolinewidth": 2
          }
         }
        },
        "title": {
         "font": {
          "color": "#4D5663"
         }
        },
        "xaxis": {
         "gridcolor": "#E1E5ED",
         "showgrid": true,
         "tickfont": {
          "color": "#4D5663"
         },
         "title": {
          "font": {
           "color": "#4D5663"
          },
          "text": ""
         },
         "zerolinecolor": "#E1E5ED"
        },
        "yaxis": {
         "gridcolor": "#E1E5ED",
         "showgrid": true,
         "tickfont": {
          "color": "#4D5663"
         },
         "title": {
          "font": {
           "color": "#4D5663"
          },
          "text": ""
         },
         "zerolinecolor": "#E1E5ED"
        }
       }
      },
      "text/html": [
       "<div>\n",
       "        \n",
       "        \n",
       "            <div id=\"3b2b9ff4-6102-4ca3-8941-94e44a60c1a0\" class=\"plotly-graph-div\" style=\"height:525px; width:100%;\"></div>\n",
       "            <script type=\"text/javascript\">\n",
       "                require([\"plotly\"], function(Plotly) {\n",
       "                    window.PLOTLYENV=window.PLOTLYENV || {};\n",
       "                    window.PLOTLYENV.BASE_URL='https://plot.ly';\n",
       "                    \n",
       "                if (document.getElementById(\"3b2b9ff4-6102-4ca3-8941-94e44a60c1a0\")) {\n",
       "                    Plotly.newPlot(\n",
       "                        '3b2b9ff4-6102-4ca3-8941-94e44a60c1a0',\n",
       "                        [{\"histfunc\": \"count\", \"histnorm\": \"\", \"marker\": {\"color\": \"rgba(255, 153, 51, 1.0)\", \"line\": {\"color\": \"#4D5663\", \"width\": 1.3}}, \"name\": \"A\", \"nbinsx\": 25, \"opacity\": 0.8, \"orientation\": \"v\", \"type\": \"histogram\", \"x\": [0.5381855285673716, 0.5071020305201216, 0.4389237509487635, -0.6247998973105497, -0.32856245582140214, -0.5549132814916047, 0.5059612828729726, -3.197502476482795, -0.20387507115536785, 0.3459015762781, -0.2031519933742461, -1.4270667976720735, 0.12125644113873606, -0.041134446239839334, 0.09942498996999705, -0.6716409332021634, 0.8054591919418969, 1.6284504463712235, -1.0686571236688256, -0.6820570283090134, 1.0601779267043576, -0.8874271184205513, -0.23584503326298303, -1.3723947795930347, -0.5272892633343157, -0.6442561046802101, -1.2512104607334211, -0.09174351149493501, 0.9306815990203132, -0.467294899249402, 0.018392476702123038, -1.700457788639387, -0.26741137780144897, -0.7421803421304896, -0.14671882870501557, -1.6275386920455386, -0.45338390016622215, -2.0071863672670602, 0.1963189215463607, -1.4777986997953716, -2.1576217433969695, -0.7856668199645755, -1.2338432754092326, 1.399825272513358, -1.0091689439017615, 0.09028738823377347, -1.5408250419456964, 0.0990984258625075, -0.4343856232182664, -1.537700800793354, -0.072884287636136, -1.0730149201477526, 1.8456685132367332, 0.7476570177073996, -1.0485473399110965, -0.6900292790057106, -0.2208261440483984, 0.2686957612752167, -0.22816861670514565, 0.7311199936618888, 0.41812057329918606, 1.0887363338922411, -0.3964498621702017, 0.47286766096396265, -0.6027452918287854, 0.7025165133369287, 1.4569049926648543, 0.9999577792691502, -1.2811979563182043, 2.0804623137829674, 1.539255595278702, 0.4440631488297732, -1.5619867791736421, -0.31583137533287053, 0.3250311620824069, -0.4222090529096985, 1.7248048718981919, 0.5322881033597029, -0.3313064131205352, -1.2259399680760918, -0.6630691986600332, 0.043184530012049985, 1.5981295317194895, -1.3508876092805546, 1.0726560999357118, 0.3672953794565466, -0.4116672934579571, 0.47793618707943125, -1.0741938940368256, -0.7194551581808123, 0.9656653652456971, -0.1998839148187243, 1.1064616751011012, -0.3642037624025107, 0.8254311216681306, 0.7851611444731269, -0.8309895524553557, 0.44985792521595347, 1.695413609917251, -0.15895796721118688]}],\n",
       "                        {\"barmode\": \"overlay\", \"legend\": {\"bgcolor\": \"#F5F6F9\", \"font\": {\"color\": \"#4D5663\"}}, \"paper_bgcolor\": \"#F5F6F9\", \"plot_bgcolor\": \"#F5F6F9\", \"template\": {\"data\": {\"bar\": [{\"error_x\": {\"color\": \"#2a3f5f\"}, \"error_y\": {\"color\": \"#2a3f5f\"}, \"marker\": {\"line\": {\"color\": \"#E5ECF6\", \"width\": 0.5}}, \"type\": \"bar\"}], \"barpolar\": [{\"marker\": {\"line\": {\"color\": \"#E5ECF6\", \"width\": 0.5}}, \"type\": \"barpolar\"}], \"carpet\": [{\"aaxis\": {\"endlinecolor\": \"#2a3f5f\", \"gridcolor\": \"white\", \"linecolor\": \"white\", \"minorgridcolor\": \"white\", \"startlinecolor\": \"#2a3f5f\"}, \"baxis\": {\"endlinecolor\": \"#2a3f5f\", \"gridcolor\": \"white\", \"linecolor\": \"white\", \"minorgridcolor\": \"white\", \"startlinecolor\": \"#2a3f5f\"}, \"type\": \"carpet\"}], \"choropleth\": [{\"colorbar\": {\"outlinewidth\": 0, \"ticks\": \"\"}, \"type\": \"choropleth\"}], \"contour\": [{\"colorbar\": {\"outlinewidth\": 0, \"ticks\": \"\"}, \"colorscale\": [[0.0, \"#0d0887\"], [0.1111111111111111, \"#46039f\"], [0.2222222222222222, \"#7201a8\"], [0.3333333333333333, \"#9c179e\"], [0.4444444444444444, \"#bd3786\"], [0.5555555555555556, \"#d8576b\"], [0.6666666666666666, \"#ed7953\"], [0.7777777777777778, \"#fb9f3a\"], [0.8888888888888888, \"#fdca26\"], [1.0, \"#f0f921\"]], \"type\": \"contour\"}], \"contourcarpet\": [{\"colorbar\": {\"outlinewidth\": 0, \"ticks\": \"\"}, \"type\": \"contourcarpet\"}], \"heatmap\": [{\"colorbar\": {\"outlinewidth\": 0, \"ticks\": \"\"}, \"colorscale\": [[0.0, \"#0d0887\"], [0.1111111111111111, \"#46039f\"], [0.2222222222222222, \"#7201a8\"], [0.3333333333333333, \"#9c179e\"], [0.4444444444444444, \"#bd3786\"], [0.5555555555555556, \"#d8576b\"], [0.6666666666666666, \"#ed7953\"], [0.7777777777777778, \"#fb9f3a\"], [0.8888888888888888, \"#fdca26\"], [1.0, \"#f0f921\"]], \"type\": \"heatmap\"}], \"heatmapgl\": [{\"colorbar\": {\"outlinewidth\": 0, \"ticks\": \"\"}, \"colorscale\": [[0.0, \"#0d0887\"], [0.1111111111111111, \"#46039f\"], [0.2222222222222222, \"#7201a8\"], [0.3333333333333333, \"#9c179e\"], [0.4444444444444444, \"#bd3786\"], [0.5555555555555556, \"#d8576b\"], [0.6666666666666666, \"#ed7953\"], [0.7777777777777778, \"#fb9f3a\"], [0.8888888888888888, \"#fdca26\"], [1.0, \"#f0f921\"]], \"type\": \"heatmapgl\"}], \"histogram\": [{\"marker\": {\"colorbar\": {\"outlinewidth\": 0, \"ticks\": \"\"}}, \"type\": \"histogram\"}], \"histogram2d\": [{\"colorbar\": {\"outlinewidth\": 0, \"ticks\": \"\"}, \"colorscale\": [[0.0, \"#0d0887\"], [0.1111111111111111, \"#46039f\"], [0.2222222222222222, \"#7201a8\"], [0.3333333333333333, \"#9c179e\"], [0.4444444444444444, \"#bd3786\"], [0.5555555555555556, \"#d8576b\"], [0.6666666666666666, \"#ed7953\"], [0.7777777777777778, \"#fb9f3a\"], [0.8888888888888888, \"#fdca26\"], [1.0, \"#f0f921\"]], \"type\": \"histogram2d\"}], \"histogram2dcontour\": [{\"colorbar\": {\"outlinewidth\": 0, \"ticks\": \"\"}, \"colorscale\": [[0.0, \"#0d0887\"], [0.1111111111111111, \"#46039f\"], [0.2222222222222222, \"#7201a8\"], [0.3333333333333333, \"#9c179e\"], [0.4444444444444444, \"#bd3786\"], [0.5555555555555556, \"#d8576b\"], [0.6666666666666666, \"#ed7953\"], [0.7777777777777778, \"#fb9f3a\"], [0.8888888888888888, \"#fdca26\"], [1.0, \"#f0f921\"]], \"type\": \"histogram2dcontour\"}], \"mesh3d\": [{\"colorbar\": {\"outlinewidth\": 0, \"ticks\": \"\"}, \"type\": \"mesh3d\"}], \"parcoords\": [{\"line\": {\"colorbar\": {\"outlinewidth\": 0, \"ticks\": \"\"}}, \"type\": \"parcoords\"}], \"pie\": [{\"automargin\": true, \"type\": \"pie\"}], \"scatter\": [{\"marker\": {\"colorbar\": {\"outlinewidth\": 0, \"ticks\": \"\"}}, \"type\": \"scatter\"}], \"scatter3d\": [{\"line\": {\"colorbar\": {\"outlinewidth\": 0, \"ticks\": \"\"}}, \"marker\": {\"colorbar\": {\"outlinewidth\": 0, \"ticks\": \"\"}}, \"type\": \"scatter3d\"}], \"scattercarpet\": [{\"marker\": {\"colorbar\": {\"outlinewidth\": 0, \"ticks\": \"\"}}, \"type\": \"scattercarpet\"}], \"scattergeo\": [{\"marker\": {\"colorbar\": {\"outlinewidth\": 0, \"ticks\": \"\"}}, \"type\": \"scattergeo\"}], \"scattergl\": [{\"marker\": {\"colorbar\": {\"outlinewidth\": 0, \"ticks\": \"\"}}, \"type\": \"scattergl\"}], \"scattermapbox\": [{\"marker\": {\"colorbar\": {\"outlinewidth\": 0, \"ticks\": \"\"}}, \"type\": \"scattermapbox\"}], \"scatterpolar\": [{\"marker\": {\"colorbar\": {\"outlinewidth\": 0, \"ticks\": \"\"}}, \"type\": \"scatterpolar\"}], \"scatterpolargl\": [{\"marker\": {\"colorbar\": {\"outlinewidth\": 0, \"ticks\": \"\"}}, \"type\": \"scatterpolargl\"}], \"scatterternary\": [{\"marker\": {\"colorbar\": {\"outlinewidth\": 0, \"ticks\": \"\"}}, \"type\": \"scatterternary\"}], \"surface\": [{\"colorbar\": {\"outlinewidth\": 0, \"ticks\": \"\"}, \"colorscale\": [[0.0, \"#0d0887\"], [0.1111111111111111, \"#46039f\"], [0.2222222222222222, \"#7201a8\"], [0.3333333333333333, \"#9c179e\"], [0.4444444444444444, \"#bd3786\"], [0.5555555555555556, \"#d8576b\"], [0.6666666666666666, \"#ed7953\"], [0.7777777777777778, \"#fb9f3a\"], [0.8888888888888888, \"#fdca26\"], [1.0, \"#f0f921\"]], \"type\": \"surface\"}], \"table\": [{\"cells\": {\"fill\": {\"color\": \"#EBF0F8\"}, \"line\": {\"color\": \"white\"}}, \"header\": {\"fill\": {\"color\": \"#C8D4E3\"}, \"line\": {\"color\": \"white\"}}, \"type\": \"table\"}]}, \"layout\": {\"annotationdefaults\": {\"arrowcolor\": \"#2a3f5f\", \"arrowhead\": 0, \"arrowwidth\": 1}, \"coloraxis\": {\"colorbar\": {\"outlinewidth\": 0, \"ticks\": \"\"}}, \"colorscale\": {\"diverging\": [[0, \"#8e0152\"], [0.1, \"#c51b7d\"], [0.2, \"#de77ae\"], [0.3, \"#f1b6da\"], [0.4, \"#fde0ef\"], [0.5, \"#f7f7f7\"], [0.6, \"#e6f5d0\"], [0.7, \"#b8e186\"], [0.8, \"#7fbc41\"], [0.9, \"#4d9221\"], [1, \"#276419\"]], \"sequential\": [[0.0, \"#0d0887\"], [0.1111111111111111, \"#46039f\"], [0.2222222222222222, \"#7201a8\"], [0.3333333333333333, \"#9c179e\"], [0.4444444444444444, \"#bd3786\"], [0.5555555555555556, \"#d8576b\"], [0.6666666666666666, \"#ed7953\"], [0.7777777777777778, \"#fb9f3a\"], [0.8888888888888888, \"#fdca26\"], [1.0, \"#f0f921\"]], \"sequentialminus\": [[0.0, \"#0d0887\"], [0.1111111111111111, \"#46039f\"], [0.2222222222222222, \"#7201a8\"], [0.3333333333333333, \"#9c179e\"], [0.4444444444444444, \"#bd3786\"], [0.5555555555555556, \"#d8576b\"], [0.6666666666666666, \"#ed7953\"], [0.7777777777777778, \"#fb9f3a\"], [0.8888888888888888, \"#fdca26\"], [1.0, \"#f0f921\"]]}, \"colorway\": [\"#636efa\", \"#EF553B\", \"#00cc96\", \"#ab63fa\", \"#FFA15A\", \"#19d3f3\", \"#FF6692\", \"#B6E880\", \"#FF97FF\", \"#FECB52\"], \"font\": {\"color\": \"#2a3f5f\"}, \"geo\": {\"bgcolor\": \"white\", \"lakecolor\": \"white\", \"landcolor\": \"#E5ECF6\", \"showlakes\": true, \"showland\": true, \"subunitcolor\": \"white\"}, \"hoverlabel\": {\"align\": \"left\"}, \"hovermode\": \"closest\", \"mapbox\": {\"style\": \"light\"}, \"paper_bgcolor\": \"white\", \"plot_bgcolor\": \"#E5ECF6\", \"polar\": {\"angularaxis\": {\"gridcolor\": \"white\", \"linecolor\": \"white\", \"ticks\": \"\"}, \"bgcolor\": \"#E5ECF6\", \"radialaxis\": {\"gridcolor\": \"white\", \"linecolor\": \"white\", \"ticks\": \"\"}}, \"scene\": {\"xaxis\": {\"backgroundcolor\": \"#E5ECF6\", \"gridcolor\": \"white\", \"gridwidth\": 2, \"linecolor\": \"white\", \"showbackground\": true, \"ticks\": \"\", \"zerolinecolor\": \"white\"}, \"yaxis\": {\"backgroundcolor\": \"#E5ECF6\", \"gridcolor\": \"white\", \"gridwidth\": 2, \"linecolor\": \"white\", \"showbackground\": true, \"ticks\": \"\", \"zerolinecolor\": \"white\"}, \"zaxis\": {\"backgroundcolor\": \"#E5ECF6\", \"gridcolor\": \"white\", \"gridwidth\": 2, \"linecolor\": \"white\", \"showbackground\": true, \"ticks\": \"\", \"zerolinecolor\": \"white\"}}, \"shapedefaults\": {\"line\": {\"color\": \"#2a3f5f\"}}, \"ternary\": {\"aaxis\": {\"gridcolor\": \"white\", \"linecolor\": \"white\", \"ticks\": \"\"}, \"baxis\": {\"gridcolor\": \"white\", \"linecolor\": \"white\", \"ticks\": \"\"}, \"bgcolor\": \"#E5ECF6\", \"caxis\": {\"gridcolor\": \"white\", \"linecolor\": \"white\", \"ticks\": \"\"}}, \"title\": {\"x\": 0.05}, \"xaxis\": {\"automargin\": true, \"gridcolor\": \"white\", \"linecolor\": \"white\", \"ticks\": \"\", \"title\": {\"standoff\": 15}, \"zerolinecolor\": \"white\", \"zerolinewidth\": 2}, \"yaxis\": {\"automargin\": true, \"gridcolor\": \"white\", \"linecolor\": \"white\", \"ticks\": \"\", \"title\": {\"standoff\": 15}, \"zerolinecolor\": \"white\", \"zerolinewidth\": 2}}}, \"title\": {\"font\": {\"color\": \"#4D5663\"}}, \"xaxis\": {\"gridcolor\": \"#E1E5ED\", \"showgrid\": true, \"tickfont\": {\"color\": \"#4D5663\"}, \"title\": {\"font\": {\"color\": \"#4D5663\"}, \"text\": \"\"}, \"zerolinecolor\": \"#E1E5ED\"}, \"yaxis\": {\"gridcolor\": \"#E1E5ED\", \"showgrid\": true, \"tickfont\": {\"color\": \"#4D5663\"}, \"title\": {\"font\": {\"color\": \"#4D5663\"}, \"text\": \"\"}, \"zerolinecolor\": \"#E1E5ED\"}},\n",
       "                        {\"showLink\": true, \"linkText\": \"Export to plot.ly\", \"plotlyServerURL\": \"https://plot.ly\", \"responsive\": true}\n",
       "                    ).then(function(){\n",
       "                            \n",
       "var gd = document.getElementById('3b2b9ff4-6102-4ca3-8941-94e44a60c1a0');\n",
       "var x = new MutationObserver(function (mutations, observer) {{\n",
       "        var display = window.getComputedStyle(gd).display;\n",
       "        if (!display || display === 'none') {{\n",
       "            console.log([gd, 'removed!']);\n",
       "            Plotly.purge(gd);\n",
       "            observer.disconnect();\n",
       "        }}\n",
       "}});\n",
       "\n",
       "// Listen for the removal of the full notebook cells\n",
       "var notebookContainer = gd.closest('#notebook-container');\n",
       "if (notebookContainer) {{\n",
       "    x.observe(notebookContainer, {childList: true});\n",
       "}}\n",
       "\n",
       "// Listen for the clearing of the current output cell\n",
       "var outputEl = gd.closest('.output');\n",
       "if (outputEl) {{\n",
       "    x.observe(outputEl, {childList: true});\n",
       "}}\n",
       "\n",
       "                        })\n",
       "                };\n",
       "                });\n",
       "            </script>\n",
       "        </div>"
      ]
     },
     "metadata": {},
     "output_type": "display_data"
    }
   ],
   "source": [
    "df['A'].iplot(kind='hist',bins=25)"
   ]
  },
  {
   "cell_type": "code",
   "execution_count": 17,
   "metadata": {},
   "outputs": [
    {
     "data": {
      "application/vnd.plotly.v1+json": {
       "config": {
        "linkText": "Export to plot.ly",
        "plotlyServerURL": "https://plot.ly",
        "showLink": true
       },
       "data": [
        {
         "marker": {
          "color": [
           "rgb(255, 153, 51)",
           "rgb(55, 128, 191)",
           "rgb(50, 171, 96)",
           "rgb(128, 0, 128)",
           "rgb(219, 64, 82)",
           "rgb(0, 128, 128)",
           "rgb(255, 255, 51)",
           "rgb(128, 128, 0)",
           "rgb(251, 128, 114)",
           "rgb(128, 177, 211)"
          ],
          "line": {
           "width": 1.3
          },
          "size": [
           61,
           28,
           37,
           57,
           53,
           57,
           50,
           75,
           55,
           17,
           75,
           83,
           59,
           27,
           56,
           64,
           31,
           58,
           88,
           45,
           55,
           34,
           53,
           66,
           63,
           21,
           45,
           42,
           54,
           69,
           48,
           60,
           45,
           57,
           85,
           52,
           79,
           64,
           76,
           67,
           29,
           74,
           76,
           32,
           87,
           82,
           54,
           41,
           105,
           71,
           74,
           54,
           18,
           53,
           59,
           45,
           112,
           50,
           31,
           12,
           67,
           88,
           67,
           87,
           75,
           58,
           38,
           76,
           59,
           61,
           74,
           60,
           65,
           48,
           67,
           70,
           73,
           52,
           70,
           67,
           62,
           95,
           36,
           79,
           50,
           69,
           29,
           87,
           111,
           77,
           39,
           53,
           35,
           65,
           61,
           56,
           22,
           66,
           83,
           80
          ],
          "symbol": "circle"
         },
         "mode": "markers",
         "text": "",
         "type": "scatter",
         "x": [
          0.5381855285673716,
          0.5071020305201216,
          0.4389237509487635,
          -0.6247998973105497,
          -0.32856245582140214,
          -0.5549132814916047,
          0.5059612828729726,
          -3.197502476482795,
          -0.20387507115536785,
          0.3459015762781,
          -0.2031519933742461,
          -1.4270667976720735,
          0.12125644113873606,
          -0.041134446239839334,
          0.09942498996999705,
          -0.6716409332021634,
          0.8054591919418969,
          1.6284504463712235,
          -1.0686571236688256,
          -0.6820570283090134,
          1.0601779267043576,
          -0.8874271184205513,
          -0.23584503326298303,
          -1.3723947795930347,
          -0.5272892633343157,
          -0.6442561046802101,
          -1.2512104607334211,
          -0.09174351149493501,
          0.9306815990203132,
          -0.467294899249402,
          0.018392476702123038,
          -1.700457788639387,
          -0.26741137780144897,
          -0.7421803421304896,
          -0.14671882870501557,
          -1.6275386920455386,
          -0.45338390016622215,
          -2.0071863672670602,
          0.1963189215463607,
          -1.4777986997953716,
          -2.1576217433969695,
          -0.7856668199645755,
          -1.2338432754092326,
          1.399825272513358,
          -1.0091689439017615,
          0.09028738823377347,
          -1.5408250419456964,
          0.0990984258625075,
          -0.4343856232182664,
          -1.537700800793354,
          -0.072884287636136,
          -1.0730149201477526,
          1.8456685132367332,
          0.7476570177073996,
          -1.0485473399110965,
          -0.6900292790057106,
          -0.2208261440483984,
          0.2686957612752167,
          -0.22816861670514565,
          0.7311199936618888,
          0.41812057329918606,
          1.0887363338922411,
          -0.3964498621702017,
          0.47286766096396265,
          -0.6027452918287854,
          0.7025165133369287,
          1.4569049926648543,
          0.9999577792691502,
          -1.2811979563182043,
          2.0804623137829674,
          1.539255595278702,
          0.4440631488297732,
          -1.5619867791736421,
          -0.31583137533287053,
          0.3250311620824069,
          -0.4222090529096985,
          1.7248048718981919,
          0.5322881033597029,
          -0.3313064131205352,
          -1.2259399680760918,
          -0.6630691986600332,
          0.043184530012049985,
          1.5981295317194895,
          -1.3508876092805546,
          1.0726560999357118,
          0.3672953794565466,
          -0.4116672934579571,
          0.47793618707943125,
          -1.0741938940368256,
          -0.7194551581808123,
          0.9656653652456971,
          -0.1998839148187243,
          1.1064616751011012,
          -0.3642037624025107,
          0.8254311216681306,
          0.7851611444731269,
          -0.8309895524553557,
          0.44985792521595347,
          1.695413609917251,
          -0.15895796721118688
         ],
         "y": [
          0.6301674583573214,
          -1.561675696183232,
          0.6365258247311377,
          -0.22324860617551084,
          -1.6736946321158042,
          -0.15927706452952708,
          0.36989298593237285,
          1.3085200046585113,
          0.7159183818614192,
          1.4170368007607066,
          -0.8484128249213295,
          0.24290160075968745,
          1.0795918353343301,
          -0.8157998727705896,
          -0.7184505150668109,
          -0.11568818097186227,
          -1.2901791636364424,
          0.8400081678160328,
          -0.6676702261888512,
          -1.011257076667859,
          -0.6892287441692668,
          -0.23102459810075973,
          -0.21170064669943212,
          -0.20028233251560987,
          -1.078408181836114,
          1.462130966067993,
          -0.17927997159447678,
          -0.13052020849949877,
          0.4682168592110732,
          -1.5877343509461137,
          -0.6710951925528772,
          0.05576752593607448,
          0.5362381928866289,
          -0.34225661814037467,
          0.581933321085821,
          0.3947906536929084,
          0.01940690313621235,
          -0.2163038164030735,
          -1.4955367906604886,
          0.23791928037571633,
          -1.0977453084165723,
          0.5335144230984808,
          2.0993808494993873,
          -0.49490813917873455,
          0.3941349794262045,
          -0.3772928341008689,
          1.3048292635035965,
          -0.46672612038687655,
          -1.120489037175442,
          1.9940005382078847,
          0.20060951912701863,
          0.57128240835606,
          0.7145821222961338,
          1.4105370810949298,
          0.4049315688775944,
          0.8458061881151208,
          -0.7609317914602187,
          -1.6481370061848084,
          -0.8873946431515575,
          -1.0683226547519797,
          -0.5316480238934537,
          0.03361078302762433,
          -1.0363017034596884,
          0.658821017661889,
          -1.0755800129807123,
          0.9911979331699334,
          0.5361321263657128,
          0.988419798692416,
          -1.6384158410384904,
          -0.054614895140455734,
          -1.489486347353061,
          1.0573670070827268,
          -0.005366874743519029,
          -1.5582928434235677,
          1.3867439202182168,
          0.27510525110981254,
          -0.0661353713844357,
          0.4527693556244209,
          0.39889118623618947,
          1.3379470102985798,
          -0.9202241393884216,
          -0.7964312895565369,
          -0.6412882079248059,
          -0.7646490980947728,
          0.7922507978202409,
          -0.24143865713923998,
          0.6883199050793065,
          -0.44232087555933497,
          -0.46421476004079404,
          0.14348851689963255,
          -0.8266849594361187,
          -0.1976183507463993,
          1.1679312356869895,
          0.5426240028902773,
          -0.2893004673286161,
          0.6621600474085508,
          -1.2471603427386846,
          1.0389478529243041,
          -0.048911234267454785,
          0.2695699427674912
         ]
        }
       ],
       "layout": {
        "legend": {
         "bgcolor": "#F5F6F9",
         "font": {
          "color": "#4D5663"
         }
        },
        "paper_bgcolor": "#F5F6F9",
        "plot_bgcolor": "#F5F6F9",
        "template": {
         "data": {
          "bar": [
           {
            "error_x": {
             "color": "#2a3f5f"
            },
            "error_y": {
             "color": "#2a3f5f"
            },
            "marker": {
             "line": {
              "color": "#E5ECF6",
              "width": 0.5
             }
            },
            "type": "bar"
           }
          ],
          "barpolar": [
           {
            "marker": {
             "line": {
              "color": "#E5ECF6",
              "width": 0.5
             }
            },
            "type": "barpolar"
           }
          ],
          "carpet": [
           {
            "aaxis": {
             "endlinecolor": "#2a3f5f",
             "gridcolor": "white",
             "linecolor": "white",
             "minorgridcolor": "white",
             "startlinecolor": "#2a3f5f"
            },
            "baxis": {
             "endlinecolor": "#2a3f5f",
             "gridcolor": "white",
             "linecolor": "white",
             "minorgridcolor": "white",
             "startlinecolor": "#2a3f5f"
            },
            "type": "carpet"
           }
          ],
          "choropleth": [
           {
            "colorbar": {
             "outlinewidth": 0,
             "ticks": ""
            },
            "type": "choropleth"
           }
          ],
          "contour": [
           {
            "colorbar": {
             "outlinewidth": 0,
             "ticks": ""
            },
            "colorscale": [
             [
              0,
              "#0d0887"
             ],
             [
              0.1111111111111111,
              "#46039f"
             ],
             [
              0.2222222222222222,
              "#7201a8"
             ],
             [
              0.3333333333333333,
              "#9c179e"
             ],
             [
              0.4444444444444444,
              "#bd3786"
             ],
             [
              0.5555555555555556,
              "#d8576b"
             ],
             [
              0.6666666666666666,
              "#ed7953"
             ],
             [
              0.7777777777777778,
              "#fb9f3a"
             ],
             [
              0.8888888888888888,
              "#fdca26"
             ],
             [
              1,
              "#f0f921"
             ]
            ],
            "type": "contour"
           }
          ],
          "contourcarpet": [
           {
            "colorbar": {
             "outlinewidth": 0,
             "ticks": ""
            },
            "type": "contourcarpet"
           }
          ],
          "heatmap": [
           {
            "colorbar": {
             "outlinewidth": 0,
             "ticks": ""
            },
            "colorscale": [
             [
              0,
              "#0d0887"
             ],
             [
              0.1111111111111111,
              "#46039f"
             ],
             [
              0.2222222222222222,
              "#7201a8"
             ],
             [
              0.3333333333333333,
              "#9c179e"
             ],
             [
              0.4444444444444444,
              "#bd3786"
             ],
             [
              0.5555555555555556,
              "#d8576b"
             ],
             [
              0.6666666666666666,
              "#ed7953"
             ],
             [
              0.7777777777777778,
              "#fb9f3a"
             ],
             [
              0.8888888888888888,
              "#fdca26"
             ],
             [
              1,
              "#f0f921"
             ]
            ],
            "type": "heatmap"
           }
          ],
          "heatmapgl": [
           {
            "colorbar": {
             "outlinewidth": 0,
             "ticks": ""
            },
            "colorscale": [
             [
              0,
              "#0d0887"
             ],
             [
              0.1111111111111111,
              "#46039f"
             ],
             [
              0.2222222222222222,
              "#7201a8"
             ],
             [
              0.3333333333333333,
              "#9c179e"
             ],
             [
              0.4444444444444444,
              "#bd3786"
             ],
             [
              0.5555555555555556,
              "#d8576b"
             ],
             [
              0.6666666666666666,
              "#ed7953"
             ],
             [
              0.7777777777777778,
              "#fb9f3a"
             ],
             [
              0.8888888888888888,
              "#fdca26"
             ],
             [
              1,
              "#f0f921"
             ]
            ],
            "type": "heatmapgl"
           }
          ],
          "histogram": [
           {
            "marker": {
             "colorbar": {
              "outlinewidth": 0,
              "ticks": ""
             }
            },
            "type": "histogram"
           }
          ],
          "histogram2d": [
           {
            "colorbar": {
             "outlinewidth": 0,
             "ticks": ""
            },
            "colorscale": [
             [
              0,
              "#0d0887"
             ],
             [
              0.1111111111111111,
              "#46039f"
             ],
             [
              0.2222222222222222,
              "#7201a8"
             ],
             [
              0.3333333333333333,
              "#9c179e"
             ],
             [
              0.4444444444444444,
              "#bd3786"
             ],
             [
              0.5555555555555556,
              "#d8576b"
             ],
             [
              0.6666666666666666,
              "#ed7953"
             ],
             [
              0.7777777777777778,
              "#fb9f3a"
             ],
             [
              0.8888888888888888,
              "#fdca26"
             ],
             [
              1,
              "#f0f921"
             ]
            ],
            "type": "histogram2d"
           }
          ],
          "histogram2dcontour": [
           {
            "colorbar": {
             "outlinewidth": 0,
             "ticks": ""
            },
            "colorscale": [
             [
              0,
              "#0d0887"
             ],
             [
              0.1111111111111111,
              "#46039f"
             ],
             [
              0.2222222222222222,
              "#7201a8"
             ],
             [
              0.3333333333333333,
              "#9c179e"
             ],
             [
              0.4444444444444444,
              "#bd3786"
             ],
             [
              0.5555555555555556,
              "#d8576b"
             ],
             [
              0.6666666666666666,
              "#ed7953"
             ],
             [
              0.7777777777777778,
              "#fb9f3a"
             ],
             [
              0.8888888888888888,
              "#fdca26"
             ],
             [
              1,
              "#f0f921"
             ]
            ],
            "type": "histogram2dcontour"
           }
          ],
          "mesh3d": [
           {
            "colorbar": {
             "outlinewidth": 0,
             "ticks": ""
            },
            "type": "mesh3d"
           }
          ],
          "parcoords": [
           {
            "line": {
             "colorbar": {
              "outlinewidth": 0,
              "ticks": ""
             }
            },
            "type": "parcoords"
           }
          ],
          "pie": [
           {
            "automargin": true,
            "type": "pie"
           }
          ],
          "scatter": [
           {
            "marker": {
             "colorbar": {
              "outlinewidth": 0,
              "ticks": ""
             }
            },
            "type": "scatter"
           }
          ],
          "scatter3d": [
           {
            "line": {
             "colorbar": {
              "outlinewidth": 0,
              "ticks": ""
             }
            },
            "marker": {
             "colorbar": {
              "outlinewidth": 0,
              "ticks": ""
             }
            },
            "type": "scatter3d"
           }
          ],
          "scattercarpet": [
           {
            "marker": {
             "colorbar": {
              "outlinewidth": 0,
              "ticks": ""
             }
            },
            "type": "scattercarpet"
           }
          ],
          "scattergeo": [
           {
            "marker": {
             "colorbar": {
              "outlinewidth": 0,
              "ticks": ""
             }
            },
            "type": "scattergeo"
           }
          ],
          "scattergl": [
           {
            "marker": {
             "colorbar": {
              "outlinewidth": 0,
              "ticks": ""
             }
            },
            "type": "scattergl"
           }
          ],
          "scattermapbox": [
           {
            "marker": {
             "colorbar": {
              "outlinewidth": 0,
              "ticks": ""
             }
            },
            "type": "scattermapbox"
           }
          ],
          "scatterpolar": [
           {
            "marker": {
             "colorbar": {
              "outlinewidth": 0,
              "ticks": ""
             }
            },
            "type": "scatterpolar"
           }
          ],
          "scatterpolargl": [
           {
            "marker": {
             "colorbar": {
              "outlinewidth": 0,
              "ticks": ""
             }
            },
            "type": "scatterpolargl"
           }
          ],
          "scatterternary": [
           {
            "marker": {
             "colorbar": {
              "outlinewidth": 0,
              "ticks": ""
             }
            },
            "type": "scatterternary"
           }
          ],
          "surface": [
           {
            "colorbar": {
             "outlinewidth": 0,
             "ticks": ""
            },
            "colorscale": [
             [
              0,
              "#0d0887"
             ],
             [
              0.1111111111111111,
              "#46039f"
             ],
             [
              0.2222222222222222,
              "#7201a8"
             ],
             [
              0.3333333333333333,
              "#9c179e"
             ],
             [
              0.4444444444444444,
              "#bd3786"
             ],
             [
              0.5555555555555556,
              "#d8576b"
             ],
             [
              0.6666666666666666,
              "#ed7953"
             ],
             [
              0.7777777777777778,
              "#fb9f3a"
             ],
             [
              0.8888888888888888,
              "#fdca26"
             ],
             [
              1,
              "#f0f921"
             ]
            ],
            "type": "surface"
           }
          ],
          "table": [
           {
            "cells": {
             "fill": {
              "color": "#EBF0F8"
             },
             "line": {
              "color": "white"
             }
            },
            "header": {
             "fill": {
              "color": "#C8D4E3"
             },
             "line": {
              "color": "white"
             }
            },
            "type": "table"
           }
          ]
         },
         "layout": {
          "annotationdefaults": {
           "arrowcolor": "#2a3f5f",
           "arrowhead": 0,
           "arrowwidth": 1
          },
          "coloraxis": {
           "colorbar": {
            "outlinewidth": 0,
            "ticks": ""
           }
          },
          "colorscale": {
           "diverging": [
            [
             0,
             "#8e0152"
            ],
            [
             0.1,
             "#c51b7d"
            ],
            [
             0.2,
             "#de77ae"
            ],
            [
             0.3,
             "#f1b6da"
            ],
            [
             0.4,
             "#fde0ef"
            ],
            [
             0.5,
             "#f7f7f7"
            ],
            [
             0.6,
             "#e6f5d0"
            ],
            [
             0.7,
             "#b8e186"
            ],
            [
             0.8,
             "#7fbc41"
            ],
            [
             0.9,
             "#4d9221"
            ],
            [
             1,
             "#276419"
            ]
           ],
           "sequential": [
            [
             0,
             "#0d0887"
            ],
            [
             0.1111111111111111,
             "#46039f"
            ],
            [
             0.2222222222222222,
             "#7201a8"
            ],
            [
             0.3333333333333333,
             "#9c179e"
            ],
            [
             0.4444444444444444,
             "#bd3786"
            ],
            [
             0.5555555555555556,
             "#d8576b"
            ],
            [
             0.6666666666666666,
             "#ed7953"
            ],
            [
             0.7777777777777778,
             "#fb9f3a"
            ],
            [
             0.8888888888888888,
             "#fdca26"
            ],
            [
             1,
             "#f0f921"
            ]
           ],
           "sequentialminus": [
            [
             0,
             "#0d0887"
            ],
            [
             0.1111111111111111,
             "#46039f"
            ],
            [
             0.2222222222222222,
             "#7201a8"
            ],
            [
             0.3333333333333333,
             "#9c179e"
            ],
            [
             0.4444444444444444,
             "#bd3786"
            ],
            [
             0.5555555555555556,
             "#d8576b"
            ],
            [
             0.6666666666666666,
             "#ed7953"
            ],
            [
             0.7777777777777778,
             "#fb9f3a"
            ],
            [
             0.8888888888888888,
             "#fdca26"
            ],
            [
             1,
             "#f0f921"
            ]
           ]
          },
          "colorway": [
           "#636efa",
           "#EF553B",
           "#00cc96",
           "#ab63fa",
           "#FFA15A",
           "#19d3f3",
           "#FF6692",
           "#B6E880",
           "#FF97FF",
           "#FECB52"
          ],
          "font": {
           "color": "#2a3f5f"
          },
          "geo": {
           "bgcolor": "white",
           "lakecolor": "white",
           "landcolor": "#E5ECF6",
           "showlakes": true,
           "showland": true,
           "subunitcolor": "white"
          },
          "hoverlabel": {
           "align": "left"
          },
          "hovermode": "closest",
          "mapbox": {
           "style": "light"
          },
          "paper_bgcolor": "white",
          "plot_bgcolor": "#E5ECF6",
          "polar": {
           "angularaxis": {
            "gridcolor": "white",
            "linecolor": "white",
            "ticks": ""
           },
           "bgcolor": "#E5ECF6",
           "radialaxis": {
            "gridcolor": "white",
            "linecolor": "white",
            "ticks": ""
           }
          },
          "scene": {
           "xaxis": {
            "backgroundcolor": "#E5ECF6",
            "gridcolor": "white",
            "gridwidth": 2,
            "linecolor": "white",
            "showbackground": true,
            "ticks": "",
            "zerolinecolor": "white"
           },
           "yaxis": {
            "backgroundcolor": "#E5ECF6",
            "gridcolor": "white",
            "gridwidth": 2,
            "linecolor": "white",
            "showbackground": true,
            "ticks": "",
            "zerolinecolor": "white"
           },
           "zaxis": {
            "backgroundcolor": "#E5ECF6",
            "gridcolor": "white",
            "gridwidth": 2,
            "linecolor": "white",
            "showbackground": true,
            "ticks": "",
            "zerolinecolor": "white"
           }
          },
          "shapedefaults": {
           "line": {
            "color": "#2a3f5f"
           }
          },
          "ternary": {
           "aaxis": {
            "gridcolor": "white",
            "linecolor": "white",
            "ticks": ""
           },
           "baxis": {
            "gridcolor": "white",
            "linecolor": "white",
            "ticks": ""
           },
           "bgcolor": "#E5ECF6",
           "caxis": {
            "gridcolor": "white",
            "linecolor": "white",
            "ticks": ""
           }
          },
          "title": {
           "x": 0.05
          },
          "xaxis": {
           "automargin": true,
           "gridcolor": "white",
           "linecolor": "white",
           "ticks": "",
           "title": {
            "standoff": 15
           },
           "zerolinecolor": "white",
           "zerolinewidth": 2
          },
          "yaxis": {
           "automargin": true,
           "gridcolor": "white",
           "linecolor": "white",
           "ticks": "",
           "title": {
            "standoff": 15
           },
           "zerolinecolor": "white",
           "zerolinewidth": 2
          }
         }
        },
        "title": {
         "font": {
          "color": "#4D5663"
         }
        },
        "xaxis": {
         "gridcolor": "#E1E5ED",
         "showgrid": true,
         "tickfont": {
          "color": "#4D5663"
         },
         "title": {
          "font": {
           "color": "#4D5663"
          },
          "text": ""
         },
         "zerolinecolor": "#E1E5ED"
        },
        "yaxis": {
         "gridcolor": "#E1E5ED",
         "showgrid": true,
         "tickfont": {
          "color": "#4D5663"
         },
         "title": {
          "font": {
           "color": "#4D5663"
          },
          "text": ""
         },
         "zerolinecolor": "#E1E5ED"
        }
       }
      },
      "text/html": [
       "<div>\n",
       "        \n",
       "        \n",
       "            <div id=\"34487466-7fe9-44f1-8867-b47fe76fb71f\" class=\"plotly-graph-div\" style=\"height:525px; width:100%;\"></div>\n",
       "            <script type=\"text/javascript\">\n",
       "                require([\"plotly\"], function(Plotly) {\n",
       "                    window.PLOTLYENV=window.PLOTLYENV || {};\n",
       "                    window.PLOTLYENV.BASE_URL='https://plot.ly';\n",
       "                    \n",
       "                if (document.getElementById(\"34487466-7fe9-44f1-8867-b47fe76fb71f\")) {\n",
       "                    Plotly.newPlot(\n",
       "                        '34487466-7fe9-44f1-8867-b47fe76fb71f',\n",
       "                        [{\"marker\": {\"color\": [\"rgb(255, 153, 51)\", \"rgb(55, 128, 191)\", \"rgb(50, 171, 96)\", \"rgb(128, 0, 128)\", \"rgb(219, 64, 82)\", \"rgb(0, 128, 128)\", \"rgb(255, 255, 51)\", \"rgb(128, 128, 0)\", \"rgb(251, 128, 114)\", \"rgb(128, 177, 211)\"], \"line\": {\"width\": 1.3}, \"size\": [61, 28, 37, 57, 53, 57, 50, 75, 55, 17, 75, 83, 59, 27, 56, 64, 31, 58, 88, 45, 55, 34, 53, 66, 63, 21, 45, 42, 54, 69, 48, 60, 45, 57, 85, 52, 79, 64, 76, 67, 29, 74, 76, 32, 87, 82, 54, 41, 105, 71, 74, 54, 18, 53, 59, 45, 112, 50, 31, 12, 67, 88, 67, 87, 75, 58, 38, 76, 59, 61, 74, 60, 65, 48, 67, 70, 73, 52, 70, 67, 62, 95, 36, 79, 50, 69, 29, 87, 111, 77, 39, 53, 35, 65, 61, 56, 22, 66, 83, 80], \"symbol\": \"circle\"}, \"mode\": \"markers\", \"text\": \"\", \"type\": \"scatter\", \"x\": [0.5381855285673716, 0.5071020305201216, 0.4389237509487635, -0.6247998973105497, -0.32856245582140214, -0.5549132814916047, 0.5059612828729726, -3.197502476482795, -0.20387507115536785, 0.3459015762781, -0.2031519933742461, -1.4270667976720735, 0.12125644113873606, -0.041134446239839334, 0.09942498996999705, -0.6716409332021634, 0.8054591919418969, 1.6284504463712235, -1.0686571236688256, -0.6820570283090134, 1.0601779267043576, -0.8874271184205513, -0.23584503326298303, -1.3723947795930347, -0.5272892633343157, -0.6442561046802101, -1.2512104607334211, -0.09174351149493501, 0.9306815990203132, -0.467294899249402, 0.018392476702123038, -1.700457788639387, -0.26741137780144897, -0.7421803421304896, -0.14671882870501557, -1.6275386920455386, -0.45338390016622215, -2.0071863672670602, 0.1963189215463607, -1.4777986997953716, -2.1576217433969695, -0.7856668199645755, -1.2338432754092326, 1.399825272513358, -1.0091689439017615, 0.09028738823377347, -1.5408250419456964, 0.0990984258625075, -0.4343856232182664, -1.537700800793354, -0.072884287636136, -1.0730149201477526, 1.8456685132367332, 0.7476570177073996, -1.0485473399110965, -0.6900292790057106, -0.2208261440483984, 0.2686957612752167, -0.22816861670514565, 0.7311199936618888, 0.41812057329918606, 1.0887363338922411, -0.3964498621702017, 0.47286766096396265, -0.6027452918287854, 0.7025165133369287, 1.4569049926648543, 0.9999577792691502, -1.2811979563182043, 2.0804623137829674, 1.539255595278702, 0.4440631488297732, -1.5619867791736421, -0.31583137533287053, 0.3250311620824069, -0.4222090529096985, 1.7248048718981919, 0.5322881033597029, -0.3313064131205352, -1.2259399680760918, -0.6630691986600332, 0.043184530012049985, 1.5981295317194895, -1.3508876092805546, 1.0726560999357118, 0.3672953794565466, -0.4116672934579571, 0.47793618707943125, -1.0741938940368256, -0.7194551581808123, 0.9656653652456971, -0.1998839148187243, 1.1064616751011012, -0.3642037624025107, 0.8254311216681306, 0.7851611444731269, -0.8309895524553557, 0.44985792521595347, 1.695413609917251, -0.15895796721118688], \"y\": [0.6301674583573214, -1.561675696183232, 0.6365258247311377, -0.22324860617551084, -1.6736946321158042, -0.15927706452952708, 0.36989298593237285, 1.3085200046585113, 0.7159183818614192, 1.4170368007607066, -0.8484128249213295, 0.24290160075968745, 1.0795918353343301, -0.8157998727705896, -0.7184505150668109, -0.11568818097186227, -1.2901791636364424, 0.8400081678160328, -0.6676702261888512, -1.011257076667859, -0.6892287441692668, -0.23102459810075973, -0.21170064669943212, -0.20028233251560987, -1.078408181836114, 1.462130966067993, -0.17927997159447678, -0.13052020849949877, 0.4682168592110732, -1.5877343509461137, -0.6710951925528772, 0.05576752593607448, 0.5362381928866289, -0.34225661814037467, 0.581933321085821, 0.3947906536929084, 0.01940690313621235, -0.2163038164030735, -1.4955367906604886, 0.23791928037571633, -1.0977453084165723, 0.5335144230984808, 2.0993808494993873, -0.49490813917873455, 0.3941349794262045, -0.3772928341008689, 1.3048292635035965, -0.46672612038687655, -1.120489037175442, 1.9940005382078847, 0.20060951912701863, 0.57128240835606, 0.7145821222961338, 1.4105370810949298, 0.4049315688775944, 0.8458061881151208, -0.7609317914602187, -1.6481370061848084, -0.8873946431515575, -1.0683226547519797, -0.5316480238934537, 0.03361078302762433, -1.0363017034596884, 0.658821017661889, -1.0755800129807123, 0.9911979331699334, 0.5361321263657128, 0.988419798692416, -1.6384158410384904, -0.054614895140455734, -1.489486347353061, 1.0573670070827268, -0.005366874743519029, -1.5582928434235677, 1.3867439202182168, 0.27510525110981254, -0.0661353713844357, 0.4527693556244209, 0.39889118623618947, 1.3379470102985798, -0.9202241393884216, -0.7964312895565369, -0.6412882079248059, -0.7646490980947728, 0.7922507978202409, -0.24143865713923998, 0.6883199050793065, -0.44232087555933497, -0.46421476004079404, 0.14348851689963255, -0.8266849594361187, -0.1976183507463993, 1.1679312356869895, 0.5426240028902773, -0.2893004673286161, 0.6621600474085508, -1.2471603427386846, 1.0389478529243041, -0.048911234267454785, 0.2695699427674912]}],\n",
       "                        {\"legend\": {\"bgcolor\": \"#F5F6F9\", \"font\": {\"color\": \"#4D5663\"}}, \"paper_bgcolor\": \"#F5F6F9\", \"plot_bgcolor\": \"#F5F6F9\", \"template\": {\"data\": {\"bar\": [{\"error_x\": {\"color\": \"#2a3f5f\"}, \"error_y\": {\"color\": \"#2a3f5f\"}, \"marker\": {\"line\": {\"color\": \"#E5ECF6\", \"width\": 0.5}}, \"type\": \"bar\"}], \"barpolar\": [{\"marker\": {\"line\": {\"color\": \"#E5ECF6\", \"width\": 0.5}}, \"type\": \"barpolar\"}], \"carpet\": [{\"aaxis\": {\"endlinecolor\": \"#2a3f5f\", \"gridcolor\": \"white\", \"linecolor\": \"white\", \"minorgridcolor\": \"white\", \"startlinecolor\": \"#2a3f5f\"}, \"baxis\": {\"endlinecolor\": \"#2a3f5f\", \"gridcolor\": \"white\", \"linecolor\": \"white\", \"minorgridcolor\": \"white\", \"startlinecolor\": \"#2a3f5f\"}, \"type\": \"carpet\"}], \"choropleth\": [{\"colorbar\": {\"outlinewidth\": 0, \"ticks\": \"\"}, \"type\": \"choropleth\"}], \"contour\": [{\"colorbar\": {\"outlinewidth\": 0, \"ticks\": \"\"}, \"colorscale\": [[0.0, \"#0d0887\"], [0.1111111111111111, \"#46039f\"], [0.2222222222222222, \"#7201a8\"], [0.3333333333333333, \"#9c179e\"], [0.4444444444444444, \"#bd3786\"], [0.5555555555555556, \"#d8576b\"], [0.6666666666666666, \"#ed7953\"], [0.7777777777777778, \"#fb9f3a\"], [0.8888888888888888, \"#fdca26\"], [1.0, \"#f0f921\"]], \"type\": \"contour\"}], \"contourcarpet\": [{\"colorbar\": {\"outlinewidth\": 0, \"ticks\": \"\"}, \"type\": \"contourcarpet\"}], \"heatmap\": [{\"colorbar\": {\"outlinewidth\": 0, \"ticks\": \"\"}, \"colorscale\": [[0.0, \"#0d0887\"], [0.1111111111111111, \"#46039f\"], [0.2222222222222222, \"#7201a8\"], [0.3333333333333333, \"#9c179e\"], [0.4444444444444444, \"#bd3786\"], [0.5555555555555556, \"#d8576b\"], [0.6666666666666666, \"#ed7953\"], [0.7777777777777778, \"#fb9f3a\"], [0.8888888888888888, \"#fdca26\"], [1.0, \"#f0f921\"]], \"type\": \"heatmap\"}], \"heatmapgl\": [{\"colorbar\": {\"outlinewidth\": 0, \"ticks\": \"\"}, \"colorscale\": [[0.0, \"#0d0887\"], [0.1111111111111111, \"#46039f\"], [0.2222222222222222, \"#7201a8\"], [0.3333333333333333, \"#9c179e\"], [0.4444444444444444, \"#bd3786\"], [0.5555555555555556, \"#d8576b\"], [0.6666666666666666, \"#ed7953\"], [0.7777777777777778, \"#fb9f3a\"], [0.8888888888888888, \"#fdca26\"], [1.0, \"#f0f921\"]], \"type\": \"heatmapgl\"}], \"histogram\": [{\"marker\": {\"colorbar\": {\"outlinewidth\": 0, \"ticks\": \"\"}}, \"type\": \"histogram\"}], \"histogram2d\": [{\"colorbar\": {\"outlinewidth\": 0, \"ticks\": \"\"}, \"colorscale\": [[0.0, \"#0d0887\"], [0.1111111111111111, \"#46039f\"], [0.2222222222222222, \"#7201a8\"], [0.3333333333333333, \"#9c179e\"], [0.4444444444444444, \"#bd3786\"], [0.5555555555555556, \"#d8576b\"], [0.6666666666666666, \"#ed7953\"], [0.7777777777777778, \"#fb9f3a\"], [0.8888888888888888, \"#fdca26\"], [1.0, \"#f0f921\"]], \"type\": \"histogram2d\"}], \"histogram2dcontour\": [{\"colorbar\": {\"outlinewidth\": 0, \"ticks\": \"\"}, \"colorscale\": [[0.0, \"#0d0887\"], [0.1111111111111111, \"#46039f\"], [0.2222222222222222, \"#7201a8\"], [0.3333333333333333, \"#9c179e\"], [0.4444444444444444, \"#bd3786\"], [0.5555555555555556, \"#d8576b\"], [0.6666666666666666, \"#ed7953\"], [0.7777777777777778, \"#fb9f3a\"], [0.8888888888888888, \"#fdca26\"], [1.0, \"#f0f921\"]], \"type\": \"histogram2dcontour\"}], \"mesh3d\": [{\"colorbar\": {\"outlinewidth\": 0, \"ticks\": \"\"}, \"type\": \"mesh3d\"}], \"parcoords\": [{\"line\": {\"colorbar\": {\"outlinewidth\": 0, \"ticks\": \"\"}}, \"type\": \"parcoords\"}], \"pie\": [{\"automargin\": true, \"type\": \"pie\"}], \"scatter\": [{\"marker\": {\"colorbar\": {\"outlinewidth\": 0, \"ticks\": \"\"}}, \"type\": \"scatter\"}], \"scatter3d\": [{\"line\": {\"colorbar\": {\"outlinewidth\": 0, \"ticks\": \"\"}}, \"marker\": {\"colorbar\": {\"outlinewidth\": 0, \"ticks\": \"\"}}, \"type\": \"scatter3d\"}], \"scattercarpet\": [{\"marker\": {\"colorbar\": {\"outlinewidth\": 0, \"ticks\": \"\"}}, \"type\": \"scattercarpet\"}], \"scattergeo\": [{\"marker\": {\"colorbar\": {\"outlinewidth\": 0, \"ticks\": \"\"}}, \"type\": \"scattergeo\"}], \"scattergl\": [{\"marker\": {\"colorbar\": {\"outlinewidth\": 0, \"ticks\": \"\"}}, \"type\": \"scattergl\"}], \"scattermapbox\": [{\"marker\": {\"colorbar\": {\"outlinewidth\": 0, \"ticks\": \"\"}}, \"type\": \"scattermapbox\"}], \"scatterpolar\": [{\"marker\": {\"colorbar\": {\"outlinewidth\": 0, \"ticks\": \"\"}}, \"type\": \"scatterpolar\"}], \"scatterpolargl\": [{\"marker\": {\"colorbar\": {\"outlinewidth\": 0, \"ticks\": \"\"}}, \"type\": \"scatterpolargl\"}], \"scatterternary\": [{\"marker\": {\"colorbar\": {\"outlinewidth\": 0, \"ticks\": \"\"}}, \"type\": \"scatterternary\"}], \"surface\": [{\"colorbar\": {\"outlinewidth\": 0, \"ticks\": \"\"}, \"colorscale\": [[0.0, \"#0d0887\"], [0.1111111111111111, \"#46039f\"], [0.2222222222222222, \"#7201a8\"], [0.3333333333333333, \"#9c179e\"], [0.4444444444444444, \"#bd3786\"], [0.5555555555555556, \"#d8576b\"], [0.6666666666666666, \"#ed7953\"], [0.7777777777777778, \"#fb9f3a\"], [0.8888888888888888, \"#fdca26\"], [1.0, \"#f0f921\"]], \"type\": \"surface\"}], \"table\": [{\"cells\": {\"fill\": {\"color\": \"#EBF0F8\"}, \"line\": {\"color\": \"white\"}}, \"header\": {\"fill\": {\"color\": \"#C8D4E3\"}, \"line\": {\"color\": \"white\"}}, \"type\": \"table\"}]}, \"layout\": {\"annotationdefaults\": {\"arrowcolor\": \"#2a3f5f\", \"arrowhead\": 0, \"arrowwidth\": 1}, \"coloraxis\": {\"colorbar\": {\"outlinewidth\": 0, \"ticks\": \"\"}}, \"colorscale\": {\"diverging\": [[0, \"#8e0152\"], [0.1, \"#c51b7d\"], [0.2, \"#de77ae\"], [0.3, \"#f1b6da\"], [0.4, \"#fde0ef\"], [0.5, \"#f7f7f7\"], [0.6, \"#e6f5d0\"], [0.7, \"#b8e186\"], [0.8, \"#7fbc41\"], [0.9, \"#4d9221\"], [1, \"#276419\"]], \"sequential\": [[0.0, \"#0d0887\"], [0.1111111111111111, \"#46039f\"], [0.2222222222222222, \"#7201a8\"], [0.3333333333333333, \"#9c179e\"], [0.4444444444444444, \"#bd3786\"], [0.5555555555555556, \"#d8576b\"], [0.6666666666666666, \"#ed7953\"], [0.7777777777777778, \"#fb9f3a\"], [0.8888888888888888, \"#fdca26\"], [1.0, \"#f0f921\"]], \"sequentialminus\": [[0.0, \"#0d0887\"], [0.1111111111111111, \"#46039f\"], [0.2222222222222222, \"#7201a8\"], [0.3333333333333333, \"#9c179e\"], [0.4444444444444444, \"#bd3786\"], [0.5555555555555556, \"#d8576b\"], [0.6666666666666666, \"#ed7953\"], [0.7777777777777778, \"#fb9f3a\"], [0.8888888888888888, \"#fdca26\"], [1.0, \"#f0f921\"]]}, \"colorway\": [\"#636efa\", \"#EF553B\", \"#00cc96\", \"#ab63fa\", \"#FFA15A\", \"#19d3f3\", \"#FF6692\", \"#B6E880\", \"#FF97FF\", \"#FECB52\"], \"font\": {\"color\": \"#2a3f5f\"}, \"geo\": {\"bgcolor\": \"white\", \"lakecolor\": \"white\", \"landcolor\": \"#E5ECF6\", \"showlakes\": true, \"showland\": true, \"subunitcolor\": \"white\"}, \"hoverlabel\": {\"align\": \"left\"}, \"hovermode\": \"closest\", \"mapbox\": {\"style\": \"light\"}, \"paper_bgcolor\": \"white\", \"plot_bgcolor\": \"#E5ECF6\", \"polar\": {\"angularaxis\": {\"gridcolor\": \"white\", \"linecolor\": \"white\", \"ticks\": \"\"}, \"bgcolor\": \"#E5ECF6\", \"radialaxis\": {\"gridcolor\": \"white\", \"linecolor\": \"white\", \"ticks\": \"\"}}, \"scene\": {\"xaxis\": {\"backgroundcolor\": \"#E5ECF6\", \"gridcolor\": \"white\", \"gridwidth\": 2, \"linecolor\": \"white\", \"showbackground\": true, \"ticks\": \"\", \"zerolinecolor\": \"white\"}, \"yaxis\": {\"backgroundcolor\": \"#E5ECF6\", \"gridcolor\": \"white\", \"gridwidth\": 2, \"linecolor\": \"white\", \"showbackground\": true, \"ticks\": \"\", \"zerolinecolor\": \"white\"}, \"zaxis\": {\"backgroundcolor\": \"#E5ECF6\", \"gridcolor\": \"white\", \"gridwidth\": 2, \"linecolor\": \"white\", \"showbackground\": true, \"ticks\": \"\", \"zerolinecolor\": \"white\"}}, \"shapedefaults\": {\"line\": {\"color\": \"#2a3f5f\"}}, \"ternary\": {\"aaxis\": {\"gridcolor\": \"white\", \"linecolor\": \"white\", \"ticks\": \"\"}, \"baxis\": {\"gridcolor\": \"white\", \"linecolor\": \"white\", \"ticks\": \"\"}, \"bgcolor\": \"#E5ECF6\", \"caxis\": {\"gridcolor\": \"white\", \"linecolor\": \"white\", \"ticks\": \"\"}}, \"title\": {\"x\": 0.05}, \"xaxis\": {\"automargin\": true, \"gridcolor\": \"white\", \"linecolor\": \"white\", \"ticks\": \"\", \"title\": {\"standoff\": 15}, \"zerolinecolor\": \"white\", \"zerolinewidth\": 2}, \"yaxis\": {\"automargin\": true, \"gridcolor\": \"white\", \"linecolor\": \"white\", \"ticks\": \"\", \"title\": {\"standoff\": 15}, \"zerolinecolor\": \"white\", \"zerolinewidth\": 2}}}, \"title\": {\"font\": {\"color\": \"#4D5663\"}}, \"xaxis\": {\"gridcolor\": \"#E1E5ED\", \"showgrid\": true, \"tickfont\": {\"color\": \"#4D5663\"}, \"title\": {\"font\": {\"color\": \"#4D5663\"}, \"text\": \"\"}, \"zerolinecolor\": \"#E1E5ED\"}, \"yaxis\": {\"gridcolor\": \"#E1E5ED\", \"showgrid\": true, \"tickfont\": {\"color\": \"#4D5663\"}, \"title\": {\"font\": {\"color\": \"#4D5663\"}, \"text\": \"\"}, \"zerolinecolor\": \"#E1E5ED\"}},\n",
       "                        {\"showLink\": true, \"linkText\": \"Export to plot.ly\", \"plotlyServerURL\": \"https://plot.ly\", \"responsive\": true}\n",
       "                    ).then(function(){\n",
       "                            \n",
       "var gd = document.getElementById('34487466-7fe9-44f1-8867-b47fe76fb71f');\n",
       "var x = new MutationObserver(function (mutations, observer) {{\n",
       "        var display = window.getComputedStyle(gd).display;\n",
       "        if (!display || display === 'none') {{\n",
       "            console.log([gd, 'removed!']);\n",
       "            Plotly.purge(gd);\n",
       "            observer.disconnect();\n",
       "        }}\n",
       "}});\n",
       "\n",
       "// Listen for the removal of the full notebook cells\n",
       "var notebookContainer = gd.closest('#notebook-container');\n",
       "if (notebookContainer) {{\n",
       "    x.observe(notebookContainer, {childList: true});\n",
       "}}\n",
       "\n",
       "// Listen for the clearing of the current output cell\n",
       "var outputEl = gd.closest('.output');\n",
       "if (outputEl) {{\n",
       "    x.observe(outputEl, {childList: true});\n",
       "}}\n",
       "\n",
       "                        })\n",
       "                };\n",
       "                });\n",
       "            </script>\n",
       "        </div>"
      ]
     },
     "metadata": {},
     "output_type": "display_data"
    }
   ],
   "source": [
    "df.iplot(kind='bubble',x='A',y='B',size='C')"
   ]
  },
  {
   "cell_type": "markdown",
   "metadata": {},
   "source": [
    "## scatter_matrix()\n",
    "\n",
    "Similar to sns.pairplot()"
   ]
  },
  {
   "cell_type": "code",
   "execution_count": 18,
   "metadata": {},
   "outputs": [
    {
     "data": {
      "application/vnd.plotly.v1+json": {
       "config": {
        "linkText": "Export to plot.ly",
        "plotlyServerURL": "https://plot.ly",
        "showLink": true
       },
       "data": [
        {
         "histfunc": "count",
         "histnorm": "",
         "marker": {
          "color": "rgba(255, 153, 51, 1.0)",
          "line": {
           "color": "#4D5663",
           "width": 1.3
          }
         },
         "name": "A",
         "nbinsx": 10,
         "opacity": 0.8,
         "orientation": "v",
         "type": "histogram",
         "x": [
          0.5381855285673716,
          0.5071020305201216,
          0.4389237509487635,
          -0.6247998973105497,
          -0.32856245582140214,
          -0.5549132814916047,
          0.5059612828729726,
          -3.197502476482795,
          -0.20387507115536785,
          0.3459015762781,
          -0.2031519933742461,
          -1.4270667976720735,
          0.12125644113873606,
          -0.041134446239839334,
          0.09942498996999705,
          -0.6716409332021634,
          0.8054591919418969,
          1.6284504463712235,
          -1.0686571236688256,
          -0.6820570283090134,
          1.0601779267043576,
          -0.8874271184205513,
          -0.23584503326298303,
          -1.3723947795930347,
          -0.5272892633343157,
          -0.6442561046802101,
          -1.2512104607334211,
          -0.09174351149493501,
          0.9306815990203132,
          -0.467294899249402,
          0.018392476702123038,
          -1.700457788639387,
          -0.26741137780144897,
          -0.7421803421304896,
          -0.14671882870501557,
          -1.6275386920455386,
          -0.45338390016622215,
          -2.0071863672670602,
          0.1963189215463607,
          -1.4777986997953716,
          -2.1576217433969695,
          -0.7856668199645755,
          -1.2338432754092326,
          1.399825272513358,
          -1.0091689439017615,
          0.09028738823377347,
          -1.5408250419456964,
          0.0990984258625075,
          -0.4343856232182664,
          -1.537700800793354,
          -0.072884287636136,
          -1.0730149201477526,
          1.8456685132367332,
          0.7476570177073996,
          -1.0485473399110965,
          -0.6900292790057106,
          -0.2208261440483984,
          0.2686957612752167,
          -0.22816861670514565,
          0.7311199936618888,
          0.41812057329918606,
          1.0887363338922411,
          -0.3964498621702017,
          0.47286766096396265,
          -0.6027452918287854,
          0.7025165133369287,
          1.4569049926648543,
          0.9999577792691502,
          -1.2811979563182043,
          2.0804623137829674,
          1.539255595278702,
          0.4440631488297732,
          -1.5619867791736421,
          -0.31583137533287053,
          0.3250311620824069,
          -0.4222090529096985,
          1.7248048718981919,
          0.5322881033597029,
          -0.3313064131205352,
          -1.2259399680760918,
          -0.6630691986600332,
          0.043184530012049985,
          1.5981295317194895,
          -1.3508876092805546,
          1.0726560999357118,
          0.3672953794565466,
          -0.4116672934579571,
          0.47793618707943125,
          -1.0741938940368256,
          -0.7194551581808123,
          0.9656653652456971,
          -0.1998839148187243,
          1.1064616751011012,
          -0.3642037624025107,
          0.8254311216681306,
          0.7851611444731269,
          -0.8309895524553557,
          0.44985792521595347,
          1.695413609917251,
          -0.15895796721118688
         ],
         "xaxis": "x",
         "yaxis": "y"
        },
        {
         "line": {
          "color": "rgba(128, 128, 128, 1.0)",
          "dash": "solid",
          "shape": "linear",
          "width": 1.3
         },
         "marker": {
          "size": 2,
          "symbol": "circle"
         },
         "mode": "markers",
         "name": "A",
         "text": "",
         "type": "scatter",
         "x": [
          0.6301674583573214,
          -1.561675696183232,
          0.6365258247311377,
          -0.22324860617551084,
          -1.6736946321158042,
          -0.15927706452952708,
          0.36989298593237285,
          1.3085200046585113,
          0.7159183818614192,
          1.4170368007607066,
          -0.8484128249213295,
          0.24290160075968745,
          1.0795918353343301,
          -0.8157998727705896,
          -0.7184505150668109,
          -0.11568818097186227,
          -1.2901791636364424,
          0.8400081678160328,
          -0.6676702261888512,
          -1.011257076667859,
          -0.6892287441692668,
          -0.23102459810075973,
          -0.21170064669943212,
          -0.20028233251560987,
          -1.078408181836114,
          1.462130966067993,
          -0.17927997159447678,
          -0.13052020849949877,
          0.4682168592110732,
          -1.5877343509461137,
          -0.6710951925528772,
          0.05576752593607448,
          0.5362381928866289,
          -0.34225661814037467,
          0.581933321085821,
          0.3947906536929084,
          0.01940690313621235,
          -0.2163038164030735,
          -1.4955367906604886,
          0.23791928037571633,
          -1.0977453084165723,
          0.5335144230984808,
          2.0993808494993873,
          -0.49490813917873455,
          0.3941349794262045,
          -0.3772928341008689,
          1.3048292635035965,
          -0.46672612038687655,
          -1.120489037175442,
          1.9940005382078847,
          0.20060951912701863,
          0.57128240835606,
          0.7145821222961338,
          1.4105370810949298,
          0.4049315688775944,
          0.8458061881151208,
          -0.7609317914602187,
          -1.6481370061848084,
          -0.8873946431515575,
          -1.0683226547519797,
          -0.5316480238934537,
          0.03361078302762433,
          -1.0363017034596884,
          0.658821017661889,
          -1.0755800129807123,
          0.9911979331699334,
          0.5361321263657128,
          0.988419798692416,
          -1.6384158410384904,
          -0.054614895140455734,
          -1.489486347353061,
          1.0573670070827268,
          -0.005366874743519029,
          -1.5582928434235677,
          1.3867439202182168,
          0.27510525110981254,
          -0.0661353713844357,
          0.4527693556244209,
          0.39889118623618947,
          1.3379470102985798,
          -0.9202241393884216,
          -0.7964312895565369,
          -0.6412882079248059,
          -0.7646490980947728,
          0.7922507978202409,
          -0.24143865713923998,
          0.6883199050793065,
          -0.44232087555933497,
          -0.46421476004079404,
          0.14348851689963255,
          -0.8266849594361187,
          -0.1976183507463993,
          1.1679312356869895,
          0.5426240028902773,
          -0.2893004673286161,
          0.6621600474085508,
          -1.2471603427386846,
          1.0389478529243041,
          -0.048911234267454785,
          0.2695699427674912
         ],
         "xaxis": "x2",
         "y": [
          0.5381855285673716,
          0.5071020305201216,
          0.4389237509487635,
          -0.6247998973105497,
          -0.32856245582140214,
          -0.5549132814916047,
          0.5059612828729726,
          -3.197502476482795,
          -0.20387507115536785,
          0.3459015762781,
          -0.2031519933742461,
          -1.4270667976720735,
          0.12125644113873606,
          -0.041134446239839334,
          0.09942498996999705,
          -0.6716409332021634,
          0.8054591919418969,
          1.6284504463712235,
          -1.0686571236688256,
          -0.6820570283090134,
          1.0601779267043576,
          -0.8874271184205513,
          -0.23584503326298303,
          -1.3723947795930347,
          -0.5272892633343157,
          -0.6442561046802101,
          -1.2512104607334211,
          -0.09174351149493501,
          0.9306815990203132,
          -0.467294899249402,
          0.018392476702123038,
          -1.700457788639387,
          -0.26741137780144897,
          -0.7421803421304896,
          -0.14671882870501557,
          -1.6275386920455386,
          -0.45338390016622215,
          -2.0071863672670602,
          0.1963189215463607,
          -1.4777986997953716,
          -2.1576217433969695,
          -0.7856668199645755,
          -1.2338432754092326,
          1.399825272513358,
          -1.0091689439017615,
          0.09028738823377347,
          -1.5408250419456964,
          0.0990984258625075,
          -0.4343856232182664,
          -1.537700800793354,
          -0.072884287636136,
          -1.0730149201477526,
          1.8456685132367332,
          0.7476570177073996,
          -1.0485473399110965,
          -0.6900292790057106,
          -0.2208261440483984,
          0.2686957612752167,
          -0.22816861670514565,
          0.7311199936618888,
          0.41812057329918606,
          1.0887363338922411,
          -0.3964498621702017,
          0.47286766096396265,
          -0.6027452918287854,
          0.7025165133369287,
          1.4569049926648543,
          0.9999577792691502,
          -1.2811979563182043,
          2.0804623137829674,
          1.539255595278702,
          0.4440631488297732,
          -1.5619867791736421,
          -0.31583137533287053,
          0.3250311620824069,
          -0.4222090529096985,
          1.7248048718981919,
          0.5322881033597029,
          -0.3313064131205352,
          -1.2259399680760918,
          -0.6630691986600332,
          0.043184530012049985,
          1.5981295317194895,
          -1.3508876092805546,
          1.0726560999357118,
          0.3672953794565466,
          -0.4116672934579571,
          0.47793618707943125,
          -1.0741938940368256,
          -0.7194551581808123,
          0.9656653652456971,
          -0.1998839148187243,
          1.1064616751011012,
          -0.3642037624025107,
          0.8254311216681306,
          0.7851611444731269,
          -0.8309895524553557,
          0.44985792521595347,
          1.695413609917251,
          -0.15895796721118688
         ],
         "yaxis": "y2"
        },
        {
         "line": {
          "color": "rgba(128, 128, 128, 1.0)",
          "dash": "solid",
          "shape": "linear",
          "width": 1.3
         },
         "marker": {
          "size": 2,
          "symbol": "circle"
         },
         "mode": "markers",
         "name": "A",
         "text": "",
         "type": "scatter",
         "x": [
          0.14506602511110148,
          -1.5350919477293514,
          -1.0564402955132137,
          -0.05366494973768762,
          -0.23532988259206,
          -0.06376402718449821,
          -0.3875871855539246,
          0.8889575112108654,
          -0.13230820292205872,
          -2.0768634529698575,
          0.8542654948565908,
          1.2591016290832808,
          0.055577214025398176,
          -1.5765266719500757,
          -0.07478080507591517,
          0.2986412469044207,
          -1.3865605376242653,
          -0.016753943949769947,
          1.536663931660215,
          -0.6478224006291703,
          -0.16944154867726552,
          -1.1912068331424026,
          -0.25680339372019473,
          0.4328630823987023,
          0.2722018160160951,
          -1.8520769036337186,
          -0.6375092932830504,
          -0.7955321290045767,
          -0.2148903750252082,
          0.5512614435268286,
          -0.4945659313053846,
          0.08927834189774887,
          -0.6555629714503787,
          -0.034297214996859844,
          1.3660523369049575,
          -0.2817361408288066,
          1.0632680641405627,
          0.28519020076291474,
          0.9352797650105166,
          0.48464803701997045,
          -1.4955528878230095,
          0.8348329474048144,
          0.9399305899605457,
          -1.3110079910772554,
          1.493664781975507,
          1.2378021641540384,
          -0.21476879517302902,
          -0.8684227613476898,
          2.379866832779196,
          0.6762504445379166,
          0.8153938463135066,
          -0.1874834666679136,
          -2.025887068164461,
          -0.23134055717521698,
          0.07379616021762368,
          -0.6801295155135376,
          2.723554612014531,
          -0.4166641061429242,
          -1.3711175028185112,
          -2.359727194601706,
          0.484914994727327,
          1.524158497592488,
          0.47027700405519596,
          1.4867724397113453,
          0.886753300712882,
          0.029158549039998746,
          -1.029575837223082,
          0.9314113396487392,
          0.052769031942404745,
          0.13338582615104563,
          0.8154145282993461,
          0.10710573411611993,
          0.3373752330790277,
          -0.5195165045736313,
          0.4427477157651256,
          0.6133730181764102,
          0.7512150936281655,
          -0.29974210812375635,
          0.605387491159014,
          0.449995135705989,
          0.21758041876843912,
          1.8620559687106546,
          -1.1183313706292377,
          1.0529824703212414,
          -0.3854369014622324,
          0.5553255899132032,
          -1.470004515987508,
          1.4703361223721525,
          2.6746366151907006,
          0.9702882982673493,
          -0.9803198964664515,
          -0.2542258021756626,
          -1.1776697118204689,
          0.3751877356390631,
          0.14435315708568935,
          -0.10729659569820357,
          -1.8318945960270736,
          0.41992730267581446,
          1.2596641865449796,
          1.10186947308976
         ],
         "xaxis": "x3",
         "y": [
          0.5381855285673716,
          0.5071020305201216,
          0.4389237509487635,
          -0.6247998973105497,
          -0.32856245582140214,
          -0.5549132814916047,
          0.5059612828729726,
          -3.197502476482795,
          -0.20387507115536785,
          0.3459015762781,
          -0.2031519933742461,
          -1.4270667976720735,
          0.12125644113873606,
          -0.041134446239839334,
          0.09942498996999705,
          -0.6716409332021634,
          0.8054591919418969,
          1.6284504463712235,
          -1.0686571236688256,
          -0.6820570283090134,
          1.0601779267043576,
          -0.8874271184205513,
          -0.23584503326298303,
          -1.3723947795930347,
          -0.5272892633343157,
          -0.6442561046802101,
          -1.2512104607334211,
          -0.09174351149493501,
          0.9306815990203132,
          -0.467294899249402,
          0.018392476702123038,
          -1.700457788639387,
          -0.26741137780144897,
          -0.7421803421304896,
          -0.14671882870501557,
          -1.6275386920455386,
          -0.45338390016622215,
          -2.0071863672670602,
          0.1963189215463607,
          -1.4777986997953716,
          -2.1576217433969695,
          -0.7856668199645755,
          -1.2338432754092326,
          1.399825272513358,
          -1.0091689439017615,
          0.09028738823377347,
          -1.5408250419456964,
          0.0990984258625075,
          -0.4343856232182664,
          -1.537700800793354,
          -0.072884287636136,
          -1.0730149201477526,
          1.8456685132367332,
          0.7476570177073996,
          -1.0485473399110965,
          -0.6900292790057106,
          -0.2208261440483984,
          0.2686957612752167,
          -0.22816861670514565,
          0.7311199936618888,
          0.41812057329918606,
          1.0887363338922411,
          -0.3964498621702017,
          0.47286766096396265,
          -0.6027452918287854,
          0.7025165133369287,
          1.4569049926648543,
          0.9999577792691502,
          -1.2811979563182043,
          2.0804623137829674,
          1.539255595278702,
          0.4440631488297732,
          -1.5619867791736421,
          -0.31583137533287053,
          0.3250311620824069,
          -0.4222090529096985,
          1.7248048718981919,
          0.5322881033597029,
          -0.3313064131205352,
          -1.2259399680760918,
          -0.6630691986600332,
          0.043184530012049985,
          1.5981295317194895,
          -1.3508876092805546,
          1.0726560999357118,
          0.3672953794565466,
          -0.4116672934579571,
          0.47793618707943125,
          -1.0741938940368256,
          -0.7194551581808123,
          0.9656653652456971,
          -0.1998839148187243,
          1.1064616751011012,
          -0.3642037624025107,
          0.8254311216681306,
          0.7851611444731269,
          -0.8309895524553557,
          0.44985792521595347,
          1.695413609917251,
          -0.15895796721118688
         ],
         "yaxis": "y3"
        },
        {
         "line": {
          "color": "rgba(128, 128, 128, 1.0)",
          "dash": "solid",
          "shape": "linear",
          "width": 1.3
         },
         "marker": {
          "size": 2,
          "symbol": "circle"
         },
         "mode": "markers",
         "name": "A",
         "text": "",
         "type": "scatter",
         "x": [
          2.050228155950427,
          -0.9590933400376149,
          -0.9022858940930771,
          -0.11245842772250299,
          -1.0379068828010054,
          0.34119877607034343,
          0.5667815384910767,
          -2.449915367431319,
          -0.6881195751990852,
          -0.4467084029103725,
          0.27233802571608334,
          0.9056722440606502,
          -2.4447262252508795,
          0.0016958510905633656,
          0.20714654897958837,
          -0.41331614803786604,
          1.453483440745612,
          0.6004098821605295,
          0.5069983878181352,
          -0.4892238260046472,
          0.30640967261840896,
          1.6408154921615061,
          0.6884152849973099,
          0.13027743145046594,
          -0.36403729362953186,
          -0.5023434212713528,
          -0.5220640506021428,
          0.11156329863109098,
          -0.06330919038657584,
          -0.05735058436595994,
          -0.4695934678133395,
          0.8923475645817046,
          0.8962584268478865,
          0.10264098688007241,
          -1.0138199721942345,
          0.03403677016801545,
          -1.2010673729625618,
          0.19554483632945618,
          0.78805709911097,
          0.29019857295086493,
          -1.574182450906617,
          1.0381859046735737,
          0.8422589849955819,
          -2.3701248365015197,
          1.0141153134288146,
          -2.2257729556872787,
          0.21958637495155045,
          0.8402614669134792,
          -2.4546019828650265,
          -0.4414196818536903,
          1.0470366257844936,
          -0.291738407197531,
          0.09930521623561693,
          0.03280369665492429,
          0.2228425094865553,
          -0.745494399913448,
          -1.1941154537874168,
          -0.0451813391166685,
          0.8564239459664448,
          -0.6195190541176119,
          0.4745602160619311,
          -0.6930746040422452,
          -1.3259836114544394,
          -0.015511187299125338,
          0.2200495973166145,
          2.8335206353490654,
          0.2210756024053435,
          0.1540311463037094,
          -1.5183911631483025,
          -2.232764001133131,
          -0.38035632475981773,
          -0.09141441406298612,
          -0.009350774221741225,
          -0.4530101873757683,
          0.7063108905074421,
          -1.297568021769972,
          -0.02059585283770215,
          0.6770796689310324,
          -0.49556153953140136,
          -2.090473213546201,
          0.37212669067377463,
          1.210290247335541,
          0.488565871663984,
          0.040795188878717185,
          -0.7574521159414243,
          0.9636605831858774,
          0.23073541530629288,
          -0.6483525230354428,
          0.2090513911515964,
          1.0233827275838547,
          -0.07074530883416033,
          0.779362420122101,
          -1.1713821437481107,
          1.6947331941675083,
          1.0449557884171017,
          0.7338766144330973,
          2.715466510306024,
          -0.2811212457762603,
          -0.06702146929721933,
          -1.8332739731995036
         ],
         "xaxis": "x4",
         "y": [
          0.5381855285673716,
          0.5071020305201216,
          0.4389237509487635,
          -0.6247998973105497,
          -0.32856245582140214,
          -0.5549132814916047,
          0.5059612828729726,
          -3.197502476482795,
          -0.20387507115536785,
          0.3459015762781,
          -0.2031519933742461,
          -1.4270667976720735,
          0.12125644113873606,
          -0.041134446239839334,
          0.09942498996999705,
          -0.6716409332021634,
          0.8054591919418969,
          1.6284504463712235,
          -1.0686571236688256,
          -0.6820570283090134,
          1.0601779267043576,
          -0.8874271184205513,
          -0.23584503326298303,
          -1.3723947795930347,
          -0.5272892633343157,
          -0.6442561046802101,
          -1.2512104607334211,
          -0.09174351149493501,
          0.9306815990203132,
          -0.467294899249402,
          0.018392476702123038,
          -1.700457788639387,
          -0.26741137780144897,
          -0.7421803421304896,
          -0.14671882870501557,
          -1.6275386920455386,
          -0.45338390016622215,
          -2.0071863672670602,
          0.1963189215463607,
          -1.4777986997953716,
          -2.1576217433969695,
          -0.7856668199645755,
          -1.2338432754092326,
          1.399825272513358,
          -1.0091689439017615,
          0.09028738823377347,
          -1.5408250419456964,
          0.0990984258625075,
          -0.4343856232182664,
          -1.537700800793354,
          -0.072884287636136,
          -1.0730149201477526,
          1.8456685132367332,
          0.7476570177073996,
          -1.0485473399110965,
          -0.6900292790057106,
          -0.2208261440483984,
          0.2686957612752167,
          -0.22816861670514565,
          0.7311199936618888,
          0.41812057329918606,
          1.0887363338922411,
          -0.3964498621702017,
          0.47286766096396265,
          -0.6027452918287854,
          0.7025165133369287,
          1.4569049926648543,
          0.9999577792691502,
          -1.2811979563182043,
          2.0804623137829674,
          1.539255595278702,
          0.4440631488297732,
          -1.5619867791736421,
          -0.31583137533287053,
          0.3250311620824069,
          -0.4222090529096985,
          1.7248048718981919,
          0.5322881033597029,
          -0.3313064131205352,
          -1.2259399680760918,
          -0.6630691986600332,
          0.043184530012049985,
          1.5981295317194895,
          -1.3508876092805546,
          1.0726560999357118,
          0.3672953794565466,
          -0.4116672934579571,
          0.47793618707943125,
          -1.0741938940368256,
          -0.7194551581808123,
          0.9656653652456971,
          -0.1998839148187243,
          1.1064616751011012,
          -0.3642037624025107,
          0.8254311216681306,
          0.7851611444731269,
          -0.8309895524553557,
          0.44985792521595347,
          1.695413609917251,
          -0.15895796721118688
         ],
         "yaxis": "y4"
        },
        {
         "line": {
          "color": "rgba(128, 128, 128, 1.0)",
          "dash": "solid",
          "shape": "linear",
          "width": 1.3
         },
         "marker": {
          "size": 2,
          "symbol": "circle"
         },
         "mode": "markers",
         "name": "B",
         "text": "",
         "type": "scatter",
         "x": [
          0.5381855285673716,
          0.5071020305201216,
          0.4389237509487635,
          -0.6247998973105497,
          -0.32856245582140214,
          -0.5549132814916047,
          0.5059612828729726,
          -3.197502476482795,
          -0.20387507115536785,
          0.3459015762781,
          -0.2031519933742461,
          -1.4270667976720735,
          0.12125644113873606,
          -0.041134446239839334,
          0.09942498996999705,
          -0.6716409332021634,
          0.8054591919418969,
          1.6284504463712235,
          -1.0686571236688256,
          -0.6820570283090134,
          1.0601779267043576,
          -0.8874271184205513,
          -0.23584503326298303,
          -1.3723947795930347,
          -0.5272892633343157,
          -0.6442561046802101,
          -1.2512104607334211,
          -0.09174351149493501,
          0.9306815990203132,
          -0.467294899249402,
          0.018392476702123038,
          -1.700457788639387,
          -0.26741137780144897,
          -0.7421803421304896,
          -0.14671882870501557,
          -1.6275386920455386,
          -0.45338390016622215,
          -2.0071863672670602,
          0.1963189215463607,
          -1.4777986997953716,
          -2.1576217433969695,
          -0.7856668199645755,
          -1.2338432754092326,
          1.399825272513358,
          -1.0091689439017615,
          0.09028738823377347,
          -1.5408250419456964,
          0.0990984258625075,
          -0.4343856232182664,
          -1.537700800793354,
          -0.072884287636136,
          -1.0730149201477526,
          1.8456685132367332,
          0.7476570177073996,
          -1.0485473399110965,
          -0.6900292790057106,
          -0.2208261440483984,
          0.2686957612752167,
          -0.22816861670514565,
          0.7311199936618888,
          0.41812057329918606,
          1.0887363338922411,
          -0.3964498621702017,
          0.47286766096396265,
          -0.6027452918287854,
          0.7025165133369287,
          1.4569049926648543,
          0.9999577792691502,
          -1.2811979563182043,
          2.0804623137829674,
          1.539255595278702,
          0.4440631488297732,
          -1.5619867791736421,
          -0.31583137533287053,
          0.3250311620824069,
          -0.4222090529096985,
          1.7248048718981919,
          0.5322881033597029,
          -0.3313064131205352,
          -1.2259399680760918,
          -0.6630691986600332,
          0.043184530012049985,
          1.5981295317194895,
          -1.3508876092805546,
          1.0726560999357118,
          0.3672953794565466,
          -0.4116672934579571,
          0.47793618707943125,
          -1.0741938940368256,
          -0.7194551581808123,
          0.9656653652456971,
          -0.1998839148187243,
          1.1064616751011012,
          -0.3642037624025107,
          0.8254311216681306,
          0.7851611444731269,
          -0.8309895524553557,
          0.44985792521595347,
          1.695413609917251,
          -0.15895796721118688
         ],
         "xaxis": "x5",
         "y": [
          0.6301674583573214,
          -1.561675696183232,
          0.6365258247311377,
          -0.22324860617551084,
          -1.6736946321158042,
          -0.15927706452952708,
          0.36989298593237285,
          1.3085200046585113,
          0.7159183818614192,
          1.4170368007607066,
          -0.8484128249213295,
          0.24290160075968745,
          1.0795918353343301,
          -0.8157998727705896,
          -0.7184505150668109,
          -0.11568818097186227,
          -1.2901791636364424,
          0.8400081678160328,
          -0.6676702261888512,
          -1.011257076667859,
          -0.6892287441692668,
          -0.23102459810075973,
          -0.21170064669943212,
          -0.20028233251560987,
          -1.078408181836114,
          1.462130966067993,
          -0.17927997159447678,
          -0.13052020849949877,
          0.4682168592110732,
          -1.5877343509461137,
          -0.6710951925528772,
          0.05576752593607448,
          0.5362381928866289,
          -0.34225661814037467,
          0.581933321085821,
          0.3947906536929084,
          0.01940690313621235,
          -0.2163038164030735,
          -1.4955367906604886,
          0.23791928037571633,
          -1.0977453084165723,
          0.5335144230984808,
          2.0993808494993873,
          -0.49490813917873455,
          0.3941349794262045,
          -0.3772928341008689,
          1.3048292635035965,
          -0.46672612038687655,
          -1.120489037175442,
          1.9940005382078847,
          0.20060951912701863,
          0.57128240835606,
          0.7145821222961338,
          1.4105370810949298,
          0.4049315688775944,
          0.8458061881151208,
          -0.7609317914602187,
          -1.6481370061848084,
          -0.8873946431515575,
          -1.0683226547519797,
          -0.5316480238934537,
          0.03361078302762433,
          -1.0363017034596884,
          0.658821017661889,
          -1.0755800129807123,
          0.9911979331699334,
          0.5361321263657128,
          0.988419798692416,
          -1.6384158410384904,
          -0.054614895140455734,
          -1.489486347353061,
          1.0573670070827268,
          -0.005366874743519029,
          -1.5582928434235677,
          1.3867439202182168,
          0.27510525110981254,
          -0.0661353713844357,
          0.4527693556244209,
          0.39889118623618947,
          1.3379470102985798,
          -0.9202241393884216,
          -0.7964312895565369,
          -0.6412882079248059,
          -0.7646490980947728,
          0.7922507978202409,
          -0.24143865713923998,
          0.6883199050793065,
          -0.44232087555933497,
          -0.46421476004079404,
          0.14348851689963255,
          -0.8266849594361187,
          -0.1976183507463993,
          1.1679312356869895,
          0.5426240028902773,
          -0.2893004673286161,
          0.6621600474085508,
          -1.2471603427386846,
          1.0389478529243041,
          -0.048911234267454785,
          0.2695699427674912
         ],
         "yaxis": "y5"
        },
        {
         "histfunc": "count",
         "histnorm": "",
         "marker": {
          "color": "rgba(55, 128, 191, 1.0)",
          "line": {
           "color": "#4D5663",
           "width": 1.3
          }
         },
         "name": "B",
         "nbinsx": 10,
         "opacity": 0.8,
         "orientation": "v",
         "type": "histogram",
         "x": [
          0.6301674583573214,
          -1.561675696183232,
          0.6365258247311377,
          -0.22324860617551084,
          -1.6736946321158042,
          -0.15927706452952708,
          0.36989298593237285,
          1.3085200046585113,
          0.7159183818614192,
          1.4170368007607066,
          -0.8484128249213295,
          0.24290160075968745,
          1.0795918353343301,
          -0.8157998727705896,
          -0.7184505150668109,
          -0.11568818097186227,
          -1.2901791636364424,
          0.8400081678160328,
          -0.6676702261888512,
          -1.011257076667859,
          -0.6892287441692668,
          -0.23102459810075973,
          -0.21170064669943212,
          -0.20028233251560987,
          -1.078408181836114,
          1.462130966067993,
          -0.17927997159447678,
          -0.13052020849949877,
          0.4682168592110732,
          -1.5877343509461137,
          -0.6710951925528772,
          0.05576752593607448,
          0.5362381928866289,
          -0.34225661814037467,
          0.581933321085821,
          0.3947906536929084,
          0.01940690313621235,
          -0.2163038164030735,
          -1.4955367906604886,
          0.23791928037571633,
          -1.0977453084165723,
          0.5335144230984808,
          2.0993808494993873,
          -0.49490813917873455,
          0.3941349794262045,
          -0.3772928341008689,
          1.3048292635035965,
          -0.46672612038687655,
          -1.120489037175442,
          1.9940005382078847,
          0.20060951912701863,
          0.57128240835606,
          0.7145821222961338,
          1.4105370810949298,
          0.4049315688775944,
          0.8458061881151208,
          -0.7609317914602187,
          -1.6481370061848084,
          -0.8873946431515575,
          -1.0683226547519797,
          -0.5316480238934537,
          0.03361078302762433,
          -1.0363017034596884,
          0.658821017661889,
          -1.0755800129807123,
          0.9911979331699334,
          0.5361321263657128,
          0.988419798692416,
          -1.6384158410384904,
          -0.054614895140455734,
          -1.489486347353061,
          1.0573670070827268,
          -0.005366874743519029,
          -1.5582928434235677,
          1.3867439202182168,
          0.27510525110981254,
          -0.0661353713844357,
          0.4527693556244209,
          0.39889118623618947,
          1.3379470102985798,
          -0.9202241393884216,
          -0.7964312895565369,
          -0.6412882079248059,
          -0.7646490980947728,
          0.7922507978202409,
          -0.24143865713923998,
          0.6883199050793065,
          -0.44232087555933497,
          -0.46421476004079404,
          0.14348851689963255,
          -0.8266849594361187,
          -0.1976183507463993,
          1.1679312356869895,
          0.5426240028902773,
          -0.2893004673286161,
          0.6621600474085508,
          -1.2471603427386846,
          1.0389478529243041,
          -0.048911234267454785,
          0.2695699427674912
         ],
         "xaxis": "x6",
         "yaxis": "y6"
        },
        {
         "line": {
          "color": "rgba(128, 128, 128, 1.0)",
          "dash": "solid",
          "shape": "linear",
          "width": 1.3
         },
         "marker": {
          "size": 2,
          "symbol": "circle"
         },
         "mode": "markers",
         "name": "B",
         "text": "",
         "type": "scatter",
         "x": [
          0.14506602511110148,
          -1.5350919477293514,
          -1.0564402955132137,
          -0.05366494973768762,
          -0.23532988259206,
          -0.06376402718449821,
          -0.3875871855539246,
          0.8889575112108654,
          -0.13230820292205872,
          -2.0768634529698575,
          0.8542654948565908,
          1.2591016290832808,
          0.055577214025398176,
          -1.5765266719500757,
          -0.07478080507591517,
          0.2986412469044207,
          -1.3865605376242653,
          -0.016753943949769947,
          1.536663931660215,
          -0.6478224006291703,
          -0.16944154867726552,
          -1.1912068331424026,
          -0.25680339372019473,
          0.4328630823987023,
          0.2722018160160951,
          -1.8520769036337186,
          -0.6375092932830504,
          -0.7955321290045767,
          -0.2148903750252082,
          0.5512614435268286,
          -0.4945659313053846,
          0.08927834189774887,
          -0.6555629714503787,
          -0.034297214996859844,
          1.3660523369049575,
          -0.2817361408288066,
          1.0632680641405627,
          0.28519020076291474,
          0.9352797650105166,
          0.48464803701997045,
          -1.4955528878230095,
          0.8348329474048144,
          0.9399305899605457,
          -1.3110079910772554,
          1.493664781975507,
          1.2378021641540384,
          -0.21476879517302902,
          -0.8684227613476898,
          2.379866832779196,
          0.6762504445379166,
          0.8153938463135066,
          -0.1874834666679136,
          -2.025887068164461,
          -0.23134055717521698,
          0.07379616021762368,
          -0.6801295155135376,
          2.723554612014531,
          -0.4166641061429242,
          -1.3711175028185112,
          -2.359727194601706,
          0.484914994727327,
          1.524158497592488,
          0.47027700405519596,
          1.4867724397113453,
          0.886753300712882,
          0.029158549039998746,
          -1.029575837223082,
          0.9314113396487392,
          0.052769031942404745,
          0.13338582615104563,
          0.8154145282993461,
          0.10710573411611993,
          0.3373752330790277,
          -0.5195165045736313,
          0.4427477157651256,
          0.6133730181764102,
          0.7512150936281655,
          -0.29974210812375635,
          0.605387491159014,
          0.449995135705989,
          0.21758041876843912,
          1.8620559687106546,
          -1.1183313706292377,
          1.0529824703212414,
          -0.3854369014622324,
          0.5553255899132032,
          -1.470004515987508,
          1.4703361223721525,
          2.6746366151907006,
          0.9702882982673493,
          -0.9803198964664515,
          -0.2542258021756626,
          -1.1776697118204689,
          0.3751877356390631,
          0.14435315708568935,
          -0.10729659569820357,
          -1.8318945960270736,
          0.41992730267581446,
          1.2596641865449796,
          1.10186947308976
         ],
         "xaxis": "x7",
         "y": [
          0.6301674583573214,
          -1.561675696183232,
          0.6365258247311377,
          -0.22324860617551084,
          -1.6736946321158042,
          -0.15927706452952708,
          0.36989298593237285,
          1.3085200046585113,
          0.7159183818614192,
          1.4170368007607066,
          -0.8484128249213295,
          0.24290160075968745,
          1.0795918353343301,
          -0.8157998727705896,
          -0.7184505150668109,
          -0.11568818097186227,
          -1.2901791636364424,
          0.8400081678160328,
          -0.6676702261888512,
          -1.011257076667859,
          -0.6892287441692668,
          -0.23102459810075973,
          -0.21170064669943212,
          -0.20028233251560987,
          -1.078408181836114,
          1.462130966067993,
          -0.17927997159447678,
          -0.13052020849949877,
          0.4682168592110732,
          -1.5877343509461137,
          -0.6710951925528772,
          0.05576752593607448,
          0.5362381928866289,
          -0.34225661814037467,
          0.581933321085821,
          0.3947906536929084,
          0.01940690313621235,
          -0.2163038164030735,
          -1.4955367906604886,
          0.23791928037571633,
          -1.0977453084165723,
          0.5335144230984808,
          2.0993808494993873,
          -0.49490813917873455,
          0.3941349794262045,
          -0.3772928341008689,
          1.3048292635035965,
          -0.46672612038687655,
          -1.120489037175442,
          1.9940005382078847,
          0.20060951912701863,
          0.57128240835606,
          0.7145821222961338,
          1.4105370810949298,
          0.4049315688775944,
          0.8458061881151208,
          -0.7609317914602187,
          -1.6481370061848084,
          -0.8873946431515575,
          -1.0683226547519797,
          -0.5316480238934537,
          0.03361078302762433,
          -1.0363017034596884,
          0.658821017661889,
          -1.0755800129807123,
          0.9911979331699334,
          0.5361321263657128,
          0.988419798692416,
          -1.6384158410384904,
          -0.054614895140455734,
          -1.489486347353061,
          1.0573670070827268,
          -0.005366874743519029,
          -1.5582928434235677,
          1.3867439202182168,
          0.27510525110981254,
          -0.0661353713844357,
          0.4527693556244209,
          0.39889118623618947,
          1.3379470102985798,
          -0.9202241393884216,
          -0.7964312895565369,
          -0.6412882079248059,
          -0.7646490980947728,
          0.7922507978202409,
          -0.24143865713923998,
          0.6883199050793065,
          -0.44232087555933497,
          -0.46421476004079404,
          0.14348851689963255,
          -0.8266849594361187,
          -0.1976183507463993,
          1.1679312356869895,
          0.5426240028902773,
          -0.2893004673286161,
          0.6621600474085508,
          -1.2471603427386846,
          1.0389478529243041,
          -0.048911234267454785,
          0.2695699427674912
         ],
         "yaxis": "y7"
        },
        {
         "line": {
          "color": "rgba(128, 128, 128, 1.0)",
          "dash": "solid",
          "shape": "linear",
          "width": 1.3
         },
         "marker": {
          "size": 2,
          "symbol": "circle"
         },
         "mode": "markers",
         "name": "B",
         "text": "",
         "type": "scatter",
         "x": [
          2.050228155950427,
          -0.9590933400376149,
          -0.9022858940930771,
          -0.11245842772250299,
          -1.0379068828010054,
          0.34119877607034343,
          0.5667815384910767,
          -2.449915367431319,
          -0.6881195751990852,
          -0.4467084029103725,
          0.27233802571608334,
          0.9056722440606502,
          -2.4447262252508795,
          0.0016958510905633656,
          0.20714654897958837,
          -0.41331614803786604,
          1.453483440745612,
          0.6004098821605295,
          0.5069983878181352,
          -0.4892238260046472,
          0.30640967261840896,
          1.6408154921615061,
          0.6884152849973099,
          0.13027743145046594,
          -0.36403729362953186,
          -0.5023434212713528,
          -0.5220640506021428,
          0.11156329863109098,
          -0.06330919038657584,
          -0.05735058436595994,
          -0.4695934678133395,
          0.8923475645817046,
          0.8962584268478865,
          0.10264098688007241,
          -1.0138199721942345,
          0.03403677016801545,
          -1.2010673729625618,
          0.19554483632945618,
          0.78805709911097,
          0.29019857295086493,
          -1.574182450906617,
          1.0381859046735737,
          0.8422589849955819,
          -2.3701248365015197,
          1.0141153134288146,
          -2.2257729556872787,
          0.21958637495155045,
          0.8402614669134792,
          -2.4546019828650265,
          -0.4414196818536903,
          1.0470366257844936,
          -0.291738407197531,
          0.09930521623561693,
          0.03280369665492429,
          0.2228425094865553,
          -0.745494399913448,
          -1.1941154537874168,
          -0.0451813391166685,
          0.8564239459664448,
          -0.6195190541176119,
          0.4745602160619311,
          -0.6930746040422452,
          -1.3259836114544394,
          -0.015511187299125338,
          0.2200495973166145,
          2.8335206353490654,
          0.2210756024053435,
          0.1540311463037094,
          -1.5183911631483025,
          -2.232764001133131,
          -0.38035632475981773,
          -0.09141441406298612,
          -0.009350774221741225,
          -0.4530101873757683,
          0.7063108905074421,
          -1.297568021769972,
          -0.02059585283770215,
          0.6770796689310324,
          -0.49556153953140136,
          -2.090473213546201,
          0.37212669067377463,
          1.210290247335541,
          0.488565871663984,
          0.040795188878717185,
          -0.7574521159414243,
          0.9636605831858774,
          0.23073541530629288,
          -0.6483525230354428,
          0.2090513911515964,
          1.0233827275838547,
          -0.07074530883416033,
          0.779362420122101,
          -1.1713821437481107,
          1.6947331941675083,
          1.0449557884171017,
          0.7338766144330973,
          2.715466510306024,
          -0.2811212457762603,
          -0.06702146929721933,
          -1.8332739731995036
         ],
         "xaxis": "x8",
         "y": [
          0.6301674583573214,
          -1.561675696183232,
          0.6365258247311377,
          -0.22324860617551084,
          -1.6736946321158042,
          -0.15927706452952708,
          0.36989298593237285,
          1.3085200046585113,
          0.7159183818614192,
          1.4170368007607066,
          -0.8484128249213295,
          0.24290160075968745,
          1.0795918353343301,
          -0.8157998727705896,
          -0.7184505150668109,
          -0.11568818097186227,
          -1.2901791636364424,
          0.8400081678160328,
          -0.6676702261888512,
          -1.011257076667859,
          -0.6892287441692668,
          -0.23102459810075973,
          -0.21170064669943212,
          -0.20028233251560987,
          -1.078408181836114,
          1.462130966067993,
          -0.17927997159447678,
          -0.13052020849949877,
          0.4682168592110732,
          -1.5877343509461137,
          -0.6710951925528772,
          0.05576752593607448,
          0.5362381928866289,
          -0.34225661814037467,
          0.581933321085821,
          0.3947906536929084,
          0.01940690313621235,
          -0.2163038164030735,
          -1.4955367906604886,
          0.23791928037571633,
          -1.0977453084165723,
          0.5335144230984808,
          2.0993808494993873,
          -0.49490813917873455,
          0.3941349794262045,
          -0.3772928341008689,
          1.3048292635035965,
          -0.46672612038687655,
          -1.120489037175442,
          1.9940005382078847,
          0.20060951912701863,
          0.57128240835606,
          0.7145821222961338,
          1.4105370810949298,
          0.4049315688775944,
          0.8458061881151208,
          -0.7609317914602187,
          -1.6481370061848084,
          -0.8873946431515575,
          -1.0683226547519797,
          -0.5316480238934537,
          0.03361078302762433,
          -1.0363017034596884,
          0.658821017661889,
          -1.0755800129807123,
          0.9911979331699334,
          0.5361321263657128,
          0.988419798692416,
          -1.6384158410384904,
          -0.054614895140455734,
          -1.489486347353061,
          1.0573670070827268,
          -0.005366874743519029,
          -1.5582928434235677,
          1.3867439202182168,
          0.27510525110981254,
          -0.0661353713844357,
          0.4527693556244209,
          0.39889118623618947,
          1.3379470102985798,
          -0.9202241393884216,
          -0.7964312895565369,
          -0.6412882079248059,
          -0.7646490980947728,
          0.7922507978202409,
          -0.24143865713923998,
          0.6883199050793065,
          -0.44232087555933497,
          -0.46421476004079404,
          0.14348851689963255,
          -0.8266849594361187,
          -0.1976183507463993,
          1.1679312356869895,
          0.5426240028902773,
          -0.2893004673286161,
          0.6621600474085508,
          -1.2471603427386846,
          1.0389478529243041,
          -0.048911234267454785,
          0.2695699427674912
         ],
         "yaxis": "y8"
        },
        {
         "line": {
          "color": "rgba(128, 128, 128, 1.0)",
          "dash": "solid",
          "shape": "linear",
          "width": 1.3
         },
         "marker": {
          "size": 2,
          "symbol": "circle"
         },
         "mode": "markers",
         "name": "C",
         "text": "",
         "type": "scatter",
         "x": [
          0.5381855285673716,
          0.5071020305201216,
          0.4389237509487635,
          -0.6247998973105497,
          -0.32856245582140214,
          -0.5549132814916047,
          0.5059612828729726,
          -3.197502476482795,
          -0.20387507115536785,
          0.3459015762781,
          -0.2031519933742461,
          -1.4270667976720735,
          0.12125644113873606,
          -0.041134446239839334,
          0.09942498996999705,
          -0.6716409332021634,
          0.8054591919418969,
          1.6284504463712235,
          -1.0686571236688256,
          -0.6820570283090134,
          1.0601779267043576,
          -0.8874271184205513,
          -0.23584503326298303,
          -1.3723947795930347,
          -0.5272892633343157,
          -0.6442561046802101,
          -1.2512104607334211,
          -0.09174351149493501,
          0.9306815990203132,
          -0.467294899249402,
          0.018392476702123038,
          -1.700457788639387,
          -0.26741137780144897,
          -0.7421803421304896,
          -0.14671882870501557,
          -1.6275386920455386,
          -0.45338390016622215,
          -2.0071863672670602,
          0.1963189215463607,
          -1.4777986997953716,
          -2.1576217433969695,
          -0.7856668199645755,
          -1.2338432754092326,
          1.399825272513358,
          -1.0091689439017615,
          0.09028738823377347,
          -1.5408250419456964,
          0.0990984258625075,
          -0.4343856232182664,
          -1.537700800793354,
          -0.072884287636136,
          -1.0730149201477526,
          1.8456685132367332,
          0.7476570177073996,
          -1.0485473399110965,
          -0.6900292790057106,
          -0.2208261440483984,
          0.2686957612752167,
          -0.22816861670514565,
          0.7311199936618888,
          0.41812057329918606,
          1.0887363338922411,
          -0.3964498621702017,
          0.47286766096396265,
          -0.6027452918287854,
          0.7025165133369287,
          1.4569049926648543,
          0.9999577792691502,
          -1.2811979563182043,
          2.0804623137829674,
          1.539255595278702,
          0.4440631488297732,
          -1.5619867791736421,
          -0.31583137533287053,
          0.3250311620824069,
          -0.4222090529096985,
          1.7248048718981919,
          0.5322881033597029,
          -0.3313064131205352,
          -1.2259399680760918,
          -0.6630691986600332,
          0.043184530012049985,
          1.5981295317194895,
          -1.3508876092805546,
          1.0726560999357118,
          0.3672953794565466,
          -0.4116672934579571,
          0.47793618707943125,
          -1.0741938940368256,
          -0.7194551581808123,
          0.9656653652456971,
          -0.1998839148187243,
          1.1064616751011012,
          -0.3642037624025107,
          0.8254311216681306,
          0.7851611444731269,
          -0.8309895524553557,
          0.44985792521595347,
          1.695413609917251,
          -0.15895796721118688
         ],
         "xaxis": "x9",
         "y": [
          0.14506602511110148,
          -1.5350919477293514,
          -1.0564402955132137,
          -0.05366494973768762,
          -0.23532988259206,
          -0.06376402718449821,
          -0.3875871855539246,
          0.8889575112108654,
          -0.13230820292205872,
          -2.0768634529698575,
          0.8542654948565908,
          1.2591016290832808,
          0.055577214025398176,
          -1.5765266719500757,
          -0.07478080507591517,
          0.2986412469044207,
          -1.3865605376242653,
          -0.016753943949769947,
          1.536663931660215,
          -0.6478224006291703,
          -0.16944154867726552,
          -1.1912068331424026,
          -0.25680339372019473,
          0.4328630823987023,
          0.2722018160160951,
          -1.8520769036337186,
          -0.6375092932830504,
          -0.7955321290045767,
          -0.2148903750252082,
          0.5512614435268286,
          -0.4945659313053846,
          0.08927834189774887,
          -0.6555629714503787,
          -0.034297214996859844,
          1.3660523369049575,
          -0.2817361408288066,
          1.0632680641405627,
          0.28519020076291474,
          0.9352797650105166,
          0.48464803701997045,
          -1.4955528878230095,
          0.8348329474048144,
          0.9399305899605457,
          -1.3110079910772554,
          1.493664781975507,
          1.2378021641540384,
          -0.21476879517302902,
          -0.8684227613476898,
          2.379866832779196,
          0.6762504445379166,
          0.8153938463135066,
          -0.1874834666679136,
          -2.025887068164461,
          -0.23134055717521698,
          0.07379616021762368,
          -0.6801295155135376,
          2.723554612014531,
          -0.4166641061429242,
          -1.3711175028185112,
          -2.359727194601706,
          0.484914994727327,
          1.524158497592488,
          0.47027700405519596,
          1.4867724397113453,
          0.886753300712882,
          0.029158549039998746,
          -1.029575837223082,
          0.9314113396487392,
          0.052769031942404745,
          0.13338582615104563,
          0.8154145282993461,
          0.10710573411611993,
          0.3373752330790277,
          -0.5195165045736313,
          0.4427477157651256,
          0.6133730181764102,
          0.7512150936281655,
          -0.29974210812375635,
          0.605387491159014,
          0.449995135705989,
          0.21758041876843912,
          1.8620559687106546,
          -1.1183313706292377,
          1.0529824703212414,
          -0.3854369014622324,
          0.5553255899132032,
          -1.470004515987508,
          1.4703361223721525,
          2.6746366151907006,
          0.9702882982673493,
          -0.9803198964664515,
          -0.2542258021756626,
          -1.1776697118204689,
          0.3751877356390631,
          0.14435315708568935,
          -0.10729659569820357,
          -1.8318945960270736,
          0.41992730267581446,
          1.2596641865449796,
          1.10186947308976
         ],
         "yaxis": "y9"
        },
        {
         "line": {
          "color": "rgba(128, 128, 128, 1.0)",
          "dash": "solid",
          "shape": "linear",
          "width": 1.3
         },
         "marker": {
          "size": 2,
          "symbol": "circle"
         },
         "mode": "markers",
         "name": "C",
         "text": "",
         "type": "scatter",
         "x": [
          0.6301674583573214,
          -1.561675696183232,
          0.6365258247311377,
          -0.22324860617551084,
          -1.6736946321158042,
          -0.15927706452952708,
          0.36989298593237285,
          1.3085200046585113,
          0.7159183818614192,
          1.4170368007607066,
          -0.8484128249213295,
          0.24290160075968745,
          1.0795918353343301,
          -0.8157998727705896,
          -0.7184505150668109,
          -0.11568818097186227,
          -1.2901791636364424,
          0.8400081678160328,
          -0.6676702261888512,
          -1.011257076667859,
          -0.6892287441692668,
          -0.23102459810075973,
          -0.21170064669943212,
          -0.20028233251560987,
          -1.078408181836114,
          1.462130966067993,
          -0.17927997159447678,
          -0.13052020849949877,
          0.4682168592110732,
          -1.5877343509461137,
          -0.6710951925528772,
          0.05576752593607448,
          0.5362381928866289,
          -0.34225661814037467,
          0.581933321085821,
          0.3947906536929084,
          0.01940690313621235,
          -0.2163038164030735,
          -1.4955367906604886,
          0.23791928037571633,
          -1.0977453084165723,
          0.5335144230984808,
          2.0993808494993873,
          -0.49490813917873455,
          0.3941349794262045,
          -0.3772928341008689,
          1.3048292635035965,
          -0.46672612038687655,
          -1.120489037175442,
          1.9940005382078847,
          0.20060951912701863,
          0.57128240835606,
          0.7145821222961338,
          1.4105370810949298,
          0.4049315688775944,
          0.8458061881151208,
          -0.7609317914602187,
          -1.6481370061848084,
          -0.8873946431515575,
          -1.0683226547519797,
          -0.5316480238934537,
          0.03361078302762433,
          -1.0363017034596884,
          0.658821017661889,
          -1.0755800129807123,
          0.9911979331699334,
          0.5361321263657128,
          0.988419798692416,
          -1.6384158410384904,
          -0.054614895140455734,
          -1.489486347353061,
          1.0573670070827268,
          -0.005366874743519029,
          -1.5582928434235677,
          1.3867439202182168,
          0.27510525110981254,
          -0.0661353713844357,
          0.4527693556244209,
          0.39889118623618947,
          1.3379470102985798,
          -0.9202241393884216,
          -0.7964312895565369,
          -0.6412882079248059,
          -0.7646490980947728,
          0.7922507978202409,
          -0.24143865713923998,
          0.6883199050793065,
          -0.44232087555933497,
          -0.46421476004079404,
          0.14348851689963255,
          -0.8266849594361187,
          -0.1976183507463993,
          1.1679312356869895,
          0.5426240028902773,
          -0.2893004673286161,
          0.6621600474085508,
          -1.2471603427386846,
          1.0389478529243041,
          -0.048911234267454785,
          0.2695699427674912
         ],
         "xaxis": "x10",
         "y": [
          0.14506602511110148,
          -1.5350919477293514,
          -1.0564402955132137,
          -0.05366494973768762,
          -0.23532988259206,
          -0.06376402718449821,
          -0.3875871855539246,
          0.8889575112108654,
          -0.13230820292205872,
          -2.0768634529698575,
          0.8542654948565908,
          1.2591016290832808,
          0.055577214025398176,
          -1.5765266719500757,
          -0.07478080507591517,
          0.2986412469044207,
          -1.3865605376242653,
          -0.016753943949769947,
          1.536663931660215,
          -0.6478224006291703,
          -0.16944154867726552,
          -1.1912068331424026,
          -0.25680339372019473,
          0.4328630823987023,
          0.2722018160160951,
          -1.8520769036337186,
          -0.6375092932830504,
          -0.7955321290045767,
          -0.2148903750252082,
          0.5512614435268286,
          -0.4945659313053846,
          0.08927834189774887,
          -0.6555629714503787,
          -0.034297214996859844,
          1.3660523369049575,
          -0.2817361408288066,
          1.0632680641405627,
          0.28519020076291474,
          0.9352797650105166,
          0.48464803701997045,
          -1.4955528878230095,
          0.8348329474048144,
          0.9399305899605457,
          -1.3110079910772554,
          1.493664781975507,
          1.2378021641540384,
          -0.21476879517302902,
          -0.8684227613476898,
          2.379866832779196,
          0.6762504445379166,
          0.8153938463135066,
          -0.1874834666679136,
          -2.025887068164461,
          -0.23134055717521698,
          0.07379616021762368,
          -0.6801295155135376,
          2.723554612014531,
          -0.4166641061429242,
          -1.3711175028185112,
          -2.359727194601706,
          0.484914994727327,
          1.524158497592488,
          0.47027700405519596,
          1.4867724397113453,
          0.886753300712882,
          0.029158549039998746,
          -1.029575837223082,
          0.9314113396487392,
          0.052769031942404745,
          0.13338582615104563,
          0.8154145282993461,
          0.10710573411611993,
          0.3373752330790277,
          -0.5195165045736313,
          0.4427477157651256,
          0.6133730181764102,
          0.7512150936281655,
          -0.29974210812375635,
          0.605387491159014,
          0.449995135705989,
          0.21758041876843912,
          1.8620559687106546,
          -1.1183313706292377,
          1.0529824703212414,
          -0.3854369014622324,
          0.5553255899132032,
          -1.470004515987508,
          1.4703361223721525,
          2.6746366151907006,
          0.9702882982673493,
          -0.9803198964664515,
          -0.2542258021756626,
          -1.1776697118204689,
          0.3751877356390631,
          0.14435315708568935,
          -0.10729659569820357,
          -1.8318945960270736,
          0.41992730267581446,
          1.2596641865449796,
          1.10186947308976
         ],
         "yaxis": "y10"
        },
        {
         "histfunc": "count",
         "histnorm": "",
         "marker": {
          "color": "rgba(50, 171, 96, 1.0)",
          "line": {
           "color": "#4D5663",
           "width": 1.3
          }
         },
         "name": "C",
         "nbinsx": 10,
         "opacity": 0.8,
         "orientation": "v",
         "type": "histogram",
         "x": [
          0.14506602511110148,
          -1.5350919477293514,
          -1.0564402955132137,
          -0.05366494973768762,
          -0.23532988259206,
          -0.06376402718449821,
          -0.3875871855539246,
          0.8889575112108654,
          -0.13230820292205872,
          -2.0768634529698575,
          0.8542654948565908,
          1.2591016290832808,
          0.055577214025398176,
          -1.5765266719500757,
          -0.07478080507591517,
          0.2986412469044207,
          -1.3865605376242653,
          -0.016753943949769947,
          1.536663931660215,
          -0.6478224006291703,
          -0.16944154867726552,
          -1.1912068331424026,
          -0.25680339372019473,
          0.4328630823987023,
          0.2722018160160951,
          -1.8520769036337186,
          -0.6375092932830504,
          -0.7955321290045767,
          -0.2148903750252082,
          0.5512614435268286,
          -0.4945659313053846,
          0.08927834189774887,
          -0.6555629714503787,
          -0.034297214996859844,
          1.3660523369049575,
          -0.2817361408288066,
          1.0632680641405627,
          0.28519020076291474,
          0.9352797650105166,
          0.48464803701997045,
          -1.4955528878230095,
          0.8348329474048144,
          0.9399305899605457,
          -1.3110079910772554,
          1.493664781975507,
          1.2378021641540384,
          -0.21476879517302902,
          -0.8684227613476898,
          2.379866832779196,
          0.6762504445379166,
          0.8153938463135066,
          -0.1874834666679136,
          -2.025887068164461,
          -0.23134055717521698,
          0.07379616021762368,
          -0.6801295155135376,
          2.723554612014531,
          -0.4166641061429242,
          -1.3711175028185112,
          -2.359727194601706,
          0.484914994727327,
          1.524158497592488,
          0.47027700405519596,
          1.4867724397113453,
          0.886753300712882,
          0.029158549039998746,
          -1.029575837223082,
          0.9314113396487392,
          0.052769031942404745,
          0.13338582615104563,
          0.8154145282993461,
          0.10710573411611993,
          0.3373752330790277,
          -0.5195165045736313,
          0.4427477157651256,
          0.6133730181764102,
          0.7512150936281655,
          -0.29974210812375635,
          0.605387491159014,
          0.449995135705989,
          0.21758041876843912,
          1.8620559687106546,
          -1.1183313706292377,
          1.0529824703212414,
          -0.3854369014622324,
          0.5553255899132032,
          -1.470004515987508,
          1.4703361223721525,
          2.6746366151907006,
          0.9702882982673493,
          -0.9803198964664515,
          -0.2542258021756626,
          -1.1776697118204689,
          0.3751877356390631,
          0.14435315708568935,
          -0.10729659569820357,
          -1.8318945960270736,
          0.41992730267581446,
          1.2596641865449796,
          1.10186947308976
         ],
         "xaxis": "x11",
         "yaxis": "y11"
        },
        {
         "line": {
          "color": "rgba(128, 128, 128, 1.0)",
          "dash": "solid",
          "shape": "linear",
          "width": 1.3
         },
         "marker": {
          "size": 2,
          "symbol": "circle"
         },
         "mode": "markers",
         "name": "C",
         "text": "",
         "type": "scatter",
         "x": [
          2.050228155950427,
          -0.9590933400376149,
          -0.9022858940930771,
          -0.11245842772250299,
          -1.0379068828010054,
          0.34119877607034343,
          0.5667815384910767,
          -2.449915367431319,
          -0.6881195751990852,
          -0.4467084029103725,
          0.27233802571608334,
          0.9056722440606502,
          -2.4447262252508795,
          0.0016958510905633656,
          0.20714654897958837,
          -0.41331614803786604,
          1.453483440745612,
          0.6004098821605295,
          0.5069983878181352,
          -0.4892238260046472,
          0.30640967261840896,
          1.6408154921615061,
          0.6884152849973099,
          0.13027743145046594,
          -0.36403729362953186,
          -0.5023434212713528,
          -0.5220640506021428,
          0.11156329863109098,
          -0.06330919038657584,
          -0.05735058436595994,
          -0.4695934678133395,
          0.8923475645817046,
          0.8962584268478865,
          0.10264098688007241,
          -1.0138199721942345,
          0.03403677016801545,
          -1.2010673729625618,
          0.19554483632945618,
          0.78805709911097,
          0.29019857295086493,
          -1.574182450906617,
          1.0381859046735737,
          0.8422589849955819,
          -2.3701248365015197,
          1.0141153134288146,
          -2.2257729556872787,
          0.21958637495155045,
          0.8402614669134792,
          -2.4546019828650265,
          -0.4414196818536903,
          1.0470366257844936,
          -0.291738407197531,
          0.09930521623561693,
          0.03280369665492429,
          0.2228425094865553,
          -0.745494399913448,
          -1.1941154537874168,
          -0.0451813391166685,
          0.8564239459664448,
          -0.6195190541176119,
          0.4745602160619311,
          -0.6930746040422452,
          -1.3259836114544394,
          -0.015511187299125338,
          0.2200495973166145,
          2.8335206353490654,
          0.2210756024053435,
          0.1540311463037094,
          -1.5183911631483025,
          -2.232764001133131,
          -0.38035632475981773,
          -0.09141441406298612,
          -0.009350774221741225,
          -0.4530101873757683,
          0.7063108905074421,
          -1.297568021769972,
          -0.02059585283770215,
          0.6770796689310324,
          -0.49556153953140136,
          -2.090473213546201,
          0.37212669067377463,
          1.210290247335541,
          0.488565871663984,
          0.040795188878717185,
          -0.7574521159414243,
          0.9636605831858774,
          0.23073541530629288,
          -0.6483525230354428,
          0.2090513911515964,
          1.0233827275838547,
          -0.07074530883416033,
          0.779362420122101,
          -1.1713821437481107,
          1.6947331941675083,
          1.0449557884171017,
          0.7338766144330973,
          2.715466510306024,
          -0.2811212457762603,
          -0.06702146929721933,
          -1.8332739731995036
         ],
         "xaxis": "x12",
         "y": [
          0.14506602511110148,
          -1.5350919477293514,
          -1.0564402955132137,
          -0.05366494973768762,
          -0.23532988259206,
          -0.06376402718449821,
          -0.3875871855539246,
          0.8889575112108654,
          -0.13230820292205872,
          -2.0768634529698575,
          0.8542654948565908,
          1.2591016290832808,
          0.055577214025398176,
          -1.5765266719500757,
          -0.07478080507591517,
          0.2986412469044207,
          -1.3865605376242653,
          -0.016753943949769947,
          1.536663931660215,
          -0.6478224006291703,
          -0.16944154867726552,
          -1.1912068331424026,
          -0.25680339372019473,
          0.4328630823987023,
          0.2722018160160951,
          -1.8520769036337186,
          -0.6375092932830504,
          -0.7955321290045767,
          -0.2148903750252082,
          0.5512614435268286,
          -0.4945659313053846,
          0.08927834189774887,
          -0.6555629714503787,
          -0.034297214996859844,
          1.3660523369049575,
          -0.2817361408288066,
          1.0632680641405627,
          0.28519020076291474,
          0.9352797650105166,
          0.48464803701997045,
          -1.4955528878230095,
          0.8348329474048144,
          0.9399305899605457,
          -1.3110079910772554,
          1.493664781975507,
          1.2378021641540384,
          -0.21476879517302902,
          -0.8684227613476898,
          2.379866832779196,
          0.6762504445379166,
          0.8153938463135066,
          -0.1874834666679136,
          -2.025887068164461,
          -0.23134055717521698,
          0.07379616021762368,
          -0.6801295155135376,
          2.723554612014531,
          -0.4166641061429242,
          -1.3711175028185112,
          -2.359727194601706,
          0.484914994727327,
          1.524158497592488,
          0.47027700405519596,
          1.4867724397113453,
          0.886753300712882,
          0.029158549039998746,
          -1.029575837223082,
          0.9314113396487392,
          0.052769031942404745,
          0.13338582615104563,
          0.8154145282993461,
          0.10710573411611993,
          0.3373752330790277,
          -0.5195165045736313,
          0.4427477157651256,
          0.6133730181764102,
          0.7512150936281655,
          -0.29974210812375635,
          0.605387491159014,
          0.449995135705989,
          0.21758041876843912,
          1.8620559687106546,
          -1.1183313706292377,
          1.0529824703212414,
          -0.3854369014622324,
          0.5553255899132032,
          -1.470004515987508,
          1.4703361223721525,
          2.6746366151907006,
          0.9702882982673493,
          -0.9803198964664515,
          -0.2542258021756626,
          -1.1776697118204689,
          0.3751877356390631,
          0.14435315708568935,
          -0.10729659569820357,
          -1.8318945960270736,
          0.41992730267581446,
          1.2596641865449796,
          1.10186947308976
         ],
         "yaxis": "y12"
        },
        {
         "line": {
          "color": "rgba(128, 128, 128, 1.0)",
          "dash": "solid",
          "shape": "linear",
          "width": 1.3
         },
         "marker": {
          "size": 2,
          "symbol": "circle"
         },
         "mode": "markers",
         "name": "D",
         "text": "",
         "type": "scatter",
         "x": [
          0.5381855285673716,
          0.5071020305201216,
          0.4389237509487635,
          -0.6247998973105497,
          -0.32856245582140214,
          -0.5549132814916047,
          0.5059612828729726,
          -3.197502476482795,
          -0.20387507115536785,
          0.3459015762781,
          -0.2031519933742461,
          -1.4270667976720735,
          0.12125644113873606,
          -0.041134446239839334,
          0.09942498996999705,
          -0.6716409332021634,
          0.8054591919418969,
          1.6284504463712235,
          -1.0686571236688256,
          -0.6820570283090134,
          1.0601779267043576,
          -0.8874271184205513,
          -0.23584503326298303,
          -1.3723947795930347,
          -0.5272892633343157,
          -0.6442561046802101,
          -1.2512104607334211,
          -0.09174351149493501,
          0.9306815990203132,
          -0.467294899249402,
          0.018392476702123038,
          -1.700457788639387,
          -0.26741137780144897,
          -0.7421803421304896,
          -0.14671882870501557,
          -1.6275386920455386,
          -0.45338390016622215,
          -2.0071863672670602,
          0.1963189215463607,
          -1.4777986997953716,
          -2.1576217433969695,
          -0.7856668199645755,
          -1.2338432754092326,
          1.399825272513358,
          -1.0091689439017615,
          0.09028738823377347,
          -1.5408250419456964,
          0.0990984258625075,
          -0.4343856232182664,
          -1.537700800793354,
          -0.072884287636136,
          -1.0730149201477526,
          1.8456685132367332,
          0.7476570177073996,
          -1.0485473399110965,
          -0.6900292790057106,
          -0.2208261440483984,
          0.2686957612752167,
          -0.22816861670514565,
          0.7311199936618888,
          0.41812057329918606,
          1.0887363338922411,
          -0.3964498621702017,
          0.47286766096396265,
          -0.6027452918287854,
          0.7025165133369287,
          1.4569049926648543,
          0.9999577792691502,
          -1.2811979563182043,
          2.0804623137829674,
          1.539255595278702,
          0.4440631488297732,
          -1.5619867791736421,
          -0.31583137533287053,
          0.3250311620824069,
          -0.4222090529096985,
          1.7248048718981919,
          0.5322881033597029,
          -0.3313064131205352,
          -1.2259399680760918,
          -0.6630691986600332,
          0.043184530012049985,
          1.5981295317194895,
          -1.3508876092805546,
          1.0726560999357118,
          0.3672953794565466,
          -0.4116672934579571,
          0.47793618707943125,
          -1.0741938940368256,
          -0.7194551581808123,
          0.9656653652456971,
          -0.1998839148187243,
          1.1064616751011012,
          -0.3642037624025107,
          0.8254311216681306,
          0.7851611444731269,
          -0.8309895524553557,
          0.44985792521595347,
          1.695413609917251,
          -0.15895796721118688
         ],
         "xaxis": "x13",
         "y": [
          2.050228155950427,
          -0.9590933400376149,
          -0.9022858940930771,
          -0.11245842772250299,
          -1.0379068828010054,
          0.34119877607034343,
          0.5667815384910767,
          -2.449915367431319,
          -0.6881195751990852,
          -0.4467084029103725,
          0.27233802571608334,
          0.9056722440606502,
          -2.4447262252508795,
          0.0016958510905633656,
          0.20714654897958837,
          -0.41331614803786604,
          1.453483440745612,
          0.6004098821605295,
          0.5069983878181352,
          -0.4892238260046472,
          0.30640967261840896,
          1.6408154921615061,
          0.6884152849973099,
          0.13027743145046594,
          -0.36403729362953186,
          -0.5023434212713528,
          -0.5220640506021428,
          0.11156329863109098,
          -0.06330919038657584,
          -0.05735058436595994,
          -0.4695934678133395,
          0.8923475645817046,
          0.8962584268478865,
          0.10264098688007241,
          -1.0138199721942345,
          0.03403677016801545,
          -1.2010673729625618,
          0.19554483632945618,
          0.78805709911097,
          0.29019857295086493,
          -1.574182450906617,
          1.0381859046735737,
          0.8422589849955819,
          -2.3701248365015197,
          1.0141153134288146,
          -2.2257729556872787,
          0.21958637495155045,
          0.8402614669134792,
          -2.4546019828650265,
          -0.4414196818536903,
          1.0470366257844936,
          -0.291738407197531,
          0.09930521623561693,
          0.03280369665492429,
          0.2228425094865553,
          -0.745494399913448,
          -1.1941154537874168,
          -0.0451813391166685,
          0.8564239459664448,
          -0.6195190541176119,
          0.4745602160619311,
          -0.6930746040422452,
          -1.3259836114544394,
          -0.015511187299125338,
          0.2200495973166145,
          2.8335206353490654,
          0.2210756024053435,
          0.1540311463037094,
          -1.5183911631483025,
          -2.232764001133131,
          -0.38035632475981773,
          -0.09141441406298612,
          -0.009350774221741225,
          -0.4530101873757683,
          0.7063108905074421,
          -1.297568021769972,
          -0.02059585283770215,
          0.6770796689310324,
          -0.49556153953140136,
          -2.090473213546201,
          0.37212669067377463,
          1.210290247335541,
          0.488565871663984,
          0.040795188878717185,
          -0.7574521159414243,
          0.9636605831858774,
          0.23073541530629288,
          -0.6483525230354428,
          0.2090513911515964,
          1.0233827275838547,
          -0.07074530883416033,
          0.779362420122101,
          -1.1713821437481107,
          1.6947331941675083,
          1.0449557884171017,
          0.7338766144330973,
          2.715466510306024,
          -0.2811212457762603,
          -0.06702146929721933,
          -1.8332739731995036
         ],
         "yaxis": "y13"
        },
        {
         "line": {
          "color": "rgba(128, 128, 128, 1.0)",
          "dash": "solid",
          "shape": "linear",
          "width": 1.3
         },
         "marker": {
          "size": 2,
          "symbol": "circle"
         },
         "mode": "markers",
         "name": "D",
         "text": "",
         "type": "scatter",
         "x": [
          0.6301674583573214,
          -1.561675696183232,
          0.6365258247311377,
          -0.22324860617551084,
          -1.6736946321158042,
          -0.15927706452952708,
          0.36989298593237285,
          1.3085200046585113,
          0.7159183818614192,
          1.4170368007607066,
          -0.8484128249213295,
          0.24290160075968745,
          1.0795918353343301,
          -0.8157998727705896,
          -0.7184505150668109,
          -0.11568818097186227,
          -1.2901791636364424,
          0.8400081678160328,
          -0.6676702261888512,
          -1.011257076667859,
          -0.6892287441692668,
          -0.23102459810075973,
          -0.21170064669943212,
          -0.20028233251560987,
          -1.078408181836114,
          1.462130966067993,
          -0.17927997159447678,
          -0.13052020849949877,
          0.4682168592110732,
          -1.5877343509461137,
          -0.6710951925528772,
          0.05576752593607448,
          0.5362381928866289,
          -0.34225661814037467,
          0.581933321085821,
          0.3947906536929084,
          0.01940690313621235,
          -0.2163038164030735,
          -1.4955367906604886,
          0.23791928037571633,
          -1.0977453084165723,
          0.5335144230984808,
          2.0993808494993873,
          -0.49490813917873455,
          0.3941349794262045,
          -0.3772928341008689,
          1.3048292635035965,
          -0.46672612038687655,
          -1.120489037175442,
          1.9940005382078847,
          0.20060951912701863,
          0.57128240835606,
          0.7145821222961338,
          1.4105370810949298,
          0.4049315688775944,
          0.8458061881151208,
          -0.7609317914602187,
          -1.6481370061848084,
          -0.8873946431515575,
          -1.0683226547519797,
          -0.5316480238934537,
          0.03361078302762433,
          -1.0363017034596884,
          0.658821017661889,
          -1.0755800129807123,
          0.9911979331699334,
          0.5361321263657128,
          0.988419798692416,
          -1.6384158410384904,
          -0.054614895140455734,
          -1.489486347353061,
          1.0573670070827268,
          -0.005366874743519029,
          -1.5582928434235677,
          1.3867439202182168,
          0.27510525110981254,
          -0.0661353713844357,
          0.4527693556244209,
          0.39889118623618947,
          1.3379470102985798,
          -0.9202241393884216,
          -0.7964312895565369,
          -0.6412882079248059,
          -0.7646490980947728,
          0.7922507978202409,
          -0.24143865713923998,
          0.6883199050793065,
          -0.44232087555933497,
          -0.46421476004079404,
          0.14348851689963255,
          -0.8266849594361187,
          -0.1976183507463993,
          1.1679312356869895,
          0.5426240028902773,
          -0.2893004673286161,
          0.6621600474085508,
          -1.2471603427386846,
          1.0389478529243041,
          -0.048911234267454785,
          0.2695699427674912
         ],
         "xaxis": "x14",
         "y": [
          2.050228155950427,
          -0.9590933400376149,
          -0.9022858940930771,
          -0.11245842772250299,
          -1.0379068828010054,
          0.34119877607034343,
          0.5667815384910767,
          -2.449915367431319,
          -0.6881195751990852,
          -0.4467084029103725,
          0.27233802571608334,
          0.9056722440606502,
          -2.4447262252508795,
          0.0016958510905633656,
          0.20714654897958837,
          -0.41331614803786604,
          1.453483440745612,
          0.6004098821605295,
          0.5069983878181352,
          -0.4892238260046472,
          0.30640967261840896,
          1.6408154921615061,
          0.6884152849973099,
          0.13027743145046594,
          -0.36403729362953186,
          -0.5023434212713528,
          -0.5220640506021428,
          0.11156329863109098,
          -0.06330919038657584,
          -0.05735058436595994,
          -0.4695934678133395,
          0.8923475645817046,
          0.8962584268478865,
          0.10264098688007241,
          -1.0138199721942345,
          0.03403677016801545,
          -1.2010673729625618,
          0.19554483632945618,
          0.78805709911097,
          0.29019857295086493,
          -1.574182450906617,
          1.0381859046735737,
          0.8422589849955819,
          -2.3701248365015197,
          1.0141153134288146,
          -2.2257729556872787,
          0.21958637495155045,
          0.8402614669134792,
          -2.4546019828650265,
          -0.4414196818536903,
          1.0470366257844936,
          -0.291738407197531,
          0.09930521623561693,
          0.03280369665492429,
          0.2228425094865553,
          -0.745494399913448,
          -1.1941154537874168,
          -0.0451813391166685,
          0.8564239459664448,
          -0.6195190541176119,
          0.4745602160619311,
          -0.6930746040422452,
          -1.3259836114544394,
          -0.015511187299125338,
          0.2200495973166145,
          2.8335206353490654,
          0.2210756024053435,
          0.1540311463037094,
          -1.5183911631483025,
          -2.232764001133131,
          -0.38035632475981773,
          -0.09141441406298612,
          -0.009350774221741225,
          -0.4530101873757683,
          0.7063108905074421,
          -1.297568021769972,
          -0.02059585283770215,
          0.6770796689310324,
          -0.49556153953140136,
          -2.090473213546201,
          0.37212669067377463,
          1.210290247335541,
          0.488565871663984,
          0.040795188878717185,
          -0.7574521159414243,
          0.9636605831858774,
          0.23073541530629288,
          -0.6483525230354428,
          0.2090513911515964,
          1.0233827275838547,
          -0.07074530883416033,
          0.779362420122101,
          -1.1713821437481107,
          1.6947331941675083,
          1.0449557884171017,
          0.7338766144330973,
          2.715466510306024,
          -0.2811212457762603,
          -0.06702146929721933,
          -1.8332739731995036
         ],
         "yaxis": "y14"
        },
        {
         "line": {
          "color": "rgba(128, 128, 128, 1.0)",
          "dash": "solid",
          "shape": "linear",
          "width": 1.3
         },
         "marker": {
          "size": 2,
          "symbol": "circle"
         },
         "mode": "markers",
         "name": "D",
         "text": "",
         "type": "scatter",
         "x": [
          0.14506602511110148,
          -1.5350919477293514,
          -1.0564402955132137,
          -0.05366494973768762,
          -0.23532988259206,
          -0.06376402718449821,
          -0.3875871855539246,
          0.8889575112108654,
          -0.13230820292205872,
          -2.0768634529698575,
          0.8542654948565908,
          1.2591016290832808,
          0.055577214025398176,
          -1.5765266719500757,
          -0.07478080507591517,
          0.2986412469044207,
          -1.3865605376242653,
          -0.016753943949769947,
          1.536663931660215,
          -0.6478224006291703,
          -0.16944154867726552,
          -1.1912068331424026,
          -0.25680339372019473,
          0.4328630823987023,
          0.2722018160160951,
          -1.8520769036337186,
          -0.6375092932830504,
          -0.7955321290045767,
          -0.2148903750252082,
          0.5512614435268286,
          -0.4945659313053846,
          0.08927834189774887,
          -0.6555629714503787,
          -0.034297214996859844,
          1.3660523369049575,
          -0.2817361408288066,
          1.0632680641405627,
          0.28519020076291474,
          0.9352797650105166,
          0.48464803701997045,
          -1.4955528878230095,
          0.8348329474048144,
          0.9399305899605457,
          -1.3110079910772554,
          1.493664781975507,
          1.2378021641540384,
          -0.21476879517302902,
          -0.8684227613476898,
          2.379866832779196,
          0.6762504445379166,
          0.8153938463135066,
          -0.1874834666679136,
          -2.025887068164461,
          -0.23134055717521698,
          0.07379616021762368,
          -0.6801295155135376,
          2.723554612014531,
          -0.4166641061429242,
          -1.3711175028185112,
          -2.359727194601706,
          0.484914994727327,
          1.524158497592488,
          0.47027700405519596,
          1.4867724397113453,
          0.886753300712882,
          0.029158549039998746,
          -1.029575837223082,
          0.9314113396487392,
          0.052769031942404745,
          0.13338582615104563,
          0.8154145282993461,
          0.10710573411611993,
          0.3373752330790277,
          -0.5195165045736313,
          0.4427477157651256,
          0.6133730181764102,
          0.7512150936281655,
          -0.29974210812375635,
          0.605387491159014,
          0.449995135705989,
          0.21758041876843912,
          1.8620559687106546,
          -1.1183313706292377,
          1.0529824703212414,
          -0.3854369014622324,
          0.5553255899132032,
          -1.470004515987508,
          1.4703361223721525,
          2.6746366151907006,
          0.9702882982673493,
          -0.9803198964664515,
          -0.2542258021756626,
          -1.1776697118204689,
          0.3751877356390631,
          0.14435315708568935,
          -0.10729659569820357,
          -1.8318945960270736,
          0.41992730267581446,
          1.2596641865449796,
          1.10186947308976
         ],
         "xaxis": "x15",
         "y": [
          2.050228155950427,
          -0.9590933400376149,
          -0.9022858940930771,
          -0.11245842772250299,
          -1.0379068828010054,
          0.34119877607034343,
          0.5667815384910767,
          -2.449915367431319,
          -0.6881195751990852,
          -0.4467084029103725,
          0.27233802571608334,
          0.9056722440606502,
          -2.4447262252508795,
          0.0016958510905633656,
          0.20714654897958837,
          -0.41331614803786604,
          1.453483440745612,
          0.6004098821605295,
          0.5069983878181352,
          -0.4892238260046472,
          0.30640967261840896,
          1.6408154921615061,
          0.6884152849973099,
          0.13027743145046594,
          -0.36403729362953186,
          -0.5023434212713528,
          -0.5220640506021428,
          0.11156329863109098,
          -0.06330919038657584,
          -0.05735058436595994,
          -0.4695934678133395,
          0.8923475645817046,
          0.8962584268478865,
          0.10264098688007241,
          -1.0138199721942345,
          0.03403677016801545,
          -1.2010673729625618,
          0.19554483632945618,
          0.78805709911097,
          0.29019857295086493,
          -1.574182450906617,
          1.0381859046735737,
          0.8422589849955819,
          -2.3701248365015197,
          1.0141153134288146,
          -2.2257729556872787,
          0.21958637495155045,
          0.8402614669134792,
          -2.4546019828650265,
          -0.4414196818536903,
          1.0470366257844936,
          -0.291738407197531,
          0.09930521623561693,
          0.03280369665492429,
          0.2228425094865553,
          -0.745494399913448,
          -1.1941154537874168,
          -0.0451813391166685,
          0.8564239459664448,
          -0.6195190541176119,
          0.4745602160619311,
          -0.6930746040422452,
          -1.3259836114544394,
          -0.015511187299125338,
          0.2200495973166145,
          2.8335206353490654,
          0.2210756024053435,
          0.1540311463037094,
          -1.5183911631483025,
          -2.232764001133131,
          -0.38035632475981773,
          -0.09141441406298612,
          -0.009350774221741225,
          -0.4530101873757683,
          0.7063108905074421,
          -1.297568021769972,
          -0.02059585283770215,
          0.6770796689310324,
          -0.49556153953140136,
          -2.090473213546201,
          0.37212669067377463,
          1.210290247335541,
          0.488565871663984,
          0.040795188878717185,
          -0.7574521159414243,
          0.9636605831858774,
          0.23073541530629288,
          -0.6483525230354428,
          0.2090513911515964,
          1.0233827275838547,
          -0.07074530883416033,
          0.779362420122101,
          -1.1713821437481107,
          1.6947331941675083,
          1.0449557884171017,
          0.7338766144330973,
          2.715466510306024,
          -0.2811212457762603,
          -0.06702146929721933,
          -1.8332739731995036
         ],
         "yaxis": "y15"
        },
        {
         "histfunc": "count",
         "histnorm": "",
         "marker": {
          "color": "rgba(128, 0, 128, 1.0)",
          "line": {
           "color": "#4D5663",
           "width": 1.3
          }
         },
         "name": "D",
         "nbinsx": 10,
         "opacity": 0.8,
         "orientation": "v",
         "type": "histogram",
         "x": [
          2.050228155950427,
          -0.9590933400376149,
          -0.9022858940930771,
          -0.11245842772250299,
          -1.0379068828010054,
          0.34119877607034343,
          0.5667815384910767,
          -2.449915367431319,
          -0.6881195751990852,
          -0.4467084029103725,
          0.27233802571608334,
          0.9056722440606502,
          -2.4447262252508795,
          0.0016958510905633656,
          0.20714654897958837,
          -0.41331614803786604,
          1.453483440745612,
          0.6004098821605295,
          0.5069983878181352,
          -0.4892238260046472,
          0.30640967261840896,
          1.6408154921615061,
          0.6884152849973099,
          0.13027743145046594,
          -0.36403729362953186,
          -0.5023434212713528,
          -0.5220640506021428,
          0.11156329863109098,
          -0.06330919038657584,
          -0.05735058436595994,
          -0.4695934678133395,
          0.8923475645817046,
          0.8962584268478865,
          0.10264098688007241,
          -1.0138199721942345,
          0.03403677016801545,
          -1.2010673729625618,
          0.19554483632945618,
          0.78805709911097,
          0.29019857295086493,
          -1.574182450906617,
          1.0381859046735737,
          0.8422589849955819,
          -2.3701248365015197,
          1.0141153134288146,
          -2.2257729556872787,
          0.21958637495155045,
          0.8402614669134792,
          -2.4546019828650265,
          -0.4414196818536903,
          1.0470366257844936,
          -0.291738407197531,
          0.09930521623561693,
          0.03280369665492429,
          0.2228425094865553,
          -0.745494399913448,
          -1.1941154537874168,
          -0.0451813391166685,
          0.8564239459664448,
          -0.6195190541176119,
          0.4745602160619311,
          -0.6930746040422452,
          -1.3259836114544394,
          -0.015511187299125338,
          0.2200495973166145,
          2.8335206353490654,
          0.2210756024053435,
          0.1540311463037094,
          -1.5183911631483025,
          -2.232764001133131,
          -0.38035632475981773,
          -0.09141441406298612,
          -0.009350774221741225,
          -0.4530101873757683,
          0.7063108905074421,
          -1.297568021769972,
          -0.02059585283770215,
          0.6770796689310324,
          -0.49556153953140136,
          -2.090473213546201,
          0.37212669067377463,
          1.210290247335541,
          0.488565871663984,
          0.040795188878717185,
          -0.7574521159414243,
          0.9636605831858774,
          0.23073541530629288,
          -0.6483525230354428,
          0.2090513911515964,
          1.0233827275838547,
          -0.07074530883416033,
          0.779362420122101,
          -1.1713821437481107,
          1.6947331941675083,
          1.0449557884171017,
          0.7338766144330973,
          2.715466510306024,
          -0.2811212457762603,
          -0.06702146929721933,
          -1.8332739731995036
         ],
         "xaxis": "x16",
         "yaxis": "y16"
        }
       ],
       "layout": {
        "bargap": 0.02,
        "legend": {
         "bgcolor": "#F5F6F9",
         "font": {
          "color": "#4D5663"
         }
        },
        "paper_bgcolor": "#F5F6F9",
        "plot_bgcolor": "#F5F6F9",
        "showlegend": false,
        "template": {
         "data": {
          "bar": [
           {
            "error_x": {
             "color": "#2a3f5f"
            },
            "error_y": {
             "color": "#2a3f5f"
            },
            "marker": {
             "line": {
              "color": "#E5ECF6",
              "width": 0.5
             }
            },
            "type": "bar"
           }
          ],
          "barpolar": [
           {
            "marker": {
             "line": {
              "color": "#E5ECF6",
              "width": 0.5
             }
            },
            "type": "barpolar"
           }
          ],
          "carpet": [
           {
            "aaxis": {
             "endlinecolor": "#2a3f5f",
             "gridcolor": "white",
             "linecolor": "white",
             "minorgridcolor": "white",
             "startlinecolor": "#2a3f5f"
            },
            "baxis": {
             "endlinecolor": "#2a3f5f",
             "gridcolor": "white",
             "linecolor": "white",
             "minorgridcolor": "white",
             "startlinecolor": "#2a3f5f"
            },
            "type": "carpet"
           }
          ],
          "choropleth": [
           {
            "colorbar": {
             "outlinewidth": 0,
             "ticks": ""
            },
            "type": "choropleth"
           }
          ],
          "contour": [
           {
            "colorbar": {
             "outlinewidth": 0,
             "ticks": ""
            },
            "colorscale": [
             [
              0,
              "#0d0887"
             ],
             [
              0.1111111111111111,
              "#46039f"
             ],
             [
              0.2222222222222222,
              "#7201a8"
             ],
             [
              0.3333333333333333,
              "#9c179e"
             ],
             [
              0.4444444444444444,
              "#bd3786"
             ],
             [
              0.5555555555555556,
              "#d8576b"
             ],
             [
              0.6666666666666666,
              "#ed7953"
             ],
             [
              0.7777777777777778,
              "#fb9f3a"
             ],
             [
              0.8888888888888888,
              "#fdca26"
             ],
             [
              1,
              "#f0f921"
             ]
            ],
            "type": "contour"
           }
          ],
          "contourcarpet": [
           {
            "colorbar": {
             "outlinewidth": 0,
             "ticks": ""
            },
            "type": "contourcarpet"
           }
          ],
          "heatmap": [
           {
            "colorbar": {
             "outlinewidth": 0,
             "ticks": ""
            },
            "colorscale": [
             [
              0,
              "#0d0887"
             ],
             [
              0.1111111111111111,
              "#46039f"
             ],
             [
              0.2222222222222222,
              "#7201a8"
             ],
             [
              0.3333333333333333,
              "#9c179e"
             ],
             [
              0.4444444444444444,
              "#bd3786"
             ],
             [
              0.5555555555555556,
              "#d8576b"
             ],
             [
              0.6666666666666666,
              "#ed7953"
             ],
             [
              0.7777777777777778,
              "#fb9f3a"
             ],
             [
              0.8888888888888888,
              "#fdca26"
             ],
             [
              1,
              "#f0f921"
             ]
            ],
            "type": "heatmap"
           }
          ],
          "heatmapgl": [
           {
            "colorbar": {
             "outlinewidth": 0,
             "ticks": ""
            },
            "colorscale": [
             [
              0,
              "#0d0887"
             ],
             [
              0.1111111111111111,
              "#46039f"
             ],
             [
              0.2222222222222222,
              "#7201a8"
             ],
             [
              0.3333333333333333,
              "#9c179e"
             ],
             [
              0.4444444444444444,
              "#bd3786"
             ],
             [
              0.5555555555555556,
              "#d8576b"
             ],
             [
              0.6666666666666666,
              "#ed7953"
             ],
             [
              0.7777777777777778,
              "#fb9f3a"
             ],
             [
              0.8888888888888888,
              "#fdca26"
             ],
             [
              1,
              "#f0f921"
             ]
            ],
            "type": "heatmapgl"
           }
          ],
          "histogram": [
           {
            "marker": {
             "colorbar": {
              "outlinewidth": 0,
              "ticks": ""
             }
            },
            "type": "histogram"
           }
          ],
          "histogram2d": [
           {
            "colorbar": {
             "outlinewidth": 0,
             "ticks": ""
            },
            "colorscale": [
             [
              0,
              "#0d0887"
             ],
             [
              0.1111111111111111,
              "#46039f"
             ],
             [
              0.2222222222222222,
              "#7201a8"
             ],
             [
              0.3333333333333333,
              "#9c179e"
             ],
             [
              0.4444444444444444,
              "#bd3786"
             ],
             [
              0.5555555555555556,
              "#d8576b"
             ],
             [
              0.6666666666666666,
              "#ed7953"
             ],
             [
              0.7777777777777778,
              "#fb9f3a"
             ],
             [
              0.8888888888888888,
              "#fdca26"
             ],
             [
              1,
              "#f0f921"
             ]
            ],
            "type": "histogram2d"
           }
          ],
          "histogram2dcontour": [
           {
            "colorbar": {
             "outlinewidth": 0,
             "ticks": ""
            },
            "colorscale": [
             [
              0,
              "#0d0887"
             ],
             [
              0.1111111111111111,
              "#46039f"
             ],
             [
              0.2222222222222222,
              "#7201a8"
             ],
             [
              0.3333333333333333,
              "#9c179e"
             ],
             [
              0.4444444444444444,
              "#bd3786"
             ],
             [
              0.5555555555555556,
              "#d8576b"
             ],
             [
              0.6666666666666666,
              "#ed7953"
             ],
             [
              0.7777777777777778,
              "#fb9f3a"
             ],
             [
              0.8888888888888888,
              "#fdca26"
             ],
             [
              1,
              "#f0f921"
             ]
            ],
            "type": "histogram2dcontour"
           }
          ],
          "mesh3d": [
           {
            "colorbar": {
             "outlinewidth": 0,
             "ticks": ""
            },
            "type": "mesh3d"
           }
          ],
          "parcoords": [
           {
            "line": {
             "colorbar": {
              "outlinewidth": 0,
              "ticks": ""
             }
            },
            "type": "parcoords"
           }
          ],
          "pie": [
           {
            "automargin": true,
            "type": "pie"
           }
          ],
          "scatter": [
           {
            "marker": {
             "colorbar": {
              "outlinewidth": 0,
              "ticks": ""
             }
            },
            "type": "scatter"
           }
          ],
          "scatter3d": [
           {
            "line": {
             "colorbar": {
              "outlinewidth": 0,
              "ticks": ""
             }
            },
            "marker": {
             "colorbar": {
              "outlinewidth": 0,
              "ticks": ""
             }
            },
            "type": "scatter3d"
           }
          ],
          "scattercarpet": [
           {
            "marker": {
             "colorbar": {
              "outlinewidth": 0,
              "ticks": ""
             }
            },
            "type": "scattercarpet"
           }
          ],
          "scattergeo": [
           {
            "marker": {
             "colorbar": {
              "outlinewidth": 0,
              "ticks": ""
             }
            },
            "type": "scattergeo"
           }
          ],
          "scattergl": [
           {
            "marker": {
             "colorbar": {
              "outlinewidth": 0,
              "ticks": ""
             }
            },
            "type": "scattergl"
           }
          ],
          "scattermapbox": [
           {
            "marker": {
             "colorbar": {
              "outlinewidth": 0,
              "ticks": ""
             }
            },
            "type": "scattermapbox"
           }
          ],
          "scatterpolar": [
           {
            "marker": {
             "colorbar": {
              "outlinewidth": 0,
              "ticks": ""
             }
            },
            "type": "scatterpolar"
           }
          ],
          "scatterpolargl": [
           {
            "marker": {
             "colorbar": {
              "outlinewidth": 0,
              "ticks": ""
             }
            },
            "type": "scatterpolargl"
           }
          ],
          "scatterternary": [
           {
            "marker": {
             "colorbar": {
              "outlinewidth": 0,
              "ticks": ""
             }
            },
            "type": "scatterternary"
           }
          ],
          "surface": [
           {
            "colorbar": {
             "outlinewidth": 0,
             "ticks": ""
            },
            "colorscale": [
             [
              0,
              "#0d0887"
             ],
             [
              0.1111111111111111,
              "#46039f"
             ],
             [
              0.2222222222222222,
              "#7201a8"
             ],
             [
              0.3333333333333333,
              "#9c179e"
             ],
             [
              0.4444444444444444,
              "#bd3786"
             ],
             [
              0.5555555555555556,
              "#d8576b"
             ],
             [
              0.6666666666666666,
              "#ed7953"
             ],
             [
              0.7777777777777778,
              "#fb9f3a"
             ],
             [
              0.8888888888888888,
              "#fdca26"
             ],
             [
              1,
              "#f0f921"
             ]
            ],
            "type": "surface"
           }
          ],
          "table": [
           {
            "cells": {
             "fill": {
              "color": "#EBF0F8"
             },
             "line": {
              "color": "white"
             }
            },
            "header": {
             "fill": {
              "color": "#C8D4E3"
             },
             "line": {
              "color": "white"
             }
            },
            "type": "table"
           }
          ]
         },
         "layout": {
          "annotationdefaults": {
           "arrowcolor": "#2a3f5f",
           "arrowhead": 0,
           "arrowwidth": 1
          },
          "coloraxis": {
           "colorbar": {
            "outlinewidth": 0,
            "ticks": ""
           }
          },
          "colorscale": {
           "diverging": [
            [
             0,
             "#8e0152"
            ],
            [
             0.1,
             "#c51b7d"
            ],
            [
             0.2,
             "#de77ae"
            ],
            [
             0.3,
             "#f1b6da"
            ],
            [
             0.4,
             "#fde0ef"
            ],
            [
             0.5,
             "#f7f7f7"
            ],
            [
             0.6,
             "#e6f5d0"
            ],
            [
             0.7,
             "#b8e186"
            ],
            [
             0.8,
             "#7fbc41"
            ],
            [
             0.9,
             "#4d9221"
            ],
            [
             1,
             "#276419"
            ]
           ],
           "sequential": [
            [
             0,
             "#0d0887"
            ],
            [
             0.1111111111111111,
             "#46039f"
            ],
            [
             0.2222222222222222,
             "#7201a8"
            ],
            [
             0.3333333333333333,
             "#9c179e"
            ],
            [
             0.4444444444444444,
             "#bd3786"
            ],
            [
             0.5555555555555556,
             "#d8576b"
            ],
            [
             0.6666666666666666,
             "#ed7953"
            ],
            [
             0.7777777777777778,
             "#fb9f3a"
            ],
            [
             0.8888888888888888,
             "#fdca26"
            ],
            [
             1,
             "#f0f921"
            ]
           ],
           "sequentialminus": [
            [
             0,
             "#0d0887"
            ],
            [
             0.1111111111111111,
             "#46039f"
            ],
            [
             0.2222222222222222,
             "#7201a8"
            ],
            [
             0.3333333333333333,
             "#9c179e"
            ],
            [
             0.4444444444444444,
             "#bd3786"
            ],
            [
             0.5555555555555556,
             "#d8576b"
            ],
            [
             0.6666666666666666,
             "#ed7953"
            ],
            [
             0.7777777777777778,
             "#fb9f3a"
            ],
            [
             0.8888888888888888,
             "#fdca26"
            ],
            [
             1,
             "#f0f921"
            ]
           ]
          },
          "colorway": [
           "#636efa",
           "#EF553B",
           "#00cc96",
           "#ab63fa",
           "#FFA15A",
           "#19d3f3",
           "#FF6692",
           "#B6E880",
           "#FF97FF",
           "#FECB52"
          ],
          "font": {
           "color": "#2a3f5f"
          },
          "geo": {
           "bgcolor": "white",
           "lakecolor": "white",
           "landcolor": "#E5ECF6",
           "showlakes": true,
           "showland": true,
           "subunitcolor": "white"
          },
          "hoverlabel": {
           "align": "left"
          },
          "hovermode": "closest",
          "mapbox": {
           "style": "light"
          },
          "paper_bgcolor": "white",
          "plot_bgcolor": "#E5ECF6",
          "polar": {
           "angularaxis": {
            "gridcolor": "white",
            "linecolor": "white",
            "ticks": ""
           },
           "bgcolor": "#E5ECF6",
           "radialaxis": {
            "gridcolor": "white",
            "linecolor": "white",
            "ticks": ""
           }
          },
          "scene": {
           "xaxis": {
            "backgroundcolor": "#E5ECF6",
            "gridcolor": "white",
            "gridwidth": 2,
            "linecolor": "white",
            "showbackground": true,
            "ticks": "",
            "zerolinecolor": "white"
           },
           "yaxis": {
            "backgroundcolor": "#E5ECF6",
            "gridcolor": "white",
            "gridwidth": 2,
            "linecolor": "white",
            "showbackground": true,
            "ticks": "",
            "zerolinecolor": "white"
           },
           "zaxis": {
            "backgroundcolor": "#E5ECF6",
            "gridcolor": "white",
            "gridwidth": 2,
            "linecolor": "white",
            "showbackground": true,
            "ticks": "",
            "zerolinecolor": "white"
           }
          },
          "shapedefaults": {
           "line": {
            "color": "#2a3f5f"
           }
          },
          "ternary": {
           "aaxis": {
            "gridcolor": "white",
            "linecolor": "white",
            "ticks": ""
           },
           "baxis": {
            "gridcolor": "white",
            "linecolor": "white",
            "ticks": ""
           },
           "bgcolor": "#E5ECF6",
           "caxis": {
            "gridcolor": "white",
            "linecolor": "white",
            "ticks": ""
           }
          },
          "title": {
           "x": 0.05
          },
          "xaxis": {
           "automargin": true,
           "gridcolor": "white",
           "linecolor": "white",
           "ticks": "",
           "title": {
            "standoff": 15
           },
           "zerolinecolor": "white",
           "zerolinewidth": 2
          },
          "yaxis": {
           "automargin": true,
           "gridcolor": "white",
           "linecolor": "white",
           "ticks": "",
           "title": {
            "standoff": 15
           },
           "zerolinecolor": "white",
           "zerolinewidth": 2
          }
         }
        },
        "title": {
         "font": {
          "color": "#4D5663"
         }
        },
        "xaxis": {
         "anchor": "y",
         "domain": [
          0,
          0.2125
         ],
         "gridcolor": "#E1E5ED",
         "showgrid": false,
         "tickfont": {
          "color": "#4D5663"
         },
         "title": {
          "font": {
           "color": "#4D5663"
          },
          "text": ""
         },
         "zerolinecolor": "#E1E5ED"
        },
        "xaxis10": {
         "anchor": "y10",
         "domain": [
          0.2625,
          0.475
         ],
         "gridcolor": "#E1E5ED",
         "showgrid": false,
         "tickfont": {
          "color": "#4D5663"
         },
         "title": {
          "font": {
           "color": "#4D5663"
          },
          "text": ""
         },
         "zerolinecolor": "#E1E5ED"
        },
        "xaxis11": {
         "anchor": "y11",
         "domain": [
          0.525,
          0.7375
         ],
         "gridcolor": "#E1E5ED",
         "showgrid": false,
         "tickfont": {
          "color": "#4D5663"
         },
         "title": {
          "font": {
           "color": "#4D5663"
          },
          "text": ""
         },
         "zerolinecolor": "#E1E5ED"
        },
        "xaxis12": {
         "anchor": "y12",
         "domain": [
          0.7875,
          1
         ],
         "gridcolor": "#E1E5ED",
         "showgrid": false,
         "tickfont": {
          "color": "#4D5663"
         },
         "title": {
          "font": {
           "color": "#4D5663"
          },
          "text": ""
         },
         "zerolinecolor": "#E1E5ED"
        },
        "xaxis13": {
         "anchor": "y13",
         "domain": [
          0,
          0.2125
         ],
         "gridcolor": "#E1E5ED",
         "showgrid": false,
         "tickfont": {
          "color": "#4D5663"
         },
         "title": {
          "font": {
           "color": "#4D5663"
          },
          "text": ""
         },
         "zerolinecolor": "#E1E5ED"
        },
        "xaxis14": {
         "anchor": "y14",
         "domain": [
          0.2625,
          0.475
         ],
         "gridcolor": "#E1E5ED",
         "showgrid": false,
         "tickfont": {
          "color": "#4D5663"
         },
         "title": {
          "font": {
           "color": "#4D5663"
          },
          "text": ""
         },
         "zerolinecolor": "#E1E5ED"
        },
        "xaxis15": {
         "anchor": "y15",
         "domain": [
          0.525,
          0.7375
         ],
         "gridcolor": "#E1E5ED",
         "showgrid": false,
         "tickfont": {
          "color": "#4D5663"
         },
         "title": {
          "font": {
           "color": "#4D5663"
          },
          "text": ""
         },
         "zerolinecolor": "#E1E5ED"
        },
        "xaxis16": {
         "anchor": "y16",
         "domain": [
          0.7875,
          1
         ],
         "gridcolor": "#E1E5ED",
         "showgrid": false,
         "tickfont": {
          "color": "#4D5663"
         },
         "title": {
          "font": {
           "color": "#4D5663"
          },
          "text": ""
         },
         "zerolinecolor": "#E1E5ED"
        },
        "xaxis2": {
         "anchor": "y2",
         "domain": [
          0.2625,
          0.475
         ],
         "gridcolor": "#E1E5ED",
         "showgrid": false,
         "tickfont": {
          "color": "#4D5663"
         },
         "title": {
          "font": {
           "color": "#4D5663"
          },
          "text": ""
         },
         "zerolinecolor": "#E1E5ED"
        },
        "xaxis3": {
         "anchor": "y3",
         "domain": [
          0.525,
          0.7375
         ],
         "gridcolor": "#E1E5ED",
         "showgrid": false,
         "tickfont": {
          "color": "#4D5663"
         },
         "title": {
          "font": {
           "color": "#4D5663"
          },
          "text": ""
         },
         "zerolinecolor": "#E1E5ED"
        },
        "xaxis4": {
         "anchor": "y4",
         "domain": [
          0.7875,
          1
         ],
         "gridcolor": "#E1E5ED",
         "showgrid": false,
         "tickfont": {
          "color": "#4D5663"
         },
         "title": {
          "font": {
           "color": "#4D5663"
          },
          "text": ""
         },
         "zerolinecolor": "#E1E5ED"
        },
        "xaxis5": {
         "anchor": "y5",
         "domain": [
          0,
          0.2125
         ],
         "gridcolor": "#E1E5ED",
         "showgrid": false,
         "tickfont": {
          "color": "#4D5663"
         },
         "title": {
          "font": {
           "color": "#4D5663"
          },
          "text": ""
         },
         "zerolinecolor": "#E1E5ED"
        },
        "xaxis6": {
         "anchor": "y6",
         "domain": [
          0.2625,
          0.475
         ],
         "gridcolor": "#E1E5ED",
         "showgrid": false,
         "tickfont": {
          "color": "#4D5663"
         },
         "title": {
          "font": {
           "color": "#4D5663"
          },
          "text": ""
         },
         "zerolinecolor": "#E1E5ED"
        },
        "xaxis7": {
         "anchor": "y7",
         "domain": [
          0.525,
          0.7375
         ],
         "gridcolor": "#E1E5ED",
         "showgrid": false,
         "tickfont": {
          "color": "#4D5663"
         },
         "title": {
          "font": {
           "color": "#4D5663"
          },
          "text": ""
         },
         "zerolinecolor": "#E1E5ED"
        },
        "xaxis8": {
         "anchor": "y8",
         "domain": [
          0.7875,
          1
         ],
         "gridcolor": "#E1E5ED",
         "showgrid": false,
         "tickfont": {
          "color": "#4D5663"
         },
         "title": {
          "font": {
           "color": "#4D5663"
          },
          "text": ""
         },
         "zerolinecolor": "#E1E5ED"
        },
        "xaxis9": {
         "anchor": "y9",
         "domain": [
          0,
          0.2125
         ],
         "gridcolor": "#E1E5ED",
         "showgrid": false,
         "tickfont": {
          "color": "#4D5663"
         },
         "title": {
          "font": {
           "color": "#4D5663"
          },
          "text": ""
         },
         "zerolinecolor": "#E1E5ED"
        },
        "yaxis": {
         "anchor": "x",
         "domain": [
          0.8025,
          1
         ],
         "gridcolor": "#E1E5ED",
         "showgrid": false,
         "tickfont": {
          "color": "#4D5663"
         },
         "title": {
          "font": {
           "color": "#4D5663"
          },
          "text": ""
         },
         "zerolinecolor": "#E1E5ED"
        },
        "yaxis10": {
         "anchor": "x10",
         "domain": [
          0.2675,
          0.465
         ],
         "gridcolor": "#E1E5ED",
         "showgrid": false,
         "tickfont": {
          "color": "#4D5663"
         },
         "title": {
          "font": {
           "color": "#4D5663"
          },
          "text": ""
         },
         "zerolinecolor": "#E1E5ED"
        },
        "yaxis11": {
         "anchor": "x11",
         "domain": [
          0.2675,
          0.465
         ],
         "gridcolor": "#E1E5ED",
         "showgrid": false,
         "tickfont": {
          "color": "#4D5663"
         },
         "title": {
          "font": {
           "color": "#4D5663"
          },
          "text": ""
         },
         "zerolinecolor": "#E1E5ED"
        },
        "yaxis12": {
         "anchor": "x12",
         "domain": [
          0.2675,
          0.465
         ],
         "gridcolor": "#E1E5ED",
         "showgrid": false,
         "tickfont": {
          "color": "#4D5663"
         },
         "title": {
          "font": {
           "color": "#4D5663"
          },
          "text": ""
         },
         "zerolinecolor": "#E1E5ED"
        },
        "yaxis13": {
         "anchor": "x13",
         "domain": [
          0,
          0.1975
         ],
         "gridcolor": "#E1E5ED",
         "showgrid": false,
         "tickfont": {
          "color": "#4D5663"
         },
         "title": {
          "font": {
           "color": "#4D5663"
          },
          "text": ""
         },
         "zerolinecolor": "#E1E5ED"
        },
        "yaxis14": {
         "anchor": "x14",
         "domain": [
          0,
          0.1975
         ],
         "gridcolor": "#E1E5ED",
         "showgrid": false,
         "tickfont": {
          "color": "#4D5663"
         },
         "title": {
          "font": {
           "color": "#4D5663"
          },
          "text": ""
         },
         "zerolinecolor": "#E1E5ED"
        },
        "yaxis15": {
         "anchor": "x15",
         "domain": [
          0,
          0.1975
         ],
         "gridcolor": "#E1E5ED",
         "showgrid": false,
         "tickfont": {
          "color": "#4D5663"
         },
         "title": {
          "font": {
           "color": "#4D5663"
          },
          "text": ""
         },
         "zerolinecolor": "#E1E5ED"
        },
        "yaxis16": {
         "anchor": "x16",
         "domain": [
          0,
          0.1975
         ],
         "gridcolor": "#E1E5ED",
         "showgrid": false,
         "tickfont": {
          "color": "#4D5663"
         },
         "title": {
          "font": {
           "color": "#4D5663"
          },
          "text": ""
         },
         "zerolinecolor": "#E1E5ED"
        },
        "yaxis2": {
         "anchor": "x2",
         "domain": [
          0.8025,
          1
         ],
         "gridcolor": "#E1E5ED",
         "showgrid": false,
         "tickfont": {
          "color": "#4D5663"
         },
         "title": {
          "font": {
           "color": "#4D5663"
          },
          "text": ""
         },
         "zerolinecolor": "#E1E5ED"
        },
        "yaxis3": {
         "anchor": "x3",
         "domain": [
          0.8025,
          1
         ],
         "gridcolor": "#E1E5ED",
         "showgrid": false,
         "tickfont": {
          "color": "#4D5663"
         },
         "title": {
          "font": {
           "color": "#4D5663"
          },
          "text": ""
         },
         "zerolinecolor": "#E1E5ED"
        },
        "yaxis4": {
         "anchor": "x4",
         "domain": [
          0.8025,
          1
         ],
         "gridcolor": "#E1E5ED",
         "showgrid": false,
         "tickfont": {
          "color": "#4D5663"
         },
         "title": {
          "font": {
           "color": "#4D5663"
          },
          "text": ""
         },
         "zerolinecolor": "#E1E5ED"
        },
        "yaxis5": {
         "anchor": "x5",
         "domain": [
          0.535,
          0.7325
         ],
         "gridcolor": "#E1E5ED",
         "showgrid": false,
         "tickfont": {
          "color": "#4D5663"
         },
         "title": {
          "font": {
           "color": "#4D5663"
          },
          "text": ""
         },
         "zerolinecolor": "#E1E5ED"
        },
        "yaxis6": {
         "anchor": "x6",
         "domain": [
          0.535,
          0.7325
         ],
         "gridcolor": "#E1E5ED",
         "showgrid": false,
         "tickfont": {
          "color": "#4D5663"
         },
         "title": {
          "font": {
           "color": "#4D5663"
          },
          "text": ""
         },
         "zerolinecolor": "#E1E5ED"
        },
        "yaxis7": {
         "anchor": "x7",
         "domain": [
          0.535,
          0.7325
         ],
         "gridcolor": "#E1E5ED",
         "showgrid": false,
         "tickfont": {
          "color": "#4D5663"
         },
         "title": {
          "font": {
           "color": "#4D5663"
          },
          "text": ""
         },
         "zerolinecolor": "#E1E5ED"
        },
        "yaxis8": {
         "anchor": "x8",
         "domain": [
          0.535,
          0.7325
         ],
         "gridcolor": "#E1E5ED",
         "showgrid": false,
         "tickfont": {
          "color": "#4D5663"
         },
         "title": {
          "font": {
           "color": "#4D5663"
          },
          "text": ""
         },
         "zerolinecolor": "#E1E5ED"
        },
        "yaxis9": {
         "anchor": "x9",
         "domain": [
          0.2675,
          0.465
         ],
         "gridcolor": "#E1E5ED",
         "showgrid": false,
         "tickfont": {
          "color": "#4D5663"
         },
         "title": {
          "font": {
           "color": "#4D5663"
          },
          "text": ""
         },
         "zerolinecolor": "#E1E5ED"
        }
       }
      },
      "text/html": [
       "<div>\n",
       "        \n",
       "        \n",
       "            <div id=\"6abadcf5-14c3-4b94-8406-8c7152400025\" class=\"plotly-graph-div\" style=\"height:525px; width:100%;\"></div>\n",
       "            <script type=\"text/javascript\">\n",
       "                require([\"plotly\"], function(Plotly) {\n",
       "                    window.PLOTLYENV=window.PLOTLYENV || {};\n",
       "                    window.PLOTLYENV.BASE_URL='https://plot.ly';\n",
       "                    \n",
       "                if (document.getElementById(\"6abadcf5-14c3-4b94-8406-8c7152400025\")) {\n",
       "                    Plotly.newPlot(\n",
       "                        '6abadcf5-14c3-4b94-8406-8c7152400025',\n",
       "                        [{\"histfunc\": \"count\", \"histnorm\": \"\", \"marker\": {\"color\": \"rgba(255, 153, 51, 1.0)\", \"line\": {\"color\": \"#4D5663\", \"width\": 1.3}}, \"name\": \"A\", \"nbinsx\": 10, \"opacity\": 0.8, \"orientation\": \"v\", \"type\": \"histogram\", \"x\": [0.5381855285673716, 0.5071020305201216, 0.4389237509487635, -0.6247998973105497, -0.32856245582140214, -0.5549132814916047, 0.5059612828729726, -3.197502476482795, -0.20387507115536785, 0.3459015762781, -0.2031519933742461, -1.4270667976720735, 0.12125644113873606, -0.041134446239839334, 0.09942498996999705, -0.6716409332021634, 0.8054591919418969, 1.6284504463712235, -1.0686571236688256, -0.6820570283090134, 1.0601779267043576, -0.8874271184205513, -0.23584503326298303, -1.3723947795930347, -0.5272892633343157, -0.6442561046802101, -1.2512104607334211, -0.09174351149493501, 0.9306815990203132, -0.467294899249402, 0.018392476702123038, -1.700457788639387, -0.26741137780144897, -0.7421803421304896, -0.14671882870501557, -1.6275386920455386, -0.45338390016622215, -2.0071863672670602, 0.1963189215463607, -1.4777986997953716, -2.1576217433969695, -0.7856668199645755, -1.2338432754092326, 1.399825272513358, -1.0091689439017615, 0.09028738823377347, -1.5408250419456964, 0.0990984258625075, -0.4343856232182664, -1.537700800793354, -0.072884287636136, -1.0730149201477526, 1.8456685132367332, 0.7476570177073996, -1.0485473399110965, -0.6900292790057106, -0.2208261440483984, 0.2686957612752167, -0.22816861670514565, 0.7311199936618888, 0.41812057329918606, 1.0887363338922411, -0.3964498621702017, 0.47286766096396265, -0.6027452918287854, 0.7025165133369287, 1.4569049926648543, 0.9999577792691502, -1.2811979563182043, 2.0804623137829674, 1.539255595278702, 0.4440631488297732, -1.5619867791736421, -0.31583137533287053, 0.3250311620824069, -0.4222090529096985, 1.7248048718981919, 0.5322881033597029, -0.3313064131205352, -1.2259399680760918, -0.6630691986600332, 0.043184530012049985, 1.5981295317194895, -1.3508876092805546, 1.0726560999357118, 0.3672953794565466, -0.4116672934579571, 0.47793618707943125, -1.0741938940368256, -0.7194551581808123, 0.9656653652456971, -0.1998839148187243, 1.1064616751011012, -0.3642037624025107, 0.8254311216681306, 0.7851611444731269, -0.8309895524553557, 0.44985792521595347, 1.695413609917251, -0.15895796721118688], \"xaxis\": \"x\", \"yaxis\": \"y\"}, {\"line\": {\"color\": \"rgba(128, 128, 128, 1.0)\", \"dash\": \"solid\", \"shape\": \"linear\", \"width\": 1.3}, \"marker\": {\"size\": 2, \"symbol\": \"circle\"}, \"mode\": \"markers\", \"name\": \"A\", \"text\": \"\", \"type\": \"scatter\", \"x\": [0.6301674583573214, -1.561675696183232, 0.6365258247311377, -0.22324860617551084, -1.6736946321158042, -0.15927706452952708, 0.36989298593237285, 1.3085200046585113, 0.7159183818614192, 1.4170368007607066, -0.8484128249213295, 0.24290160075968745, 1.0795918353343301, -0.8157998727705896, -0.7184505150668109, -0.11568818097186227, -1.2901791636364424, 0.8400081678160328, -0.6676702261888512, -1.011257076667859, -0.6892287441692668, -0.23102459810075973, -0.21170064669943212, -0.20028233251560987, -1.078408181836114, 1.462130966067993, -0.17927997159447678, -0.13052020849949877, 0.4682168592110732, -1.5877343509461137, -0.6710951925528772, 0.05576752593607448, 0.5362381928866289, -0.34225661814037467, 0.581933321085821, 0.3947906536929084, 0.01940690313621235, -0.2163038164030735, -1.4955367906604886, 0.23791928037571633, -1.0977453084165723, 0.5335144230984808, 2.0993808494993873, -0.49490813917873455, 0.3941349794262045, -0.3772928341008689, 1.3048292635035965, -0.46672612038687655, -1.120489037175442, 1.9940005382078847, 0.20060951912701863, 0.57128240835606, 0.7145821222961338, 1.4105370810949298, 0.4049315688775944, 0.8458061881151208, -0.7609317914602187, -1.6481370061848084, -0.8873946431515575, -1.0683226547519797, -0.5316480238934537, 0.03361078302762433, -1.0363017034596884, 0.658821017661889, -1.0755800129807123, 0.9911979331699334, 0.5361321263657128, 0.988419798692416, -1.6384158410384904, -0.054614895140455734, -1.489486347353061, 1.0573670070827268, -0.005366874743519029, -1.5582928434235677, 1.3867439202182168, 0.27510525110981254, -0.0661353713844357, 0.4527693556244209, 0.39889118623618947, 1.3379470102985798, -0.9202241393884216, -0.7964312895565369, -0.6412882079248059, -0.7646490980947728, 0.7922507978202409, -0.24143865713923998, 0.6883199050793065, -0.44232087555933497, -0.46421476004079404, 0.14348851689963255, -0.8266849594361187, -0.1976183507463993, 1.1679312356869895, 0.5426240028902773, -0.2893004673286161, 0.6621600474085508, -1.2471603427386846, 1.0389478529243041, -0.048911234267454785, 0.2695699427674912], \"xaxis\": \"x2\", \"y\": [0.5381855285673716, 0.5071020305201216, 0.4389237509487635, -0.6247998973105497, -0.32856245582140214, -0.5549132814916047, 0.5059612828729726, -3.197502476482795, -0.20387507115536785, 0.3459015762781, -0.2031519933742461, -1.4270667976720735, 0.12125644113873606, -0.041134446239839334, 0.09942498996999705, -0.6716409332021634, 0.8054591919418969, 1.6284504463712235, -1.0686571236688256, -0.6820570283090134, 1.0601779267043576, -0.8874271184205513, -0.23584503326298303, -1.3723947795930347, -0.5272892633343157, -0.6442561046802101, -1.2512104607334211, -0.09174351149493501, 0.9306815990203132, -0.467294899249402, 0.018392476702123038, -1.700457788639387, -0.26741137780144897, -0.7421803421304896, -0.14671882870501557, -1.6275386920455386, -0.45338390016622215, -2.0071863672670602, 0.1963189215463607, -1.4777986997953716, -2.1576217433969695, -0.7856668199645755, -1.2338432754092326, 1.399825272513358, -1.0091689439017615, 0.09028738823377347, -1.5408250419456964, 0.0990984258625075, -0.4343856232182664, -1.537700800793354, -0.072884287636136, -1.0730149201477526, 1.8456685132367332, 0.7476570177073996, -1.0485473399110965, -0.6900292790057106, -0.2208261440483984, 0.2686957612752167, -0.22816861670514565, 0.7311199936618888, 0.41812057329918606, 1.0887363338922411, -0.3964498621702017, 0.47286766096396265, -0.6027452918287854, 0.7025165133369287, 1.4569049926648543, 0.9999577792691502, -1.2811979563182043, 2.0804623137829674, 1.539255595278702, 0.4440631488297732, -1.5619867791736421, -0.31583137533287053, 0.3250311620824069, -0.4222090529096985, 1.7248048718981919, 0.5322881033597029, -0.3313064131205352, -1.2259399680760918, -0.6630691986600332, 0.043184530012049985, 1.5981295317194895, -1.3508876092805546, 1.0726560999357118, 0.3672953794565466, -0.4116672934579571, 0.47793618707943125, -1.0741938940368256, -0.7194551581808123, 0.9656653652456971, -0.1998839148187243, 1.1064616751011012, -0.3642037624025107, 0.8254311216681306, 0.7851611444731269, -0.8309895524553557, 0.44985792521595347, 1.695413609917251, -0.15895796721118688], \"yaxis\": \"y2\"}, {\"line\": {\"color\": \"rgba(128, 128, 128, 1.0)\", \"dash\": \"solid\", \"shape\": \"linear\", \"width\": 1.3}, \"marker\": {\"size\": 2, \"symbol\": \"circle\"}, \"mode\": \"markers\", \"name\": \"A\", \"text\": \"\", \"type\": \"scatter\", \"x\": [0.14506602511110148, -1.5350919477293514, -1.0564402955132137, -0.05366494973768762, -0.23532988259206, -0.06376402718449821, -0.3875871855539246, 0.8889575112108654, -0.13230820292205872, -2.0768634529698575, 0.8542654948565908, 1.2591016290832808, 0.055577214025398176, -1.5765266719500757, -0.07478080507591517, 0.2986412469044207, -1.3865605376242653, -0.016753943949769947, 1.536663931660215, -0.6478224006291703, -0.16944154867726552, -1.1912068331424026, -0.25680339372019473, 0.4328630823987023, 0.2722018160160951, -1.8520769036337186, -0.6375092932830504, -0.7955321290045767, -0.2148903750252082, 0.5512614435268286, -0.4945659313053846, 0.08927834189774887, -0.6555629714503787, -0.034297214996859844, 1.3660523369049575, -0.2817361408288066, 1.0632680641405627, 0.28519020076291474, 0.9352797650105166, 0.48464803701997045, -1.4955528878230095, 0.8348329474048144, 0.9399305899605457, -1.3110079910772554, 1.493664781975507, 1.2378021641540384, -0.21476879517302902, -0.8684227613476898, 2.379866832779196, 0.6762504445379166, 0.8153938463135066, -0.1874834666679136, -2.025887068164461, -0.23134055717521698, 0.07379616021762368, -0.6801295155135376, 2.723554612014531, -0.4166641061429242, -1.3711175028185112, -2.359727194601706, 0.484914994727327, 1.524158497592488, 0.47027700405519596, 1.4867724397113453, 0.886753300712882, 0.029158549039998746, -1.029575837223082, 0.9314113396487392, 0.052769031942404745, 0.13338582615104563, 0.8154145282993461, 0.10710573411611993, 0.3373752330790277, -0.5195165045736313, 0.4427477157651256, 0.6133730181764102, 0.7512150936281655, -0.29974210812375635, 0.605387491159014, 0.449995135705989, 0.21758041876843912, 1.8620559687106546, -1.1183313706292377, 1.0529824703212414, -0.3854369014622324, 0.5553255899132032, -1.470004515987508, 1.4703361223721525, 2.6746366151907006, 0.9702882982673493, -0.9803198964664515, -0.2542258021756626, -1.1776697118204689, 0.3751877356390631, 0.14435315708568935, -0.10729659569820357, -1.8318945960270736, 0.41992730267581446, 1.2596641865449796, 1.10186947308976], \"xaxis\": \"x3\", \"y\": [0.5381855285673716, 0.5071020305201216, 0.4389237509487635, -0.6247998973105497, -0.32856245582140214, -0.5549132814916047, 0.5059612828729726, -3.197502476482795, -0.20387507115536785, 0.3459015762781, -0.2031519933742461, -1.4270667976720735, 0.12125644113873606, -0.041134446239839334, 0.09942498996999705, -0.6716409332021634, 0.8054591919418969, 1.6284504463712235, -1.0686571236688256, -0.6820570283090134, 1.0601779267043576, -0.8874271184205513, -0.23584503326298303, -1.3723947795930347, -0.5272892633343157, -0.6442561046802101, -1.2512104607334211, -0.09174351149493501, 0.9306815990203132, -0.467294899249402, 0.018392476702123038, -1.700457788639387, -0.26741137780144897, -0.7421803421304896, -0.14671882870501557, -1.6275386920455386, -0.45338390016622215, -2.0071863672670602, 0.1963189215463607, -1.4777986997953716, -2.1576217433969695, -0.7856668199645755, -1.2338432754092326, 1.399825272513358, -1.0091689439017615, 0.09028738823377347, -1.5408250419456964, 0.0990984258625075, -0.4343856232182664, -1.537700800793354, -0.072884287636136, -1.0730149201477526, 1.8456685132367332, 0.7476570177073996, -1.0485473399110965, -0.6900292790057106, -0.2208261440483984, 0.2686957612752167, -0.22816861670514565, 0.7311199936618888, 0.41812057329918606, 1.0887363338922411, -0.3964498621702017, 0.47286766096396265, -0.6027452918287854, 0.7025165133369287, 1.4569049926648543, 0.9999577792691502, -1.2811979563182043, 2.0804623137829674, 1.539255595278702, 0.4440631488297732, -1.5619867791736421, -0.31583137533287053, 0.3250311620824069, -0.4222090529096985, 1.7248048718981919, 0.5322881033597029, -0.3313064131205352, -1.2259399680760918, -0.6630691986600332, 0.043184530012049985, 1.5981295317194895, -1.3508876092805546, 1.0726560999357118, 0.3672953794565466, -0.4116672934579571, 0.47793618707943125, -1.0741938940368256, -0.7194551581808123, 0.9656653652456971, -0.1998839148187243, 1.1064616751011012, -0.3642037624025107, 0.8254311216681306, 0.7851611444731269, -0.8309895524553557, 0.44985792521595347, 1.695413609917251, -0.15895796721118688], \"yaxis\": \"y3\"}, {\"line\": {\"color\": \"rgba(128, 128, 128, 1.0)\", \"dash\": \"solid\", \"shape\": \"linear\", \"width\": 1.3}, \"marker\": {\"size\": 2, \"symbol\": \"circle\"}, \"mode\": \"markers\", \"name\": \"A\", \"text\": \"\", \"type\": \"scatter\", \"x\": [2.050228155950427, -0.9590933400376149, -0.9022858940930771, -0.11245842772250299, -1.0379068828010054, 0.34119877607034343, 0.5667815384910767, -2.449915367431319, -0.6881195751990852, -0.4467084029103725, 0.27233802571608334, 0.9056722440606502, -2.4447262252508795, 0.0016958510905633656, 0.20714654897958837, -0.41331614803786604, 1.453483440745612, 0.6004098821605295, 0.5069983878181352, -0.4892238260046472, 0.30640967261840896, 1.6408154921615061, 0.6884152849973099, 0.13027743145046594, -0.36403729362953186, -0.5023434212713528, -0.5220640506021428, 0.11156329863109098, -0.06330919038657584, -0.05735058436595994, -0.4695934678133395, 0.8923475645817046, 0.8962584268478865, 0.10264098688007241, -1.0138199721942345, 0.03403677016801545, -1.2010673729625618, 0.19554483632945618, 0.78805709911097, 0.29019857295086493, -1.574182450906617, 1.0381859046735737, 0.8422589849955819, -2.3701248365015197, 1.0141153134288146, -2.2257729556872787, 0.21958637495155045, 0.8402614669134792, -2.4546019828650265, -0.4414196818536903, 1.0470366257844936, -0.291738407197531, 0.09930521623561693, 0.03280369665492429, 0.2228425094865553, -0.745494399913448, -1.1941154537874168, -0.0451813391166685, 0.8564239459664448, -0.6195190541176119, 0.4745602160619311, -0.6930746040422452, -1.3259836114544394, -0.015511187299125338, 0.2200495973166145, 2.8335206353490654, 0.2210756024053435, 0.1540311463037094, -1.5183911631483025, -2.232764001133131, -0.38035632475981773, -0.09141441406298612, -0.009350774221741225, -0.4530101873757683, 0.7063108905074421, -1.297568021769972, -0.02059585283770215, 0.6770796689310324, -0.49556153953140136, -2.090473213546201, 0.37212669067377463, 1.210290247335541, 0.488565871663984, 0.040795188878717185, -0.7574521159414243, 0.9636605831858774, 0.23073541530629288, -0.6483525230354428, 0.2090513911515964, 1.0233827275838547, -0.07074530883416033, 0.779362420122101, -1.1713821437481107, 1.6947331941675083, 1.0449557884171017, 0.7338766144330973, 2.715466510306024, -0.2811212457762603, -0.06702146929721933, -1.8332739731995036], \"xaxis\": \"x4\", \"y\": [0.5381855285673716, 0.5071020305201216, 0.4389237509487635, -0.6247998973105497, -0.32856245582140214, -0.5549132814916047, 0.5059612828729726, -3.197502476482795, -0.20387507115536785, 0.3459015762781, -0.2031519933742461, -1.4270667976720735, 0.12125644113873606, -0.041134446239839334, 0.09942498996999705, -0.6716409332021634, 0.8054591919418969, 1.6284504463712235, -1.0686571236688256, -0.6820570283090134, 1.0601779267043576, -0.8874271184205513, -0.23584503326298303, -1.3723947795930347, -0.5272892633343157, -0.6442561046802101, -1.2512104607334211, -0.09174351149493501, 0.9306815990203132, -0.467294899249402, 0.018392476702123038, -1.700457788639387, -0.26741137780144897, -0.7421803421304896, -0.14671882870501557, -1.6275386920455386, -0.45338390016622215, -2.0071863672670602, 0.1963189215463607, -1.4777986997953716, -2.1576217433969695, -0.7856668199645755, -1.2338432754092326, 1.399825272513358, -1.0091689439017615, 0.09028738823377347, -1.5408250419456964, 0.0990984258625075, -0.4343856232182664, -1.537700800793354, -0.072884287636136, -1.0730149201477526, 1.8456685132367332, 0.7476570177073996, -1.0485473399110965, -0.6900292790057106, -0.2208261440483984, 0.2686957612752167, -0.22816861670514565, 0.7311199936618888, 0.41812057329918606, 1.0887363338922411, -0.3964498621702017, 0.47286766096396265, -0.6027452918287854, 0.7025165133369287, 1.4569049926648543, 0.9999577792691502, -1.2811979563182043, 2.0804623137829674, 1.539255595278702, 0.4440631488297732, -1.5619867791736421, -0.31583137533287053, 0.3250311620824069, -0.4222090529096985, 1.7248048718981919, 0.5322881033597029, -0.3313064131205352, -1.2259399680760918, -0.6630691986600332, 0.043184530012049985, 1.5981295317194895, -1.3508876092805546, 1.0726560999357118, 0.3672953794565466, -0.4116672934579571, 0.47793618707943125, -1.0741938940368256, -0.7194551581808123, 0.9656653652456971, -0.1998839148187243, 1.1064616751011012, -0.3642037624025107, 0.8254311216681306, 0.7851611444731269, -0.8309895524553557, 0.44985792521595347, 1.695413609917251, -0.15895796721118688], \"yaxis\": \"y4\"}, {\"line\": {\"color\": \"rgba(128, 128, 128, 1.0)\", \"dash\": \"solid\", \"shape\": \"linear\", \"width\": 1.3}, \"marker\": {\"size\": 2, \"symbol\": \"circle\"}, \"mode\": \"markers\", \"name\": \"B\", \"text\": \"\", \"type\": \"scatter\", \"x\": [0.5381855285673716, 0.5071020305201216, 0.4389237509487635, -0.6247998973105497, -0.32856245582140214, -0.5549132814916047, 0.5059612828729726, -3.197502476482795, -0.20387507115536785, 0.3459015762781, -0.2031519933742461, -1.4270667976720735, 0.12125644113873606, -0.041134446239839334, 0.09942498996999705, -0.6716409332021634, 0.8054591919418969, 1.6284504463712235, -1.0686571236688256, -0.6820570283090134, 1.0601779267043576, -0.8874271184205513, -0.23584503326298303, -1.3723947795930347, -0.5272892633343157, -0.6442561046802101, -1.2512104607334211, -0.09174351149493501, 0.9306815990203132, -0.467294899249402, 0.018392476702123038, -1.700457788639387, -0.26741137780144897, -0.7421803421304896, -0.14671882870501557, -1.6275386920455386, -0.45338390016622215, -2.0071863672670602, 0.1963189215463607, -1.4777986997953716, -2.1576217433969695, -0.7856668199645755, -1.2338432754092326, 1.399825272513358, -1.0091689439017615, 0.09028738823377347, -1.5408250419456964, 0.0990984258625075, -0.4343856232182664, -1.537700800793354, -0.072884287636136, -1.0730149201477526, 1.8456685132367332, 0.7476570177073996, -1.0485473399110965, -0.6900292790057106, -0.2208261440483984, 0.2686957612752167, -0.22816861670514565, 0.7311199936618888, 0.41812057329918606, 1.0887363338922411, -0.3964498621702017, 0.47286766096396265, -0.6027452918287854, 0.7025165133369287, 1.4569049926648543, 0.9999577792691502, -1.2811979563182043, 2.0804623137829674, 1.539255595278702, 0.4440631488297732, -1.5619867791736421, -0.31583137533287053, 0.3250311620824069, -0.4222090529096985, 1.7248048718981919, 0.5322881033597029, -0.3313064131205352, -1.2259399680760918, -0.6630691986600332, 0.043184530012049985, 1.5981295317194895, -1.3508876092805546, 1.0726560999357118, 0.3672953794565466, -0.4116672934579571, 0.47793618707943125, -1.0741938940368256, -0.7194551581808123, 0.9656653652456971, -0.1998839148187243, 1.1064616751011012, -0.3642037624025107, 0.8254311216681306, 0.7851611444731269, -0.8309895524553557, 0.44985792521595347, 1.695413609917251, -0.15895796721118688], \"xaxis\": \"x5\", \"y\": [0.6301674583573214, -1.561675696183232, 0.6365258247311377, -0.22324860617551084, -1.6736946321158042, -0.15927706452952708, 0.36989298593237285, 1.3085200046585113, 0.7159183818614192, 1.4170368007607066, -0.8484128249213295, 0.24290160075968745, 1.0795918353343301, -0.8157998727705896, -0.7184505150668109, -0.11568818097186227, -1.2901791636364424, 0.8400081678160328, -0.6676702261888512, -1.011257076667859, -0.6892287441692668, -0.23102459810075973, -0.21170064669943212, -0.20028233251560987, -1.078408181836114, 1.462130966067993, -0.17927997159447678, -0.13052020849949877, 0.4682168592110732, -1.5877343509461137, -0.6710951925528772, 0.05576752593607448, 0.5362381928866289, -0.34225661814037467, 0.581933321085821, 0.3947906536929084, 0.01940690313621235, -0.2163038164030735, -1.4955367906604886, 0.23791928037571633, -1.0977453084165723, 0.5335144230984808, 2.0993808494993873, -0.49490813917873455, 0.3941349794262045, -0.3772928341008689, 1.3048292635035965, -0.46672612038687655, -1.120489037175442, 1.9940005382078847, 0.20060951912701863, 0.57128240835606, 0.7145821222961338, 1.4105370810949298, 0.4049315688775944, 0.8458061881151208, -0.7609317914602187, -1.6481370061848084, -0.8873946431515575, -1.0683226547519797, -0.5316480238934537, 0.03361078302762433, -1.0363017034596884, 0.658821017661889, -1.0755800129807123, 0.9911979331699334, 0.5361321263657128, 0.988419798692416, -1.6384158410384904, -0.054614895140455734, -1.489486347353061, 1.0573670070827268, -0.005366874743519029, -1.5582928434235677, 1.3867439202182168, 0.27510525110981254, -0.0661353713844357, 0.4527693556244209, 0.39889118623618947, 1.3379470102985798, -0.9202241393884216, -0.7964312895565369, -0.6412882079248059, -0.7646490980947728, 0.7922507978202409, -0.24143865713923998, 0.6883199050793065, -0.44232087555933497, -0.46421476004079404, 0.14348851689963255, -0.8266849594361187, -0.1976183507463993, 1.1679312356869895, 0.5426240028902773, -0.2893004673286161, 0.6621600474085508, -1.2471603427386846, 1.0389478529243041, -0.048911234267454785, 0.2695699427674912], \"yaxis\": \"y5\"}, {\"histfunc\": \"count\", \"histnorm\": \"\", \"marker\": {\"color\": \"rgba(55, 128, 191, 1.0)\", \"line\": {\"color\": \"#4D5663\", \"width\": 1.3}}, \"name\": \"B\", \"nbinsx\": 10, \"opacity\": 0.8, \"orientation\": \"v\", \"type\": \"histogram\", \"x\": [0.6301674583573214, -1.561675696183232, 0.6365258247311377, -0.22324860617551084, -1.6736946321158042, -0.15927706452952708, 0.36989298593237285, 1.3085200046585113, 0.7159183818614192, 1.4170368007607066, -0.8484128249213295, 0.24290160075968745, 1.0795918353343301, -0.8157998727705896, -0.7184505150668109, -0.11568818097186227, -1.2901791636364424, 0.8400081678160328, -0.6676702261888512, -1.011257076667859, -0.6892287441692668, -0.23102459810075973, -0.21170064669943212, -0.20028233251560987, -1.078408181836114, 1.462130966067993, -0.17927997159447678, -0.13052020849949877, 0.4682168592110732, -1.5877343509461137, -0.6710951925528772, 0.05576752593607448, 0.5362381928866289, -0.34225661814037467, 0.581933321085821, 0.3947906536929084, 0.01940690313621235, -0.2163038164030735, -1.4955367906604886, 0.23791928037571633, -1.0977453084165723, 0.5335144230984808, 2.0993808494993873, -0.49490813917873455, 0.3941349794262045, -0.3772928341008689, 1.3048292635035965, -0.46672612038687655, -1.120489037175442, 1.9940005382078847, 0.20060951912701863, 0.57128240835606, 0.7145821222961338, 1.4105370810949298, 0.4049315688775944, 0.8458061881151208, -0.7609317914602187, -1.6481370061848084, -0.8873946431515575, -1.0683226547519797, -0.5316480238934537, 0.03361078302762433, -1.0363017034596884, 0.658821017661889, -1.0755800129807123, 0.9911979331699334, 0.5361321263657128, 0.988419798692416, -1.6384158410384904, -0.054614895140455734, -1.489486347353061, 1.0573670070827268, -0.005366874743519029, -1.5582928434235677, 1.3867439202182168, 0.27510525110981254, -0.0661353713844357, 0.4527693556244209, 0.39889118623618947, 1.3379470102985798, -0.9202241393884216, -0.7964312895565369, -0.6412882079248059, -0.7646490980947728, 0.7922507978202409, -0.24143865713923998, 0.6883199050793065, -0.44232087555933497, -0.46421476004079404, 0.14348851689963255, -0.8266849594361187, -0.1976183507463993, 1.1679312356869895, 0.5426240028902773, -0.2893004673286161, 0.6621600474085508, -1.2471603427386846, 1.0389478529243041, -0.048911234267454785, 0.2695699427674912], \"xaxis\": \"x6\", \"yaxis\": \"y6\"}, {\"line\": {\"color\": \"rgba(128, 128, 128, 1.0)\", \"dash\": \"solid\", \"shape\": \"linear\", \"width\": 1.3}, \"marker\": {\"size\": 2, \"symbol\": \"circle\"}, \"mode\": \"markers\", \"name\": \"B\", \"text\": \"\", \"type\": \"scatter\", \"x\": [0.14506602511110148, -1.5350919477293514, -1.0564402955132137, -0.05366494973768762, -0.23532988259206, -0.06376402718449821, -0.3875871855539246, 0.8889575112108654, -0.13230820292205872, -2.0768634529698575, 0.8542654948565908, 1.2591016290832808, 0.055577214025398176, -1.5765266719500757, -0.07478080507591517, 0.2986412469044207, -1.3865605376242653, -0.016753943949769947, 1.536663931660215, -0.6478224006291703, -0.16944154867726552, -1.1912068331424026, -0.25680339372019473, 0.4328630823987023, 0.2722018160160951, -1.8520769036337186, -0.6375092932830504, -0.7955321290045767, -0.2148903750252082, 0.5512614435268286, -0.4945659313053846, 0.08927834189774887, -0.6555629714503787, -0.034297214996859844, 1.3660523369049575, -0.2817361408288066, 1.0632680641405627, 0.28519020076291474, 0.9352797650105166, 0.48464803701997045, -1.4955528878230095, 0.8348329474048144, 0.9399305899605457, -1.3110079910772554, 1.493664781975507, 1.2378021641540384, -0.21476879517302902, -0.8684227613476898, 2.379866832779196, 0.6762504445379166, 0.8153938463135066, -0.1874834666679136, -2.025887068164461, -0.23134055717521698, 0.07379616021762368, -0.6801295155135376, 2.723554612014531, -0.4166641061429242, -1.3711175028185112, -2.359727194601706, 0.484914994727327, 1.524158497592488, 0.47027700405519596, 1.4867724397113453, 0.886753300712882, 0.029158549039998746, -1.029575837223082, 0.9314113396487392, 0.052769031942404745, 0.13338582615104563, 0.8154145282993461, 0.10710573411611993, 0.3373752330790277, -0.5195165045736313, 0.4427477157651256, 0.6133730181764102, 0.7512150936281655, -0.29974210812375635, 0.605387491159014, 0.449995135705989, 0.21758041876843912, 1.8620559687106546, -1.1183313706292377, 1.0529824703212414, -0.3854369014622324, 0.5553255899132032, -1.470004515987508, 1.4703361223721525, 2.6746366151907006, 0.9702882982673493, -0.9803198964664515, -0.2542258021756626, -1.1776697118204689, 0.3751877356390631, 0.14435315708568935, -0.10729659569820357, -1.8318945960270736, 0.41992730267581446, 1.2596641865449796, 1.10186947308976], \"xaxis\": \"x7\", \"y\": [0.6301674583573214, -1.561675696183232, 0.6365258247311377, -0.22324860617551084, -1.6736946321158042, -0.15927706452952708, 0.36989298593237285, 1.3085200046585113, 0.7159183818614192, 1.4170368007607066, -0.8484128249213295, 0.24290160075968745, 1.0795918353343301, -0.8157998727705896, -0.7184505150668109, -0.11568818097186227, -1.2901791636364424, 0.8400081678160328, -0.6676702261888512, -1.011257076667859, -0.6892287441692668, -0.23102459810075973, -0.21170064669943212, -0.20028233251560987, -1.078408181836114, 1.462130966067993, -0.17927997159447678, -0.13052020849949877, 0.4682168592110732, -1.5877343509461137, -0.6710951925528772, 0.05576752593607448, 0.5362381928866289, -0.34225661814037467, 0.581933321085821, 0.3947906536929084, 0.01940690313621235, -0.2163038164030735, -1.4955367906604886, 0.23791928037571633, -1.0977453084165723, 0.5335144230984808, 2.0993808494993873, -0.49490813917873455, 0.3941349794262045, -0.3772928341008689, 1.3048292635035965, -0.46672612038687655, -1.120489037175442, 1.9940005382078847, 0.20060951912701863, 0.57128240835606, 0.7145821222961338, 1.4105370810949298, 0.4049315688775944, 0.8458061881151208, -0.7609317914602187, -1.6481370061848084, -0.8873946431515575, -1.0683226547519797, -0.5316480238934537, 0.03361078302762433, -1.0363017034596884, 0.658821017661889, -1.0755800129807123, 0.9911979331699334, 0.5361321263657128, 0.988419798692416, -1.6384158410384904, -0.054614895140455734, -1.489486347353061, 1.0573670070827268, -0.005366874743519029, -1.5582928434235677, 1.3867439202182168, 0.27510525110981254, -0.0661353713844357, 0.4527693556244209, 0.39889118623618947, 1.3379470102985798, -0.9202241393884216, -0.7964312895565369, -0.6412882079248059, -0.7646490980947728, 0.7922507978202409, -0.24143865713923998, 0.6883199050793065, -0.44232087555933497, -0.46421476004079404, 0.14348851689963255, -0.8266849594361187, -0.1976183507463993, 1.1679312356869895, 0.5426240028902773, -0.2893004673286161, 0.6621600474085508, -1.2471603427386846, 1.0389478529243041, -0.048911234267454785, 0.2695699427674912], \"yaxis\": \"y7\"}, {\"line\": {\"color\": \"rgba(128, 128, 128, 1.0)\", \"dash\": \"solid\", \"shape\": \"linear\", \"width\": 1.3}, \"marker\": {\"size\": 2, \"symbol\": \"circle\"}, \"mode\": \"markers\", \"name\": \"B\", \"text\": \"\", \"type\": \"scatter\", \"x\": [2.050228155950427, -0.9590933400376149, -0.9022858940930771, -0.11245842772250299, -1.0379068828010054, 0.34119877607034343, 0.5667815384910767, -2.449915367431319, -0.6881195751990852, -0.4467084029103725, 0.27233802571608334, 0.9056722440606502, -2.4447262252508795, 0.0016958510905633656, 0.20714654897958837, -0.41331614803786604, 1.453483440745612, 0.6004098821605295, 0.5069983878181352, -0.4892238260046472, 0.30640967261840896, 1.6408154921615061, 0.6884152849973099, 0.13027743145046594, -0.36403729362953186, -0.5023434212713528, -0.5220640506021428, 0.11156329863109098, -0.06330919038657584, -0.05735058436595994, -0.4695934678133395, 0.8923475645817046, 0.8962584268478865, 0.10264098688007241, -1.0138199721942345, 0.03403677016801545, -1.2010673729625618, 0.19554483632945618, 0.78805709911097, 0.29019857295086493, -1.574182450906617, 1.0381859046735737, 0.8422589849955819, -2.3701248365015197, 1.0141153134288146, -2.2257729556872787, 0.21958637495155045, 0.8402614669134792, -2.4546019828650265, -0.4414196818536903, 1.0470366257844936, -0.291738407197531, 0.09930521623561693, 0.03280369665492429, 0.2228425094865553, -0.745494399913448, -1.1941154537874168, -0.0451813391166685, 0.8564239459664448, -0.6195190541176119, 0.4745602160619311, -0.6930746040422452, -1.3259836114544394, -0.015511187299125338, 0.2200495973166145, 2.8335206353490654, 0.2210756024053435, 0.1540311463037094, -1.5183911631483025, -2.232764001133131, -0.38035632475981773, -0.09141441406298612, -0.009350774221741225, -0.4530101873757683, 0.7063108905074421, -1.297568021769972, -0.02059585283770215, 0.6770796689310324, -0.49556153953140136, -2.090473213546201, 0.37212669067377463, 1.210290247335541, 0.488565871663984, 0.040795188878717185, -0.7574521159414243, 0.9636605831858774, 0.23073541530629288, -0.6483525230354428, 0.2090513911515964, 1.0233827275838547, -0.07074530883416033, 0.779362420122101, -1.1713821437481107, 1.6947331941675083, 1.0449557884171017, 0.7338766144330973, 2.715466510306024, -0.2811212457762603, -0.06702146929721933, -1.8332739731995036], \"xaxis\": \"x8\", \"y\": [0.6301674583573214, -1.561675696183232, 0.6365258247311377, -0.22324860617551084, -1.6736946321158042, -0.15927706452952708, 0.36989298593237285, 1.3085200046585113, 0.7159183818614192, 1.4170368007607066, -0.8484128249213295, 0.24290160075968745, 1.0795918353343301, -0.8157998727705896, -0.7184505150668109, -0.11568818097186227, -1.2901791636364424, 0.8400081678160328, -0.6676702261888512, -1.011257076667859, -0.6892287441692668, -0.23102459810075973, -0.21170064669943212, -0.20028233251560987, -1.078408181836114, 1.462130966067993, -0.17927997159447678, -0.13052020849949877, 0.4682168592110732, -1.5877343509461137, -0.6710951925528772, 0.05576752593607448, 0.5362381928866289, -0.34225661814037467, 0.581933321085821, 0.3947906536929084, 0.01940690313621235, -0.2163038164030735, -1.4955367906604886, 0.23791928037571633, -1.0977453084165723, 0.5335144230984808, 2.0993808494993873, -0.49490813917873455, 0.3941349794262045, -0.3772928341008689, 1.3048292635035965, -0.46672612038687655, -1.120489037175442, 1.9940005382078847, 0.20060951912701863, 0.57128240835606, 0.7145821222961338, 1.4105370810949298, 0.4049315688775944, 0.8458061881151208, -0.7609317914602187, -1.6481370061848084, -0.8873946431515575, -1.0683226547519797, -0.5316480238934537, 0.03361078302762433, -1.0363017034596884, 0.658821017661889, -1.0755800129807123, 0.9911979331699334, 0.5361321263657128, 0.988419798692416, -1.6384158410384904, -0.054614895140455734, -1.489486347353061, 1.0573670070827268, -0.005366874743519029, -1.5582928434235677, 1.3867439202182168, 0.27510525110981254, -0.0661353713844357, 0.4527693556244209, 0.39889118623618947, 1.3379470102985798, -0.9202241393884216, -0.7964312895565369, -0.6412882079248059, -0.7646490980947728, 0.7922507978202409, -0.24143865713923998, 0.6883199050793065, -0.44232087555933497, -0.46421476004079404, 0.14348851689963255, -0.8266849594361187, -0.1976183507463993, 1.1679312356869895, 0.5426240028902773, -0.2893004673286161, 0.6621600474085508, -1.2471603427386846, 1.0389478529243041, -0.048911234267454785, 0.2695699427674912], \"yaxis\": \"y8\"}, {\"line\": {\"color\": \"rgba(128, 128, 128, 1.0)\", \"dash\": \"solid\", \"shape\": \"linear\", \"width\": 1.3}, \"marker\": {\"size\": 2, \"symbol\": \"circle\"}, \"mode\": \"markers\", \"name\": \"C\", \"text\": \"\", \"type\": \"scatter\", \"x\": [0.5381855285673716, 0.5071020305201216, 0.4389237509487635, -0.6247998973105497, -0.32856245582140214, -0.5549132814916047, 0.5059612828729726, -3.197502476482795, -0.20387507115536785, 0.3459015762781, -0.2031519933742461, -1.4270667976720735, 0.12125644113873606, -0.041134446239839334, 0.09942498996999705, -0.6716409332021634, 0.8054591919418969, 1.6284504463712235, -1.0686571236688256, -0.6820570283090134, 1.0601779267043576, -0.8874271184205513, -0.23584503326298303, -1.3723947795930347, -0.5272892633343157, -0.6442561046802101, -1.2512104607334211, -0.09174351149493501, 0.9306815990203132, -0.467294899249402, 0.018392476702123038, -1.700457788639387, -0.26741137780144897, -0.7421803421304896, -0.14671882870501557, -1.6275386920455386, -0.45338390016622215, -2.0071863672670602, 0.1963189215463607, -1.4777986997953716, -2.1576217433969695, -0.7856668199645755, -1.2338432754092326, 1.399825272513358, -1.0091689439017615, 0.09028738823377347, -1.5408250419456964, 0.0990984258625075, -0.4343856232182664, -1.537700800793354, -0.072884287636136, -1.0730149201477526, 1.8456685132367332, 0.7476570177073996, -1.0485473399110965, -0.6900292790057106, -0.2208261440483984, 0.2686957612752167, -0.22816861670514565, 0.7311199936618888, 0.41812057329918606, 1.0887363338922411, -0.3964498621702017, 0.47286766096396265, -0.6027452918287854, 0.7025165133369287, 1.4569049926648543, 0.9999577792691502, -1.2811979563182043, 2.0804623137829674, 1.539255595278702, 0.4440631488297732, -1.5619867791736421, -0.31583137533287053, 0.3250311620824069, -0.4222090529096985, 1.7248048718981919, 0.5322881033597029, -0.3313064131205352, -1.2259399680760918, -0.6630691986600332, 0.043184530012049985, 1.5981295317194895, -1.3508876092805546, 1.0726560999357118, 0.3672953794565466, -0.4116672934579571, 0.47793618707943125, -1.0741938940368256, -0.7194551581808123, 0.9656653652456971, -0.1998839148187243, 1.1064616751011012, -0.3642037624025107, 0.8254311216681306, 0.7851611444731269, -0.8309895524553557, 0.44985792521595347, 1.695413609917251, -0.15895796721118688], \"xaxis\": \"x9\", \"y\": [0.14506602511110148, -1.5350919477293514, -1.0564402955132137, -0.05366494973768762, -0.23532988259206, -0.06376402718449821, -0.3875871855539246, 0.8889575112108654, -0.13230820292205872, -2.0768634529698575, 0.8542654948565908, 1.2591016290832808, 0.055577214025398176, -1.5765266719500757, -0.07478080507591517, 0.2986412469044207, -1.3865605376242653, -0.016753943949769947, 1.536663931660215, -0.6478224006291703, -0.16944154867726552, -1.1912068331424026, -0.25680339372019473, 0.4328630823987023, 0.2722018160160951, -1.8520769036337186, -0.6375092932830504, -0.7955321290045767, -0.2148903750252082, 0.5512614435268286, -0.4945659313053846, 0.08927834189774887, -0.6555629714503787, -0.034297214996859844, 1.3660523369049575, -0.2817361408288066, 1.0632680641405627, 0.28519020076291474, 0.9352797650105166, 0.48464803701997045, -1.4955528878230095, 0.8348329474048144, 0.9399305899605457, -1.3110079910772554, 1.493664781975507, 1.2378021641540384, -0.21476879517302902, -0.8684227613476898, 2.379866832779196, 0.6762504445379166, 0.8153938463135066, -0.1874834666679136, -2.025887068164461, -0.23134055717521698, 0.07379616021762368, -0.6801295155135376, 2.723554612014531, -0.4166641061429242, -1.3711175028185112, -2.359727194601706, 0.484914994727327, 1.524158497592488, 0.47027700405519596, 1.4867724397113453, 0.886753300712882, 0.029158549039998746, -1.029575837223082, 0.9314113396487392, 0.052769031942404745, 0.13338582615104563, 0.8154145282993461, 0.10710573411611993, 0.3373752330790277, -0.5195165045736313, 0.4427477157651256, 0.6133730181764102, 0.7512150936281655, -0.29974210812375635, 0.605387491159014, 0.449995135705989, 0.21758041876843912, 1.8620559687106546, -1.1183313706292377, 1.0529824703212414, -0.3854369014622324, 0.5553255899132032, -1.470004515987508, 1.4703361223721525, 2.6746366151907006, 0.9702882982673493, -0.9803198964664515, -0.2542258021756626, -1.1776697118204689, 0.3751877356390631, 0.14435315708568935, -0.10729659569820357, -1.8318945960270736, 0.41992730267581446, 1.2596641865449796, 1.10186947308976], \"yaxis\": \"y9\"}, {\"line\": {\"color\": \"rgba(128, 128, 128, 1.0)\", \"dash\": \"solid\", \"shape\": \"linear\", \"width\": 1.3}, \"marker\": {\"size\": 2, \"symbol\": \"circle\"}, \"mode\": \"markers\", \"name\": \"C\", \"text\": \"\", \"type\": \"scatter\", \"x\": [0.6301674583573214, -1.561675696183232, 0.6365258247311377, -0.22324860617551084, -1.6736946321158042, -0.15927706452952708, 0.36989298593237285, 1.3085200046585113, 0.7159183818614192, 1.4170368007607066, -0.8484128249213295, 0.24290160075968745, 1.0795918353343301, -0.8157998727705896, -0.7184505150668109, -0.11568818097186227, -1.2901791636364424, 0.8400081678160328, -0.6676702261888512, -1.011257076667859, -0.6892287441692668, -0.23102459810075973, -0.21170064669943212, -0.20028233251560987, -1.078408181836114, 1.462130966067993, -0.17927997159447678, -0.13052020849949877, 0.4682168592110732, -1.5877343509461137, -0.6710951925528772, 0.05576752593607448, 0.5362381928866289, -0.34225661814037467, 0.581933321085821, 0.3947906536929084, 0.01940690313621235, -0.2163038164030735, -1.4955367906604886, 0.23791928037571633, -1.0977453084165723, 0.5335144230984808, 2.0993808494993873, -0.49490813917873455, 0.3941349794262045, -0.3772928341008689, 1.3048292635035965, -0.46672612038687655, -1.120489037175442, 1.9940005382078847, 0.20060951912701863, 0.57128240835606, 0.7145821222961338, 1.4105370810949298, 0.4049315688775944, 0.8458061881151208, -0.7609317914602187, -1.6481370061848084, -0.8873946431515575, -1.0683226547519797, -0.5316480238934537, 0.03361078302762433, -1.0363017034596884, 0.658821017661889, -1.0755800129807123, 0.9911979331699334, 0.5361321263657128, 0.988419798692416, -1.6384158410384904, -0.054614895140455734, -1.489486347353061, 1.0573670070827268, -0.005366874743519029, -1.5582928434235677, 1.3867439202182168, 0.27510525110981254, -0.0661353713844357, 0.4527693556244209, 0.39889118623618947, 1.3379470102985798, -0.9202241393884216, -0.7964312895565369, -0.6412882079248059, -0.7646490980947728, 0.7922507978202409, -0.24143865713923998, 0.6883199050793065, -0.44232087555933497, -0.46421476004079404, 0.14348851689963255, -0.8266849594361187, -0.1976183507463993, 1.1679312356869895, 0.5426240028902773, -0.2893004673286161, 0.6621600474085508, -1.2471603427386846, 1.0389478529243041, -0.048911234267454785, 0.2695699427674912], \"xaxis\": \"x10\", \"y\": [0.14506602511110148, -1.5350919477293514, -1.0564402955132137, -0.05366494973768762, -0.23532988259206, -0.06376402718449821, -0.3875871855539246, 0.8889575112108654, -0.13230820292205872, -2.0768634529698575, 0.8542654948565908, 1.2591016290832808, 0.055577214025398176, -1.5765266719500757, -0.07478080507591517, 0.2986412469044207, -1.3865605376242653, -0.016753943949769947, 1.536663931660215, -0.6478224006291703, -0.16944154867726552, -1.1912068331424026, -0.25680339372019473, 0.4328630823987023, 0.2722018160160951, -1.8520769036337186, -0.6375092932830504, -0.7955321290045767, -0.2148903750252082, 0.5512614435268286, -0.4945659313053846, 0.08927834189774887, -0.6555629714503787, -0.034297214996859844, 1.3660523369049575, -0.2817361408288066, 1.0632680641405627, 0.28519020076291474, 0.9352797650105166, 0.48464803701997045, -1.4955528878230095, 0.8348329474048144, 0.9399305899605457, -1.3110079910772554, 1.493664781975507, 1.2378021641540384, -0.21476879517302902, -0.8684227613476898, 2.379866832779196, 0.6762504445379166, 0.8153938463135066, -0.1874834666679136, -2.025887068164461, -0.23134055717521698, 0.07379616021762368, -0.6801295155135376, 2.723554612014531, -0.4166641061429242, -1.3711175028185112, -2.359727194601706, 0.484914994727327, 1.524158497592488, 0.47027700405519596, 1.4867724397113453, 0.886753300712882, 0.029158549039998746, -1.029575837223082, 0.9314113396487392, 0.052769031942404745, 0.13338582615104563, 0.8154145282993461, 0.10710573411611993, 0.3373752330790277, -0.5195165045736313, 0.4427477157651256, 0.6133730181764102, 0.7512150936281655, -0.29974210812375635, 0.605387491159014, 0.449995135705989, 0.21758041876843912, 1.8620559687106546, -1.1183313706292377, 1.0529824703212414, -0.3854369014622324, 0.5553255899132032, -1.470004515987508, 1.4703361223721525, 2.6746366151907006, 0.9702882982673493, -0.9803198964664515, -0.2542258021756626, -1.1776697118204689, 0.3751877356390631, 0.14435315708568935, -0.10729659569820357, -1.8318945960270736, 0.41992730267581446, 1.2596641865449796, 1.10186947308976], \"yaxis\": \"y10\"}, {\"histfunc\": \"count\", \"histnorm\": \"\", \"marker\": {\"color\": \"rgba(50, 171, 96, 1.0)\", \"line\": {\"color\": \"#4D5663\", \"width\": 1.3}}, \"name\": \"C\", \"nbinsx\": 10, \"opacity\": 0.8, \"orientation\": \"v\", \"type\": \"histogram\", \"x\": [0.14506602511110148, -1.5350919477293514, -1.0564402955132137, -0.05366494973768762, -0.23532988259206, -0.06376402718449821, -0.3875871855539246, 0.8889575112108654, -0.13230820292205872, -2.0768634529698575, 0.8542654948565908, 1.2591016290832808, 0.055577214025398176, -1.5765266719500757, -0.07478080507591517, 0.2986412469044207, -1.3865605376242653, -0.016753943949769947, 1.536663931660215, -0.6478224006291703, -0.16944154867726552, -1.1912068331424026, -0.25680339372019473, 0.4328630823987023, 0.2722018160160951, -1.8520769036337186, -0.6375092932830504, -0.7955321290045767, -0.2148903750252082, 0.5512614435268286, -0.4945659313053846, 0.08927834189774887, -0.6555629714503787, -0.034297214996859844, 1.3660523369049575, -0.2817361408288066, 1.0632680641405627, 0.28519020076291474, 0.9352797650105166, 0.48464803701997045, -1.4955528878230095, 0.8348329474048144, 0.9399305899605457, -1.3110079910772554, 1.493664781975507, 1.2378021641540384, -0.21476879517302902, -0.8684227613476898, 2.379866832779196, 0.6762504445379166, 0.8153938463135066, -0.1874834666679136, -2.025887068164461, -0.23134055717521698, 0.07379616021762368, -0.6801295155135376, 2.723554612014531, -0.4166641061429242, -1.3711175028185112, -2.359727194601706, 0.484914994727327, 1.524158497592488, 0.47027700405519596, 1.4867724397113453, 0.886753300712882, 0.029158549039998746, -1.029575837223082, 0.9314113396487392, 0.052769031942404745, 0.13338582615104563, 0.8154145282993461, 0.10710573411611993, 0.3373752330790277, -0.5195165045736313, 0.4427477157651256, 0.6133730181764102, 0.7512150936281655, -0.29974210812375635, 0.605387491159014, 0.449995135705989, 0.21758041876843912, 1.8620559687106546, -1.1183313706292377, 1.0529824703212414, -0.3854369014622324, 0.5553255899132032, -1.470004515987508, 1.4703361223721525, 2.6746366151907006, 0.9702882982673493, -0.9803198964664515, -0.2542258021756626, -1.1776697118204689, 0.3751877356390631, 0.14435315708568935, -0.10729659569820357, -1.8318945960270736, 0.41992730267581446, 1.2596641865449796, 1.10186947308976], \"xaxis\": \"x11\", \"yaxis\": \"y11\"}, {\"line\": {\"color\": \"rgba(128, 128, 128, 1.0)\", \"dash\": \"solid\", \"shape\": \"linear\", \"width\": 1.3}, \"marker\": {\"size\": 2, \"symbol\": \"circle\"}, \"mode\": \"markers\", \"name\": \"C\", \"text\": \"\", \"type\": \"scatter\", \"x\": [2.050228155950427, -0.9590933400376149, -0.9022858940930771, -0.11245842772250299, -1.0379068828010054, 0.34119877607034343, 0.5667815384910767, -2.449915367431319, -0.6881195751990852, -0.4467084029103725, 0.27233802571608334, 0.9056722440606502, -2.4447262252508795, 0.0016958510905633656, 0.20714654897958837, -0.41331614803786604, 1.453483440745612, 0.6004098821605295, 0.5069983878181352, -0.4892238260046472, 0.30640967261840896, 1.6408154921615061, 0.6884152849973099, 0.13027743145046594, -0.36403729362953186, -0.5023434212713528, -0.5220640506021428, 0.11156329863109098, -0.06330919038657584, -0.05735058436595994, -0.4695934678133395, 0.8923475645817046, 0.8962584268478865, 0.10264098688007241, -1.0138199721942345, 0.03403677016801545, -1.2010673729625618, 0.19554483632945618, 0.78805709911097, 0.29019857295086493, -1.574182450906617, 1.0381859046735737, 0.8422589849955819, -2.3701248365015197, 1.0141153134288146, -2.2257729556872787, 0.21958637495155045, 0.8402614669134792, -2.4546019828650265, -0.4414196818536903, 1.0470366257844936, -0.291738407197531, 0.09930521623561693, 0.03280369665492429, 0.2228425094865553, -0.745494399913448, -1.1941154537874168, -0.0451813391166685, 0.8564239459664448, -0.6195190541176119, 0.4745602160619311, -0.6930746040422452, -1.3259836114544394, -0.015511187299125338, 0.2200495973166145, 2.8335206353490654, 0.2210756024053435, 0.1540311463037094, -1.5183911631483025, -2.232764001133131, -0.38035632475981773, -0.09141441406298612, -0.009350774221741225, -0.4530101873757683, 0.7063108905074421, -1.297568021769972, -0.02059585283770215, 0.6770796689310324, -0.49556153953140136, -2.090473213546201, 0.37212669067377463, 1.210290247335541, 0.488565871663984, 0.040795188878717185, -0.7574521159414243, 0.9636605831858774, 0.23073541530629288, -0.6483525230354428, 0.2090513911515964, 1.0233827275838547, -0.07074530883416033, 0.779362420122101, -1.1713821437481107, 1.6947331941675083, 1.0449557884171017, 0.7338766144330973, 2.715466510306024, -0.2811212457762603, -0.06702146929721933, -1.8332739731995036], \"xaxis\": \"x12\", \"y\": [0.14506602511110148, -1.5350919477293514, -1.0564402955132137, -0.05366494973768762, -0.23532988259206, -0.06376402718449821, -0.3875871855539246, 0.8889575112108654, -0.13230820292205872, -2.0768634529698575, 0.8542654948565908, 1.2591016290832808, 0.055577214025398176, -1.5765266719500757, -0.07478080507591517, 0.2986412469044207, -1.3865605376242653, -0.016753943949769947, 1.536663931660215, -0.6478224006291703, -0.16944154867726552, -1.1912068331424026, -0.25680339372019473, 0.4328630823987023, 0.2722018160160951, -1.8520769036337186, -0.6375092932830504, -0.7955321290045767, -0.2148903750252082, 0.5512614435268286, -0.4945659313053846, 0.08927834189774887, -0.6555629714503787, -0.034297214996859844, 1.3660523369049575, -0.2817361408288066, 1.0632680641405627, 0.28519020076291474, 0.9352797650105166, 0.48464803701997045, -1.4955528878230095, 0.8348329474048144, 0.9399305899605457, -1.3110079910772554, 1.493664781975507, 1.2378021641540384, -0.21476879517302902, -0.8684227613476898, 2.379866832779196, 0.6762504445379166, 0.8153938463135066, -0.1874834666679136, -2.025887068164461, -0.23134055717521698, 0.07379616021762368, -0.6801295155135376, 2.723554612014531, -0.4166641061429242, -1.3711175028185112, -2.359727194601706, 0.484914994727327, 1.524158497592488, 0.47027700405519596, 1.4867724397113453, 0.886753300712882, 0.029158549039998746, -1.029575837223082, 0.9314113396487392, 0.052769031942404745, 0.13338582615104563, 0.8154145282993461, 0.10710573411611993, 0.3373752330790277, -0.5195165045736313, 0.4427477157651256, 0.6133730181764102, 0.7512150936281655, -0.29974210812375635, 0.605387491159014, 0.449995135705989, 0.21758041876843912, 1.8620559687106546, -1.1183313706292377, 1.0529824703212414, -0.3854369014622324, 0.5553255899132032, -1.470004515987508, 1.4703361223721525, 2.6746366151907006, 0.9702882982673493, -0.9803198964664515, -0.2542258021756626, -1.1776697118204689, 0.3751877356390631, 0.14435315708568935, -0.10729659569820357, -1.8318945960270736, 0.41992730267581446, 1.2596641865449796, 1.10186947308976], \"yaxis\": \"y12\"}, {\"line\": {\"color\": \"rgba(128, 128, 128, 1.0)\", \"dash\": \"solid\", \"shape\": \"linear\", \"width\": 1.3}, \"marker\": {\"size\": 2, \"symbol\": \"circle\"}, \"mode\": \"markers\", \"name\": \"D\", \"text\": \"\", \"type\": \"scatter\", \"x\": [0.5381855285673716, 0.5071020305201216, 0.4389237509487635, -0.6247998973105497, -0.32856245582140214, -0.5549132814916047, 0.5059612828729726, -3.197502476482795, -0.20387507115536785, 0.3459015762781, -0.2031519933742461, -1.4270667976720735, 0.12125644113873606, -0.041134446239839334, 0.09942498996999705, -0.6716409332021634, 0.8054591919418969, 1.6284504463712235, -1.0686571236688256, -0.6820570283090134, 1.0601779267043576, -0.8874271184205513, -0.23584503326298303, -1.3723947795930347, -0.5272892633343157, -0.6442561046802101, -1.2512104607334211, -0.09174351149493501, 0.9306815990203132, -0.467294899249402, 0.018392476702123038, -1.700457788639387, -0.26741137780144897, -0.7421803421304896, -0.14671882870501557, -1.6275386920455386, -0.45338390016622215, -2.0071863672670602, 0.1963189215463607, -1.4777986997953716, -2.1576217433969695, -0.7856668199645755, -1.2338432754092326, 1.399825272513358, -1.0091689439017615, 0.09028738823377347, -1.5408250419456964, 0.0990984258625075, -0.4343856232182664, -1.537700800793354, -0.072884287636136, -1.0730149201477526, 1.8456685132367332, 0.7476570177073996, -1.0485473399110965, -0.6900292790057106, -0.2208261440483984, 0.2686957612752167, -0.22816861670514565, 0.7311199936618888, 0.41812057329918606, 1.0887363338922411, -0.3964498621702017, 0.47286766096396265, -0.6027452918287854, 0.7025165133369287, 1.4569049926648543, 0.9999577792691502, -1.2811979563182043, 2.0804623137829674, 1.539255595278702, 0.4440631488297732, -1.5619867791736421, -0.31583137533287053, 0.3250311620824069, -0.4222090529096985, 1.7248048718981919, 0.5322881033597029, -0.3313064131205352, -1.2259399680760918, -0.6630691986600332, 0.043184530012049985, 1.5981295317194895, -1.3508876092805546, 1.0726560999357118, 0.3672953794565466, -0.4116672934579571, 0.47793618707943125, -1.0741938940368256, -0.7194551581808123, 0.9656653652456971, -0.1998839148187243, 1.1064616751011012, -0.3642037624025107, 0.8254311216681306, 0.7851611444731269, -0.8309895524553557, 0.44985792521595347, 1.695413609917251, -0.15895796721118688], \"xaxis\": \"x13\", \"y\": [2.050228155950427, -0.9590933400376149, -0.9022858940930771, -0.11245842772250299, -1.0379068828010054, 0.34119877607034343, 0.5667815384910767, -2.449915367431319, -0.6881195751990852, -0.4467084029103725, 0.27233802571608334, 0.9056722440606502, -2.4447262252508795, 0.0016958510905633656, 0.20714654897958837, -0.41331614803786604, 1.453483440745612, 0.6004098821605295, 0.5069983878181352, -0.4892238260046472, 0.30640967261840896, 1.6408154921615061, 0.6884152849973099, 0.13027743145046594, -0.36403729362953186, -0.5023434212713528, -0.5220640506021428, 0.11156329863109098, -0.06330919038657584, -0.05735058436595994, -0.4695934678133395, 0.8923475645817046, 0.8962584268478865, 0.10264098688007241, -1.0138199721942345, 0.03403677016801545, -1.2010673729625618, 0.19554483632945618, 0.78805709911097, 0.29019857295086493, -1.574182450906617, 1.0381859046735737, 0.8422589849955819, -2.3701248365015197, 1.0141153134288146, -2.2257729556872787, 0.21958637495155045, 0.8402614669134792, -2.4546019828650265, -0.4414196818536903, 1.0470366257844936, -0.291738407197531, 0.09930521623561693, 0.03280369665492429, 0.2228425094865553, -0.745494399913448, -1.1941154537874168, -0.0451813391166685, 0.8564239459664448, -0.6195190541176119, 0.4745602160619311, -0.6930746040422452, -1.3259836114544394, -0.015511187299125338, 0.2200495973166145, 2.8335206353490654, 0.2210756024053435, 0.1540311463037094, -1.5183911631483025, -2.232764001133131, -0.38035632475981773, -0.09141441406298612, -0.009350774221741225, -0.4530101873757683, 0.7063108905074421, -1.297568021769972, -0.02059585283770215, 0.6770796689310324, -0.49556153953140136, -2.090473213546201, 0.37212669067377463, 1.210290247335541, 0.488565871663984, 0.040795188878717185, -0.7574521159414243, 0.9636605831858774, 0.23073541530629288, -0.6483525230354428, 0.2090513911515964, 1.0233827275838547, -0.07074530883416033, 0.779362420122101, -1.1713821437481107, 1.6947331941675083, 1.0449557884171017, 0.7338766144330973, 2.715466510306024, -0.2811212457762603, -0.06702146929721933, -1.8332739731995036], \"yaxis\": \"y13\"}, {\"line\": {\"color\": \"rgba(128, 128, 128, 1.0)\", \"dash\": \"solid\", \"shape\": \"linear\", \"width\": 1.3}, \"marker\": {\"size\": 2, \"symbol\": \"circle\"}, \"mode\": \"markers\", \"name\": \"D\", \"text\": \"\", \"type\": \"scatter\", \"x\": [0.6301674583573214, -1.561675696183232, 0.6365258247311377, -0.22324860617551084, -1.6736946321158042, -0.15927706452952708, 0.36989298593237285, 1.3085200046585113, 0.7159183818614192, 1.4170368007607066, -0.8484128249213295, 0.24290160075968745, 1.0795918353343301, -0.8157998727705896, -0.7184505150668109, -0.11568818097186227, -1.2901791636364424, 0.8400081678160328, -0.6676702261888512, -1.011257076667859, -0.6892287441692668, -0.23102459810075973, -0.21170064669943212, -0.20028233251560987, -1.078408181836114, 1.462130966067993, -0.17927997159447678, -0.13052020849949877, 0.4682168592110732, -1.5877343509461137, -0.6710951925528772, 0.05576752593607448, 0.5362381928866289, -0.34225661814037467, 0.581933321085821, 0.3947906536929084, 0.01940690313621235, -0.2163038164030735, -1.4955367906604886, 0.23791928037571633, -1.0977453084165723, 0.5335144230984808, 2.0993808494993873, -0.49490813917873455, 0.3941349794262045, -0.3772928341008689, 1.3048292635035965, -0.46672612038687655, -1.120489037175442, 1.9940005382078847, 0.20060951912701863, 0.57128240835606, 0.7145821222961338, 1.4105370810949298, 0.4049315688775944, 0.8458061881151208, -0.7609317914602187, -1.6481370061848084, -0.8873946431515575, -1.0683226547519797, -0.5316480238934537, 0.03361078302762433, -1.0363017034596884, 0.658821017661889, -1.0755800129807123, 0.9911979331699334, 0.5361321263657128, 0.988419798692416, -1.6384158410384904, -0.054614895140455734, -1.489486347353061, 1.0573670070827268, -0.005366874743519029, -1.5582928434235677, 1.3867439202182168, 0.27510525110981254, -0.0661353713844357, 0.4527693556244209, 0.39889118623618947, 1.3379470102985798, -0.9202241393884216, -0.7964312895565369, -0.6412882079248059, -0.7646490980947728, 0.7922507978202409, -0.24143865713923998, 0.6883199050793065, -0.44232087555933497, -0.46421476004079404, 0.14348851689963255, -0.8266849594361187, -0.1976183507463993, 1.1679312356869895, 0.5426240028902773, -0.2893004673286161, 0.6621600474085508, -1.2471603427386846, 1.0389478529243041, -0.048911234267454785, 0.2695699427674912], \"xaxis\": \"x14\", \"y\": [2.050228155950427, -0.9590933400376149, -0.9022858940930771, -0.11245842772250299, -1.0379068828010054, 0.34119877607034343, 0.5667815384910767, -2.449915367431319, -0.6881195751990852, -0.4467084029103725, 0.27233802571608334, 0.9056722440606502, -2.4447262252508795, 0.0016958510905633656, 0.20714654897958837, -0.41331614803786604, 1.453483440745612, 0.6004098821605295, 0.5069983878181352, -0.4892238260046472, 0.30640967261840896, 1.6408154921615061, 0.6884152849973099, 0.13027743145046594, -0.36403729362953186, -0.5023434212713528, -0.5220640506021428, 0.11156329863109098, -0.06330919038657584, -0.05735058436595994, -0.4695934678133395, 0.8923475645817046, 0.8962584268478865, 0.10264098688007241, -1.0138199721942345, 0.03403677016801545, -1.2010673729625618, 0.19554483632945618, 0.78805709911097, 0.29019857295086493, -1.574182450906617, 1.0381859046735737, 0.8422589849955819, -2.3701248365015197, 1.0141153134288146, -2.2257729556872787, 0.21958637495155045, 0.8402614669134792, -2.4546019828650265, -0.4414196818536903, 1.0470366257844936, -0.291738407197531, 0.09930521623561693, 0.03280369665492429, 0.2228425094865553, -0.745494399913448, -1.1941154537874168, -0.0451813391166685, 0.8564239459664448, -0.6195190541176119, 0.4745602160619311, -0.6930746040422452, -1.3259836114544394, -0.015511187299125338, 0.2200495973166145, 2.8335206353490654, 0.2210756024053435, 0.1540311463037094, -1.5183911631483025, -2.232764001133131, -0.38035632475981773, -0.09141441406298612, -0.009350774221741225, -0.4530101873757683, 0.7063108905074421, -1.297568021769972, -0.02059585283770215, 0.6770796689310324, -0.49556153953140136, -2.090473213546201, 0.37212669067377463, 1.210290247335541, 0.488565871663984, 0.040795188878717185, -0.7574521159414243, 0.9636605831858774, 0.23073541530629288, -0.6483525230354428, 0.2090513911515964, 1.0233827275838547, -0.07074530883416033, 0.779362420122101, -1.1713821437481107, 1.6947331941675083, 1.0449557884171017, 0.7338766144330973, 2.715466510306024, -0.2811212457762603, -0.06702146929721933, -1.8332739731995036], \"yaxis\": \"y14\"}, {\"line\": {\"color\": \"rgba(128, 128, 128, 1.0)\", \"dash\": \"solid\", \"shape\": \"linear\", \"width\": 1.3}, \"marker\": {\"size\": 2, \"symbol\": \"circle\"}, \"mode\": \"markers\", \"name\": \"D\", \"text\": \"\", \"type\": \"scatter\", \"x\": [0.14506602511110148, -1.5350919477293514, -1.0564402955132137, -0.05366494973768762, -0.23532988259206, -0.06376402718449821, -0.3875871855539246, 0.8889575112108654, -0.13230820292205872, -2.0768634529698575, 0.8542654948565908, 1.2591016290832808, 0.055577214025398176, -1.5765266719500757, -0.07478080507591517, 0.2986412469044207, -1.3865605376242653, -0.016753943949769947, 1.536663931660215, -0.6478224006291703, -0.16944154867726552, -1.1912068331424026, -0.25680339372019473, 0.4328630823987023, 0.2722018160160951, -1.8520769036337186, -0.6375092932830504, -0.7955321290045767, -0.2148903750252082, 0.5512614435268286, -0.4945659313053846, 0.08927834189774887, -0.6555629714503787, -0.034297214996859844, 1.3660523369049575, -0.2817361408288066, 1.0632680641405627, 0.28519020076291474, 0.9352797650105166, 0.48464803701997045, -1.4955528878230095, 0.8348329474048144, 0.9399305899605457, -1.3110079910772554, 1.493664781975507, 1.2378021641540384, -0.21476879517302902, -0.8684227613476898, 2.379866832779196, 0.6762504445379166, 0.8153938463135066, -0.1874834666679136, -2.025887068164461, -0.23134055717521698, 0.07379616021762368, -0.6801295155135376, 2.723554612014531, -0.4166641061429242, -1.3711175028185112, -2.359727194601706, 0.484914994727327, 1.524158497592488, 0.47027700405519596, 1.4867724397113453, 0.886753300712882, 0.029158549039998746, -1.029575837223082, 0.9314113396487392, 0.052769031942404745, 0.13338582615104563, 0.8154145282993461, 0.10710573411611993, 0.3373752330790277, -0.5195165045736313, 0.4427477157651256, 0.6133730181764102, 0.7512150936281655, -0.29974210812375635, 0.605387491159014, 0.449995135705989, 0.21758041876843912, 1.8620559687106546, -1.1183313706292377, 1.0529824703212414, -0.3854369014622324, 0.5553255899132032, -1.470004515987508, 1.4703361223721525, 2.6746366151907006, 0.9702882982673493, -0.9803198964664515, -0.2542258021756626, -1.1776697118204689, 0.3751877356390631, 0.14435315708568935, -0.10729659569820357, -1.8318945960270736, 0.41992730267581446, 1.2596641865449796, 1.10186947308976], \"xaxis\": \"x15\", \"y\": [2.050228155950427, -0.9590933400376149, -0.9022858940930771, -0.11245842772250299, -1.0379068828010054, 0.34119877607034343, 0.5667815384910767, -2.449915367431319, -0.6881195751990852, -0.4467084029103725, 0.27233802571608334, 0.9056722440606502, -2.4447262252508795, 0.0016958510905633656, 0.20714654897958837, -0.41331614803786604, 1.453483440745612, 0.6004098821605295, 0.5069983878181352, -0.4892238260046472, 0.30640967261840896, 1.6408154921615061, 0.6884152849973099, 0.13027743145046594, -0.36403729362953186, -0.5023434212713528, -0.5220640506021428, 0.11156329863109098, -0.06330919038657584, -0.05735058436595994, -0.4695934678133395, 0.8923475645817046, 0.8962584268478865, 0.10264098688007241, -1.0138199721942345, 0.03403677016801545, -1.2010673729625618, 0.19554483632945618, 0.78805709911097, 0.29019857295086493, -1.574182450906617, 1.0381859046735737, 0.8422589849955819, -2.3701248365015197, 1.0141153134288146, -2.2257729556872787, 0.21958637495155045, 0.8402614669134792, -2.4546019828650265, -0.4414196818536903, 1.0470366257844936, -0.291738407197531, 0.09930521623561693, 0.03280369665492429, 0.2228425094865553, -0.745494399913448, -1.1941154537874168, -0.0451813391166685, 0.8564239459664448, -0.6195190541176119, 0.4745602160619311, -0.6930746040422452, -1.3259836114544394, -0.015511187299125338, 0.2200495973166145, 2.8335206353490654, 0.2210756024053435, 0.1540311463037094, -1.5183911631483025, -2.232764001133131, -0.38035632475981773, -0.09141441406298612, -0.009350774221741225, -0.4530101873757683, 0.7063108905074421, -1.297568021769972, -0.02059585283770215, 0.6770796689310324, -0.49556153953140136, -2.090473213546201, 0.37212669067377463, 1.210290247335541, 0.488565871663984, 0.040795188878717185, -0.7574521159414243, 0.9636605831858774, 0.23073541530629288, -0.6483525230354428, 0.2090513911515964, 1.0233827275838547, -0.07074530883416033, 0.779362420122101, -1.1713821437481107, 1.6947331941675083, 1.0449557884171017, 0.7338766144330973, 2.715466510306024, -0.2811212457762603, -0.06702146929721933, -1.8332739731995036], \"yaxis\": \"y15\"}, {\"histfunc\": \"count\", \"histnorm\": \"\", \"marker\": {\"color\": \"rgba(128, 0, 128, 1.0)\", \"line\": {\"color\": \"#4D5663\", \"width\": 1.3}}, \"name\": \"D\", \"nbinsx\": 10, \"opacity\": 0.8, \"orientation\": \"v\", \"type\": \"histogram\", \"x\": [2.050228155950427, -0.9590933400376149, -0.9022858940930771, -0.11245842772250299, -1.0379068828010054, 0.34119877607034343, 0.5667815384910767, -2.449915367431319, -0.6881195751990852, -0.4467084029103725, 0.27233802571608334, 0.9056722440606502, -2.4447262252508795, 0.0016958510905633656, 0.20714654897958837, -0.41331614803786604, 1.453483440745612, 0.6004098821605295, 0.5069983878181352, -0.4892238260046472, 0.30640967261840896, 1.6408154921615061, 0.6884152849973099, 0.13027743145046594, -0.36403729362953186, -0.5023434212713528, -0.5220640506021428, 0.11156329863109098, -0.06330919038657584, -0.05735058436595994, -0.4695934678133395, 0.8923475645817046, 0.8962584268478865, 0.10264098688007241, -1.0138199721942345, 0.03403677016801545, -1.2010673729625618, 0.19554483632945618, 0.78805709911097, 0.29019857295086493, -1.574182450906617, 1.0381859046735737, 0.8422589849955819, -2.3701248365015197, 1.0141153134288146, -2.2257729556872787, 0.21958637495155045, 0.8402614669134792, -2.4546019828650265, -0.4414196818536903, 1.0470366257844936, -0.291738407197531, 0.09930521623561693, 0.03280369665492429, 0.2228425094865553, -0.745494399913448, -1.1941154537874168, -0.0451813391166685, 0.8564239459664448, -0.6195190541176119, 0.4745602160619311, -0.6930746040422452, -1.3259836114544394, -0.015511187299125338, 0.2200495973166145, 2.8335206353490654, 0.2210756024053435, 0.1540311463037094, -1.5183911631483025, -2.232764001133131, -0.38035632475981773, -0.09141441406298612, -0.009350774221741225, -0.4530101873757683, 0.7063108905074421, -1.297568021769972, -0.02059585283770215, 0.6770796689310324, -0.49556153953140136, -2.090473213546201, 0.37212669067377463, 1.210290247335541, 0.488565871663984, 0.040795188878717185, -0.7574521159414243, 0.9636605831858774, 0.23073541530629288, -0.6483525230354428, 0.2090513911515964, 1.0233827275838547, -0.07074530883416033, 0.779362420122101, -1.1713821437481107, 1.6947331941675083, 1.0449557884171017, 0.7338766144330973, 2.715466510306024, -0.2811212457762603, -0.06702146929721933, -1.8332739731995036], \"xaxis\": \"x16\", \"yaxis\": \"y16\"}],\n",
       "                        {\"bargap\": 0.02, \"legend\": {\"bgcolor\": \"#F5F6F9\", \"font\": {\"color\": \"#4D5663\"}}, \"paper_bgcolor\": \"#F5F6F9\", \"plot_bgcolor\": \"#F5F6F9\", \"showlegend\": false, \"template\": {\"data\": {\"bar\": [{\"error_x\": {\"color\": \"#2a3f5f\"}, \"error_y\": {\"color\": \"#2a3f5f\"}, \"marker\": {\"line\": {\"color\": \"#E5ECF6\", \"width\": 0.5}}, \"type\": \"bar\"}], \"barpolar\": [{\"marker\": {\"line\": {\"color\": \"#E5ECF6\", \"width\": 0.5}}, \"type\": \"barpolar\"}], \"carpet\": [{\"aaxis\": {\"endlinecolor\": \"#2a3f5f\", \"gridcolor\": \"white\", \"linecolor\": \"white\", \"minorgridcolor\": \"white\", \"startlinecolor\": \"#2a3f5f\"}, \"baxis\": {\"endlinecolor\": \"#2a3f5f\", \"gridcolor\": \"white\", \"linecolor\": \"white\", \"minorgridcolor\": \"white\", \"startlinecolor\": \"#2a3f5f\"}, \"type\": \"carpet\"}], \"choropleth\": [{\"colorbar\": {\"outlinewidth\": 0, \"ticks\": \"\"}, \"type\": \"choropleth\"}], \"contour\": [{\"colorbar\": {\"outlinewidth\": 0, \"ticks\": \"\"}, \"colorscale\": [[0.0, \"#0d0887\"], [0.1111111111111111, \"#46039f\"], [0.2222222222222222, \"#7201a8\"], [0.3333333333333333, \"#9c179e\"], [0.4444444444444444, \"#bd3786\"], [0.5555555555555556, \"#d8576b\"], [0.6666666666666666, \"#ed7953\"], [0.7777777777777778, \"#fb9f3a\"], [0.8888888888888888, \"#fdca26\"], [1.0, \"#f0f921\"]], \"type\": \"contour\"}], \"contourcarpet\": [{\"colorbar\": {\"outlinewidth\": 0, \"ticks\": \"\"}, \"type\": \"contourcarpet\"}], \"heatmap\": [{\"colorbar\": {\"outlinewidth\": 0, \"ticks\": \"\"}, \"colorscale\": [[0.0, \"#0d0887\"], [0.1111111111111111, \"#46039f\"], [0.2222222222222222, \"#7201a8\"], [0.3333333333333333, \"#9c179e\"], [0.4444444444444444, \"#bd3786\"], [0.5555555555555556, \"#d8576b\"], [0.6666666666666666, \"#ed7953\"], [0.7777777777777778, \"#fb9f3a\"], [0.8888888888888888, \"#fdca26\"], [1.0, \"#f0f921\"]], \"type\": \"heatmap\"}], \"heatmapgl\": [{\"colorbar\": {\"outlinewidth\": 0, \"ticks\": \"\"}, \"colorscale\": [[0.0, \"#0d0887\"], [0.1111111111111111, \"#46039f\"], [0.2222222222222222, \"#7201a8\"], [0.3333333333333333, \"#9c179e\"], [0.4444444444444444, \"#bd3786\"], [0.5555555555555556, \"#d8576b\"], [0.6666666666666666, \"#ed7953\"], [0.7777777777777778, \"#fb9f3a\"], [0.8888888888888888, \"#fdca26\"], [1.0, \"#f0f921\"]], \"type\": \"heatmapgl\"}], \"histogram\": [{\"marker\": {\"colorbar\": {\"outlinewidth\": 0, \"ticks\": \"\"}}, \"type\": \"histogram\"}], \"histogram2d\": [{\"colorbar\": {\"outlinewidth\": 0, \"ticks\": \"\"}, \"colorscale\": [[0.0, \"#0d0887\"], [0.1111111111111111, \"#46039f\"], [0.2222222222222222, \"#7201a8\"], [0.3333333333333333, \"#9c179e\"], [0.4444444444444444, \"#bd3786\"], [0.5555555555555556, \"#d8576b\"], [0.6666666666666666, \"#ed7953\"], [0.7777777777777778, \"#fb9f3a\"], [0.8888888888888888, \"#fdca26\"], [1.0, \"#f0f921\"]], \"type\": \"histogram2d\"}], \"histogram2dcontour\": [{\"colorbar\": {\"outlinewidth\": 0, \"ticks\": \"\"}, \"colorscale\": [[0.0, \"#0d0887\"], [0.1111111111111111, \"#46039f\"], [0.2222222222222222, \"#7201a8\"], [0.3333333333333333, \"#9c179e\"], [0.4444444444444444, \"#bd3786\"], [0.5555555555555556, \"#d8576b\"], [0.6666666666666666, \"#ed7953\"], [0.7777777777777778, \"#fb9f3a\"], [0.8888888888888888, \"#fdca26\"], [1.0, \"#f0f921\"]], \"type\": \"histogram2dcontour\"}], \"mesh3d\": [{\"colorbar\": {\"outlinewidth\": 0, \"ticks\": \"\"}, \"type\": \"mesh3d\"}], \"parcoords\": [{\"line\": {\"colorbar\": {\"outlinewidth\": 0, \"ticks\": \"\"}}, \"type\": \"parcoords\"}], \"pie\": [{\"automargin\": true, \"type\": \"pie\"}], \"scatter\": [{\"marker\": {\"colorbar\": {\"outlinewidth\": 0, \"ticks\": \"\"}}, \"type\": \"scatter\"}], \"scatter3d\": [{\"line\": {\"colorbar\": {\"outlinewidth\": 0, \"ticks\": \"\"}}, \"marker\": {\"colorbar\": {\"outlinewidth\": 0, \"ticks\": \"\"}}, \"type\": \"scatter3d\"}], \"scattercarpet\": [{\"marker\": {\"colorbar\": {\"outlinewidth\": 0, \"ticks\": \"\"}}, \"type\": \"scattercarpet\"}], \"scattergeo\": [{\"marker\": {\"colorbar\": {\"outlinewidth\": 0, \"ticks\": \"\"}}, \"type\": \"scattergeo\"}], \"scattergl\": [{\"marker\": {\"colorbar\": {\"outlinewidth\": 0, \"ticks\": \"\"}}, \"type\": \"scattergl\"}], \"scattermapbox\": [{\"marker\": {\"colorbar\": {\"outlinewidth\": 0, \"ticks\": \"\"}}, \"type\": \"scattermapbox\"}], \"scatterpolar\": [{\"marker\": {\"colorbar\": {\"outlinewidth\": 0, \"ticks\": \"\"}}, \"type\": \"scatterpolar\"}], \"scatterpolargl\": [{\"marker\": {\"colorbar\": {\"outlinewidth\": 0, \"ticks\": \"\"}}, \"type\": \"scatterpolargl\"}], \"scatterternary\": [{\"marker\": {\"colorbar\": {\"outlinewidth\": 0, \"ticks\": \"\"}}, \"type\": \"scatterternary\"}], \"surface\": [{\"colorbar\": {\"outlinewidth\": 0, \"ticks\": \"\"}, \"colorscale\": [[0.0, \"#0d0887\"], [0.1111111111111111, \"#46039f\"], [0.2222222222222222, \"#7201a8\"], [0.3333333333333333, \"#9c179e\"], [0.4444444444444444, \"#bd3786\"], [0.5555555555555556, \"#d8576b\"], [0.6666666666666666, \"#ed7953\"], [0.7777777777777778, \"#fb9f3a\"], [0.8888888888888888, \"#fdca26\"], [1.0, \"#f0f921\"]], \"type\": \"surface\"}], \"table\": [{\"cells\": {\"fill\": {\"color\": \"#EBF0F8\"}, \"line\": {\"color\": \"white\"}}, \"header\": {\"fill\": {\"color\": \"#C8D4E3\"}, \"line\": {\"color\": \"white\"}}, \"type\": \"table\"}]}, \"layout\": {\"annotationdefaults\": {\"arrowcolor\": \"#2a3f5f\", \"arrowhead\": 0, \"arrowwidth\": 1}, \"coloraxis\": {\"colorbar\": {\"outlinewidth\": 0, \"ticks\": \"\"}}, \"colorscale\": {\"diverging\": [[0, \"#8e0152\"], [0.1, \"#c51b7d\"], [0.2, \"#de77ae\"], [0.3, \"#f1b6da\"], [0.4, \"#fde0ef\"], [0.5, \"#f7f7f7\"], [0.6, \"#e6f5d0\"], [0.7, \"#b8e186\"], [0.8, \"#7fbc41\"], [0.9, \"#4d9221\"], [1, \"#276419\"]], \"sequential\": [[0.0, \"#0d0887\"], [0.1111111111111111, \"#46039f\"], [0.2222222222222222, \"#7201a8\"], [0.3333333333333333, \"#9c179e\"], [0.4444444444444444, \"#bd3786\"], [0.5555555555555556, \"#d8576b\"], [0.6666666666666666, \"#ed7953\"], [0.7777777777777778, \"#fb9f3a\"], [0.8888888888888888, \"#fdca26\"], [1.0, \"#f0f921\"]], \"sequentialminus\": [[0.0, \"#0d0887\"], [0.1111111111111111, \"#46039f\"], [0.2222222222222222, \"#7201a8\"], [0.3333333333333333, \"#9c179e\"], [0.4444444444444444, \"#bd3786\"], [0.5555555555555556, \"#d8576b\"], [0.6666666666666666, \"#ed7953\"], [0.7777777777777778, \"#fb9f3a\"], [0.8888888888888888, \"#fdca26\"], [1.0, \"#f0f921\"]]}, \"colorway\": [\"#636efa\", \"#EF553B\", \"#00cc96\", \"#ab63fa\", \"#FFA15A\", \"#19d3f3\", \"#FF6692\", \"#B6E880\", \"#FF97FF\", \"#FECB52\"], \"font\": {\"color\": \"#2a3f5f\"}, \"geo\": {\"bgcolor\": \"white\", \"lakecolor\": \"white\", \"landcolor\": \"#E5ECF6\", \"showlakes\": true, \"showland\": true, \"subunitcolor\": \"white\"}, \"hoverlabel\": {\"align\": \"left\"}, \"hovermode\": \"closest\", \"mapbox\": {\"style\": \"light\"}, \"paper_bgcolor\": \"white\", \"plot_bgcolor\": \"#E5ECF6\", \"polar\": {\"angularaxis\": {\"gridcolor\": \"white\", \"linecolor\": \"white\", \"ticks\": \"\"}, \"bgcolor\": \"#E5ECF6\", \"radialaxis\": {\"gridcolor\": \"white\", \"linecolor\": \"white\", \"ticks\": \"\"}}, \"scene\": {\"xaxis\": {\"backgroundcolor\": \"#E5ECF6\", \"gridcolor\": \"white\", \"gridwidth\": 2, \"linecolor\": \"white\", \"showbackground\": true, \"ticks\": \"\", \"zerolinecolor\": \"white\"}, \"yaxis\": {\"backgroundcolor\": \"#E5ECF6\", \"gridcolor\": \"white\", \"gridwidth\": 2, \"linecolor\": \"white\", \"showbackground\": true, \"ticks\": \"\", \"zerolinecolor\": \"white\"}, \"zaxis\": {\"backgroundcolor\": \"#E5ECF6\", \"gridcolor\": \"white\", \"gridwidth\": 2, \"linecolor\": \"white\", \"showbackground\": true, \"ticks\": \"\", \"zerolinecolor\": \"white\"}}, \"shapedefaults\": {\"line\": {\"color\": \"#2a3f5f\"}}, \"ternary\": {\"aaxis\": {\"gridcolor\": \"white\", \"linecolor\": \"white\", \"ticks\": \"\"}, \"baxis\": {\"gridcolor\": \"white\", \"linecolor\": \"white\", \"ticks\": \"\"}, \"bgcolor\": \"#E5ECF6\", \"caxis\": {\"gridcolor\": \"white\", \"linecolor\": \"white\", \"ticks\": \"\"}}, \"title\": {\"x\": 0.05}, \"xaxis\": {\"automargin\": true, \"gridcolor\": \"white\", \"linecolor\": \"white\", \"ticks\": \"\", \"title\": {\"standoff\": 15}, \"zerolinecolor\": \"white\", \"zerolinewidth\": 2}, \"yaxis\": {\"automargin\": true, \"gridcolor\": \"white\", \"linecolor\": \"white\", \"ticks\": \"\", \"title\": {\"standoff\": 15}, \"zerolinecolor\": \"white\", \"zerolinewidth\": 2}}}, \"title\": {\"font\": {\"color\": \"#4D5663\"}}, \"xaxis\": {\"anchor\": \"y\", \"domain\": [0.0, 0.2125], \"gridcolor\": \"#E1E5ED\", \"showgrid\": false, \"tickfont\": {\"color\": \"#4D5663\"}, \"title\": {\"font\": {\"color\": \"#4D5663\"}, \"text\": \"\"}, \"zerolinecolor\": \"#E1E5ED\"}, \"xaxis10\": {\"anchor\": \"y10\", \"domain\": [0.2625, 0.475], \"gridcolor\": \"#E1E5ED\", \"showgrid\": false, \"tickfont\": {\"color\": \"#4D5663\"}, \"title\": {\"font\": {\"color\": \"#4D5663\"}, \"text\": \"\"}, \"zerolinecolor\": \"#E1E5ED\"}, \"xaxis11\": {\"anchor\": \"y11\", \"domain\": [0.525, 0.7375], \"gridcolor\": \"#E1E5ED\", \"showgrid\": false, \"tickfont\": {\"color\": \"#4D5663\"}, \"title\": {\"font\": {\"color\": \"#4D5663\"}, \"text\": \"\"}, \"zerolinecolor\": \"#E1E5ED\"}, \"xaxis12\": {\"anchor\": \"y12\", \"domain\": [0.7875, 1.0], \"gridcolor\": \"#E1E5ED\", \"showgrid\": false, \"tickfont\": {\"color\": \"#4D5663\"}, \"title\": {\"font\": {\"color\": \"#4D5663\"}, \"text\": \"\"}, \"zerolinecolor\": \"#E1E5ED\"}, \"xaxis13\": {\"anchor\": \"y13\", \"domain\": [0.0, 0.2125], \"gridcolor\": \"#E1E5ED\", \"showgrid\": false, \"tickfont\": {\"color\": \"#4D5663\"}, \"title\": {\"font\": {\"color\": \"#4D5663\"}, \"text\": \"\"}, \"zerolinecolor\": \"#E1E5ED\"}, \"xaxis14\": {\"anchor\": \"y14\", \"domain\": [0.2625, 0.475], \"gridcolor\": \"#E1E5ED\", \"showgrid\": false, \"tickfont\": {\"color\": \"#4D5663\"}, \"title\": {\"font\": {\"color\": \"#4D5663\"}, \"text\": \"\"}, \"zerolinecolor\": \"#E1E5ED\"}, \"xaxis15\": {\"anchor\": \"y15\", \"domain\": [0.525, 0.7375], \"gridcolor\": \"#E1E5ED\", \"showgrid\": false, \"tickfont\": {\"color\": \"#4D5663\"}, \"title\": {\"font\": {\"color\": \"#4D5663\"}, \"text\": \"\"}, \"zerolinecolor\": \"#E1E5ED\"}, \"xaxis16\": {\"anchor\": \"y16\", \"domain\": [0.7875, 1.0], \"gridcolor\": \"#E1E5ED\", \"showgrid\": false, \"tickfont\": {\"color\": \"#4D5663\"}, \"title\": {\"font\": {\"color\": \"#4D5663\"}, \"text\": \"\"}, \"zerolinecolor\": \"#E1E5ED\"}, \"xaxis2\": {\"anchor\": \"y2\", \"domain\": [0.2625, 0.475], \"gridcolor\": \"#E1E5ED\", \"showgrid\": false, \"tickfont\": {\"color\": \"#4D5663\"}, \"title\": {\"font\": {\"color\": \"#4D5663\"}, \"text\": \"\"}, \"zerolinecolor\": \"#E1E5ED\"}, \"xaxis3\": {\"anchor\": \"y3\", \"domain\": [0.525, 0.7375], \"gridcolor\": \"#E1E5ED\", \"showgrid\": false, \"tickfont\": {\"color\": \"#4D5663\"}, \"title\": {\"font\": {\"color\": \"#4D5663\"}, \"text\": \"\"}, \"zerolinecolor\": \"#E1E5ED\"}, \"xaxis4\": {\"anchor\": \"y4\", \"domain\": [0.7875, 1.0], \"gridcolor\": \"#E1E5ED\", \"showgrid\": false, \"tickfont\": {\"color\": \"#4D5663\"}, \"title\": {\"font\": {\"color\": \"#4D5663\"}, \"text\": \"\"}, \"zerolinecolor\": \"#E1E5ED\"}, \"xaxis5\": {\"anchor\": \"y5\", \"domain\": [0.0, 0.2125], \"gridcolor\": \"#E1E5ED\", \"showgrid\": false, \"tickfont\": {\"color\": \"#4D5663\"}, \"title\": {\"font\": {\"color\": \"#4D5663\"}, \"text\": \"\"}, \"zerolinecolor\": \"#E1E5ED\"}, \"xaxis6\": {\"anchor\": \"y6\", \"domain\": [0.2625, 0.475], \"gridcolor\": \"#E1E5ED\", \"showgrid\": false, \"tickfont\": {\"color\": \"#4D5663\"}, \"title\": {\"font\": {\"color\": \"#4D5663\"}, \"text\": \"\"}, \"zerolinecolor\": \"#E1E5ED\"}, \"xaxis7\": {\"anchor\": \"y7\", \"domain\": [0.525, 0.7375], \"gridcolor\": \"#E1E5ED\", \"showgrid\": false, \"tickfont\": {\"color\": \"#4D5663\"}, \"title\": {\"font\": {\"color\": \"#4D5663\"}, \"text\": \"\"}, \"zerolinecolor\": \"#E1E5ED\"}, \"xaxis8\": {\"anchor\": \"y8\", \"domain\": [0.7875, 1.0], \"gridcolor\": \"#E1E5ED\", \"showgrid\": false, \"tickfont\": {\"color\": \"#4D5663\"}, \"title\": {\"font\": {\"color\": \"#4D5663\"}, \"text\": \"\"}, \"zerolinecolor\": \"#E1E5ED\"}, \"xaxis9\": {\"anchor\": \"y9\", \"domain\": [0.0, 0.2125], \"gridcolor\": \"#E1E5ED\", \"showgrid\": false, \"tickfont\": {\"color\": \"#4D5663\"}, \"title\": {\"font\": {\"color\": \"#4D5663\"}, \"text\": \"\"}, \"zerolinecolor\": \"#E1E5ED\"}, \"yaxis\": {\"anchor\": \"x\", \"domain\": [0.8025, 1.0], \"gridcolor\": \"#E1E5ED\", \"showgrid\": false, \"tickfont\": {\"color\": \"#4D5663\"}, \"title\": {\"font\": {\"color\": \"#4D5663\"}, \"text\": \"\"}, \"zerolinecolor\": \"#E1E5ED\"}, \"yaxis10\": {\"anchor\": \"x10\", \"domain\": [0.2675, 0.465], \"gridcolor\": \"#E1E5ED\", \"showgrid\": false, \"tickfont\": {\"color\": \"#4D5663\"}, \"title\": {\"font\": {\"color\": \"#4D5663\"}, \"text\": \"\"}, \"zerolinecolor\": \"#E1E5ED\"}, \"yaxis11\": {\"anchor\": \"x11\", \"domain\": [0.2675, 0.465], \"gridcolor\": \"#E1E5ED\", \"showgrid\": false, \"tickfont\": {\"color\": \"#4D5663\"}, \"title\": {\"font\": {\"color\": \"#4D5663\"}, \"text\": \"\"}, \"zerolinecolor\": \"#E1E5ED\"}, \"yaxis12\": {\"anchor\": \"x12\", \"domain\": [0.2675, 0.465], \"gridcolor\": \"#E1E5ED\", \"showgrid\": false, \"tickfont\": {\"color\": \"#4D5663\"}, \"title\": {\"font\": {\"color\": \"#4D5663\"}, \"text\": \"\"}, \"zerolinecolor\": \"#E1E5ED\"}, \"yaxis13\": {\"anchor\": \"x13\", \"domain\": [0.0, 0.1975], \"gridcolor\": \"#E1E5ED\", \"showgrid\": false, \"tickfont\": {\"color\": \"#4D5663\"}, \"title\": {\"font\": {\"color\": \"#4D5663\"}, \"text\": \"\"}, \"zerolinecolor\": \"#E1E5ED\"}, \"yaxis14\": {\"anchor\": \"x14\", \"domain\": [0.0, 0.1975], \"gridcolor\": \"#E1E5ED\", \"showgrid\": false, \"tickfont\": {\"color\": \"#4D5663\"}, \"title\": {\"font\": {\"color\": \"#4D5663\"}, \"text\": \"\"}, \"zerolinecolor\": \"#E1E5ED\"}, \"yaxis15\": {\"anchor\": \"x15\", \"domain\": [0.0, 0.1975], \"gridcolor\": \"#E1E5ED\", \"showgrid\": false, \"tickfont\": {\"color\": \"#4D5663\"}, \"title\": {\"font\": {\"color\": \"#4D5663\"}, \"text\": \"\"}, \"zerolinecolor\": \"#E1E5ED\"}, \"yaxis16\": {\"anchor\": \"x16\", \"domain\": [0.0, 0.1975], \"gridcolor\": \"#E1E5ED\", \"showgrid\": false, \"tickfont\": {\"color\": \"#4D5663\"}, \"title\": {\"font\": {\"color\": \"#4D5663\"}, \"text\": \"\"}, \"zerolinecolor\": \"#E1E5ED\"}, \"yaxis2\": {\"anchor\": \"x2\", \"domain\": [0.8025, 1.0], \"gridcolor\": \"#E1E5ED\", \"showgrid\": false, \"tickfont\": {\"color\": \"#4D5663\"}, \"title\": {\"font\": {\"color\": \"#4D5663\"}, \"text\": \"\"}, \"zerolinecolor\": \"#E1E5ED\"}, \"yaxis3\": {\"anchor\": \"x3\", \"domain\": [0.8025, 1.0], \"gridcolor\": \"#E1E5ED\", \"showgrid\": false, \"tickfont\": {\"color\": \"#4D5663\"}, \"title\": {\"font\": {\"color\": \"#4D5663\"}, \"text\": \"\"}, \"zerolinecolor\": \"#E1E5ED\"}, \"yaxis4\": {\"anchor\": \"x4\", \"domain\": [0.8025, 1.0], \"gridcolor\": \"#E1E5ED\", \"showgrid\": false, \"tickfont\": {\"color\": \"#4D5663\"}, \"title\": {\"font\": {\"color\": \"#4D5663\"}, \"text\": \"\"}, \"zerolinecolor\": \"#E1E5ED\"}, \"yaxis5\": {\"anchor\": \"x5\", \"domain\": [0.535, 0.7325], \"gridcolor\": \"#E1E5ED\", \"showgrid\": false, \"tickfont\": {\"color\": \"#4D5663\"}, \"title\": {\"font\": {\"color\": \"#4D5663\"}, \"text\": \"\"}, \"zerolinecolor\": \"#E1E5ED\"}, \"yaxis6\": {\"anchor\": \"x6\", \"domain\": [0.535, 0.7325], \"gridcolor\": \"#E1E5ED\", \"showgrid\": false, \"tickfont\": {\"color\": \"#4D5663\"}, \"title\": {\"font\": {\"color\": \"#4D5663\"}, \"text\": \"\"}, \"zerolinecolor\": \"#E1E5ED\"}, \"yaxis7\": {\"anchor\": \"x7\", \"domain\": [0.535, 0.7325], \"gridcolor\": \"#E1E5ED\", \"showgrid\": false, \"tickfont\": {\"color\": \"#4D5663\"}, \"title\": {\"font\": {\"color\": \"#4D5663\"}, \"text\": \"\"}, \"zerolinecolor\": \"#E1E5ED\"}, \"yaxis8\": {\"anchor\": \"x8\", \"domain\": [0.535, 0.7325], \"gridcolor\": \"#E1E5ED\", \"showgrid\": false, \"tickfont\": {\"color\": \"#4D5663\"}, \"title\": {\"font\": {\"color\": \"#4D5663\"}, \"text\": \"\"}, \"zerolinecolor\": \"#E1E5ED\"}, \"yaxis9\": {\"anchor\": \"x9\", \"domain\": [0.2675, 0.465], \"gridcolor\": \"#E1E5ED\", \"showgrid\": false, \"tickfont\": {\"color\": \"#4D5663\"}, \"title\": {\"font\": {\"color\": \"#4D5663\"}, \"text\": \"\"}, \"zerolinecolor\": \"#E1E5ED\"}},\n",
       "                        {\"showLink\": true, \"linkText\": \"Export to plot.ly\", \"plotlyServerURL\": \"https://plot.ly\", \"responsive\": true}\n",
       "                    ).then(function(){\n",
       "                            \n",
       "var gd = document.getElementById('6abadcf5-14c3-4b94-8406-8c7152400025');\n",
       "var x = new MutationObserver(function (mutations, observer) {{\n",
       "        var display = window.getComputedStyle(gd).display;\n",
       "        if (!display || display === 'none') {{\n",
       "            console.log([gd, 'removed!']);\n",
       "            Plotly.purge(gd);\n",
       "            observer.disconnect();\n",
       "        }}\n",
       "}});\n",
       "\n",
       "// Listen for the removal of the full notebook cells\n",
       "var notebookContainer = gd.closest('#notebook-container');\n",
       "if (notebookContainer) {{\n",
       "    x.observe(notebookContainer, {childList: true});\n",
       "}}\n",
       "\n",
       "// Listen for the clearing of the current output cell\n",
       "var outputEl = gd.closest('.output');\n",
       "if (outputEl) {{\n",
       "    x.observe(outputEl, {childList: true});\n",
       "}}\n",
       "\n",
       "                        })\n",
       "                };\n",
       "                });\n",
       "            </script>\n",
       "        </div>"
      ]
     },
     "metadata": {},
     "output_type": "display_data"
    }
   ],
   "source": [
    "df.scatter_matrix()"
   ]
  },
  {
   "cell_type": "markdown",
   "metadata": {
    "collapsed": true
   },
   "source": [
    "# Great Job!"
   ]
  }
 ],
 "metadata": {
  "kernelspec": {
   "display_name": "Python 3",
   "language": "python",
   "name": "python3"
  },
  "language_info": {
   "codemirror_mode": {
    "name": "ipython",
    "version": 3
   },
   "file_extension": ".py",
   "mimetype": "text/x-python",
   "name": "python",
   "nbconvert_exporter": "python",
   "pygments_lexer": "ipython3",
   "version": "3.7.6"
  }
 },
 "nbformat": 4,
 "nbformat_minor": 1
}
